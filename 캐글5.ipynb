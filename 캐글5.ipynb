{
 "cells": [
  {
   "cell_type": "code",
   "execution_count": 1,
   "id": "25948384",
   "metadata": {
    "ExecuteTime": {
     "end_time": "2023-02-13T09:33:45.712630Z",
     "start_time": "2023-02-13T09:33:44.988072Z"
    }
   },
   "outputs": [],
   "source": [
    "import pandas as pd\n",
    "test=pd.read_csv(\"./data2/test.csv\",index_col=\"no\")\n",
    "train=pd.read_csv(\"./data2/train.csv\",index_col=\"no\")"
   ]
  },
  {
   "cell_type": "code",
   "execution_count": 7,
   "id": "afbf33ef",
   "metadata": {
    "ExecuteTime": {
     "end_time": "2023-02-13T09:36:08.309985Z",
     "start_time": "2023-02-13T09:36:08.294028Z"
    }
   },
   "outputs": [],
   "source": [
    "import warnings\n",
    "warnings.filterwarnings('ignore')"
   ]
  },
  {
   "cell_type": "code",
   "execution_count": 23,
   "id": "9a6c884b",
   "metadata": {
    "ExecuteTime": {
     "end_time": "2023-02-13T09:40:25.467934Z",
     "start_time": "2023-02-13T09:40:25.454985Z"
    }
   },
   "outputs": [
    {
     "data": {
      "text/plain": [
       "((29305, 106), (19537, 105))"
      ]
     },
     "execution_count": 23,
     "metadata": {},
     "output_type": "execute_result"
    }
   ],
   "source": [
    "train.shape,test.shape"
   ]
  },
  {
   "cell_type": "code",
   "execution_count": 3,
   "id": "06b84406",
   "metadata": {
    "ExecuteTime": {
     "end_time": "2023-02-13T09:35:07.627814Z",
     "start_time": "2023-02-13T09:35:05.453028Z"
    }
   },
   "outputs": [
    {
     "data": {
      "text/plain": [
       "<AxesSubplot:xlabel='age', ylabel='count'>"
      ]
     },
     "execution_count": 3,
     "metadata": {},
     "output_type": "execute_result"
    },
    {
     "data": {
      "image/png": "[encoded data removed]",
      "text/plain": [
       "<Figure size 2000x500 with 1 Axes>"
      ]
     },
     "metadata": {},
     "output_type": "display_data"
    }
   ],
   "source": [
    "import matplotlib.pyplot as plt\n",
    "import seaborn as sns\n",
    "plt.figure(figsize=(20,5))\n",
    "sns.countplot(data = train,\n",
    "             x='age',\n",
    "             hue='income')"
   ]
  },
  {
   "cell_type": "code",
   "execution_count": 4,
   "id": "97e450bd",
   "metadata": {
    "ExecuteTime": {
     "end_time": "2023-02-13T09:35:37.038305Z",
     "start_time": "2023-02-13T09:35:37.029330Z"
    }
   },
   "outputs": [],
   "source": [
    "train.drop(['fnlwgt'],axis=1, inplace=True)\n",
    "test.drop(['fnlwgt',],axis=1, inplace=True)"
   ]
  },
  {
   "cell_type": "code",
   "execution_count": 9,
   "id": "98ebe963",
   "metadata": {
    "ExecuteTime": {
     "end_time": "2023-02-13T09:37:48.298765Z",
     "start_time": "2023-02-13T09:37:48.214961Z"
    }
   },
   "outputs": [],
   "source": [
    "def remove_blank(row):\n",
    "    return row.strip()\n",
    "for i in train.columns:\n",
    "    if train[i].dtype =='int64':pass\n",
    "    else:train[i] = train[i].apply(remove_blank)\n",
    "for i in test.columns:\n",
    "    if test[i].dtype =='int64':pass\n",
    "    else:test[i] = test[i].apply(remove_blank)"
   ]
  },
  {
   "cell_type": "code",
   "execution_count": 11,
   "id": "562a8bc1",
   "metadata": {
    "ExecuteTime": {
     "end_time": "2023-02-13T09:37:57.549932Z",
     "start_time": "2023-02-13T09:37:57.525995Z"
    }
   },
   "outputs": [
    {
     "data": {
      "text/html": [
       "<div>\n",
       "<style scoped>\n",
       "    .dataframe tbody tr th:only-of-type {\n",
       "        vertical-align: middle;\n",
       "    }\n",
       "\n",
       "    .dataframe tbody tr th {\n",
       "        vertical-align: top;\n",
       "    }\n",
       "\n",
       "    .dataframe thead th {\n",
       "        text-align: right;\n",
       "    }\n",
       "</style>\n",
       "<table border=\"1\" class=\"dataframe\">\n",
       "  <thead>\n",
       "    <tr style=\"text-align: right;\">\n",
       "      <th></th>\n",
       "      <th>age</th>\n",
       "      <th>workclass</th>\n",
       "      <th>education</th>\n",
       "      <th>education-num</th>\n",
       "      <th>marital-status</th>\n",
       "      <th>occupation</th>\n",
       "      <th>relationship</th>\n",
       "      <th>race</th>\n",
       "      <th>sex</th>\n",
       "      <th>capital-gain</th>\n",
       "      <th>capital-loss</th>\n",
       "      <th>hours-per-week</th>\n",
       "      <th>native-country</th>\n",
       "      <th>income</th>\n",
       "    </tr>\n",
       "    <tr>\n",
       "      <th>no</th>\n",
       "      <th></th>\n",
       "      <th></th>\n",
       "      <th></th>\n",
       "      <th></th>\n",
       "      <th></th>\n",
       "      <th></th>\n",
       "      <th></th>\n",
       "      <th></th>\n",
       "      <th></th>\n",
       "      <th></th>\n",
       "      <th></th>\n",
       "      <th></th>\n",
       "      <th></th>\n",
       "      <th></th>\n",
       "    </tr>\n",
       "  </thead>\n",
       "  <tbody>\n",
       "    <tr>\n",
       "      <th>1</th>\n",
       "      <td>25</td>\n",
       "      <td>Private</td>\n",
       "      <td>11th</td>\n",
       "      <td>7</td>\n",
       "      <td>Divorced</td>\n",
       "      <td>Machine-op-inspct</td>\n",
       "      <td>Not-in-family</td>\n",
       "      <td>White</td>\n",
       "      <td>Male</td>\n",
       "      <td>0</td>\n",
       "      <td>0</td>\n",
       "      <td>40</td>\n",
       "      <td>United-States</td>\n",
       "      <td>0</td>\n",
       "    </tr>\n",
       "    <tr>\n",
       "      <th>2</th>\n",
       "      <td>39</td>\n",
       "      <td>Private</td>\n",
       "      <td>Some-college</td>\n",
       "      <td>10</td>\n",
       "      <td>Divorced</td>\n",
       "      <td>Other-service</td>\n",
       "      <td>Not-in-family</td>\n",
       "      <td>White</td>\n",
       "      <td>Female</td>\n",
       "      <td>0</td>\n",
       "      <td>1721</td>\n",
       "      <td>55</td>\n",
       "      <td>United-States</td>\n",
       "      <td>0</td>\n",
       "    </tr>\n",
       "    <tr>\n",
       "      <th>3</th>\n",
       "      <td>35</td>\n",
       "      <td>Private</td>\n",
       "      <td>Bachelors</td>\n",
       "      <td>13</td>\n",
       "      <td>Never-married</td>\n",
       "      <td>Handlers-cleaners</td>\n",
       "      <td>Not-in-family</td>\n",
       "      <td>Asian-Pac-Islander</td>\n",
       "      <td>Female</td>\n",
       "      <td>0</td>\n",
       "      <td>0</td>\n",
       "      <td>50</td>\n",
       "      <td>Haiti</td>\n",
       "      <td>0</td>\n",
       "    </tr>\n",
       "    <tr>\n",
       "      <th>4</th>\n",
       "      <td>64</td>\n",
       "      <td>Private</td>\n",
       "      <td>Assoc-voc</td>\n",
       "      <td>11</td>\n",
       "      <td>Divorced</td>\n",
       "      <td>Tech-support</td>\n",
       "      <td>Not-in-family</td>\n",
       "      <td>White</td>\n",
       "      <td>Female</td>\n",
       "      <td>0</td>\n",
       "      <td>0</td>\n",
       "      <td>40</td>\n",
       "      <td>United-States</td>\n",
       "      <td>0</td>\n",
       "    </tr>\n",
       "    <tr>\n",
       "      <th>5</th>\n",
       "      <td>24</td>\n",
       "      <td>Private</td>\n",
       "      <td>Some-college</td>\n",
       "      <td>10</td>\n",
       "      <td>Married-civ-spouse</td>\n",
       "      <td>Transport-moving</td>\n",
       "      <td>Husband</td>\n",
       "      <td>White</td>\n",
       "      <td>Male</td>\n",
       "      <td>0</td>\n",
       "      <td>0</td>\n",
       "      <td>70</td>\n",
       "      <td>United-States</td>\n",
       "      <td>1</td>\n",
       "    </tr>\n",
       "    <tr>\n",
       "      <th>...</th>\n",
       "      <td>...</td>\n",
       "      <td>...</td>\n",
       "      <td>...</td>\n",
       "      <td>...</td>\n",
       "      <td>...</td>\n",
       "      <td>...</td>\n",
       "      <td>...</td>\n",
       "      <td>...</td>\n",
       "      <td>...</td>\n",
       "      <td>...</td>\n",
       "      <td>...</td>\n",
       "      <td>...</td>\n",
       "      <td>...</td>\n",
       "      <td>...</td>\n",
       "    </tr>\n",
       "    <tr>\n",
       "      <th>29301</th>\n",
       "      <td>20</td>\n",
       "      <td>Private</td>\n",
       "      <td>HS-grad</td>\n",
       "      <td>9</td>\n",
       "      <td>Never-married</td>\n",
       "      <td>Sales</td>\n",
       "      <td>Own-child</td>\n",
       "      <td>Other</td>\n",
       "      <td>Male</td>\n",
       "      <td>0</td>\n",
       "      <td>0</td>\n",
       "      <td>40</td>\n",
       "      <td>Puerto-Rico</td>\n",
       "      <td>0</td>\n",
       "    </tr>\n",
       "    <tr>\n",
       "      <th>29302</th>\n",
       "      <td>21</td>\n",
       "      <td>Private</td>\n",
       "      <td>HS-grad</td>\n",
       "      <td>9</td>\n",
       "      <td>Never-married</td>\n",
       "      <td>Sales</td>\n",
       "      <td>Own-child</td>\n",
       "      <td>Black</td>\n",
       "      <td>Male</td>\n",
       "      <td>0</td>\n",
       "      <td>0</td>\n",
       "      <td>40</td>\n",
       "      <td>United-States</td>\n",
       "      <td>0</td>\n",
       "    </tr>\n",
       "    <tr>\n",
       "      <th>29303</th>\n",
       "      <td>18</td>\n",
       "      <td>Self-emp-not-inc</td>\n",
       "      <td>10th</td>\n",
       "      <td>6</td>\n",
       "      <td>Never-married</td>\n",
       "      <td>Farming-fishing</td>\n",
       "      <td>Own-child</td>\n",
       "      <td>White</td>\n",
       "      <td>Male</td>\n",
       "      <td>0</td>\n",
       "      <td>0</td>\n",
       "      <td>40</td>\n",
       "      <td>United-States</td>\n",
       "      <td>0</td>\n",
       "    </tr>\n",
       "    <tr>\n",
       "      <th>29304</th>\n",
       "      <td>33</td>\n",
       "      <td>Private</td>\n",
       "      <td>11th</td>\n",
       "      <td>7</td>\n",
       "      <td>Never-married</td>\n",
       "      <td>Craft-repair</td>\n",
       "      <td>Not-in-family</td>\n",
       "      <td>White</td>\n",
       "      <td>Male</td>\n",
       "      <td>0</td>\n",
       "      <td>0</td>\n",
       "      <td>65</td>\n",
       "      <td>United-States</td>\n",
       "      <td>0</td>\n",
       "    </tr>\n",
       "    <tr>\n",
       "      <th>29305</th>\n",
       "      <td>65</td>\n",
       "      <td>?</td>\n",
       "      <td>HS-grad</td>\n",
       "      <td>9</td>\n",
       "      <td>Widowed</td>\n",
       "      <td>?</td>\n",
       "      <td>Not-in-family</td>\n",
       "      <td>White</td>\n",
       "      <td>Female</td>\n",
       "      <td>0</td>\n",
       "      <td>0</td>\n",
       "      <td>40</td>\n",
       "      <td>United-States</td>\n",
       "      <td>0</td>\n",
       "    </tr>\n",
       "  </tbody>\n",
       "</table>\n",
       "<p>29305 rows × 14 columns</p>\n",
       "</div>"
      ],
      "text/plain": [
       "       age         workclass     education  education-num      marital-status  \\\n",
       "no                                                                              \n",
       "1       25           Private          11th              7            Divorced   \n",
       "2       39           Private  Some-college             10            Divorced   \n",
       "3       35           Private     Bachelors             13       Never-married   \n",
       "4       64           Private     Assoc-voc             11            Divorced   \n",
       "5       24           Private  Some-college             10  Married-civ-spouse   \n",
       "...    ...               ...           ...            ...                 ...   \n",
       "29301   20           Private       HS-grad              9       Never-married   \n",
       "29302   21           Private       HS-grad              9       Never-married   \n",
       "29303   18  Self-emp-not-inc          10th              6       Never-married   \n",
       "29304   33           Private          11th              7       Never-married   \n",
       "29305   65                 ?       HS-grad              9             Widowed   \n",
       "\n",
       "              occupation   relationship                race     sex  \\\n",
       "no                                                                    \n",
       "1      Machine-op-inspct  Not-in-family               White    Male   \n",
       "2          Other-service  Not-in-family               White  Female   \n",
       "3      Handlers-cleaners  Not-in-family  Asian-Pac-Islander  Female   \n",
       "4           Tech-support  Not-in-family               White  Female   \n",
       "5       Transport-moving        Husband               White    Male   \n",
       "...                  ...            ...                 ...     ...   \n",
       "29301              Sales      Own-child               Other    Male   \n",
       "29302              Sales      Own-child               Black    Male   \n",
       "29303    Farming-fishing      Own-child               White    Male   \n",
       "29304       Craft-repair  Not-in-family               White    Male   \n",
       "29305                  ?  Not-in-family               White  Female   \n",
       "\n",
       "       capital-gain  capital-loss  hours-per-week native-country  income  \n",
       "no                                                                        \n",
       "1                 0             0              40  United-States       0  \n",
       "2                 0          1721              55  United-States       0  \n",
       "3                 0             0              50          Haiti       0  \n",
       "4                 0             0              40  United-States       0  \n",
       "5                 0             0              70  United-States       1  \n",
       "...             ...           ...             ...            ...     ...  \n",
       "29301             0             0              40    Puerto-Rico       0  \n",
       "29302             0             0              40  United-States       0  \n",
       "29303             0             0              40  United-States       0  \n",
       "29304             0             0              65  United-States       0  \n",
       "29305             0             0              40  United-States       0  \n",
       "\n",
       "[29305 rows x 14 columns]"
      ]
     },
     "execution_count": 11,
     "metadata": {},
     "output_type": "execute_result"
    }
   ],
   "source": [
    "train"
   ]
  },
  {
   "cell_type": "code",
   "execution_count": 12,
   "id": "5e091c0d",
   "metadata": {
    "ExecuteTime": {
     "end_time": "2023-02-13T09:38:02.835317Z",
     "start_time": "2023-02-13T09:38:02.823363Z"
    }
   },
   "outputs": [],
   "source": [
    "train['workclass'][train['workclass']=='?']='Never-worked'\n",
    "test['workclass'][test['workclass']=='?']='Never-worked'"
   ]
  },
  {
   "cell_type": "code",
   "execution_count": 13,
   "id": "36fbd76b",
   "metadata": {
    "ExecuteTime": {
     "end_time": "2023-02-13T09:38:13.515034Z",
     "start_time": "2023-02-13T09:38:13.494090Z"
    }
   },
   "outputs": [],
   "source": [
    "train['native-country'][train['native-country']=='?']='Dual-nationality'\n",
    "test['native-country'][test['native-country']=='?']='Dual-nationality'"
   ]
  },
  {
   "cell_type": "code",
   "execution_count": 14,
   "id": "2f6854a0",
   "metadata": {
    "ExecuteTime": {
     "end_time": "2023-02-13T09:38:22.614867Z",
     "start_time": "2023-02-13T09:38:22.595918Z"
    }
   },
   "outputs": [],
   "source": [
    "train['occupation'][train['occupation']=='?']='Never-worked'\n",
    "test['occupation'][test['occupation']=='?']='Never-worked'"
   ]
  },
  {
   "cell_type": "code",
   "execution_count": 15,
   "id": "690f23ea",
   "metadata": {
    "ExecuteTime": {
     "end_time": "2023-02-13T09:38:47.296875Z",
     "start_time": "2023-02-13T09:38:47.276928Z"
    }
   },
   "outputs": [],
   "source": [
    "train.drop(['education-num'],axis=1, inplace=True)\n",
    "test.drop(['education-num',],axis=1, inplace=True)"
   ]
  },
  {
   "cell_type": "code",
   "execution_count": 17,
   "id": "1a4b31fa",
   "metadata": {
    "ExecuteTime": {
     "end_time": "2023-02-13T09:39:09.564007Z",
     "start_time": "2023-02-13T09:39:09.549047Z"
    }
   },
   "outputs": [
    {
     "data": {
      "text/html": [
       "<div>\n",
       "<style scoped>\n",
       "    .dataframe tbody tr th:only-of-type {\n",
       "        vertical-align: middle;\n",
       "    }\n",
       "\n",
       "    .dataframe tbody tr th {\n",
       "        vertical-align: top;\n",
       "    }\n",
       "\n",
       "    .dataframe thead th {\n",
       "        text-align: right;\n",
       "    }\n",
       "</style>\n",
       "<table border=\"1\" class=\"dataframe\">\n",
       "  <thead>\n",
       "    <tr style=\"text-align: right;\">\n",
       "      <th></th>\n",
       "      <th>age</th>\n",
       "      <th>workclass</th>\n",
       "      <th>education</th>\n",
       "      <th>marital-status</th>\n",
       "      <th>occupation</th>\n",
       "      <th>relationship</th>\n",
       "      <th>race</th>\n",
       "      <th>sex</th>\n",
       "      <th>capital-gain</th>\n",
       "      <th>capital-loss</th>\n",
       "      <th>hours-per-week</th>\n",
       "      <th>native-country</th>\n",
       "      <th>income</th>\n",
       "    </tr>\n",
       "    <tr>\n",
       "      <th>no</th>\n",
       "      <th></th>\n",
       "      <th></th>\n",
       "      <th></th>\n",
       "      <th></th>\n",
       "      <th></th>\n",
       "      <th></th>\n",
       "      <th></th>\n",
       "      <th></th>\n",
       "      <th></th>\n",
       "      <th></th>\n",
       "      <th></th>\n",
       "      <th></th>\n",
       "      <th></th>\n",
       "    </tr>\n",
       "  </thead>\n",
       "  <tbody>\n",
       "    <tr>\n",
       "      <th>1</th>\n",
       "      <td>25</td>\n",
       "      <td>Private</td>\n",
       "      <td>11th</td>\n",
       "      <td>Divorced</td>\n",
       "      <td>Machine-op-inspct</td>\n",
       "      <td>Not-in-family</td>\n",
       "      <td>White</td>\n",
       "      <td>Male</td>\n",
       "      <td>0</td>\n",
       "      <td>0</td>\n",
       "      <td>40</td>\n",
       "      <td>United-States</td>\n",
       "      <td>0</td>\n",
       "    </tr>\n",
       "    <tr>\n",
       "      <th>2</th>\n",
       "      <td>39</td>\n",
       "      <td>Private</td>\n",
       "      <td>Some-college</td>\n",
       "      <td>Divorced</td>\n",
       "      <td>Other-service</td>\n",
       "      <td>Not-in-family</td>\n",
       "      <td>White</td>\n",
       "      <td>Female</td>\n",
       "      <td>0</td>\n",
       "      <td>1721</td>\n",
       "      <td>55</td>\n",
       "      <td>United-States</td>\n",
       "      <td>0</td>\n",
       "    </tr>\n",
       "    <tr>\n",
       "      <th>3</th>\n",
       "      <td>35</td>\n",
       "      <td>Private</td>\n",
       "      <td>Bachelors</td>\n",
       "      <td>Never-married</td>\n",
       "      <td>Handlers-cleaners</td>\n",
       "      <td>Not-in-family</td>\n",
       "      <td>Asian-Pac-Islander</td>\n",
       "      <td>Female</td>\n",
       "      <td>0</td>\n",
       "      <td>0</td>\n",
       "      <td>50</td>\n",
       "      <td>Haiti</td>\n",
       "      <td>0</td>\n",
       "    </tr>\n",
       "    <tr>\n",
       "      <th>4</th>\n",
       "      <td>64</td>\n",
       "      <td>Private</td>\n",
       "      <td>Assoc-voc</td>\n",
       "      <td>Divorced</td>\n",
       "      <td>Tech-support</td>\n",
       "      <td>Not-in-family</td>\n",
       "      <td>White</td>\n",
       "      <td>Female</td>\n",
       "      <td>0</td>\n",
       "      <td>0</td>\n",
       "      <td>40</td>\n",
       "      <td>United-States</td>\n",
       "      <td>0</td>\n",
       "    </tr>\n",
       "    <tr>\n",
       "      <th>5</th>\n",
       "      <td>24</td>\n",
       "      <td>Private</td>\n",
       "      <td>Some-college</td>\n",
       "      <td>Married-civ-spouse</td>\n",
       "      <td>Transport-moving</td>\n",
       "      <td>Husband</td>\n",
       "      <td>White</td>\n",
       "      <td>Male</td>\n",
       "      <td>0</td>\n",
       "      <td>0</td>\n",
       "      <td>70</td>\n",
       "      <td>United-States</td>\n",
       "      <td>1</td>\n",
       "    </tr>\n",
       "    <tr>\n",
       "      <th>...</th>\n",
       "      <td>...</td>\n",
       "      <td>...</td>\n",
       "      <td>...</td>\n",
       "      <td>...</td>\n",
       "      <td>...</td>\n",
       "      <td>...</td>\n",
       "      <td>...</td>\n",
       "      <td>...</td>\n",
       "      <td>...</td>\n",
       "      <td>...</td>\n",
       "      <td>...</td>\n",
       "      <td>...</td>\n",
       "      <td>...</td>\n",
       "    </tr>\n",
       "    <tr>\n",
       "      <th>29301</th>\n",
       "      <td>20</td>\n",
       "      <td>Private</td>\n",
       "      <td>HS-grad</td>\n",
       "      <td>Never-married</td>\n",
       "      <td>Sales</td>\n",
       "      <td>Own-child</td>\n",
       "      <td>Other</td>\n",
       "      <td>Male</td>\n",
       "      <td>0</td>\n",
       "      <td>0</td>\n",
       "      <td>40</td>\n",
       "      <td>Puerto-Rico</td>\n",
       "      <td>0</td>\n",
       "    </tr>\n",
       "    <tr>\n",
       "      <th>29302</th>\n",
       "      <td>21</td>\n",
       "      <td>Private</td>\n",
       "      <td>HS-grad</td>\n",
       "      <td>Never-married</td>\n",
       "      <td>Sales</td>\n",
       "      <td>Own-child</td>\n",
       "      <td>Black</td>\n",
       "      <td>Male</td>\n",
       "      <td>0</td>\n",
       "      <td>0</td>\n",
       "      <td>40</td>\n",
       "      <td>United-States</td>\n",
       "      <td>0</td>\n",
       "    </tr>\n",
       "    <tr>\n",
       "      <th>29303</th>\n",
       "      <td>18</td>\n",
       "      <td>Self-emp-not-inc</td>\n",
       "      <td>10th</td>\n",
       "      <td>Never-married</td>\n",
       "      <td>Farming-fishing</td>\n",
       "      <td>Own-child</td>\n",
       "      <td>White</td>\n",
       "      <td>Male</td>\n",
       "      <td>0</td>\n",
       "      <td>0</td>\n",
       "      <td>40</td>\n",
       "      <td>United-States</td>\n",
       "      <td>0</td>\n",
       "    </tr>\n",
       "    <tr>\n",
       "      <th>29304</th>\n",
       "      <td>33</td>\n",
       "      <td>Private</td>\n",
       "      <td>11th</td>\n",
       "      <td>Never-married</td>\n",
       "      <td>Craft-repair</td>\n",
       "      <td>Not-in-family</td>\n",
       "      <td>White</td>\n",
       "      <td>Male</td>\n",
       "      <td>0</td>\n",
       "      <td>0</td>\n",
       "      <td>65</td>\n",
       "      <td>United-States</td>\n",
       "      <td>0</td>\n",
       "    </tr>\n",
       "    <tr>\n",
       "      <th>29305</th>\n",
       "      <td>65</td>\n",
       "      <td>Never-worked</td>\n",
       "      <td>HS-grad</td>\n",
       "      <td>Widowed</td>\n",
       "      <td>Never-worked</td>\n",
       "      <td>Not-in-family</td>\n",
       "      <td>White</td>\n",
       "      <td>Female</td>\n",
       "      <td>0</td>\n",
       "      <td>0</td>\n",
       "      <td>40</td>\n",
       "      <td>United-States</td>\n",
       "      <td>0</td>\n",
       "    </tr>\n",
       "  </tbody>\n",
       "</table>\n",
       "<p>29305 rows × 13 columns</p>\n",
       "</div>"
      ],
      "text/plain": [
       "       age         workclass     education      marital-status  \\\n",
       "no                                                               \n",
       "1       25           Private          11th            Divorced   \n",
       "2       39           Private  Some-college            Divorced   \n",
       "3       35           Private     Bachelors       Never-married   \n",
       "4       64           Private     Assoc-voc            Divorced   \n",
       "5       24           Private  Some-college  Married-civ-spouse   \n",
       "...    ...               ...           ...                 ...   \n",
       "29301   20           Private       HS-grad       Never-married   \n",
       "29302   21           Private       HS-grad       Never-married   \n",
       "29303   18  Self-emp-not-inc          10th       Never-married   \n",
       "29304   33           Private          11th       Never-married   \n",
       "29305   65      Never-worked       HS-grad             Widowed   \n",
       "\n",
       "              occupation   relationship                race     sex  \\\n",
       "no                                                                    \n",
       "1      Machine-op-inspct  Not-in-family               White    Male   \n",
       "2          Other-service  Not-in-family               White  Female   \n",
       "3      Handlers-cleaners  Not-in-family  Asian-Pac-Islander  Female   \n",
       "4           Tech-support  Not-in-family               White  Female   \n",
       "5       Transport-moving        Husband               White    Male   \n",
       "...                  ...            ...                 ...     ...   \n",
       "29301              Sales      Own-child               Other    Male   \n",
       "29302              Sales      Own-child               Black    Male   \n",
       "29303    Farming-fishing      Own-child               White    Male   \n",
       "29304       Craft-repair  Not-in-family               White    Male   \n",
       "29305       Never-worked  Not-in-family               White  Female   \n",
       "\n",
       "       capital-gain  capital-loss  hours-per-week native-country  income  \n",
       "no                                                                        \n",
       "1                 0             0              40  United-States       0  \n",
       "2                 0          1721              55  United-States       0  \n",
       "3                 0             0              50          Haiti       0  \n",
       "4                 0             0              40  United-States       0  \n",
       "5                 0             0              70  United-States       1  \n",
       "...             ...           ...             ...            ...     ...  \n",
       "29301             0             0              40    Puerto-Rico       0  \n",
       "29302             0             0              40  United-States       0  \n",
       "29303             0             0              40  United-States       0  \n",
       "29304             0             0              65  United-States       0  \n",
       "29305             0             0              40  United-States       0  \n",
       "\n",
       "[29305 rows x 13 columns]"
      ]
     },
     "execution_count": 17,
     "metadata": {},
     "output_type": "execute_result"
    }
   ],
   "source": [
    "train"
   ]
  },
  {
   "cell_type": "code",
   "execution_count": 18,
   "id": "e68721ab",
   "metadata": {
    "ExecuteTime": {
     "end_time": "2023-02-13T09:39:59.050731Z",
     "start_time": "2023-02-13T09:39:59.037770Z"
    }
   },
   "outputs": [],
   "source": [
    "categorical_features=['workclass','education', 'marital-status', 'occupation', 'relationship','race','sex','native-country']"
   ]
  },
  {
   "cell_type": "code",
   "execution_count": 19,
   "id": "df5e3b86",
   "metadata": {
    "ExecuteTime": {
     "end_time": "2023-02-13T09:40:04.172535Z",
     "start_time": "2023-02-13T09:40:04.107708Z"
    }
   },
   "outputs": [],
   "source": [
    "for feature_name in categorical_features:\n",
    "    one_hot=pd.get_dummies(test[feature_name],prefix=feature_name) # 원핫 인코딩\n",
    "    test.drop(feature_name, axis=1, inplace=True) # 기존 글자형태 컬럼 삭제\n",
    "    test = pd.concat([test,one_hot],axis=1) "
   ]
  },
  {
   "cell_type": "code",
   "execution_count": 20,
   "id": "8ebcc66f",
   "metadata": {
    "ExecuteTime": {
     "end_time": "2023-02-13T09:40:07.646759Z",
     "start_time": "2023-02-13T09:40:07.551015Z"
    }
   },
   "outputs": [],
   "source": [
    "for feature_name in categorical_features:\n",
    "    one_hot=pd.get_dummies(train[feature_name],prefix=feature_name) # 원핫 인코딩\n",
    "    train.drop(feature_name, axis=1, inplace=True) # 기존 글자형태 컬럼 삭제\n",
    "    train = pd.concat([train,one_hot],axis=1)"
   ]
  },
  {
   "cell_type": "code",
   "execution_count": 21,
   "id": "d1cb1bf7",
   "metadata": {
    "ExecuteTime": {
     "end_time": "2023-02-13T09:40:11.573835Z",
     "start_time": "2023-02-13T09:40:11.557877Z"
    }
   },
   "outputs": [
    {
     "data": {
      "text/plain": [
       "{'income', 'native-country_Holand-Netherlands'}"
      ]
     },
     "execution_count": 21,
     "metadata": {},
     "output_type": "execute_result"
    }
   ],
   "source": [
    "set(train.columns)-set(test.columns)"
   ]
  },
  {
   "cell_type": "code",
   "execution_count": 22,
   "id": "57846ec0",
   "metadata": {
    "ExecuteTime": {
     "end_time": "2023-02-13T09:40:22.032927Z",
     "start_time": "2023-02-13T09:40:22.014977Z"
    }
   },
   "outputs": [],
   "source": [
    "test['native-country_Holand-Netherlands']=0"
   ]
  },
  {
   "cell_type": "code",
   "execution_count": 24,
   "id": "e1c97228",
   "metadata": {
    "ExecuteTime": {
     "end_time": "2023-02-13T09:40:50.553021Z",
     "start_time": "2023-02-13T09:40:50.534071Z"
    }
   },
   "outputs": [],
   "source": [
    "X_train = train.drop('income',axis=1)\n",
    "y_train=train['income']"
   ]
  },
  {
   "cell_type": "code",
   "execution_count": 25,
   "id": "f86ca32a",
   "metadata": {
    "ExecuteTime": {
     "end_time": "2023-02-13T09:40:54.413922Z",
     "start_time": "2023-02-13T09:40:54.397910Z"
    }
   },
   "outputs": [],
   "source": [
    "X_test =test"
   ]
  },
  {
   "cell_type": "code",
   "execution_count": 26,
   "id": "9c7f6c83",
   "metadata": {
    "ExecuteTime": {
     "end_time": "2023-02-13T09:41:19.361825Z",
     "start_time": "2023-02-13T09:41:18.341918Z"
    }
   },
   "outputs": [],
   "source": [
    "from sklearn.preprocessing import RobustScaler\n",
    "from sklearn.preprocessing import StandardScaler\n",
    "from sklearn.model_selection import cross_val_score\n",
    "from lightgbm import LGBMClassifier\n",
    "from lightgbm import early_stopping\n",
    "from lightgbm import log_evaluation\n",
    "from xgboost.sklearn import XGBClassifier\n",
    "from sklearn.ensemble import AdaBoostClassifier"
   ]
  },
  {
   "cell_type": "code",
   "execution_count": 27,
   "id": "3f9034f2",
   "metadata": {
    "ExecuteTime": {
     "end_time": "2023-02-13T09:50:08.891051Z",
     "start_time": "2023-02-13T09:41:31.597548Z"
    }
   },
   "outputs": [],
   "source": [
    "score_lst = []\n",
    "for i in range(400,1000,100):\n",
    "    AdaBoost_model = AdaBoostClassifier(n_estimators=i)\n",
    "    score = cross_val_score(AdaBoost_model,X_train, y_train, cv =5)\n",
    "    score_lst.append(score.mean())"
   ]
  },
  {
   "cell_type": "code",
   "execution_count": 30,
   "id": "3e5f015e",
   "metadata": {
    "ExecuteTime": {
     "end_time": "2023-02-13T09:50:58.753382Z",
     "start_time": "2023-02-13T09:50:58.739420Z"
    }
   },
   "outputs": [],
   "source": [
    "adaboost = AdaBoostClassifier(n_estimators=900)"
   ]
  },
  {
   "cell_type": "code",
   "execution_count": 28,
   "id": "60078d54",
   "metadata": {
    "ExecuteTime": {
     "end_time": "2023-02-13T09:50:08.980851Z",
     "start_time": "2023-02-13T09:50:08.892052Z"
    }
   },
   "outputs": [
    {
     "data": {
      "text/plain": [
       "[<matplotlib.lines.Line2D at 0x20bd0192940>]"
      ]
     },
     "execution_count": 28,
     "metadata": {},
     "output_type": "execute_result"
    },
    {
     "data": {
      "image/png": "[encoded data removed]",
      "text/plain": [
       "<Figure size 640x480 with 1 Axes>"
      ]
     },
     "metadata": {},
     "output_type": "display_data"
    }
   ],
   "source": [
    "x = range(400,1000,100)\n",
    "plt.plot(x, score_lst)"
   ]
  },
  {
   "cell_type": "code",
   "execution_count": 31,
   "id": "5d86c10f",
   "metadata": {
    "ExecuteTime": {
     "end_time": "2023-02-13T09:51:30.098512Z",
     "start_time": "2023-02-13T09:51:01.636531Z"
    }
   },
   "outputs": [
    {
     "data": {
      "text/plain": [
       "AdaBoostClassifier(n_estimators=900)"
      ]
     },
     "execution_count": 31,
     "metadata": {},
     "output_type": "execute_result"
    }
   ],
   "source": [
    "adaboost.fit(X_train,y_train)"
   ]
  },
  {
   "cell_type": "code",
   "execution_count": 32,
   "id": "2c920145",
   "metadata": {
    "ExecuteTime": {
     "end_time": "2023-02-13T09:51:39.928448Z",
     "start_time": "2023-02-13T09:51:34.292932Z"
    }
   },
   "outputs": [],
   "source": [
    "pre = adaboost.predict(X_test)"
   ]
  },
  {
   "cell_type": "code",
   "execution_count": 33,
   "id": "304b1cb7",
   "metadata": {
    "ExecuteTime": {
     "end_time": "2023-02-13T09:53:15.962193Z",
     "start_time": "2023-02-13T09:53:15.940251Z"
    }
   },
   "outputs": [],
   "source": [
    "sub = pd.read_csv('data2/sample_submission.csv')"
   ]
  },
  {
   "cell_type": "code",
   "execution_count": 34,
   "id": "77b6655b",
   "metadata": {
    "ExecuteTime": {
     "end_time": "2023-02-13T09:53:22.066568Z",
     "start_time": "2023-02-13T09:53:22.061581Z"
    }
   },
   "outputs": [],
   "source": [
    "sub['income'] = pre"
   ]
  },
  {
   "cell_type": "code",
   "execution_count": 35,
   "id": "17141715",
   "metadata": {
    "ExecuteTime": {
     "end_time": "2023-02-13T09:53:41.200549Z",
     "start_time": "2023-02-13T09:53:41.181599Z"
    }
   },
   "outputs": [],
   "source": [
    "sub.to_csv('practice12.csv',index=False)"
   ]
  },
  {
   "cell_type": "code",
   "execution_count": 37,
   "id": "5377134d",
   "metadata": {
    "ExecuteTime": {
     "end_time": "2023-02-13T09:56:21.763444Z",
     "start_time": "2023-02-13T09:56:21.749481Z"
    }
   },
   "outputs": [],
   "source": [
    "from sklearn.ensemble import GradientBoostingClassifier"
   ]
  },
  {
   "cell_type": "code",
   "execution_count": 38,
   "id": "dba7e6d7",
   "metadata": {
    "ExecuteTime": {
     "end_time": "2023-02-13T10:06:10.257972Z",
     "start_time": "2023-02-13T09:56:23.523370Z"
    }
   },
   "outputs": [],
   "source": [
    "score_lst = []\n",
    "for i in range(400,1000,100):\n",
    "    Gradient_model = GradientBoostingClassifier(n_estimators=i)\n",
    "    score = cross_val_score(Gradient_model,X_train, y_train, cv =5)\n",
    "    score_lst.append(score.mean())"
   ]
  },
  {
   "cell_type": "code",
   "execution_count": 39,
   "id": "d82060eb",
   "metadata": {
    "ExecuteTime": {
     "end_time": "2023-02-13T10:06:10.348294Z",
     "start_time": "2023-02-13T10:06:10.258940Z"
    }
   },
   "outputs": [
    {
     "data": {
      "text/plain": [
       "[<matplotlib.lines.Line2D at 0x20bd2130790>]"
      ]
     },
     "execution_count": 39,
     "metadata": {},
     "output_type": "execute_result"
    },
    {
     "data": {
      "image/png": "[encoded data removed]",
      "text/plain": [
       "<Figure size 640x480 with 1 Axes>"
      ]
     },
     "metadata": {},
     "output_type": "display_data"
    }
   ],
   "source": [
    "x = range(400,1000,100)\n",
    "plt.plot(x, score_lst)"
   ]
  },
  {
   "cell_type": "code",
   "execution_count": 40,
   "id": "3d799be9",
   "metadata": {
    "ExecuteTime": {
     "end_time": "2023-02-13T10:06:42.709077Z",
     "start_time": "2023-02-13T10:06:42.691124Z"
    }
   },
   "outputs": [],
   "source": [
    "gbm = GradientBoostingClassifier(n_estimators=600,learning_rate=0.1,max_depth=5)"
   ]
  },
  {
   "cell_type": "code",
   "execution_count": 41,
   "id": "4f56b5de",
   "metadata": {
    "ExecuteTime": {
     "end_time": "2023-02-13T10:07:24.493791Z",
     "start_time": "2023-02-13T10:06:46.157394Z"
    }
   },
   "outputs": [
    {
     "data": {
      "text/plain": [
       "GradientBoostingClassifier(max_depth=5, n_estimators=600)"
      ]
     },
     "execution_count": 41,
     "metadata": {},
     "output_type": "execute_result"
    }
   ],
   "source": [
    "gbm.fit(X_train, y_train)"
   ]
  },
  {
   "cell_type": "code",
   "execution_count": 42,
   "id": "9fbc0c03",
   "metadata": {
    "ExecuteTime": {
     "end_time": "2023-02-13T10:07:24.703450Z",
     "start_time": "2023-02-13T10:07:24.494759Z"
    }
   },
   "outputs": [],
   "source": [
    "pre = gbm.predict(X_test)"
   ]
  },
  {
   "cell_type": "code",
   "execution_count": 43,
   "id": "9441eed9",
   "metadata": {
    "ExecuteTime": {
     "end_time": "2023-02-13T10:07:24.733824Z",
     "start_time": "2023-02-13T10:07:24.705444Z"
    }
   },
   "outputs": [],
   "source": [
    "sub = pd.read_csv('data2/sample_submission.csv')\n",
    "sub['income'] = pre\n",
    "sub.to_csv('practice14.csv',index=False)"
   ]
  },
  {
   "cell_type": "code",
   "execution_count": null,
   "id": "c47d5e2c",
   "metadata": {},
   "outputs": [],
   "source": []
  },
  {
   "cell_type": "code",
   "execution_count": null,
   "id": "45268a2e",
   "metadata": {},
   "outputs": [],
   "source": []
  },
  {
   "cell_type": "code",
   "execution_count": null,
   "id": "556dc82f",
   "metadata": {},
   "outputs": [],
   "source": []
  },
  {
   "cell_type": "code",
   "execution_count": null,
   "id": "62e4e6e2",
   "metadata": {},
   "outputs": [],
   "source": []
  },
  {
   "cell_type": "code",
   "execution_count": null,
   "id": "c0cc225c",
   "metadata": {},
   "outputs": [],
   "source": []
  },
  {
   "cell_type": "code",
   "execution_count": null,
   "id": "e46156ed",
   "metadata": {},
   "outputs": [],
   "source": []
  },
  {
   "cell_type": "code",
   "execution_count": null,
   "id": "67f2fe52",
   "metadata": {},
   "outputs": [],
   "source": []
  },
  {
   "cell_type": "code",
   "execution_count": null,
   "id": "dc7fb865",
   "metadata": {},
   "outputs": [],
   "source": []
  },
  {
   "cell_type": "code",
   "execution_count": null,
   "id": "891981c9",
   "metadata": {},
   "outputs": [],
   "source": []
  },
  {
   "cell_type": "code",
   "execution_count": null,
   "id": "aed225cf",
   "metadata": {},
   "outputs": [],
   "source": []
  },
  {
   "cell_type": "code",
   "execution_count": null,
   "id": "5fa22c41",
   "metadata": {},
   "outputs": [],
   "source": []
  },
  {
   "cell_type": "code",
   "execution_count": null,
   "id": "28e58792",
   "metadata": {},
   "outputs": [],
   "source": []
  },
  {
   "cell_type": "code",
   "execution_count": null,
   "id": "a995084b",
   "metadata": {},
   "outputs": [],
   "source": []
  },
  {
   "cell_type": "code",
   "execution_count": null,
   "id": "4c5b826a",
   "metadata": {},
   "outputs": [],
   "source": []
  },
  {
   "cell_type": "code",
   "execution_count": null,
   "id": "1817e0ba",
   "metadata": {},
   "outputs": [],
   "source": []
  },
  {
   "cell_type": "code",
   "execution_count": null,
   "id": "db95c9e0",
   "metadata": {},
   "outputs": [],
   "source": []
  },
  {
   "cell_type": "code",
   "execution_count": null,
   "id": "475b8148",
   "metadata": {},
   "outputs": [],
   "source": []
  },
  {
   "cell_type": "code",
   "execution_count": null,
   "id": "4af62f26",
   "metadata": {},
   "outputs": [],
   "source": []
  },
  {
   "cell_type": "code",
   "execution_count": null,
   "id": "122168b0",
   "metadata": {},
   "outputs": [],
   "source": []
  },
  {
   "cell_type": "code",
   "execution_count": null,
   "id": "738d6fab",
   "metadata": {},
   "outputs": [],
   "source": []
  },
  {
   "cell_type": "code",
   "execution_count": null,
   "id": "a573a8a1",
   "metadata": {},
   "outputs": [],
   "source": []
  },
  {
   "cell_type": "code",
   "execution_count": null,
   "id": "d854d2c2",
   "metadata": {},
   "outputs": [],
   "source": []
  },
  {
   "cell_type": "code",
   "execution_count": null,
   "id": "bf32329b",
   "metadata": {},
   "outputs": [],
   "source": []
  },
  {
   "cell_type": "code",
   "execution_count": null,
   "id": "71d00446",
   "metadata": {},
   "outputs": [],
   "source": []
  },
  {
   "cell_type": "code",
   "execution_count": null,
   "id": "e41f0cd4",
   "metadata": {},
   "outputs": [],
   "source": []
  },
  {
   "cell_type": "code",
   "execution_count": null,
   "id": "9a41c3ed",
   "metadata": {},
   "outputs": [],
   "source": []
  },
  {
   "cell_type": "code",
   "execution_count": null,
   "id": "ad17ed00",
   "metadata": {},
   "outputs": [],
   "source": []
  },
  {
   "cell_type": "code",
   "execution_count": null,
   "id": "929124c9",
   "metadata": {},
   "outputs": [],
   "source": []
  },
  {
   "cell_type": "code",
   "execution_count": null,
   "id": "e46b100b",
   "metadata": {},
   "outputs": [],
   "source": []
  },
  {
   "cell_type": "code",
   "execution_count": null,
   "id": "f3cf29f2",
   "metadata": {},
   "outputs": [],
   "source": []
  },
  {
   "cell_type": "code",
   "execution_count": null,
   "id": "983ea097",
   "metadata": {},
   "outputs": [],
   "source": []
  },
  {
   "cell_type": "code",
   "execution_count": null,
   "id": "d6504c80",
   "metadata": {},
   "outputs": [],
   "source": []
  },
  {
   "cell_type": "code",
   "execution_count": null,
   "id": "708b0fc9",
   "metadata": {},
   "outputs": [],
   "source": []
  }
 ],
 "metadata": {
  "kernelspec": {
   "display_name": "Python 3 (ipykernel)",
   "language": "python",
   "name": "python3"
  },
  "language_info": {
   "codemirror_mode": {
    "name": "ipython",
    "version": 3
   },
   "file_extension": ".py",
   "mimetype": "text/x-python",
   "name": "python",
   "nbconvert_exporter": "python",
   "pygments_lexer": "ipython3",
   "version": "3.9.13"
  },
  "toc": {
   "base_numbering": 1,
   "nav_menu": {},
   "number_sections": true,
   "sideBar": true,
   "skip_h1_title": false,
   "title_cell": "Table of Contents",
   "title_sidebar": "Contents",
   "toc_cell": false,
   "toc_position": {},
   "toc_section_display": true,
   "toc_window_display": false
  }
 },
 "nbformat": 4,
 "nbformat_minor": 5
}
