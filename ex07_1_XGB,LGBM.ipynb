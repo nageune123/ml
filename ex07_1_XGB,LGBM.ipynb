{
 "cells": [
  {
   "cell_type": "code",
   "execution_count": null,
   "id": "1b45ecc5",
   "metadata": {},
   "outputs": [],
   "source": [
    "!pip install xgboost"
   ]
  },
  {
   "cell_type": "code",
   "execution_count": 6,
   "id": "fd848fc1",
   "metadata": {
    "ExecuteTime": {
     "end_time": "2023-02-10T05:35:21.062108Z",
     "start_time": "2023-02-10T05:35:21.043158Z"
    }
   },
   "outputs": [],
   "source": [
    "from xgboost.sklearn import XGBClassifier"
   ]
  },
  {
   "cell_type": "code",
   "execution_count": 3,
   "id": "9b05793d",
   "metadata": {
    "ExecuteTime": {
     "end_time": "2023-02-10T05:31:35.440897Z",
     "start_time": "2023-02-10T05:31:35.434912Z"
    }
   },
   "outputs": [],
   "source": [
    "from sklearn.datasets import load_breast_cancer\n",
    "from sklearn.model_selection import train_test_split\n",
    "from sklearn.metrics import accuracy_score"
   ]
  },
  {
   "cell_type": "code",
   "execution_count": 4,
   "id": "d368e518",
   "metadata": {
    "ExecuteTime": {
     "end_time": "2023-02-10T05:33:53.883163Z",
     "start_time": "2023-02-10T05:33:53.857665Z"
    }
   },
   "outputs": [],
   "source": [
    "cancer = load_breast_cancer()\n",
    "X_train,X_test,y_train,y_test = train_test_split(cancer['data'],cancer['target'],test_size=0.2)"
   ]
  },
  {
   "cell_type": "code",
   "execution_count": 13,
   "id": "701b6380",
   "metadata": {
    "ExecuteTime": {
     "end_time": "2023-02-10T05:39:38.269697Z",
     "start_time": "2023-02-10T05:39:38.265707Z"
    }
   },
   "outputs": [],
   "source": [
    "# n_estimators : 트리의 개수\n",
    "# learning_rate : 학습률\n",
    "xgb_cancer = XGBClassifier(n_estimator=400, learning_rate=0.1,max_depth=3)\n"
   ]
  },
  {
   "cell_type": "code",
   "execution_count": 20,
   "id": "2907a8e1",
   "metadata": {
    "ExecuteTime": {
     "end_time": "2023-02-10T05:45:41.957059Z",
     "start_time": "2023-02-10T05:45:41.825413Z"
    },
    "collapsed": true
   },
   "outputs": [
    {
     "name": "stdout",
     "output_type": "stream",
     "text": [
      "[14:45:41] WARNING: C:/buildkite-agent/builds/buildkite-windows-cpu-autoscaling-group-i-08de971ced8a8cdc6-1/xgboost/xgboost-ci-windows/src/learner.cc:767: \n",
      "Parameters: { \"n_estimator\" } are not used.\n",
      "\n",
      "[0]\tvalidation_0-logloss:0.61314\n",
      "[1]\tvalidation_0-logloss:0.54838\n",
      "[2]\tvalidation_0-logloss:0.49427\n",
      "[3]\tvalidation_0-logloss:0.44879\n",
      "[4]\tvalidation_0-logloss:0.41139\n",
      "[5]\tvalidation_0-logloss:0.37847\n",
      "[6]\tvalidation_0-logloss:0.35000\n",
      "[7]\tvalidation_0-logloss:0.32270\n",
      "[8]\tvalidation_0-logloss:0.30096\n",
      "[9]\tvalidation_0-logloss:0.28037\n",
      "[10]\tvalidation_0-logloss:0.26527\n",
      "[11]\tvalidation_0-logloss:0.24815\n",
      "[12]\tvalidation_0-logloss:0.23424\n",
      "[13]\tvalidation_0-logloss:0.22236\n",
      "[14]\tvalidation_0-logloss:0.21011\n",
      "[15]\tvalidation_0-logloss:0.20020\n",
      "[16]\tvalidation_0-logloss:0.19034\n",
      "[17]\tvalidation_0-logloss:0.18276\n",
      "[18]\tvalidation_0-logloss:0.17415\n",
      "[19]\tvalidation_0-logloss:0.16714\n",
      "[20]\tvalidation_0-logloss:0.15968\n",
      "[21]\tvalidation_0-logloss:0.15419\n",
      "[22]\tvalidation_0-logloss:0.14938\n",
      "[23]\tvalidation_0-logloss:0.14434\n",
      "[24]\tvalidation_0-logloss:0.14047\n",
      "[25]\tvalidation_0-logloss:0.13641\n",
      "[26]\tvalidation_0-logloss:0.13137\n",
      "[27]\tvalidation_0-logloss:0.12905\n",
      "[28]\tvalidation_0-logloss:0.12669\n",
      "[29]\tvalidation_0-logloss:0.12375\n",
      "[30]\tvalidation_0-logloss:0.12117\n",
      "[31]\tvalidation_0-logloss:0.11959\n",
      "[32]\tvalidation_0-logloss:0.11919\n",
      "[33]\tvalidation_0-logloss:0.11767\n",
      "[34]\tvalidation_0-logloss:0.11643\n",
      "[35]\tvalidation_0-logloss:0.11555\n",
      "[36]\tvalidation_0-logloss:0.11442\n",
      "[37]\tvalidation_0-logloss:0.11336\n",
      "[38]\tvalidation_0-logloss:0.11152\n",
      "[39]\tvalidation_0-logloss:0.11066\n",
      "[40]\tvalidation_0-logloss:0.11092\n",
      "[41]\tvalidation_0-logloss:0.10894\n",
      "[42]\tvalidation_0-logloss:0.10819\n",
      "[43]\tvalidation_0-logloss:0.10799\n",
      "[44]\tvalidation_0-logloss:0.10684\n",
      "[45]\tvalidation_0-logloss:0.10709\n",
      "[46]\tvalidation_0-logloss:0.10750\n",
      "[47]\tvalidation_0-logloss:0.10690\n",
      "[48]\tvalidation_0-logloss:0.10564\n",
      "[49]\tvalidation_0-logloss:0.10470\n",
      "[50]\tvalidation_0-logloss:0.10270\n",
      "[51]\tvalidation_0-logloss:0.10319\n",
      "[52]\tvalidation_0-logloss:0.10300\n",
      "[53]\tvalidation_0-logloss:0.10376\n",
      "[54]\tvalidation_0-logloss:0.10397\n",
      "[55]\tvalidation_0-logloss:0.10364\n",
      "[56]\tvalidation_0-logloss:0.10345\n",
      "[57]\tvalidation_0-logloss:0.10319\n",
      "[58]\tvalidation_0-logloss:0.10294\n",
      "[59]\tvalidation_0-logloss:0.10286\n",
      "[60]\tvalidation_0-logloss:0.10272\n",
      "[61]\tvalidation_0-logloss:0.10199\n",
      "[62]\tvalidation_0-logloss:0.10124\n",
      "[63]\tvalidation_0-logloss:0.10087\n",
      "[64]\tvalidation_0-logloss:0.10031\n",
      "[65]\tvalidation_0-logloss:0.09988\n",
      "[66]\tvalidation_0-logloss:0.09923\n",
      "[67]\tvalidation_0-logloss:0.09919\n",
      "[68]\tvalidation_0-logloss:0.09874\n",
      "[69]\tvalidation_0-logloss:0.09780\n",
      "[70]\tvalidation_0-logloss:0.09768\n",
      "[71]\tvalidation_0-logloss:0.09837\n",
      "[72]\tvalidation_0-logloss:0.09756\n",
      "[73]\tvalidation_0-logloss:0.09790\n",
      "[74]\tvalidation_0-logloss:0.09746\n",
      "[75]\tvalidation_0-logloss:0.09652\n",
      "[76]\tvalidation_0-logloss:0.09611\n",
      "[77]\tvalidation_0-logloss:0.09553\n",
      "[78]\tvalidation_0-logloss:0.09622\n",
      "[79]\tvalidation_0-logloss:0.09562\n",
      "[80]\tvalidation_0-logloss:0.09503\n",
      "[81]\tvalidation_0-logloss:0.09450\n",
      "[82]\tvalidation_0-logloss:0.09398\n",
      "[83]\tvalidation_0-logloss:0.09371\n",
      "[84]\tvalidation_0-logloss:0.09335\n",
      "[85]\tvalidation_0-logloss:0.09267\n",
      "[86]\tvalidation_0-logloss:0.09220\n",
      "[87]\tvalidation_0-logloss:0.09257\n",
      "[88]\tvalidation_0-logloss:0.09204\n",
      "[89]\tvalidation_0-logloss:0.09186\n",
      "[90]\tvalidation_0-logloss:0.09172\n",
      "[91]\tvalidation_0-logloss:0.09129\n",
      "[92]\tvalidation_0-logloss:0.09081\n",
      "[93]\tvalidation_0-logloss:0.09066\n",
      "[94]\tvalidation_0-logloss:0.09017\n",
      "[95]\tvalidation_0-logloss:0.09055\n",
      "[96]\tvalidation_0-logloss:0.09036\n",
      "[97]\tvalidation_0-logloss:0.09083\n",
      "[98]\tvalidation_0-logloss:0.09037\n",
      "[99]\tvalidation_0-logloss:0.08988\n"
     ]
    },
    {
     "name": "stderr",
     "output_type": "stream",
     "text": [
      "C:\\Users\\smhrd\\anaconda3\\lib\\site-packages\\xgboost\\sklearn.py:835: UserWarning: `early_stopping_rounds` in `fit` method is deprecated for better compatibility with scikit-learn, use `early_stopping_rounds` in constructor or`set_params` instead.\n",
      "  warnings.warn(\n"
     ]
    },
    {
     "data": {
      "text/plain": [
       "XGBClassifier(base_score=None, booster=None, callbacks=None,\n",
       "              colsample_bylevel=None, colsample_bynode=None,\n",
       "              colsample_bytree=None, early_stopping_rounds=None,\n",
       "              enable_categorical=False, eval_metric=None, feature_types=None,\n",
       "              gamma=None, gpu_id=None, grow_policy=None, importance_type=None,\n",
       "              interaction_constraints=None, learning_rate=0.1, max_bin=None,\n",
       "              max_cat_threshold=None, max_cat_to_onehot=None,\n",
       "              max_delta_step=None, max_depth=3, max_leaves=None,\n",
       "              min_child_weight=None, missing=nan, monotone_constraints=None,\n",
       "              n_estimator=400, n_estimators=100, n_jobs=None,\n",
       "              num_parallel_tree=None, predictor=None, ...)"
      ]
     },
     "execution_count": 20,
     "metadata": {},
     "output_type": "execute_result"
    }
   ],
   "source": [
    "# vervose : 학습과정 표시\n",
    "# early_stopping_rounds : 조기 중단 지점 설정\n",
    "# eval_set : 검증 데이터\n",
    "xgb_cancer.fit(X_train,y_train,verbose=True,early_stopping_rounds=100,eval_set=[(X_test,y_test)])"
   ]
  },
  {
   "cell_type": "code",
   "execution_count": 16,
   "id": "149097e5",
   "metadata": {
    "ExecuteTime": {
     "end_time": "2023-02-10T05:44:13.263132Z",
     "start_time": "2023-02-10T05:44:13.249169Z"
    }
   },
   "outputs": [
    {
     "data": {
      "text/plain": [
       "array([1, 1, 1, 1, 1, 0, 1, 0, 1, 1, 1, 1, 1, 1, 1, 1, 0, 0, 1, 1, 1, 0,\n",
       "       0, 1, 1, 0, 1, 1, 0, 0, 0, 0, 1, 1, 0, 1, 1, 0, 1, 1, 0, 1, 0, 1,\n",
       "       1, 1, 1, 0, 1, 1, 1, 0, 1, 1, 1, 0, 1, 1, 0, 0, 1, 1, 1, 0, 1, 1,\n",
       "       1, 1, 0, 1, 1, 1, 1, 0, 1, 0, 1, 0, 0, 1, 1, 1, 0, 0, 1, 0, 1, 0,\n",
       "       0, 0, 0, 0, 1, 1, 1, 1, 1, 1, 1, 1, 0, 1, 1, 1, 0, 0, 0, 1, 1, 0,\n",
       "       1, 0, 0, 1])"
      ]
     },
     "execution_count": 16,
     "metadata": {},
     "output_type": "execute_result"
    }
   ],
   "source": [
    "pre = xgb_cancer.predict(X_test)\n",
    "pre"
   ]
  },
  {
   "cell_type": "code",
   "execution_count": 19,
   "id": "f57aa47a",
   "metadata": {
    "ExecuteTime": {
     "end_time": "2023-02-10T05:45:37.744345Z",
     "start_time": "2023-02-10T05:45:37.728177Z"
    }
   },
   "outputs": [
    {
     "data": {
      "text/plain": [
       "0.9649122807017544"
      ]
     },
     "execution_count": 19,
     "metadata": {},
     "output_type": "execute_result"
    }
   ],
   "source": [
    "accuracy_score(pre,y_test)"
   ]
  },
  {
   "cell_type": "code",
   "execution_count": 21,
   "id": "fae2f5f6",
   "metadata": {
    "ExecuteTime": {
     "end_time": "2023-02-10T05:47:25.784646Z",
     "start_time": "2023-02-10T05:47:25.736775Z"
    }
   },
   "outputs": [
    {
     "data": {
      "text/plain": [
       "0.9649122807017544"
      ]
     },
     "execution_count": 21,
     "metadata": {},
     "output_type": "execute_result"
    }
   ],
   "source": [
    "simple_xgb=XGBClassifier()\n",
    "simple_xgb.fit(X_train,y_train)\n",
    "pre = simple_xgb.predict(X_test)\n",
    "accuracy_score(pre,y_test)"
   ]
  },
  {
   "cell_type": "markdown",
   "id": "38d91d21",
   "metadata": {},
   "source": [
    "### Light GBM"
   ]
  },
  {
   "cell_type": "code",
   "execution_count": 23,
   "id": "21d7c860",
   "metadata": {
    "ExecuteTime": {
     "end_time": "2023-02-10T05:52:13.659028Z",
     "start_time": "2023-02-10T05:52:13.554310Z"
    },
    "collapsed": true
   },
   "outputs": [
    {
     "name": "stdout",
     "output_type": "stream",
     "text": [
      "[1]\tvalid_0's binary_logloss: 0.586707\n",
      "[2]\tvalid_0's binary_logloss: 0.527097\n",
      "[3]\tvalid_0's binary_logloss: 0.478314\n",
      "[4]\tvalid_0's binary_logloss: 0.439059\n",
      "[5]\tvalid_0's binary_logloss: 0.400003\n",
      "[6]\tvalid_0's binary_logloss: 0.368249\n",
      "[7]\tvalid_0's binary_logloss: 0.338774\n",
      "[8]\tvalid_0's binary_logloss: 0.313967\n",
      "[9]\tvalid_0's binary_logloss: 0.29149\n",
      "[10]\tvalid_0's binary_logloss: 0.275467\n",
      "[11]\tvalid_0's binary_logloss: 0.258538\n",
      "[12]\tvalid_0's binary_logloss: 0.242562\n",
      "[13]\tvalid_0's binary_logloss: 0.228467\n",
      "[14]\tvalid_0's binary_logloss: 0.215832\n",
      "[15]\tvalid_0's binary_logloss: 0.205115\n",
      "[16]\tvalid_0's binary_logloss: 0.193953\n",
      "[17]\tvalid_0's binary_logloss: 0.185452\n",
      "[18]\tvalid_0's binary_logloss: 0.175151\n",
      "[19]\tvalid_0's binary_logloss: 0.16729\n",
      "[20]\tvalid_0's binary_logloss: 0.160311\n",
      "[21]\tvalid_0's binary_logloss: 0.154779\n",
      "[22]\tvalid_0's binary_logloss: 0.150201\n",
      "[23]\tvalid_0's binary_logloss: 0.146517\n",
      "[24]\tvalid_0's binary_logloss: 0.142027\n",
      "[25]\tvalid_0's binary_logloss: 0.137229\n",
      "[26]\tvalid_0's binary_logloss: 0.134776\n",
      "[27]\tvalid_0's binary_logloss: 0.132739\n",
      "[28]\tvalid_0's binary_logloss: 0.130295\n",
      "[29]\tvalid_0's binary_logloss: 0.128725\n",
      "[30]\tvalid_0's binary_logloss: 0.128343\n",
      "[31]\tvalid_0's binary_logloss: 0.126445\n",
      "[32]\tvalid_0's binary_logloss: 0.125541\n",
      "[33]\tvalid_0's binary_logloss: 0.122514\n",
      "[34]\tvalid_0's binary_logloss: 0.120991\n",
      "[35]\tvalid_0's binary_logloss: 0.119957\n",
      "[36]\tvalid_0's binary_logloss: 0.119322\n",
      "[37]\tvalid_0's binary_logloss: 0.116553\n",
      "[38]\tvalid_0's binary_logloss: 0.116451\n",
      "[39]\tvalid_0's binary_logloss: 0.116173\n",
      "[40]\tvalid_0's binary_logloss: 0.11414\n",
      "[41]\tvalid_0's binary_logloss: 0.113781\n",
      "[42]\tvalid_0's binary_logloss: 0.113304\n",
      "[43]\tvalid_0's binary_logloss: 0.11399\n",
      "[44]\tvalid_0's binary_logloss: 0.114026\n",
      "[45]\tvalid_0's binary_logloss: 0.114472\n",
      "[46]\tvalid_0's binary_logloss: 0.113435\n",
      "[47]\tvalid_0's binary_logloss: 0.114764\n",
      "[48]\tvalid_0's binary_logloss: 0.11436\n",
      "[49]\tvalid_0's binary_logloss: 0.113234\n",
      "[50]\tvalid_0's binary_logloss: 0.113734\n",
      "[51]\tvalid_0's binary_logloss: 0.113293\n",
      "[52]\tvalid_0's binary_logloss: 0.114194\n",
      "[53]\tvalid_0's binary_logloss: 0.11598\n",
      "[54]\tvalid_0's binary_logloss: 0.114575\n",
      "[55]\tvalid_0's binary_logloss: 0.115855\n",
      "[56]\tvalid_0's binary_logloss: 0.115735\n",
      "[57]\tvalid_0's binary_logloss: 0.117847\n",
      "[58]\tvalid_0's binary_logloss: 0.117911\n",
      "[59]\tvalid_0's binary_logloss: 0.119082\n",
      "[60]\tvalid_0's binary_logloss: 0.120057\n",
      "[61]\tvalid_0's binary_logloss: 0.118954\n",
      "[62]\tvalid_0's binary_logloss: 0.121164\n",
      "[63]\tvalid_0's binary_logloss: 0.121856\n",
      "[64]\tvalid_0's binary_logloss: 0.119818\n",
      "[65]\tvalid_0's binary_logloss: 0.118797\n",
      "[66]\tvalid_0's binary_logloss: 0.120248\n",
      "[67]\tvalid_0's binary_logloss: 0.12094\n",
      "[68]\tvalid_0's binary_logloss: 0.121328\n",
      "[69]\tvalid_0's binary_logloss: 0.121917\n",
      "[70]\tvalid_0's binary_logloss: 0.122106\n",
      "[71]\tvalid_0's binary_logloss: 0.12178\n",
      "[72]\tvalid_0's binary_logloss: 0.122274\n",
      "[73]\tvalid_0's binary_logloss: 0.122731\n",
      "[74]\tvalid_0's binary_logloss: 0.122297\n",
      "[75]\tvalid_0's binary_logloss: 0.123226\n",
      "[76]\tvalid_0's binary_logloss: 0.125769\n",
      "[77]\tvalid_0's binary_logloss: 0.126734\n",
      "[78]\tvalid_0's binary_logloss: 0.12603\n",
      "[79]\tvalid_0's binary_logloss: 0.125067\n",
      "[80]\tvalid_0's binary_logloss: 0.125478\n",
      "[81]\tvalid_0's binary_logloss: 0.125464\n",
      "[82]\tvalid_0's binary_logloss: 0.12537\n",
      "[83]\tvalid_0's binary_logloss: 0.126679\n",
      "[84]\tvalid_0's binary_logloss: 0.129283\n",
      "[85]\tvalid_0's binary_logloss: 0.130023\n",
      "[86]\tvalid_0's binary_logloss: 0.130443\n",
      "[87]\tvalid_0's binary_logloss: 0.130889\n",
      "[88]\tvalid_0's binary_logloss: 0.130088\n",
      "[89]\tvalid_0's binary_logloss: 0.130082\n",
      "[90]\tvalid_0's binary_logloss: 0.13152\n",
      "[91]\tvalid_0's binary_logloss: 0.130594\n",
      "[92]\tvalid_0's binary_logloss: 0.131842\n",
      "[93]\tvalid_0's binary_logloss: 0.133098\n",
      "[94]\tvalid_0's binary_logloss: 0.13398\n",
      "[95]\tvalid_0's binary_logloss: 0.134493\n",
      "[96]\tvalid_0's binary_logloss: 0.132133\n",
      "[97]\tvalid_0's binary_logloss: 0.134014\n",
      "[98]\tvalid_0's binary_logloss: 0.131251\n",
      "[99]\tvalid_0's binary_logloss: 0.132495\n",
      "[100]\tvalid_0's binary_logloss: 0.133231\n",
      "[101]\tvalid_0's binary_logloss: 0.134124\n",
      "[102]\tvalid_0's binary_logloss: 0.136889\n",
      "[103]\tvalid_0's binary_logloss: 0.13645\n",
      "[104]\tvalid_0's binary_logloss: 0.135968\n",
      "[105]\tvalid_0's binary_logloss: 0.136377\n",
      "[106]\tvalid_0's binary_logloss: 0.135512\n",
      "[107]\tvalid_0's binary_logloss: 0.134567\n",
      "[108]\tvalid_0's binary_logloss: 0.136371\n",
      "[109]\tvalid_0's binary_logloss: 0.13778\n",
      "[110]\tvalid_0's binary_logloss: 0.137488\n",
      "[111]\tvalid_0's binary_logloss: 0.138131\n",
      "[112]\tvalid_0's binary_logloss: 0.13834\n",
      "[113]\tvalid_0's binary_logloss: 0.139529\n",
      "[114]\tvalid_0's binary_logloss: 0.140547\n",
      "[115]\tvalid_0's binary_logloss: 0.142092\n",
      "[116]\tvalid_0's binary_logloss: 0.143011\n",
      "[117]\tvalid_0's binary_logloss: 0.144002\n",
      "[118]\tvalid_0's binary_logloss: 0.145136\n",
      "[119]\tvalid_0's binary_logloss: 0.144432\n",
      "[120]\tvalid_0's binary_logloss: 0.146049\n",
      "[121]\tvalid_0's binary_logloss: 0.146683\n",
      "[122]\tvalid_0's binary_logloss: 0.148336\n",
      "[123]\tvalid_0's binary_logloss: 0.147953\n",
      "[124]\tvalid_0's binary_logloss: 0.149257\n",
      "[125]\tvalid_0's binary_logloss: 0.150354\n",
      "[126]\tvalid_0's binary_logloss: 0.151536\n",
      "[127]\tvalid_0's binary_logloss: 0.153086\n",
      "[128]\tvalid_0's binary_logloss: 0.15425\n",
      "[129]\tvalid_0's binary_logloss: 0.155159\n",
      "[130]\tvalid_0's binary_logloss: 0.15608\n",
      "[131]\tvalid_0's binary_logloss: 0.157587\n",
      "[132]\tvalid_0's binary_logloss: 0.159805\n",
      "[133]\tvalid_0's binary_logloss: 0.160528\n",
      "[134]\tvalid_0's binary_logloss: 0.161088\n",
      "[135]\tvalid_0's binary_logloss: 0.162993\n",
      "[136]\tvalid_0's binary_logloss: 0.162264\n",
      "[137]\tvalid_0's binary_logloss: 0.163447\n",
      "[138]\tvalid_0's binary_logloss: 0.162016\n",
      "[139]\tvalid_0's binary_logloss: 0.163005\n",
      "[140]\tvalid_0's binary_logloss: 0.164547\n",
      "[141]\tvalid_0's binary_logloss: 0.166166\n",
      "[142]\tvalid_0's binary_logloss: 0.1664\n",
      "[143]\tvalid_0's binary_logloss: 0.165591\n",
      "[144]\tvalid_0's binary_logloss: 0.166831\n",
      "[145]\tvalid_0's binary_logloss: 0.166025\n",
      "[146]\tvalid_0's binary_logloss: 0.168018\n",
      "[147]\tvalid_0's binary_logloss: 0.168062\n",
      "[148]\tvalid_0's binary_logloss: 0.170287\n",
      "[149]\tvalid_0's binary_logloss: 0.170223\n"
     ]
    },
    {
     "name": "stderr",
     "output_type": "stream",
     "text": [
      "C:\\Users\\smhrd\\anaconda3\\lib\\site-packages\\lightgbm\\sklearn.py:726: UserWarning: 'early_stopping_rounds' argument is deprecated and will be removed in a future release of LightGBM. Pass 'early_stopping()' callback via 'callbacks' argument instead.\n",
      "  _log_warning(\"'early_stopping_rounds' argument is deprecated and will be removed in a future release of LightGBM. \"\n",
      "C:\\Users\\smhrd\\anaconda3\\lib\\site-packages\\lightgbm\\sklearn.py:736: UserWarning: 'verbose' argument is deprecated and will be removed in a future release of LightGBM. Pass 'log_evaluation()' callback via 'callbacks' argument instead.\n",
      "  _log_warning(\"'verbose' argument is deprecated and will be removed in a future release of LightGBM. \"\n"
     ]
    },
    {
     "data": {
      "text/plain": [
       "LGBMClassifier(n_estimators=400)"
      ]
     },
     "execution_count": 23,
     "metadata": {},
     "output_type": "execute_result"
    }
   ],
   "source": [
    "from lightgbm import LGBMClassifier\n",
    "\n",
    "lgb_cancer =LGBMClassifier(n_estimators=400)\n",
    "lgb_cancer.fit(X_train,y_train,early_stopping_rounds=100, eval_set=[(X_test,y_test)],verbose=True)\n"
   ]
  },
  {
   "cell_type": "code",
   "execution_count": 26,
   "id": "b0d482fc",
   "metadata": {
    "ExecuteTime": {
     "end_time": "2023-02-10T05:58:20.270264Z",
     "start_time": "2023-02-10T05:58:20.265277Z"
    }
   },
   "outputs": [],
   "source": [
    "from lightgbm import log_evaluation\n",
    "from lightgbm import early_stopping"
   ]
  },
  {
   "cell_type": "code",
   "execution_count": 27,
   "id": "dc213e30",
   "metadata": {
    "ExecuteTime": {
     "end_time": "2023-02-10T05:58:22.128346Z",
     "start_time": "2023-02-10T05:58:22.033095Z"
    },
    "collapsed": true
   },
   "outputs": [
    {
     "name": "stdout",
     "output_type": "stream",
     "text": [
      "[1]\tvalid_0's binary_logloss: 0.586707\n",
      "Training until validation scores don't improve for 100 rounds\n",
      "[2]\tvalid_0's binary_logloss: 0.527097\n",
      "[3]\tvalid_0's binary_logloss: 0.478314\n",
      "[4]\tvalid_0's binary_logloss: 0.439059\n",
      "[5]\tvalid_0's binary_logloss: 0.400003\n",
      "[6]\tvalid_0's binary_logloss: 0.368249\n",
      "[7]\tvalid_0's binary_logloss: 0.338774\n",
      "[8]\tvalid_0's binary_logloss: 0.313967\n",
      "[9]\tvalid_0's binary_logloss: 0.29149\n",
      "[10]\tvalid_0's binary_logloss: 0.275467\n",
      "[11]\tvalid_0's binary_logloss: 0.258538\n",
      "[12]\tvalid_0's binary_logloss: 0.242562\n",
      "[13]\tvalid_0's binary_logloss: 0.228467\n",
      "[14]\tvalid_0's binary_logloss: 0.215832\n",
      "[15]\tvalid_0's binary_logloss: 0.205115\n",
      "[16]\tvalid_0's binary_logloss: 0.193953\n",
      "[17]\tvalid_0's binary_logloss: 0.185452\n",
      "[18]\tvalid_0's binary_logloss: 0.175151\n",
      "[19]\tvalid_0's binary_logloss: 0.16729\n",
      "[20]\tvalid_0's binary_logloss: 0.160311\n",
      "[21]\tvalid_0's binary_logloss: 0.154779\n",
      "[22]\tvalid_0's binary_logloss: 0.150201\n",
      "[23]\tvalid_0's binary_logloss: 0.146517\n",
      "[24]\tvalid_0's binary_logloss: 0.142027\n",
      "[25]\tvalid_0's binary_logloss: 0.137229\n",
      "[26]\tvalid_0's binary_logloss: 0.134776\n",
      "[27]\tvalid_0's binary_logloss: 0.132739\n",
      "[28]\tvalid_0's binary_logloss: 0.130295\n",
      "[29]\tvalid_0's binary_logloss: 0.128725\n",
      "[30]\tvalid_0's binary_logloss: 0.128343\n",
      "[31]\tvalid_0's binary_logloss: 0.126445\n",
      "[32]\tvalid_0's binary_logloss: 0.125541\n",
      "[33]\tvalid_0's binary_logloss: 0.122514\n",
      "[34]\tvalid_0's binary_logloss: 0.120991\n",
      "[35]\tvalid_0's binary_logloss: 0.119957\n",
      "[36]\tvalid_0's binary_logloss: 0.119322\n",
      "[37]\tvalid_0's binary_logloss: 0.116553\n",
      "[38]\tvalid_0's binary_logloss: 0.116451\n",
      "[39]\tvalid_0's binary_logloss: 0.116173\n",
      "[40]\tvalid_0's binary_logloss: 0.11414\n",
      "[41]\tvalid_0's binary_logloss: 0.113781\n",
      "[42]\tvalid_0's binary_logloss: 0.113304\n",
      "[43]\tvalid_0's binary_logloss: 0.11399\n",
      "[44]\tvalid_0's binary_logloss: 0.114026\n",
      "[45]\tvalid_0's binary_logloss: 0.114472\n",
      "[46]\tvalid_0's binary_logloss: 0.113435\n",
      "[47]\tvalid_0's binary_logloss: 0.114764\n",
      "[48]\tvalid_0's binary_logloss: 0.11436\n",
      "[49]\tvalid_0's binary_logloss: 0.113234\n",
      "[50]\tvalid_0's binary_logloss: 0.113734\n",
      "[51]\tvalid_0's binary_logloss: 0.113293\n",
      "[52]\tvalid_0's binary_logloss: 0.114194\n",
      "[53]\tvalid_0's binary_logloss: 0.11598\n",
      "[54]\tvalid_0's binary_logloss: 0.114575\n",
      "[55]\tvalid_0's binary_logloss: 0.115855\n",
      "[56]\tvalid_0's binary_logloss: 0.115735\n",
      "[57]\tvalid_0's binary_logloss: 0.117847\n",
      "[58]\tvalid_0's binary_logloss: 0.117911\n",
      "[59]\tvalid_0's binary_logloss: 0.119082\n",
      "[60]\tvalid_0's binary_logloss: 0.120057\n",
      "[61]\tvalid_0's binary_logloss: 0.118954\n",
      "[62]\tvalid_0's binary_logloss: 0.121164\n",
      "[63]\tvalid_0's binary_logloss: 0.121856\n",
      "[64]\tvalid_0's binary_logloss: 0.119818\n",
      "[65]\tvalid_0's binary_logloss: 0.118797\n",
      "[66]\tvalid_0's binary_logloss: 0.120248\n",
      "[67]\tvalid_0's binary_logloss: 0.12094\n",
      "[68]\tvalid_0's binary_logloss: 0.121328\n",
      "[69]\tvalid_0's binary_logloss: 0.121917\n",
      "[70]\tvalid_0's binary_logloss: 0.122106\n",
      "[71]\tvalid_0's binary_logloss: 0.12178\n",
      "[72]\tvalid_0's binary_logloss: 0.122274\n",
      "[73]\tvalid_0's binary_logloss: 0.122731\n",
      "[74]\tvalid_0's binary_logloss: 0.122297\n",
      "[75]\tvalid_0's binary_logloss: 0.123226\n",
      "[76]\tvalid_0's binary_logloss: 0.125769\n",
      "[77]\tvalid_0's binary_logloss: 0.126734\n",
      "[78]\tvalid_0's binary_logloss: 0.12603\n",
      "[79]\tvalid_0's binary_logloss: 0.125067\n",
      "[80]\tvalid_0's binary_logloss: 0.125478\n",
      "[81]\tvalid_0's binary_logloss: 0.125464\n",
      "[82]\tvalid_0's binary_logloss: 0.12537\n",
      "[83]\tvalid_0's binary_logloss: 0.126679\n",
      "[84]\tvalid_0's binary_logloss: 0.129283\n",
      "[85]\tvalid_0's binary_logloss: 0.130023\n",
      "[86]\tvalid_0's binary_logloss: 0.130443\n",
      "[87]\tvalid_0's binary_logloss: 0.130889\n",
      "[88]\tvalid_0's binary_logloss: 0.130088\n",
      "[89]\tvalid_0's binary_logloss: 0.130082\n",
      "[90]\tvalid_0's binary_logloss: 0.13152\n",
      "[91]\tvalid_0's binary_logloss: 0.130594\n",
      "[92]\tvalid_0's binary_logloss: 0.131842\n",
      "[93]\tvalid_0's binary_logloss: 0.133098\n",
      "[94]\tvalid_0's binary_logloss: 0.13398\n",
      "[95]\tvalid_0's binary_logloss: 0.134493\n",
      "[96]\tvalid_0's binary_logloss: 0.132133\n",
      "[97]\tvalid_0's binary_logloss: 0.134014\n",
      "[98]\tvalid_0's binary_logloss: 0.131251\n",
      "[99]\tvalid_0's binary_logloss: 0.132495\n",
      "[100]\tvalid_0's binary_logloss: 0.133231\n",
      "[101]\tvalid_0's binary_logloss: 0.134124\n",
      "[102]\tvalid_0's binary_logloss: 0.136889\n",
      "[103]\tvalid_0's binary_logloss: 0.13645\n",
      "[104]\tvalid_0's binary_logloss: 0.135968\n",
      "[105]\tvalid_0's binary_logloss: 0.136377\n",
      "[106]\tvalid_0's binary_logloss: 0.135512\n",
      "[107]\tvalid_0's binary_logloss: 0.134567\n",
      "[108]\tvalid_0's binary_logloss: 0.136371\n",
      "[109]\tvalid_0's binary_logloss: 0.13778\n",
      "[110]\tvalid_0's binary_logloss: 0.137488\n",
      "[111]\tvalid_0's binary_logloss: 0.138131\n",
      "[112]\tvalid_0's binary_logloss: 0.13834\n",
      "[113]\tvalid_0's binary_logloss: 0.139529\n",
      "[114]\tvalid_0's binary_logloss: 0.140547\n",
      "[115]\tvalid_0's binary_logloss: 0.142092\n",
      "[116]\tvalid_0's binary_logloss: 0.143011\n",
      "[117]\tvalid_0's binary_logloss: 0.144002\n",
      "[118]\tvalid_0's binary_logloss: 0.145136\n",
      "[119]\tvalid_0's binary_logloss: 0.144432\n",
      "[120]\tvalid_0's binary_logloss: 0.146049\n",
      "[121]\tvalid_0's binary_logloss: 0.146683\n",
      "[122]\tvalid_0's binary_logloss: 0.148336\n",
      "[123]\tvalid_0's binary_logloss: 0.147953\n",
      "[124]\tvalid_0's binary_logloss: 0.149257\n",
      "[125]\tvalid_0's binary_logloss: 0.150354\n",
      "[126]\tvalid_0's binary_logloss: 0.151536\n",
      "[127]\tvalid_0's binary_logloss: 0.153086\n",
      "[128]\tvalid_0's binary_logloss: 0.15425\n",
      "[129]\tvalid_0's binary_logloss: 0.155159\n",
      "[130]\tvalid_0's binary_logloss: 0.15608\n",
      "[131]\tvalid_0's binary_logloss: 0.157587\n",
      "[132]\tvalid_0's binary_logloss: 0.159805\n",
      "[133]\tvalid_0's binary_logloss: 0.160528\n",
      "[134]\tvalid_0's binary_logloss: 0.161088\n",
      "[135]\tvalid_0's binary_logloss: 0.162993\n",
      "[136]\tvalid_0's binary_logloss: 0.162264\n",
      "[137]\tvalid_0's binary_logloss: 0.163447\n",
      "[138]\tvalid_0's binary_logloss: 0.162016\n",
      "[139]\tvalid_0's binary_logloss: 0.163005\n",
      "[140]\tvalid_0's binary_logloss: 0.164547\n",
      "[141]\tvalid_0's binary_logloss: 0.166166\n",
      "[142]\tvalid_0's binary_logloss: 0.1664\n",
      "[143]\tvalid_0's binary_logloss: 0.165591\n",
      "[144]\tvalid_0's binary_logloss: 0.166831\n",
      "[145]\tvalid_0's binary_logloss: 0.166025\n",
      "[146]\tvalid_0's binary_logloss: 0.168018\n",
      "[147]\tvalid_0's binary_logloss: 0.168062\n",
      "[148]\tvalid_0's binary_logloss: 0.170287\n",
      "[149]\tvalid_0's binary_logloss: 0.170223\n",
      "Early stopping, best iteration is:\n",
      "[49]\tvalid_0's binary_logloss: 0.113234\n"
     ]
    },
    {
     "data": {
      "text/plain": [
       "LGBMClassifier(n_estimators=400)"
      ]
     },
     "execution_count": 27,
     "metadata": {},
     "output_type": "execute_result"
    }
   ],
   "source": [
    "lgb_cancer =LGBMClassifier(n_estimators=400)\n",
    "# 콜백함수 : 다른 함수의 인자로써 이용되는 함수\n",
    "lgb_cancer.fit(X_train,y_train, callbacks=[early_stopping(100),log_evaluation(1)], \n",
    "               eval_set=[(X_test,y_test)])"
   ]
  },
  {
   "cell_type": "code",
   "execution_count": 28,
   "id": "05ee7252",
   "metadata": {
    "ExecuteTime": {
     "end_time": "2023-02-10T06:00:24.890513Z",
     "start_time": "2023-02-10T06:00:24.872056Z"
    }
   },
   "outputs": [
    {
     "data": {
      "text/plain": [
       "0.9649122807017544"
      ]
     },
     "execution_count": 28,
     "metadata": {},
     "output_type": "execute_result"
    }
   ],
   "source": [
    "pre = lgb_cancer.predict(X_test)\n",
    "accuracy_score(pre,y_test)"
   ]
  },
  {
   "cell_type": "code",
   "execution_count": 29,
   "id": "b181659b",
   "metadata": {
    "ExecuteTime": {
     "end_time": "2023-02-10T06:02:41.717817Z",
     "start_time": "2023-02-10T06:02:41.648004Z"
    }
   },
   "outputs": [
    {
     "data": {
      "text/plain": [
       "0.9649122807017544"
      ]
     },
     "execution_count": 29,
     "metadata": {},
     "output_type": "execute_result"
    }
   ],
   "source": [
    "simple_lgb =LGBMClassifier()\n",
    "simple_lgb.fit(X_train,y_train)\n",
    "pre = simple_lgb.predict(X_test)\n",
    "accuracy_score(pre,y_test)"
   ]
  },
  {
   "cell_type": "code",
   "execution_count": 30,
   "id": "ecc49a96",
   "metadata": {
    "ExecuteTime": {
     "end_time": "2023-02-10T06:55:56.219533Z",
     "start_time": "2023-02-10T06:55:56.215543Z"
    }
   },
   "outputs": [],
   "source": []
  },
  {
   "cell_type": "code",
   "execution_count": null,
   "id": "9ab7d657",
   "metadata": {},
   "outputs": [],
   "source": []
  },
  {
   "cell_type": "code",
   "execution_count": null,
   "id": "2017b530",
   "metadata": {},
   "outputs": [],
   "source": []
  },
  {
   "cell_type": "code",
   "execution_count": null,
   "id": "ae78c6f2",
   "metadata": {},
   "outputs": [],
   "source": []
  }
 ],
 "metadata": {
  "kernelspec": {
   "display_name": "Python 3 (ipykernel)",
   "language": "python",
   "name": "python3"
  },
  "language_info": {
   "codemirror_mode": {
    "name": "ipython",
    "version": 3
   },
   "file_extension": ".py",
   "mimetype": "text/x-python",
   "name": "python",
   "nbconvert_exporter": "python",
   "pygments_lexer": "ipython3",
   "version": "3.9.13"
  },
  "toc": {
   "base_numbering": 1,
   "nav_menu": {},
   "number_sections": true,
   "sideBar": true,
   "skip_h1_title": false,
   "title_cell": "Table of Contents",
   "title_sidebar": "Contents",
   "toc_cell": false,
   "toc_position": {},
   "toc_section_display": true,
   "toc_window_display": false
  }
 },
 "nbformat": 4,
 "nbformat_minor": 5
}
