{
 "cells": [
  {
   "cell_type": "markdown",
   "id": "5f607d6a",
   "metadata": {},
   "source": [
    "### 손글씨 분류\n",
    "- 0~9까지 사람이 직접 쓴 손글씨 이미지 데이터\n",
    "- 10종류를 구분하는 모델을 만듬"
   ]
  },
  {
   "cell_type": "code",
   "execution_count": 1,
   "id": "4bf23657",
   "metadata": {
    "ExecuteTime": {
     "end_time": "2023-02-14T05:51:58.633626Z",
     "start_time": "2023-02-14T05:51:58.195797Z"
    }
   },
   "outputs": [],
   "source": [
    "import pandas as pd"
   ]
  },
  {
   "cell_type": "code",
   "execution_count": 2,
   "id": "3a45bb18",
   "metadata": {
    "ExecuteTime": {
     "end_time": "2023-02-14T05:52:20.821815Z",
     "start_time": "2023-02-14T05:52:19.362687Z"
    }
   },
   "outputs": [],
   "source": [
    "data = pd.read_csv(\"./data/digit_train.csv\")"
   ]
  },
  {
   "cell_type": "code",
   "execution_count": 4,
   "id": "30e2bb10",
   "metadata": {
    "ExecuteTime": {
     "end_time": "2023-02-14T05:53:09.178351Z",
     "start_time": "2023-02-14T05:53:09.164388Z"
    }
   },
   "outputs": [
    {
     "data": {
      "text/html": [
       "<div>\n",
       "<style scoped>\n",
       "    .dataframe tbody tr th:only-of-type {\n",
       "        vertical-align: middle;\n",
       "    }\n",
       "\n",
       "    .dataframe tbody tr th {\n",
       "        vertical-align: top;\n",
       "    }\n",
       "\n",
       "    .dataframe thead th {\n",
       "        text-align: right;\n",
       "    }\n",
       "</style>\n",
       "<table border=\"1\" class=\"dataframe\">\n",
       "  <thead>\n",
       "    <tr style=\"text-align: right;\">\n",
       "      <th></th>\n",
       "      <th>label</th>\n",
       "      <th>pixel0</th>\n",
       "      <th>pixel1</th>\n",
       "      <th>pixel2</th>\n",
       "      <th>pixel3</th>\n",
       "      <th>pixel4</th>\n",
       "      <th>pixel5</th>\n",
       "      <th>pixel6</th>\n",
       "      <th>pixel7</th>\n",
       "      <th>pixel8</th>\n",
       "      <th>...</th>\n",
       "      <th>pixel774</th>\n",
       "      <th>pixel775</th>\n",
       "      <th>pixel776</th>\n",
       "      <th>pixel777</th>\n",
       "      <th>pixel778</th>\n",
       "      <th>pixel779</th>\n",
       "      <th>pixel780</th>\n",
       "      <th>pixel781</th>\n",
       "      <th>pixel782</th>\n",
       "      <th>pixel783</th>\n",
       "    </tr>\n",
       "  </thead>\n",
       "  <tbody>\n",
       "    <tr>\n",
       "      <th>0</th>\n",
       "      <td>1</td>\n",
       "      <td>0</td>\n",
       "      <td>0</td>\n",
       "      <td>0</td>\n",
       "      <td>0</td>\n",
       "      <td>0</td>\n",
       "      <td>0</td>\n",
       "      <td>0</td>\n",
       "      <td>0</td>\n",
       "      <td>0</td>\n",
       "      <td>...</td>\n",
       "      <td>0</td>\n",
       "      <td>0</td>\n",
       "      <td>0</td>\n",
       "      <td>0</td>\n",
       "      <td>0</td>\n",
       "      <td>0</td>\n",
       "      <td>0</td>\n",
       "      <td>0</td>\n",
       "      <td>0</td>\n",
       "      <td>0</td>\n",
       "    </tr>\n",
       "    <tr>\n",
       "      <th>1</th>\n",
       "      <td>0</td>\n",
       "      <td>0</td>\n",
       "      <td>0</td>\n",
       "      <td>0</td>\n",
       "      <td>0</td>\n",
       "      <td>0</td>\n",
       "      <td>0</td>\n",
       "      <td>0</td>\n",
       "      <td>0</td>\n",
       "      <td>0</td>\n",
       "      <td>...</td>\n",
       "      <td>0</td>\n",
       "      <td>0</td>\n",
       "      <td>0</td>\n",
       "      <td>0</td>\n",
       "      <td>0</td>\n",
       "      <td>0</td>\n",
       "      <td>0</td>\n",
       "      <td>0</td>\n",
       "      <td>0</td>\n",
       "      <td>0</td>\n",
       "    </tr>\n",
       "    <tr>\n",
       "      <th>2</th>\n",
       "      <td>1</td>\n",
       "      <td>0</td>\n",
       "      <td>0</td>\n",
       "      <td>0</td>\n",
       "      <td>0</td>\n",
       "      <td>0</td>\n",
       "      <td>0</td>\n",
       "      <td>0</td>\n",
       "      <td>0</td>\n",
       "      <td>0</td>\n",
       "      <td>...</td>\n",
       "      <td>0</td>\n",
       "      <td>0</td>\n",
       "      <td>0</td>\n",
       "      <td>0</td>\n",
       "      <td>0</td>\n",
       "      <td>0</td>\n",
       "      <td>0</td>\n",
       "      <td>0</td>\n",
       "      <td>0</td>\n",
       "      <td>0</td>\n",
       "    </tr>\n",
       "    <tr>\n",
       "      <th>3</th>\n",
       "      <td>4</td>\n",
       "      <td>0</td>\n",
       "      <td>0</td>\n",
       "      <td>0</td>\n",
       "      <td>0</td>\n",
       "      <td>0</td>\n",
       "      <td>0</td>\n",
       "      <td>0</td>\n",
       "      <td>0</td>\n",
       "      <td>0</td>\n",
       "      <td>...</td>\n",
       "      <td>0</td>\n",
       "      <td>0</td>\n",
       "      <td>0</td>\n",
       "      <td>0</td>\n",
       "      <td>0</td>\n",
       "      <td>0</td>\n",
       "      <td>0</td>\n",
       "      <td>0</td>\n",
       "      <td>0</td>\n",
       "      <td>0</td>\n",
       "    </tr>\n",
       "    <tr>\n",
       "      <th>4</th>\n",
       "      <td>0</td>\n",
       "      <td>0</td>\n",
       "      <td>0</td>\n",
       "      <td>0</td>\n",
       "      <td>0</td>\n",
       "      <td>0</td>\n",
       "      <td>0</td>\n",
       "      <td>0</td>\n",
       "      <td>0</td>\n",
       "      <td>0</td>\n",
       "      <td>...</td>\n",
       "      <td>0</td>\n",
       "      <td>0</td>\n",
       "      <td>0</td>\n",
       "      <td>0</td>\n",
       "      <td>0</td>\n",
       "      <td>0</td>\n",
       "      <td>0</td>\n",
       "      <td>0</td>\n",
       "      <td>0</td>\n",
       "      <td>0</td>\n",
       "    </tr>\n",
       "  </tbody>\n",
       "</table>\n",
       "<p>5 rows × 785 columns</p>\n",
       "</div>"
      ],
      "text/plain": [
       "   label  pixel0  pixel1  pixel2  pixel3  pixel4  pixel5  pixel6  pixel7  \\\n",
       "0      1       0       0       0       0       0       0       0       0   \n",
       "1      0       0       0       0       0       0       0       0       0   \n",
       "2      1       0       0       0       0       0       0       0       0   \n",
       "3      4       0       0       0       0       0       0       0       0   \n",
       "4      0       0       0       0       0       0       0       0       0   \n",
       "\n",
       "   pixel8  ...  pixel774  pixel775  pixel776  pixel777  pixel778  pixel779  \\\n",
       "0       0  ...         0         0         0         0         0         0   \n",
       "1       0  ...         0         0         0         0         0         0   \n",
       "2       0  ...         0         0         0         0         0         0   \n",
       "3       0  ...         0         0         0         0         0         0   \n",
       "4       0  ...         0         0         0         0         0         0   \n",
       "\n",
       "   pixel780  pixel781  pixel782  pixel783  \n",
       "0         0         0         0         0  \n",
       "1         0         0         0         0  \n",
       "2         0         0         0         0  \n",
       "3         0         0         0         0  \n",
       "4         0         0         0         0  \n",
       "\n",
       "[5 rows x 785 columns]"
      ]
     },
     "execution_count": 4,
     "metadata": {},
     "output_type": "execute_result"
    }
   ],
   "source": [
    "data.head()"
   ]
  },
  {
   "cell_type": "code",
   "execution_count": 5,
   "id": "b6e4224e",
   "metadata": {
    "ExecuteTime": {
     "end_time": "2023-02-14T05:53:58.370072Z",
     "start_time": "2023-02-14T05:53:58.355112Z"
    }
   },
   "outputs": [
    {
     "data": {
      "text/plain": [
       "(42000, 785)"
      ]
     },
     "execution_count": 5,
     "metadata": {},
     "output_type": "execute_result"
    }
   ],
   "source": [
    "data.shape"
   ]
  },
  {
   "cell_type": "code",
   "execution_count": 6,
   "id": "d63a04cb",
   "metadata": {
    "ExecuteTime": {
     "end_time": "2023-02-14T05:54:50.814901Z",
     "start_time": "2023-02-14T05:54:50.389908Z"
    }
   },
   "outputs": [],
   "source": [
    "# 데이터 시각화\n",
    "import matplotlib.pyplot as plt"
   ]
  },
  {
   "cell_type": "code",
   "execution_count": 8,
   "id": "5e65a83c",
   "metadata": {
    "ExecuteTime": {
     "end_time": "2023-02-14T05:56:46.060709Z",
     "start_time": "2023-02-14T05:56:46.053727Z"
    }
   },
   "outputs": [
    {
     "data": {
      "text/plain": [
       "(784,)"
      ]
     },
     "execution_count": 8,
     "metadata": {},
     "output_type": "execute_result"
    }
   ],
   "source": [
    "pic0=data.iloc[0,1:]\n",
    "pic0.shape"
   ]
  },
  {
   "cell_type": "code",
   "execution_count": 9,
   "id": "1a8def67",
   "metadata": {
    "ExecuteTime": {
     "end_time": "2023-02-14T05:57:33.941685Z",
     "start_time": "2023-02-14T05:57:33.933681Z"
    }
   },
   "outputs": [],
   "source": [
    "pic0_reshape=pic0.values.reshape(28,28)"
   ]
  },
  {
   "cell_type": "code",
   "execution_count": 10,
   "id": "3e28cf91",
   "metadata": {
    "ExecuteTime": {
     "end_time": "2023-02-14T05:58:17.866730Z",
     "start_time": "2023-02-14T05:58:17.732596Z"
    }
   },
   "outputs": [
    {
     "data": {
      "text/plain": [
       "<matplotlib.image.AxesImage at 0x29abfbc5670>"
      ]
     },
     "execution_count": 10,
     "metadata": {},
     "output_type": "execute_result"
    },
    {
     "data": {
      "image/png": "[encoded data removed]",
      "text/plain": [
       "<Figure size 640x480 with 1 Axes>"
      ]
     },
     "metadata": {},
     "output_type": "display_data"
    }
   ],
   "source": [
    "plt.imshow(pic0_reshape, cmap='gray')"
   ]
  },
  {
   "cell_type": "code",
   "execution_count": 11,
   "id": "dc14dc9a",
   "metadata": {
    "ExecuteTime": {
     "end_time": "2023-02-14T06:15:28.207609Z",
     "start_time": "2023-02-14T06:15:28.109168Z"
    }
   },
   "outputs": [
    {
     "data": {
      "text/plain": [
       "(array([700.,   2.,   2.,  14.,   2.,   1.,   4.,   8.,   9.,  42.]),\n",
       " array([  0. ,  25.5,  51. ,  76.5, 102. , 127.5, 153. , 178.5, 204. ,\n",
       "        229.5, 255. ]),\n",
       " <BarContainer object of 10 artists>)"
      ]
     },
     "execution_count": 11,
     "metadata": {},
     "output_type": "execute_result"
    },
    {
     "data": {
      "image/png": "[encoded data removed]",
      "text/plain": [
       "<Figure size 640x480 with 1 Axes>"
      ]
     },
     "metadata": {},
     "output_type": "display_data"
    }
   ],
   "source": [
    "plt.hist(pic0)"
   ]
  },
  {
   "cell_type": "code",
   "execution_count": 15,
   "id": "7d3a6c4b",
   "metadata": {
    "ExecuteTime": {
     "end_time": "2023-02-14T06:18:01.354724Z",
     "start_time": "2023-02-14T06:18:01.348740Z"
    }
   },
   "outputs": [],
   "source": [
    "# 학습을 위한 데이터 분리\n",
    "X=data.iloc[:,1:]\n",
    "y=data.iloc[:,0]"
   ]
  },
  {
   "cell_type": "code",
   "execution_count": 16,
   "id": "de578133",
   "metadata": {
    "ExecuteTime": {
     "end_time": "2023-02-14T06:19:00.317905Z",
     "start_time": "2023-02-14T06:19:00.299953Z"
    }
   },
   "outputs": [
    {
     "data": {
      "text/plain": [
       "(42000, 784)"
      ]
     },
     "execution_count": 16,
     "metadata": {},
     "output_type": "execute_result"
    }
   ],
   "source": [
    "X.shape"
   ]
  },
  {
   "cell_type": "code",
   "execution_count": 17,
   "id": "bdce4223",
   "metadata": {
    "ExecuteTime": {
     "end_time": "2023-02-14T06:19:07.339955Z",
     "start_time": "2023-02-14T06:19:07.332973Z"
    }
   },
   "outputs": [
    {
     "data": {
      "text/plain": [
       "(42000,)"
      ]
     },
     "execution_count": 17,
     "metadata": {},
     "output_type": "execute_result"
    }
   ],
   "source": [
    "y.shape"
   ]
  },
  {
   "cell_type": "code",
   "execution_count": 18,
   "id": "546d5806",
   "metadata": {
    "ExecuteTime": {
     "end_time": "2023-02-14T06:19:24.604773Z",
     "start_time": "2023-02-14T06:19:24.588816Z"
    }
   },
   "outputs": [],
   "source": [
    "from sklearn.model_selection import train_test_split"
   ]
  },
  {
   "cell_type": "code",
   "execution_count": 19,
   "id": "7861fbeb",
   "metadata": {
    "ExecuteTime": {
     "end_time": "2023-02-14T06:21:14.808333Z",
     "start_time": "2023-02-14T06:21:14.572798Z"
    }
   },
   "outputs": [],
   "source": [
    "# 8: 2 비율로 분리\n",
    "X_train, X_test, y_train, y_test = train_test_split(X,y,test_size=0.2,random_state=511)"
   ]
  },
  {
   "cell_type": "code",
   "execution_count": 20,
   "id": "557d0e42",
   "metadata": {
    "ExecuteTime": {
     "end_time": "2023-02-14T06:22:03.318856Z",
     "start_time": "2023-02-14T06:22:03.307884Z"
    }
   },
   "outputs": [],
   "source": [
    " # 모델링(학습 및 평가) 분류모델 LogisticRegression\n",
    "from sklearn.linear_model import  LogisticRegression"
   ]
  },
  {
   "cell_type": "code",
   "execution_count": 21,
   "id": "b9948745",
   "metadata": {
    "ExecuteTime": {
     "end_time": "2023-02-14T06:22:49.932274Z",
     "start_time": "2023-02-14T06:22:49.924325Z"
    }
   },
   "outputs": [],
   "source": [
    "model = LogisticRegression()"
   ]
  },
  {
   "cell_type": "code",
   "execution_count": 24,
   "id": "70a13e62",
   "metadata": {
    "ExecuteTime": {
     "end_time": "2023-02-14T06:24:16.856065Z",
     "start_time": "2023-02-14T06:24:16.845095Z"
    }
   },
   "outputs": [],
   "source": [
    "import warnings\n",
    "warnings.filterwarnings('ignore')"
   ]
  },
  {
   "cell_type": "code",
   "execution_count": 25,
   "id": "e1f37234",
   "metadata": {
    "ExecuteTime": {
     "end_time": "2023-02-14T06:24:25.661580Z",
     "start_time": "2023-02-14T06:24:20.362750Z"
    }
   },
   "outputs": [
    {
     "data": {
      "text/plain": [
       "LogisticRegression()"
      ]
     },
     "execution_count": 25,
     "metadata": {},
     "output_type": "execute_result"
    }
   ],
   "source": [
    "model.fit(X_train, y_train)"
   ]
  },
  {
   "cell_type": "code",
   "execution_count": 26,
   "id": "5b5ca127",
   "metadata": {
    "ExecuteTime": {
     "end_time": "2023-02-14T06:24:50.288497Z",
     "start_time": "2023-02-14T06:24:50.244616Z"
    }
   },
   "outputs": [
    {
     "data": {
      "text/plain": [
       "0.9176190476190477"
      ]
     },
     "execution_count": 26,
     "metadata": {},
     "output_type": "execute_result"
    }
   ],
   "source": [
    "model.score(X_test,y_test)"
   ]
  },
  {
   "cell_type": "markdown",
   "id": "77aa4553",
   "metadata": {},
   "source": [
    "### 데이터 스케일링\n",
    "- 사진의 픽셀정보는 0~255로 최대/최소\n",
    "- min max scaler 를 사용해서 0~1 사이 값으로 모든 픽셀을 조정\n",
    "- 스케일링 효과 : 학습(연산)속도 개선, 거리기반 모델들의 잘못된 판단을 개선"
   ]
  },
  {
   "cell_type": "code",
   "execution_count": 27,
   "id": "fd23b051",
   "metadata": {
    "ExecuteTime": {
     "end_time": "2023-02-14T06:28:18.365492Z",
     "start_time": "2023-02-14T06:28:18.355517Z"
    }
   },
   "outputs": [],
   "source": [
    "from sklearn.preprocessing import MinMaxScaler"
   ]
  },
  {
   "cell_type": "code",
   "execution_count": 29,
   "id": "bb3b8182",
   "metadata": {
    "ExecuteTime": {
     "end_time": "2023-02-14T06:29:20.892523Z",
     "start_time": "2023-02-14T06:29:20.883562Z"
    }
   },
   "outputs": [],
   "source": [
    "scaler = MinMaxScaler()"
   ]
  },
  {
   "cell_type": "code",
   "execution_count": 32,
   "id": "efce9d7c",
   "metadata": {
    "ExecuteTime": {
     "end_time": "2023-02-14T06:29:59.914080Z",
     "start_time": "2023-02-14T06:29:59.749255Z"
    }
   },
   "outputs": [
    {
     "data": {
      "text/plain": [
       "MinMaxScaler()"
      ]
     },
     "execution_count": 32,
     "metadata": {},
     "output_type": "execute_result"
    }
   ],
   "source": [
    "scaler.fit(X_train) # 현재 데이터 분포의 최소/최대 값 확인 : 변환하는 기준 값 추출"
   ]
  },
  {
   "cell_type": "code",
   "execution_count": 34,
   "id": "3098e3ee",
   "metadata": {
    "ExecuteTime": {
     "end_time": "2023-02-14T06:31:46.054724Z",
     "start_time": "2023-02-14T06:31:45.818356Z"
    }
   },
   "outputs": [],
   "source": [
    "X_train_transformed = scaler.transform(X_train)\n",
    "X_test_transformed = scaler.transform(X_test)"
   ]
  },
  {
   "cell_type": "code",
   "execution_count": 35,
   "id": "d886f532",
   "metadata": {
    "ExecuteTime": {
     "end_time": "2023-02-14T06:33:22.633673Z",
     "start_time": "2023-02-14T06:33:22.619710Z"
    }
   },
   "outputs": [],
   "source": [
    "logi_model=LogisticRegression()"
   ]
  },
  {
   "cell_type": "code",
   "execution_count": 37,
   "id": "e8791c1f",
   "metadata": {
    "ExecuteTime": {
     "end_time": "2023-02-14T06:35:50.739256Z",
     "start_time": "2023-02-14T06:35:45.618920Z"
    }
   },
   "outputs": [
    {
     "data": {
      "text/plain": [
       "LogisticRegression()"
      ]
     },
     "execution_count": 37,
     "metadata": {},
     "output_type": "execute_result"
    }
   ],
   "source": [
    "logi_model.fit(X_train_transformed,y_train)"
   ]
  },
  {
   "cell_type": "code",
   "execution_count": 38,
   "id": "4b55e756",
   "metadata": {
    "ExecuteTime": {
     "end_time": "2023-02-14T06:35:50.769147Z",
     "start_time": "2023-02-14T06:35:50.741222Z"
    }
   },
   "outputs": [
    {
     "data": {
      "text/plain": [
       "0.919047619047619"
      ]
     },
     "execution_count": 38,
     "metadata": {},
     "output_type": "execute_result"
    }
   ],
   "source": [
    "logi_model.score(X_test_transformed,y_test)"
   ]
  },
  {
   "cell_type": "code",
   "execution_count": 40,
   "id": "bf7cda25",
   "metadata": {
    "ExecuteTime": {
     "end_time": "2023-02-14T06:39:14.124158Z",
     "start_time": "2023-02-14T06:39:14.116180Z"
    }
   },
   "outputs": [],
   "source": [
    "# 서포트 벡터 머신\n",
    "from sklearn.svm import LinearSVC # SVM =SVC"
   ]
  },
  {
   "cell_type": "code",
   "execution_count": 41,
   "id": "1f0a0019",
   "metadata": {
    "ExecuteTime": {
     "end_time": "2023-02-14T06:39:42.885822Z",
     "start_time": "2023-02-14T06:39:42.876847Z"
    }
   },
   "outputs": [],
   "source": [
    "# C 값이 클수록 하드마진(오류 허용 안함) - 과대적합 위험\n",
    "# C 값이 작을수록 하드마진(오류 허용함) - 과소적합 위험\n",
    "svc_model = LinearSVC()"
   ]
  },
  {
   "cell_type": "code",
   "execution_count": 42,
   "id": "f1608dab",
   "metadata": {
    "ExecuteTime": {
     "end_time": "2023-02-14T06:44:35.935080Z",
     "start_time": "2023-02-14T06:43:55.915046Z"
    }
   },
   "outputs": [
    {
     "data": {
      "text/plain": [
       "LinearSVC()"
      ]
     },
     "execution_count": 42,
     "metadata": {},
     "output_type": "execute_result"
    }
   ],
   "source": [
    "svc_model.fit(X_train,y_train)"
   ]
  },
  {
   "cell_type": "code",
   "execution_count": 43,
   "id": "59d96c33",
   "metadata": {
    "ExecuteTime": {
     "end_time": "2023-02-14T06:48:02.862671Z",
     "start_time": "2023-02-14T06:48:02.803829Z"
    }
   },
   "outputs": [
    {
     "data": {
      "text/plain": [
       "0.8480952380952381"
      ]
     },
     "execution_count": 43,
     "metadata": {},
     "output_type": "execute_result"
    }
   ],
   "source": [
    "svc_model.score(X_test,y_test)"
   ]
  },
  {
   "cell_type": "code",
   "execution_count": 44,
   "id": "c5bc93b0",
   "metadata": {
    "ExecuteTime": {
     "end_time": "2023-02-14T06:49:43.978468Z",
     "start_time": "2023-02-14T06:49:20.715648Z"
    }
   },
   "outputs": [
    {
     "data": {
      "text/plain": [
       "LinearSVC()"
      ]
     },
     "execution_count": 44,
     "metadata": {},
     "output_type": "execute_result"
    }
   ],
   "source": [
    "svc_model.fit(X_train_transformed,y_train)"
   ]
  },
  {
   "cell_type": "code",
   "execution_count": 46,
   "id": "ae92cea2",
   "metadata": {
    "ExecuteTime": {
     "end_time": "2023-02-14T06:51:29.872528Z",
     "start_time": "2023-02-14T06:51:29.843605Z"
    }
   },
   "outputs": [
    {
     "data": {
      "text/plain": [
       "0.9136904761904762"
      ]
     },
     "execution_count": 46,
     "metadata": {},
     "output_type": "execute_result"
    }
   ],
   "source": [
    "svc_model.score(X_test_transformed,y_test)"
   ]
  },
  {
   "cell_type": "markdown",
   "id": "2da82894",
   "metadata": {},
   "source": [
    "### 평가지표\n",
    "- 회귀 : 오차를 기반으로 하는 평가지표를 사용(MSE, RMSE, MAPE, R2-score)\n",
    "- 분류 : 맞춘 개수를 기반으로 하는 평가지표를 사용\n",
    "    - Accuracy(정확도) : 전체 데이터 중에 정확히 맞춘 비율\n",
    "    - Recall(재현율) : 실제 정답중에서 모델이 정확히 맟춘 비율\n",
    "    - Precision(정밀도): 모델 예측 정답중에서 정확히 맞춘 비율\n",
    "    - F-1 score : 정밀도와 재현율의 조화평균\n",
    "- from sklearn.metrics import\n",
    "    - accuracy_score\n",
    "    - precision_score\n",
    "    - recall_score\n",
    "    - f1_score"
   ]
  },
  {
   "cell_type": "code",
   "execution_count": 47,
   "id": "f607be99",
   "metadata": {
    "ExecuteTime": {
     "end_time": "2023-02-14T08:19:41.494473Z",
     "start_time": "2023-02-14T08:19:41.479513Z"
    }
   },
   "outputs": [],
   "source": [
    "from sklearn.metrics import precision_score"
   ]
  },
  {
   "cell_type": "code",
   "execution_count": null,
   "id": "f5f57bb5",
   "metadata": {},
   "outputs": [],
   "source": []
  },
  {
   "cell_type": "code",
   "execution_count": null,
   "id": "a594e40f",
   "metadata": {},
   "outputs": [],
   "source": []
  },
  {
   "cell_type": "code",
   "execution_count": null,
   "id": "b558bb46",
   "metadata": {},
   "outputs": [],
   "source": []
  },
  {
   "cell_type": "code",
   "execution_count": null,
   "id": "92c3a52f",
   "metadata": {},
   "outputs": [],
   "source": []
  },
  {
   "cell_type": "code",
   "execution_count": null,
   "id": "dabddede",
   "metadata": {},
   "outputs": [],
   "source": []
  },
  {
   "cell_type": "code",
   "execution_count": null,
   "id": "c543c48b",
   "metadata": {},
   "outputs": [],
   "source": []
  },
  {
   "cell_type": "code",
   "execution_count": null,
   "id": "cb2d1fbb",
   "metadata": {},
   "outputs": [],
   "source": []
  },
  {
   "cell_type": "code",
   "execution_count": null,
   "id": "300dd92a",
   "metadata": {},
   "outputs": [],
   "source": []
  },
  {
   "cell_type": "code",
   "execution_count": null,
   "id": "87a2b71d",
   "metadata": {},
   "outputs": [],
   "source": []
  },
  {
   "cell_type": "code",
   "execution_count": null,
   "id": "59716e67",
   "metadata": {},
   "outputs": [],
   "source": []
  },
  {
   "cell_type": "code",
   "execution_count": null,
   "id": "9f79d042",
   "metadata": {},
   "outputs": [],
   "source": []
  },
  {
   "cell_type": "code",
   "execution_count": null,
   "id": "2c196853",
   "metadata": {},
   "outputs": [],
   "source": []
  },
  {
   "cell_type": "code",
   "execution_count": null,
   "id": "61d5c8a5",
   "metadata": {},
   "outputs": [],
   "source": []
  },
  {
   "cell_type": "code",
   "execution_count": null,
   "id": "3d31a6c1",
   "metadata": {},
   "outputs": [],
   "source": []
  },
  {
   "cell_type": "code",
   "execution_count": null,
   "id": "b8ded83d",
   "metadata": {},
   "outputs": [],
   "source": []
  },
  {
   "cell_type": "code",
   "execution_count": null,
   "id": "682232ee",
   "metadata": {},
   "outputs": [],
   "source": []
  },
  {
   "cell_type": "code",
   "execution_count": null,
   "id": "0e6524f0",
   "metadata": {},
   "outputs": [],
   "source": []
  },
  {
   "cell_type": "code",
   "execution_count": null,
   "id": "995f304e",
   "metadata": {},
   "outputs": [],
   "source": []
  },
  {
   "cell_type": "code",
   "execution_count": null,
   "id": "dbe6adde",
   "metadata": {},
   "outputs": [],
   "source": []
  },
  {
   "cell_type": "code",
   "execution_count": null,
   "id": "fa19f88b",
   "metadata": {},
   "outputs": [],
   "source": []
  }
 ],
 "metadata": {
  "kernelspec": {
   "display_name": "Python 3 (ipykernel)",
   "language": "python",
   "name": "python3"
  },
  "language_info": {
   "codemirror_mode": {
    "name": "ipython",
    "version": 3
   },
   "file_extension": ".py",
   "mimetype": "text/x-python",
   "name": "python",
   "nbconvert_exporter": "python",
   "pygments_lexer": "ipython3",
   "version": "3.9.13"
  },
  "toc": {
   "base_numbering": 1,
   "nav_menu": {},
   "number_sections": true,
   "sideBar": true,
   "skip_h1_title": false,
   "title_cell": "Table of Contents",
   "title_sidebar": "Contents",
   "toc_cell": false,
   "toc_position": {},
   "toc_section_display": true,
   "toc_window_display": false
  }
 },
 "nbformat": 4,
 "nbformat_minor": 5
}
