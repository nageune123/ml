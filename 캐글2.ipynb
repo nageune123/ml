{
 "cells": [
  {
   "cell_type": "code",
   "execution_count": 13,
   "id": "977f53a8",
   "metadata": {
    "ExecuteTime": {
     "end_time": "2023-02-11T09:34:55.460517Z",
     "start_time": "2023-02-11T09:34:55.353263Z"
    }
   },
   "outputs": [],
   "source": [
    "import pandas as pd\n",
    "test=pd.read_csv(\"./data2/test.csv\",index_col=\"no\")\n",
    "train=pd.read_csv(\"./data2/train.csv\",index_col=\"no\")"
   ]
  },
  {
   "cell_type": "code",
   "execution_count": 14,
   "id": "a00004c4",
   "metadata": {
    "ExecuteTime": {
     "end_time": "2023-02-11T09:34:55.475448Z",
     "start_time": "2023-02-11T09:34:55.461486Z"
    }
   },
   "outputs": [
    {
     "data": {
      "text/plain": [
       "((29305, 15), (19537, 14))"
      ]
     },
     "execution_count": 14,
     "metadata": {},
     "output_type": "execute_result"
    }
   ],
   "source": [
    "train.shape,test.shape"
   ]
  },
  {
   "cell_type": "code",
   "execution_count": 15,
   "id": "b51d1449",
   "metadata": {
    "ExecuteTime": {
     "end_time": "2023-02-11T09:34:56.180215Z",
     "start_time": "2023-02-11T09:34:55.477444Z"
    }
   },
   "outputs": [
    {
     "data": {
      "text/plain": [
       "<AxesSubplot:xlabel='age', ylabel='count'>"
      ]
     },
     "execution_count": 15,
     "metadata": {},
     "output_type": "execute_result"
    },
    {
     "data": {
      "image/png": "[encoded data removed]",
      "text/plain": [
       "<Figure size 2000x500 with 1 Axes>"
      ]
     },
     "metadata": {},
     "output_type": "display_data"
    }
   ],
   "source": [
    "import matplotlib.pyplot as plt\n",
    "import seaborn as sns\n",
    "plt.figure(figsize=(20,5))\n",
    "sns.countplot(data = train,\n",
    "             x='age',\n",
    "             hue='income')"
   ]
  },
  {
   "cell_type": "code",
   "execution_count": 16,
   "id": "97562171",
   "metadata": {
    "ExecuteTime": {
     "end_time": "2023-02-11T09:34:56.210135Z",
     "start_time": "2023-02-11T09:34:56.182213Z"
    },
    "collapsed": true
   },
   "outputs": [
    {
     "data": {
      "text/html": [
       "<div>\n",
       "<style scoped>\n",
       "    .dataframe tbody tr th:only-of-type {\n",
       "        vertical-align: middle;\n",
       "    }\n",
       "\n",
       "    .dataframe tbody tr th {\n",
       "        vertical-align: top;\n",
       "    }\n",
       "\n",
       "    .dataframe thead th {\n",
       "        text-align: right;\n",
       "    }\n",
       "</style>\n",
       "<table border=\"1\" class=\"dataframe\">\n",
       "  <thead>\n",
       "    <tr style=\"text-align: right;\">\n",
       "      <th></th>\n",
       "      <th>age</th>\n",
       "      <th>workclass</th>\n",
       "      <th>fnlwgt</th>\n",
       "      <th>education</th>\n",
       "      <th>education-num</th>\n",
       "      <th>marital-status</th>\n",
       "      <th>occupation</th>\n",
       "      <th>relationship</th>\n",
       "      <th>race</th>\n",
       "      <th>sex</th>\n",
       "      <th>capital-gain</th>\n",
       "      <th>capital-loss</th>\n",
       "      <th>hours-per-week</th>\n",
       "      <th>native-country</th>\n",
       "      <th>income</th>\n",
       "    </tr>\n",
       "    <tr>\n",
       "      <th>no</th>\n",
       "      <th></th>\n",
       "      <th></th>\n",
       "      <th></th>\n",
       "      <th></th>\n",
       "      <th></th>\n",
       "      <th></th>\n",
       "      <th></th>\n",
       "      <th></th>\n",
       "      <th></th>\n",
       "      <th></th>\n",
       "      <th></th>\n",
       "      <th></th>\n",
       "      <th></th>\n",
       "      <th></th>\n",
       "      <th></th>\n",
       "    </tr>\n",
       "  </thead>\n",
       "  <tbody>\n",
       "    <tr>\n",
       "      <th>1</th>\n",
       "      <td>25</td>\n",
       "      <td>Private</td>\n",
       "      <td>219199</td>\n",
       "      <td>11th</td>\n",
       "      <td>7</td>\n",
       "      <td>Divorced</td>\n",
       "      <td>Machine-op-inspct</td>\n",
       "      <td>Not-in-family</td>\n",
       "      <td>White</td>\n",
       "      <td>Male</td>\n",
       "      <td>0</td>\n",
       "      <td>0</td>\n",
       "      <td>40</td>\n",
       "      <td>United-States</td>\n",
       "      <td>0</td>\n",
       "    </tr>\n",
       "    <tr>\n",
       "      <th>2</th>\n",
       "      <td>39</td>\n",
       "      <td>Private</td>\n",
       "      <td>52978</td>\n",
       "      <td>Some-college</td>\n",
       "      <td>10</td>\n",
       "      <td>Divorced</td>\n",
       "      <td>Other-service</td>\n",
       "      <td>Not-in-family</td>\n",
       "      <td>White</td>\n",
       "      <td>Female</td>\n",
       "      <td>0</td>\n",
       "      <td>1721</td>\n",
       "      <td>55</td>\n",
       "      <td>United-States</td>\n",
       "      <td>0</td>\n",
       "    </tr>\n",
       "    <tr>\n",
       "      <th>3</th>\n",
       "      <td>35</td>\n",
       "      <td>Private</td>\n",
       "      <td>196899</td>\n",
       "      <td>Bachelors</td>\n",
       "      <td>13</td>\n",
       "      <td>Never-married</td>\n",
       "      <td>Handlers-cleaners</td>\n",
       "      <td>Not-in-family</td>\n",
       "      <td>Asian-Pac-Islander</td>\n",
       "      <td>Female</td>\n",
       "      <td>0</td>\n",
       "      <td>0</td>\n",
       "      <td>50</td>\n",
       "      <td>Haiti</td>\n",
       "      <td>0</td>\n",
       "    </tr>\n",
       "    <tr>\n",
       "      <th>4</th>\n",
       "      <td>64</td>\n",
       "      <td>Private</td>\n",
       "      <td>135527</td>\n",
       "      <td>Assoc-voc</td>\n",
       "      <td>11</td>\n",
       "      <td>Divorced</td>\n",
       "      <td>Tech-support</td>\n",
       "      <td>Not-in-family</td>\n",
       "      <td>White</td>\n",
       "      <td>Female</td>\n",
       "      <td>0</td>\n",
       "      <td>0</td>\n",
       "      <td>40</td>\n",
       "      <td>United-States</td>\n",
       "      <td>0</td>\n",
       "    </tr>\n",
       "    <tr>\n",
       "      <th>5</th>\n",
       "      <td>24</td>\n",
       "      <td>Private</td>\n",
       "      <td>60783</td>\n",
       "      <td>Some-college</td>\n",
       "      <td>10</td>\n",
       "      <td>Married-civ-spouse</td>\n",
       "      <td>Transport-moving</td>\n",
       "      <td>Husband</td>\n",
       "      <td>White</td>\n",
       "      <td>Male</td>\n",
       "      <td>0</td>\n",
       "      <td>0</td>\n",
       "      <td>70</td>\n",
       "      <td>United-States</td>\n",
       "      <td>1</td>\n",
       "    </tr>\n",
       "    <tr>\n",
       "      <th>...</th>\n",
       "      <td>...</td>\n",
       "      <td>...</td>\n",
       "      <td>...</td>\n",
       "      <td>...</td>\n",
       "      <td>...</td>\n",
       "      <td>...</td>\n",
       "      <td>...</td>\n",
       "      <td>...</td>\n",
       "      <td>...</td>\n",
       "      <td>...</td>\n",
       "      <td>...</td>\n",
       "      <td>...</td>\n",
       "      <td>...</td>\n",
       "      <td>...</td>\n",
       "      <td>...</td>\n",
       "    </tr>\n",
       "    <tr>\n",
       "      <th>29301</th>\n",
       "      <td>20</td>\n",
       "      <td>Private</td>\n",
       "      <td>100605</td>\n",
       "      <td>HS-grad</td>\n",
       "      <td>9</td>\n",
       "      <td>Never-married</td>\n",
       "      <td>Sales</td>\n",
       "      <td>Own-child</td>\n",
       "      <td>Other</td>\n",
       "      <td>Male</td>\n",
       "      <td>0</td>\n",
       "      <td>0</td>\n",
       "      <td>40</td>\n",
       "      <td>Puerto-Rico</td>\n",
       "      <td>0</td>\n",
       "    </tr>\n",
       "    <tr>\n",
       "      <th>29302</th>\n",
       "      <td>21</td>\n",
       "      <td>Private</td>\n",
       "      <td>372636</td>\n",
       "      <td>HS-grad</td>\n",
       "      <td>9</td>\n",
       "      <td>Never-married</td>\n",
       "      <td>Sales</td>\n",
       "      <td>Own-child</td>\n",
       "      <td>Black</td>\n",
       "      <td>Male</td>\n",
       "      <td>0</td>\n",
       "      <td>0</td>\n",
       "      <td>40</td>\n",
       "      <td>United-States</td>\n",
       "      <td>0</td>\n",
       "    </tr>\n",
       "    <tr>\n",
       "      <th>29303</th>\n",
       "      <td>18</td>\n",
       "      <td>Self-emp-not-inc</td>\n",
       "      <td>258474</td>\n",
       "      <td>10th</td>\n",
       "      <td>6</td>\n",
       "      <td>Never-married</td>\n",
       "      <td>Farming-fishing</td>\n",
       "      <td>Own-child</td>\n",
       "      <td>White</td>\n",
       "      <td>Male</td>\n",
       "      <td>0</td>\n",
       "      <td>0</td>\n",
       "      <td>40</td>\n",
       "      <td>United-States</td>\n",
       "      <td>0</td>\n",
       "    </tr>\n",
       "    <tr>\n",
       "      <th>29304</th>\n",
       "      <td>33</td>\n",
       "      <td>Private</td>\n",
       "      <td>157446</td>\n",
       "      <td>11th</td>\n",
       "      <td>7</td>\n",
       "      <td>Never-married</td>\n",
       "      <td>Craft-repair</td>\n",
       "      <td>Not-in-family</td>\n",
       "      <td>White</td>\n",
       "      <td>Male</td>\n",
       "      <td>0</td>\n",
       "      <td>0</td>\n",
       "      <td>65</td>\n",
       "      <td>United-States</td>\n",
       "      <td>0</td>\n",
       "    </tr>\n",
       "    <tr>\n",
       "      <th>29305</th>\n",
       "      <td>65</td>\n",
       "      <td>?</td>\n",
       "      <td>94809</td>\n",
       "      <td>HS-grad</td>\n",
       "      <td>9</td>\n",
       "      <td>Widowed</td>\n",
       "      <td>?</td>\n",
       "      <td>Not-in-family</td>\n",
       "      <td>White</td>\n",
       "      <td>Female</td>\n",
       "      <td>0</td>\n",
       "      <td>0</td>\n",
       "      <td>40</td>\n",
       "      <td>United-States</td>\n",
       "      <td>0</td>\n",
       "    </tr>\n",
       "  </tbody>\n",
       "</table>\n",
       "<p>29305 rows × 15 columns</p>\n",
       "</div>"
      ],
      "text/plain": [
       "       age          workclass  fnlwgt      education  education-num  \\\n",
       "no                                                                    \n",
       "1       25            Private  219199           11th              7   \n",
       "2       39            Private   52978   Some-college             10   \n",
       "3       35            Private  196899      Bachelors             13   \n",
       "4       64            Private  135527      Assoc-voc             11   \n",
       "5       24            Private   60783   Some-college             10   \n",
       "...    ...                ...     ...            ...            ...   \n",
       "29301   20            Private  100605        HS-grad              9   \n",
       "29302   21            Private  372636        HS-grad              9   \n",
       "29303   18   Self-emp-not-inc  258474           10th              6   \n",
       "29304   33            Private  157446           11th              7   \n",
       "29305   65                  ?   94809        HS-grad              9   \n",
       "\n",
       "            marital-status          occupation    relationship  \\\n",
       "no                                                               \n",
       "1                 Divorced   Machine-op-inspct   Not-in-family   \n",
       "2                 Divorced       Other-service   Not-in-family   \n",
       "3            Never-married   Handlers-cleaners   Not-in-family   \n",
       "4                 Divorced        Tech-support   Not-in-family   \n",
       "5       Married-civ-spouse    Transport-moving         Husband   \n",
       "...                    ...                 ...             ...   \n",
       "29301        Never-married               Sales       Own-child   \n",
       "29302        Never-married               Sales       Own-child   \n",
       "29303        Never-married     Farming-fishing       Own-child   \n",
       "29304        Never-married        Craft-repair   Not-in-family   \n",
       "29305              Widowed                   ?   Not-in-family   \n",
       "\n",
       "                      race      sex  capital-gain  capital-loss  \\\n",
       "no                                                                \n",
       "1                    White     Male             0             0   \n",
       "2                    White   Female             0          1721   \n",
       "3       Asian-Pac-Islander   Female             0             0   \n",
       "4                    White   Female             0             0   \n",
       "5                    White     Male             0             0   \n",
       "...                    ...      ...           ...           ...   \n",
       "29301                Other     Male             0             0   \n",
       "29302                Black     Male             0             0   \n",
       "29303                White     Male             0             0   \n",
       "29304                White     Male             0             0   \n",
       "29305                White   Female             0             0   \n",
       "\n",
       "       hours-per-week  native-country  income  \n",
       "no                                             \n",
       "1                  40   United-States       0  \n",
       "2                  55   United-States       0  \n",
       "3                  50           Haiti       0  \n",
       "4                  40   United-States       0  \n",
       "5                  70   United-States       1  \n",
       "...               ...             ...     ...  \n",
       "29301              40     Puerto-Rico       0  \n",
       "29302              40   United-States       0  \n",
       "29303              40   United-States       0  \n",
       "29304              65   United-States       0  \n",
       "29305              40   United-States       0  \n",
       "\n",
       "[29305 rows x 15 columns]"
      ]
     },
     "execution_count": 16,
     "metadata": {},
     "output_type": "execute_result"
    }
   ],
   "source": [
    "train"
   ]
  },
  {
   "cell_type": "code",
   "execution_count": 17,
   "id": "74c64272",
   "metadata": {
    "ExecuteTime": {
     "end_time": "2023-02-11T09:34:57.424936Z",
     "start_time": "2023-02-11T09:34:56.211132Z"
    },
    "collapsed": true
   },
   "outputs": [
    {
     "data": {
      "text/plain": [
       "<AxesSubplot:xlabel='capital-gain', ylabel='count'>"
      ]
     },
     "execution_count": 17,
     "metadata": {},
     "output_type": "execute_result"
    },
    {
     "data": {
      "image/png": "[encoded data removed]",
      "text/plain": [
       "<Figure size 2000x500 with 1 Axes>"
      ]
     },
     "metadata": {},
     "output_type": "display_data"
    }
   ],
   "source": [
    "plt.figure(figsize=(20,5))\n",
    "sns.countplot(data = train,\n",
    "             x='capital-gain',\n",
    "             hue='income')"
   ]
  },
  {
   "cell_type": "code",
   "execution_count": 18,
   "id": "e13695cd",
   "metadata": {
    "ExecuteTime": {
     "end_time": "2023-02-11T09:34:58.698693Z",
     "start_time": "2023-02-11T09:34:57.426931Z"
    }
   },
   "outputs": [
    {
     "data": {
      "text/plain": [
       "<AxesSubplot:xlabel='capital-gain', ylabel='count'>"
      ]
     },
     "execution_count": 18,
     "metadata": {},
     "output_type": "execute_result"
    },
    {
     "data": {
      "image/png": "[encoded data removed]",
      "text/plain": [
       "<Figure size 10000x500 with 1 Axes>"
      ]
     },
     "metadata": {},
     "output_type": "display_data"
    }
   ],
   "source": [
    "plt.figure(figsize=(100,5))\n",
    "sns.countplot(data = train,\n",
    "             x='capital-gain',\n",
    "             hue='income')"
   ]
  },
  {
   "cell_type": "code",
   "execution_count": 19,
   "id": "6e93888d",
   "metadata": {
    "ExecuteTime": {
     "end_time": "2023-02-11T09:34:58.713654Z",
     "start_time": "2023-02-11T09:34:58.699690Z"
    }
   },
   "outputs": [],
   "source": [
    "train.drop(['fnlwgt'],axis=1, inplace=True)\n",
    "test.drop(['fnlwgt',],axis=1, inplace=True)"
   ]
  },
  {
   "cell_type": "code",
   "execution_count": 54,
   "id": "dcd4766f",
   "metadata": {
    "ExecuteTime": {
     "end_time": "2023-02-13T05:31:28.162756Z",
     "start_time": "2023-02-13T05:31:28.141812Z"
    }
   },
   "outputs": [
    {
     "data": {
      "text/plain": [
       "array(['Private', 'Self-emp-not-inc', 'Local-gov', '?', 'State-gov',\n",
       "       'Self-emp-inc', 'Federal-gov', 'Without-pay', 'Never-worked'],\n",
       "      dtype=object)"
      ]
     },
     "execution_count": 54,
     "metadata": {},
     "output_type": "execute_result"
    }
   ],
   "source": [
    "train['workclass'].unique()"
   ]
  },
  {
   "cell_type": "code",
   "execution_count": 55,
   "id": "fb0b8ce4",
   "metadata": {
    "ExecuteTime": {
     "end_time": "2023-02-13T05:34:40.983580Z",
     "start_time": "2023-02-13T05:34:40.941691Z"
    }
   },
   "outputs": [
    {
     "name": "stderr",
     "output_type": "stream",
     "text": [
      "C:\\Users\\smhrd\\AppData\\Local\\Temp\\ipykernel_7876\\1026032632.py:1: SettingWithCopyWarning: \n",
      "A value is trying to be set on a copy of a slice from a DataFrame\n",
      "\n",
      "See the caveats in the documentation: https://pandas.pydata.org/pandas-docs/stable/user_guide/indexing.html#returning-a-view-versus-a-copy\n",
      "  train['workclass'][train['workclass']=='?']='unemployed'\n",
      "C:\\Users\\smhrd\\AppData\\Local\\Temp\\ipykernel_7876\\1026032632.py:2: SettingWithCopyWarning: \n",
      "A value is trying to be set on a copy of a slice from a DataFrame\n",
      "\n",
      "See the caveats in the documentation: https://pandas.pydata.org/pandas-docs/stable/user_guide/indexing.html#returning-a-view-versus-a-copy\n",
      "  test['workclass'][test['workclass']=='?']='unemployed'\n"
     ]
    }
   ],
   "source": [
    "train['workclass'][train['workclass']=='?']='unemployed'\n",
    "test['workclass'][test['workclass']=='?']='unemployed'"
   ]
  },
  {
   "cell_type": "code",
   "execution_count": 58,
   "id": "9cd7b15f",
   "metadata": {
    "ExecuteTime": {
     "end_time": "2023-02-13T05:37:23.164198Z",
     "start_time": "2023-02-13T05:37:23.142257Z"
    },
    "collapsed": true
   },
   "outputs": [
    {
     "name": "stderr",
     "output_type": "stream",
     "text": [
      "C:\\Users\\smhrd\\AppData\\Local\\Temp\\ipykernel_7876\\2509780435.py:1: SettingWithCopyWarning: \n",
      "A value is trying to be set on a copy of a slice from a DataFrame\n",
      "\n",
      "See the caveats in the documentation: https://pandas.pydata.org/pandas-docs/stable/user_guide/indexing.html#returning-a-view-versus-a-copy\n",
      "  train['occupation'][train['occupation']=='?']='nothing'\n",
      "C:\\Users\\smhrd\\AppData\\Local\\Temp\\ipykernel_7876\\2509780435.py:2: SettingWithCopyWarning: \n",
      "A value is trying to be set on a copy of a slice from a DataFrame\n",
      "\n",
      "See the caveats in the documentation: https://pandas.pydata.org/pandas-docs/stable/user_guide/indexing.html#returning-a-view-versus-a-copy\n",
      "  test['occupation'][test['occupation']=='?']='nothing'\n"
     ]
    }
   ],
   "source": [
    "train['occupation'][train['occupation']=='?']='nothing'\n",
    "test['occupation'][test['occupation']=='?']='nothing'"
   ]
  },
  {
   "cell_type": "code",
   "execution_count": 62,
   "id": "37ce231b",
   "metadata": {
    "ExecuteTime": {
     "end_time": "2023-02-13T05:39:41.142234Z",
     "start_time": "2023-02-13T05:39:41.126337Z"
    },
    "scrolled": true
   },
   "outputs": [
    {
     "data": {
      "text/html": [
       "<div>\n",
       "<style scoped>\n",
       "    .dataframe tbody tr th:only-of-type {\n",
       "        vertical-align: middle;\n",
       "    }\n",
       "\n",
       "    .dataframe tbody tr th {\n",
       "        vertical-align: top;\n",
       "    }\n",
       "\n",
       "    .dataframe thead th {\n",
       "        text-align: right;\n",
       "    }\n",
       "</style>\n",
       "<table border=\"1\" class=\"dataframe\">\n",
       "  <thead>\n",
       "    <tr style=\"text-align: right;\">\n",
       "      <th></th>\n",
       "      <th>age</th>\n",
       "      <th>workclass</th>\n",
       "      <th>education</th>\n",
       "      <th>education-num</th>\n",
       "      <th>marital-status</th>\n",
       "      <th>occupation</th>\n",
       "      <th>relationship</th>\n",
       "      <th>sex</th>\n",
       "      <th>capital-gain</th>\n",
       "      <th>capital-loss</th>\n",
       "      <th>native-country</th>\n",
       "      <th>income</th>\n",
       "      <th>hours-per-week-Group</th>\n",
       "    </tr>\n",
       "    <tr>\n",
       "      <th>no</th>\n",
       "      <th></th>\n",
       "      <th></th>\n",
       "      <th></th>\n",
       "      <th></th>\n",
       "      <th></th>\n",
       "      <th></th>\n",
       "      <th></th>\n",
       "      <th></th>\n",
       "      <th></th>\n",
       "      <th></th>\n",
       "      <th></th>\n",
       "      <th></th>\n",
       "      <th></th>\n",
       "    </tr>\n",
       "  </thead>\n",
       "  <tbody>\n",
       "  </tbody>\n",
       "</table>\n",
       "</div>"
      ],
      "text/plain": [
       "Empty DataFrame\n",
       "Columns: [age, workclass, education, education-num, marital-status, occupation, relationship, sex, capital-gain, capital-loss, native-country, income, hours-per-week-Group]\n",
       "Index: []"
      ]
     },
     "execution_count": 62,
     "metadata": {},
     "output_type": "execute_result"
    }
   ],
   "source": [
    "# 불리언 인덱싱\n",
    "train_1=train['native-country']=='?'\n",
    "train_data =train.loc[train_1]\n",
    "train_data"
   ]
  },
  {
   "cell_type": "code",
   "execution_count": 76,
   "id": "e50bba48",
   "metadata": {
    "ExecuteTime": {
     "end_time": "2023-02-13T05:46:35.801830Z",
     "start_time": "2023-02-13T05:46:35.782343Z"
    },
    "collapsed": true
   },
   "outputs": [
    {
     "ename": "TypeError",
     "evalue": "Horizontal orientation requires numeric `x` variable.",
     "output_type": "error",
     "traceback": [
      "\u001b[1;31m---------------------------------------------------------------------------\u001b[0m",
      "\u001b[1;31mTypeError\u001b[0m                                 Traceback (most recent call last)",
      "\u001b[1;32m~\\AppData\\Local\\Temp\\ipykernel_7876\\1607955923.py\u001b[0m in \u001b[0;36m<module>\u001b[1;34m\u001b[0m\n\u001b[1;32m----> 1\u001b[1;33m \u001b[0msns\u001b[0m\u001b[1;33m.\u001b[0m\u001b[0mviolinplot\u001b[0m\u001b[1;33m(\u001b[0m \u001b[0mdata\u001b[0m\u001b[1;33m=\u001b[0m\u001b[0mtrain\u001b[0m\u001b[1;33m,\u001b[0m\u001b[0mx\u001b[0m\u001b[1;33m=\u001b[0m\u001b[1;34m'relationship'\u001b[0m\u001b[1;33m,\u001b[0m\u001b[0mhue\u001b[0m\u001b[1;33m=\u001b[0m\u001b[1;34m'income'\u001b[0m\u001b[1;33m,\u001b[0m\u001b[0msplit\u001b[0m\u001b[1;33m=\u001b[0m\u001b[1;32mTrue\u001b[0m\u001b[1;33m)\u001b[0m\u001b[1;33m\u001b[0m\u001b[1;33m\u001b[0m\u001b[0m\n\u001b[0m",
      "\u001b[1;32m~\\anaconda3\\lib\\site-packages\\seaborn\\_decorators.py\u001b[0m in \u001b[0;36minner_f\u001b[1;34m(*args, **kwargs)\u001b[0m\n\u001b[0;32m     44\u001b[0m             )\n\u001b[0;32m     45\u001b[0m         \u001b[0mkwargs\u001b[0m\u001b[1;33m.\u001b[0m\u001b[0mupdate\u001b[0m\u001b[1;33m(\u001b[0m\u001b[1;33m{\u001b[0m\u001b[0mk\u001b[0m\u001b[1;33m:\u001b[0m \u001b[0marg\u001b[0m \u001b[1;32mfor\u001b[0m \u001b[0mk\u001b[0m\u001b[1;33m,\u001b[0m \u001b[0marg\u001b[0m \u001b[1;32min\u001b[0m \u001b[0mzip\u001b[0m\u001b[1;33m(\u001b[0m\u001b[0msig\u001b[0m\u001b[1;33m.\u001b[0m\u001b[0mparameters\u001b[0m\u001b[1;33m,\u001b[0m \u001b[0margs\u001b[0m\u001b[1;33m)\u001b[0m\u001b[1;33m}\u001b[0m\u001b[1;33m)\u001b[0m\u001b[1;33m\u001b[0m\u001b[1;33m\u001b[0m\u001b[0m\n\u001b[1;32m---> 46\u001b[1;33m         \u001b[1;32mreturn\u001b[0m \u001b[0mf\u001b[0m\u001b[1;33m(\u001b[0m\u001b[1;33m**\u001b[0m\u001b[0mkwargs\u001b[0m\u001b[1;33m)\u001b[0m\u001b[1;33m\u001b[0m\u001b[1;33m\u001b[0m\u001b[0m\n\u001b[0m\u001b[0;32m     47\u001b[0m     \u001b[1;32mreturn\u001b[0m \u001b[0minner_f\u001b[0m\u001b[1;33m\u001b[0m\u001b[1;33m\u001b[0m\u001b[0m\n\u001b[0;32m     48\u001b[0m \u001b[1;33m\u001b[0m\u001b[0m\n",
      "\u001b[1;32m~\\anaconda3\\lib\\site-packages\\seaborn\\categorical.py\u001b[0m in \u001b[0;36mviolinplot\u001b[1;34m(x, y, hue, data, order, hue_order, bw, cut, scale, scale_hue, gridsize, width, inner, split, dodge, orient, linewidth, color, palette, saturation, ax, **kwargs)\u001b[0m\n\u001b[0;32m   2398\u001b[0m ):\n\u001b[0;32m   2399\u001b[0m \u001b[1;33m\u001b[0m\u001b[0m\n\u001b[1;32m-> 2400\u001b[1;33m     plotter = _ViolinPlotter(x, y, hue, data, order, hue_order,\n\u001b[0m\u001b[0;32m   2401\u001b[0m                              \u001b[0mbw\u001b[0m\u001b[1;33m,\u001b[0m \u001b[0mcut\u001b[0m\u001b[1;33m,\u001b[0m \u001b[0mscale\u001b[0m\u001b[1;33m,\u001b[0m \u001b[0mscale_hue\u001b[0m\u001b[1;33m,\u001b[0m \u001b[0mgridsize\u001b[0m\u001b[1;33m,\u001b[0m\u001b[1;33m\u001b[0m\u001b[1;33m\u001b[0m\u001b[0m\n\u001b[0;32m   2402\u001b[0m                              \u001b[0mwidth\u001b[0m\u001b[1;33m,\u001b[0m \u001b[0minner\u001b[0m\u001b[1;33m,\u001b[0m \u001b[0msplit\u001b[0m\u001b[1;33m,\u001b[0m \u001b[0mdodge\u001b[0m\u001b[1;33m,\u001b[0m \u001b[0morient\u001b[0m\u001b[1;33m,\u001b[0m \u001b[0mlinewidth\u001b[0m\u001b[1;33m,\u001b[0m\u001b[1;33m\u001b[0m\u001b[1;33m\u001b[0m\u001b[0m\n",
      "\u001b[1;32m~\\anaconda3\\lib\\site-packages\\seaborn\\categorical.py\u001b[0m in \u001b[0;36m__init__\u001b[1;34m(self, x, y, hue, data, order, hue_order, bw, cut, scale, scale_hue, gridsize, width, inner, split, dodge, orient, linewidth, color, palette, saturation)\u001b[0m\n\u001b[0;32m    520\u001b[0m                  color, palette, saturation):\n\u001b[0;32m    521\u001b[0m \u001b[1;33m\u001b[0m\u001b[0m\n\u001b[1;32m--> 522\u001b[1;33m         \u001b[0mself\u001b[0m\u001b[1;33m.\u001b[0m\u001b[0mestablish_variables\u001b[0m\u001b[1;33m(\u001b[0m\u001b[0mx\u001b[0m\u001b[1;33m,\u001b[0m \u001b[0my\u001b[0m\u001b[1;33m,\u001b[0m \u001b[0mhue\u001b[0m\u001b[1;33m,\u001b[0m \u001b[0mdata\u001b[0m\u001b[1;33m,\u001b[0m \u001b[0morient\u001b[0m\u001b[1;33m,\u001b[0m \u001b[0morder\u001b[0m\u001b[1;33m,\u001b[0m \u001b[0mhue_order\u001b[0m\u001b[1;33m)\u001b[0m\u001b[1;33m\u001b[0m\u001b[1;33m\u001b[0m\u001b[0m\n\u001b[0m\u001b[0;32m    523\u001b[0m         \u001b[0mself\u001b[0m\u001b[1;33m.\u001b[0m\u001b[0mestablish_colors\u001b[0m\u001b[1;33m(\u001b[0m\u001b[0mcolor\u001b[0m\u001b[1;33m,\u001b[0m \u001b[0mpalette\u001b[0m\u001b[1;33m,\u001b[0m \u001b[0msaturation\u001b[0m\u001b[1;33m)\u001b[0m\u001b[1;33m\u001b[0m\u001b[1;33m\u001b[0m\u001b[0m\n\u001b[0;32m    524\u001b[0m         \u001b[0mself\u001b[0m\u001b[1;33m.\u001b[0m\u001b[0mestimate_densities\u001b[0m\u001b[1;33m(\u001b[0m\u001b[0mbw\u001b[0m\u001b[1;33m,\u001b[0m \u001b[0mcut\u001b[0m\u001b[1;33m,\u001b[0m \u001b[0mscale\u001b[0m\u001b[1;33m,\u001b[0m \u001b[0mscale_hue\u001b[0m\u001b[1;33m,\u001b[0m \u001b[0mgridsize\u001b[0m\u001b[1;33m)\u001b[0m\u001b[1;33m\u001b[0m\u001b[1;33m\u001b[0m\u001b[0m\n",
      "\u001b[1;32m~\\anaconda3\\lib\\site-packages\\seaborn\\categorical.py\u001b[0m in \u001b[0;36mestablish_variables\u001b[1;34m(self, x, y, hue, data, orient, order, hue_order, units)\u001b[0m\n\u001b[0;32m    154\u001b[0m \u001b[1;33m\u001b[0m\u001b[0m\n\u001b[0;32m    155\u001b[0m             \u001b[1;31m# Figure out the plotting orientation\u001b[0m\u001b[1;33m\u001b[0m\u001b[1;33m\u001b[0m\u001b[0m\n\u001b[1;32m--> 156\u001b[1;33m             orient = infer_orient(\n\u001b[0m\u001b[0;32m    157\u001b[0m                 \u001b[0mx\u001b[0m\u001b[1;33m,\u001b[0m \u001b[0my\u001b[0m\u001b[1;33m,\u001b[0m \u001b[0morient\u001b[0m\u001b[1;33m,\u001b[0m \u001b[0mrequire_numeric\u001b[0m\u001b[1;33m=\u001b[0m\u001b[0mself\u001b[0m\u001b[1;33m.\u001b[0m\u001b[0mrequire_numeric\u001b[0m\u001b[1;33m\u001b[0m\u001b[1;33m\u001b[0m\u001b[0m\n\u001b[0;32m    158\u001b[0m             )\n",
      "\u001b[1;32m~\\anaconda3\\lib\\site-packages\\seaborn\\_core.py\u001b[0m in \u001b[0;36minfer_orient\u001b[1;34m(x, y, orient, require_numeric)\u001b[0m\n\u001b[0;32m   1326\u001b[0m             \u001b[0mwarnings\u001b[0m\u001b[1;33m.\u001b[0m\u001b[0mwarn\u001b[0m\u001b[1;33m(\u001b[0m\u001b[0msingle_var_warning\u001b[0m\u001b[1;33m.\u001b[0m\u001b[0mformat\u001b[0m\u001b[1;33m(\u001b[0m\u001b[1;34m\"Vertical\"\u001b[0m\u001b[1;33m,\u001b[0m \u001b[1;34m\"x\"\u001b[0m\u001b[1;33m)\u001b[0m\u001b[1;33m)\u001b[0m\u001b[1;33m\u001b[0m\u001b[1;33m\u001b[0m\u001b[0m\n\u001b[0;32m   1327\u001b[0m         \u001b[1;32mif\u001b[0m \u001b[0mrequire_numeric\u001b[0m \u001b[1;32mand\u001b[0m \u001b[0mx_type\u001b[0m \u001b[1;33m!=\u001b[0m \u001b[1;34m\"numeric\"\u001b[0m\u001b[1;33m:\u001b[0m\u001b[1;33m\u001b[0m\u001b[1;33m\u001b[0m\u001b[0m\n\u001b[1;32m-> 1328\u001b[1;33m             \u001b[1;32mraise\u001b[0m \u001b[0mTypeError\u001b[0m\u001b[1;33m(\u001b[0m\u001b[0mnonnumeric_dv_error\u001b[0m\u001b[1;33m.\u001b[0m\u001b[0mformat\u001b[0m\u001b[1;33m(\u001b[0m\u001b[1;34m\"Horizontal\"\u001b[0m\u001b[1;33m,\u001b[0m \u001b[1;34m\"x\"\u001b[0m\u001b[1;33m)\u001b[0m\u001b[1;33m)\u001b[0m\u001b[1;33m\u001b[0m\u001b[1;33m\u001b[0m\u001b[0m\n\u001b[0m\u001b[0;32m   1329\u001b[0m         \u001b[1;32mreturn\u001b[0m \u001b[1;34m\"h\"\u001b[0m\u001b[1;33m\u001b[0m\u001b[1;33m\u001b[0m\u001b[0m\n\u001b[0;32m   1330\u001b[0m \u001b[1;33m\u001b[0m\u001b[0m\n",
      "\u001b[1;31mTypeError\u001b[0m: Horizontal orientation requires numeric `x` variable."
     ]
    }
   ],
   "source": [
    "sns.violinplot( data=train,x='relationship',hue='income',split=True)"
   ]
  },
  {
   "cell_type": "code",
   "execution_count": 83,
   "id": "a80c19a3",
   "metadata": {
    "ExecuteTime": {
     "end_time": "2023-02-13T05:48:57.964840Z",
     "start_time": "2023-02-13T05:48:57.157151Z"
    }
   },
   "outputs": [
    {
     "data": {
      "text/plain": [
       "<AxesSubplot:xlabel='education', ylabel='count'>"
      ]
     },
     "execution_count": 83,
     "metadata": {},
     "output_type": "execute_result"
    },
    {
     "data": {
      "image/png": "[encoded data removed]",
      "text/plain": [
       "<Figure size 2400x500 with 1 Axes>"
      ]
     },
     "metadata": {},
     "output_type": "display_data"
    }
   ],
   "source": [
    "plt.figure(figsize=(24,5))\n",
    "sns.countplot(data = train,\n",
    "             x='education',\n",
    "             hue='income')"
   ]
  },
  {
   "cell_type": "code",
   "execution_count": 60,
   "id": "a5e4cef7",
   "metadata": {
    "ExecuteTime": {
     "end_time": "2023-02-13T05:37:42.765189Z",
     "start_time": "2023-02-13T05:37:42.742250Z"
    }
   },
   "outputs": [
    {
     "data": {
      "text/html": [
       "<div>\n",
       "<style scoped>\n",
       "    .dataframe tbody tr th:only-of-type {\n",
       "        vertical-align: middle;\n",
       "    }\n",
       "\n",
       "    .dataframe tbody tr th {\n",
       "        vertical-align: top;\n",
       "    }\n",
       "\n",
       "    .dataframe thead th {\n",
       "        text-align: right;\n",
       "    }\n",
       "</style>\n",
       "<table border=\"1\" class=\"dataframe\">\n",
       "  <thead>\n",
       "    <tr style=\"text-align: right;\">\n",
       "      <th></th>\n",
       "      <th>age</th>\n",
       "      <th>workclass</th>\n",
       "      <th>education</th>\n",
       "      <th>education-num</th>\n",
       "      <th>marital-status</th>\n",
       "      <th>occupation</th>\n",
       "      <th>relationship</th>\n",
       "      <th>sex</th>\n",
       "      <th>capital-gain</th>\n",
       "      <th>capital-loss</th>\n",
       "      <th>native-country</th>\n",
       "      <th>income</th>\n",
       "      <th>hours-per-week-Group</th>\n",
       "    </tr>\n",
       "    <tr>\n",
       "      <th>no</th>\n",
       "      <th></th>\n",
       "      <th></th>\n",
       "      <th></th>\n",
       "      <th></th>\n",
       "      <th></th>\n",
       "      <th></th>\n",
       "      <th></th>\n",
       "      <th></th>\n",
       "      <th></th>\n",
       "      <th></th>\n",
       "      <th></th>\n",
       "      <th></th>\n",
       "      <th></th>\n",
       "    </tr>\n",
       "  </thead>\n",
       "  <tbody>\n",
       "    <tr>\n",
       "      <th>1</th>\n",
       "      <td>25</td>\n",
       "      <td>Private</td>\n",
       "      <td>11th</td>\n",
       "      <td>7</td>\n",
       "      <td>Divorced</td>\n",
       "      <td>Machine-op-inspct</td>\n",
       "      <td>Not-in-family</td>\n",
       "      <td>Male</td>\n",
       "      <td>0</td>\n",
       "      <td>0</td>\n",
       "      <td>United-States</td>\n",
       "      <td>0</td>\n",
       "      <td>40~70</td>\n",
       "    </tr>\n",
       "    <tr>\n",
       "      <th>2</th>\n",
       "      <td>39</td>\n",
       "      <td>Private</td>\n",
       "      <td>Some-college</td>\n",
       "      <td>10</td>\n",
       "      <td>Divorced</td>\n",
       "      <td>Other-service</td>\n",
       "      <td>Not-in-family</td>\n",
       "      <td>Female</td>\n",
       "      <td>0</td>\n",
       "      <td>1721</td>\n",
       "      <td>United-States</td>\n",
       "      <td>0</td>\n",
       "      <td>40~70</td>\n",
       "    </tr>\n",
       "    <tr>\n",
       "      <th>3</th>\n",
       "      <td>35</td>\n",
       "      <td>Private</td>\n",
       "      <td>Bachelors</td>\n",
       "      <td>13</td>\n",
       "      <td>Never-married</td>\n",
       "      <td>Handlers-cleaners</td>\n",
       "      <td>Not-in-family</td>\n",
       "      <td>Female</td>\n",
       "      <td>0</td>\n",
       "      <td>0</td>\n",
       "      <td>Haiti</td>\n",
       "      <td>0</td>\n",
       "      <td>40~70</td>\n",
       "    </tr>\n",
       "    <tr>\n",
       "      <th>4</th>\n",
       "      <td>64</td>\n",
       "      <td>Private</td>\n",
       "      <td>Assoc-voc</td>\n",
       "      <td>11</td>\n",
       "      <td>Divorced</td>\n",
       "      <td>Tech-support</td>\n",
       "      <td>Not-in-family</td>\n",
       "      <td>Female</td>\n",
       "      <td>0</td>\n",
       "      <td>0</td>\n",
       "      <td>United-States</td>\n",
       "      <td>0</td>\n",
       "      <td>40~70</td>\n",
       "    </tr>\n",
       "    <tr>\n",
       "      <th>5</th>\n",
       "      <td>24</td>\n",
       "      <td>Private</td>\n",
       "      <td>Some-college</td>\n",
       "      <td>10</td>\n",
       "      <td>Married-civ-spouse</td>\n",
       "      <td>Transport-moving</td>\n",
       "      <td>Husband</td>\n",
       "      <td>Male</td>\n",
       "      <td>0</td>\n",
       "      <td>0</td>\n",
       "      <td>United-States</td>\n",
       "      <td>1</td>\n",
       "      <td>40~70</td>\n",
       "    </tr>\n",
       "    <tr>\n",
       "      <th>...</th>\n",
       "      <td>...</td>\n",
       "      <td>...</td>\n",
       "      <td>...</td>\n",
       "      <td>...</td>\n",
       "      <td>...</td>\n",
       "      <td>...</td>\n",
       "      <td>...</td>\n",
       "      <td>...</td>\n",
       "      <td>...</td>\n",
       "      <td>...</td>\n",
       "      <td>...</td>\n",
       "      <td>...</td>\n",
       "      <td>...</td>\n",
       "    </tr>\n",
       "    <tr>\n",
       "      <th>29301</th>\n",
       "      <td>20</td>\n",
       "      <td>Private</td>\n",
       "      <td>HS-grad</td>\n",
       "      <td>9</td>\n",
       "      <td>Never-married</td>\n",
       "      <td>Sales</td>\n",
       "      <td>Own-child</td>\n",
       "      <td>Male</td>\n",
       "      <td>0</td>\n",
       "      <td>0</td>\n",
       "      <td>Puerto-Rico</td>\n",
       "      <td>0</td>\n",
       "      <td>40~70</td>\n",
       "    </tr>\n",
       "    <tr>\n",
       "      <th>29302</th>\n",
       "      <td>21</td>\n",
       "      <td>Private</td>\n",
       "      <td>HS-grad</td>\n",
       "      <td>9</td>\n",
       "      <td>Never-married</td>\n",
       "      <td>Sales</td>\n",
       "      <td>Own-child</td>\n",
       "      <td>Male</td>\n",
       "      <td>0</td>\n",
       "      <td>0</td>\n",
       "      <td>United-States</td>\n",
       "      <td>0</td>\n",
       "      <td>40~70</td>\n",
       "    </tr>\n",
       "    <tr>\n",
       "      <th>29303</th>\n",
       "      <td>18</td>\n",
       "      <td>Self-emp-not-inc</td>\n",
       "      <td>10th</td>\n",
       "      <td>6</td>\n",
       "      <td>Never-married</td>\n",
       "      <td>Farming-fishing</td>\n",
       "      <td>Own-child</td>\n",
       "      <td>Male</td>\n",
       "      <td>0</td>\n",
       "      <td>0</td>\n",
       "      <td>United-States</td>\n",
       "      <td>0</td>\n",
       "      <td>40~70</td>\n",
       "    </tr>\n",
       "    <tr>\n",
       "      <th>29304</th>\n",
       "      <td>33</td>\n",
       "      <td>Private</td>\n",
       "      <td>11th</td>\n",
       "      <td>7</td>\n",
       "      <td>Never-married</td>\n",
       "      <td>Craft-repair</td>\n",
       "      <td>Not-in-family</td>\n",
       "      <td>Male</td>\n",
       "      <td>0</td>\n",
       "      <td>0</td>\n",
       "      <td>United-States</td>\n",
       "      <td>0</td>\n",
       "      <td>40~70</td>\n",
       "    </tr>\n",
       "    <tr>\n",
       "      <th>29305</th>\n",
       "      <td>65</td>\n",
       "      <td>unemployed</td>\n",
       "      <td>HS-grad</td>\n",
       "      <td>9</td>\n",
       "      <td>Widowed</td>\n",
       "      <td>nothing</td>\n",
       "      <td>Not-in-family</td>\n",
       "      <td>Female</td>\n",
       "      <td>0</td>\n",
       "      <td>0</td>\n",
       "      <td>United-States</td>\n",
       "      <td>0</td>\n",
       "      <td>40~70</td>\n",
       "    </tr>\n",
       "  </tbody>\n",
       "</table>\n",
       "<p>29305 rows × 13 columns</p>\n",
       "</div>"
      ],
      "text/plain": [
       "       age         workclass     education  education-num      marital-status  \\\n",
       "no                                                                              \n",
       "1       25           Private          11th              7            Divorced   \n",
       "2       39           Private  Some-college             10            Divorced   \n",
       "3       35           Private     Bachelors             13       Never-married   \n",
       "4       64           Private     Assoc-voc             11            Divorced   \n",
       "5       24           Private  Some-college             10  Married-civ-spouse   \n",
       "...    ...               ...           ...            ...                 ...   \n",
       "29301   20           Private       HS-grad              9       Never-married   \n",
       "29302   21           Private       HS-grad              9       Never-married   \n",
       "29303   18  Self-emp-not-inc          10th              6       Never-married   \n",
       "29304   33           Private          11th              7       Never-married   \n",
       "29305   65        unemployed       HS-grad              9             Widowed   \n",
       "\n",
       "              occupation   relationship     sex  capital-gain  capital-loss  \\\n",
       "no                                                                            \n",
       "1      Machine-op-inspct  Not-in-family    Male             0             0   \n",
       "2          Other-service  Not-in-family  Female             0          1721   \n",
       "3      Handlers-cleaners  Not-in-family  Female             0             0   \n",
       "4           Tech-support  Not-in-family  Female             0             0   \n",
       "5       Transport-moving        Husband    Male             0             0   \n",
       "...                  ...            ...     ...           ...           ...   \n",
       "29301              Sales      Own-child    Male             0             0   \n",
       "29302              Sales      Own-child    Male             0             0   \n",
       "29303    Farming-fishing      Own-child    Male             0             0   \n",
       "29304       Craft-repair  Not-in-family    Male             0             0   \n",
       "29305            nothing  Not-in-family  Female             0             0   \n",
       "\n",
       "      native-country  income hours-per-week-Group  \n",
       "no                                                 \n",
       "1      United-States       0                40~70  \n",
       "2      United-States       0                40~70  \n",
       "3              Haiti       0                40~70  \n",
       "4      United-States       0                40~70  \n",
       "5      United-States       1                40~70  \n",
       "...              ...     ...                  ...  \n",
       "29301    Puerto-Rico       0                40~70  \n",
       "29302  United-States       0                40~70  \n",
       "29303  United-States       0                40~70  \n",
       "29304  United-States       0                40~70  \n",
       "29305  United-States       0                40~70  \n",
       "\n",
       "[29305 rows x 13 columns]"
      ]
     },
     "execution_count": 60,
     "metadata": {},
     "output_type": "execute_result"
    }
   ],
   "source": [
    "train"
   ]
  },
  {
   "cell_type": "code",
   "execution_count": 30,
   "id": "a19f9113",
   "metadata": {
    "ExecuteTime": {
     "end_time": "2023-02-11T09:39:31.273248Z",
     "start_time": "2023-02-11T09:39:31.266267Z"
    }
   },
   "outputs": [],
   "source": [
    "test.drop(['race',],axis=1, inplace=True)"
   ]
  },
  {
   "cell_type": "code",
   "execution_count": 35,
   "id": "ca3baf26",
   "metadata": {
    "ExecuteTime": {
     "end_time": "2023-02-11T09:46:50.117666Z",
     "start_time": "2023-02-11T09:46:49.698229Z"
    },
    "collapsed": true
   },
   "outputs": [
    {
     "data": {
      "text/plain": [
       "<AxesSubplot:xlabel='native-country', ylabel='count'>"
      ]
     },
     "execution_count": 35,
     "metadata": {},
     "output_type": "execute_result"
    },
    {
     "data": {
      "image/png": "[encoded data removed]",
      "text/plain": [
       "<Figure size 2000x500 with 1 Axes>"
      ]
     },
     "metadata": {},
     "output_type": "display_data"
    }
   ],
   "source": [
    "plt.figure(figsize=(20,5))\n",
    "sns.countplot(data = train,\n",
    "             x='native-country',\n",
    "             hue='income')"
   ]
  },
  {
   "cell_type": "code",
   "execution_count": null,
   "id": "ea96629f",
   "metadata": {},
   "outputs": [],
   "source": []
  },
  {
   "cell_type": "code",
   "execution_count": null,
   "id": "85a068a6",
   "metadata": {},
   "outputs": [],
   "source": [
    "train['native-country'][train['native-country']=='?']='oth'\n",
    "test['native-country'][test['native-country']=='?']='United-States'"
   ]
  },
  {
   "cell_type": "code",
   "execution_count": 34,
   "id": "ea5c35ed",
   "metadata": {
    "ExecuteTime": {
     "end_time": "2023-02-11T09:46:29.442501Z",
     "start_time": "2023-02-11T09:46:29.436517Z"
    }
   },
   "outputs": [
    {
     "data": {
      "text/plain": [
       "no\n",
       "1        United-States\n",
       "2        United-States\n",
       "3                Haiti\n",
       "4        United-States\n",
       "5        United-States\n",
       "             ...      \n",
       "29301      Puerto-Rico\n",
       "29302    United-States\n",
       "29303    United-States\n",
       "29304    United-States\n",
       "29305    United-States\n",
       "Name: native-country, Length: 29305, dtype: object"
      ]
     },
     "execution_count": 34,
     "metadata": {},
     "output_type": "execute_result"
    }
   ],
   "source": [
    "train['native-country']"
   ]
  },
  {
   "cell_type": "code",
   "execution_count": 29,
   "id": "70d09bbd",
   "metadata": {
    "ExecuteTime": {
     "end_time": "2023-02-11T09:39:25.867248Z",
     "start_time": "2023-02-11T09:39:25.842719Z"
    },
    "collapsed": true
   },
   "outputs": [
    {
     "data": {
      "text/html": [
       "<div>\n",
       "<style scoped>\n",
       "    .dataframe tbody tr th:only-of-type {\n",
       "        vertical-align: middle;\n",
       "    }\n",
       "\n",
       "    .dataframe tbody tr th {\n",
       "        vertical-align: top;\n",
       "    }\n",
       "\n",
       "    .dataframe thead th {\n",
       "        text-align: right;\n",
       "    }\n",
       "</style>\n",
       "<table border=\"1\" class=\"dataframe\">\n",
       "  <thead>\n",
       "    <tr style=\"text-align: right;\">\n",
       "      <th></th>\n",
       "      <th>age</th>\n",
       "      <th>workclass</th>\n",
       "      <th>education</th>\n",
       "      <th>education-num</th>\n",
       "      <th>marital-status</th>\n",
       "      <th>occupation</th>\n",
       "      <th>relationship</th>\n",
       "      <th>race</th>\n",
       "      <th>sex</th>\n",
       "      <th>capital-gain</th>\n",
       "      <th>capital-loss</th>\n",
       "      <th>hours-per-week</th>\n",
       "      <th>native-country</th>\n",
       "      <th>hours-per-week-Group</th>\n",
       "    </tr>\n",
       "    <tr>\n",
       "      <th>no</th>\n",
       "      <th></th>\n",
       "      <th></th>\n",
       "      <th></th>\n",
       "      <th></th>\n",
       "      <th></th>\n",
       "      <th></th>\n",
       "      <th></th>\n",
       "      <th></th>\n",
       "      <th></th>\n",
       "      <th></th>\n",
       "      <th></th>\n",
       "      <th></th>\n",
       "      <th></th>\n",
       "      <th></th>\n",
       "    </tr>\n",
       "  </thead>\n",
       "  <tbody>\n",
       "    <tr>\n",
       "      <th>29306</th>\n",
       "      <td>18</td>\n",
       "      <td>?</td>\n",
       "      <td>Some-college</td>\n",
       "      <td>10</td>\n",
       "      <td>Never-married</td>\n",
       "      <td>?</td>\n",
       "      <td>Own-child</td>\n",
       "      <td>White</td>\n",
       "      <td>Male</td>\n",
       "      <td>0</td>\n",
       "      <td>0</td>\n",
       "      <td>16</td>\n",
       "      <td>United-States</td>\n",
       "      <td>NaN</td>\n",
       "    </tr>\n",
       "    <tr>\n",
       "      <th>29307</th>\n",
       "      <td>29</td>\n",
       "      <td>Private</td>\n",
       "      <td>HS-grad</td>\n",
       "      <td>9</td>\n",
       "      <td>Married-civ-spouse</td>\n",
       "      <td>Other-service</td>\n",
       "      <td>Wife</td>\n",
       "      <td>White</td>\n",
       "      <td>Female</td>\n",
       "      <td>0</td>\n",
       "      <td>0</td>\n",
       "      <td>40</td>\n",
       "      <td>United-States</td>\n",
       "      <td>NaN</td>\n",
       "    </tr>\n",
       "    <tr>\n",
       "      <th>29308</th>\n",
       "      <td>45</td>\n",
       "      <td>Private</td>\n",
       "      <td>Bachelors</td>\n",
       "      <td>13</td>\n",
       "      <td>Married-civ-spouse</td>\n",
       "      <td>Tech-support</td>\n",
       "      <td>Husband</td>\n",
       "      <td>Black</td>\n",
       "      <td>Male</td>\n",
       "      <td>0</td>\n",
       "      <td>0</td>\n",
       "      <td>40</td>\n",
       "      <td>United-States</td>\n",
       "      <td>NaN</td>\n",
       "    </tr>\n",
       "    <tr>\n",
       "      <th>29309</th>\n",
       "      <td>42</td>\n",
       "      <td>Self-emp-not-inc</td>\n",
       "      <td>Bachelors</td>\n",
       "      <td>13</td>\n",
       "      <td>Married-civ-spouse</td>\n",
       "      <td>Exec-managerial</td>\n",
       "      <td>Husband</td>\n",
       "      <td>White</td>\n",
       "      <td>Male</td>\n",
       "      <td>0</td>\n",
       "      <td>0</td>\n",
       "      <td>40</td>\n",
       "      <td>United-States</td>\n",
       "      <td>NaN</td>\n",
       "    </tr>\n",
       "    <tr>\n",
       "      <th>29310</th>\n",
       "      <td>41</td>\n",
       "      <td>Private</td>\n",
       "      <td>Doctorate</td>\n",
       "      <td>16</td>\n",
       "      <td>Married-civ-spouse</td>\n",
       "      <td>Exec-managerial</td>\n",
       "      <td>Wife</td>\n",
       "      <td>White</td>\n",
       "      <td>Female</td>\n",
       "      <td>0</td>\n",
       "      <td>1902</td>\n",
       "      <td>40</td>\n",
       "      <td>United-States</td>\n",
       "      <td>NaN</td>\n",
       "    </tr>\n",
       "    <tr>\n",
       "      <th>...</th>\n",
       "      <td>...</td>\n",
       "      <td>...</td>\n",
       "      <td>...</td>\n",
       "      <td>...</td>\n",
       "      <td>...</td>\n",
       "      <td>...</td>\n",
       "      <td>...</td>\n",
       "      <td>...</td>\n",
       "      <td>...</td>\n",
       "      <td>...</td>\n",
       "      <td>...</td>\n",
       "      <td>...</td>\n",
       "      <td>...</td>\n",
       "      <td>...</td>\n",
       "    </tr>\n",
       "    <tr>\n",
       "      <th>48838</th>\n",
       "      <td>45</td>\n",
       "      <td>Self-emp-not-inc</td>\n",
       "      <td>HS-grad</td>\n",
       "      <td>9</td>\n",
       "      <td>Married-civ-spouse</td>\n",
       "      <td>Craft-repair</td>\n",
       "      <td>Husband</td>\n",
       "      <td>White</td>\n",
       "      <td>Male</td>\n",
       "      <td>0</td>\n",
       "      <td>0</td>\n",
       "      <td>60</td>\n",
       "      <td>United-States</td>\n",
       "      <td>NaN</td>\n",
       "    </tr>\n",
       "    <tr>\n",
       "      <th>48839</th>\n",
       "      <td>48</td>\n",
       "      <td>Private</td>\n",
       "      <td>HS-grad</td>\n",
       "      <td>9</td>\n",
       "      <td>Never-married</td>\n",
       "      <td>Exec-managerial</td>\n",
       "      <td>Not-in-family</td>\n",
       "      <td>White</td>\n",
       "      <td>Female</td>\n",
       "      <td>0</td>\n",
       "      <td>0</td>\n",
       "      <td>50</td>\n",
       "      <td>United-States</td>\n",
       "      <td>NaN</td>\n",
       "    </tr>\n",
       "    <tr>\n",
       "      <th>48840</th>\n",
       "      <td>63</td>\n",
       "      <td>Private</td>\n",
       "      <td>Some-college</td>\n",
       "      <td>10</td>\n",
       "      <td>Married-civ-spouse</td>\n",
       "      <td>Prof-specialty</td>\n",
       "      <td>Husband</td>\n",
       "      <td>White</td>\n",
       "      <td>Male</td>\n",
       "      <td>4386</td>\n",
       "      <td>0</td>\n",
       "      <td>40</td>\n",
       "      <td>United-States</td>\n",
       "      <td>NaN</td>\n",
       "    </tr>\n",
       "    <tr>\n",
       "      <th>48841</th>\n",
       "      <td>18</td>\n",
       "      <td>Private</td>\n",
       "      <td>11th</td>\n",
       "      <td>7</td>\n",
       "      <td>Never-married</td>\n",
       "      <td>Sales</td>\n",
       "      <td>Own-child</td>\n",
       "      <td>White</td>\n",
       "      <td>Female</td>\n",
       "      <td>0</td>\n",
       "      <td>0</td>\n",
       "      <td>20</td>\n",
       "      <td>United-States</td>\n",
       "      <td>NaN</td>\n",
       "    </tr>\n",
       "    <tr>\n",
       "      <th>48842</th>\n",
       "      <td>31</td>\n",
       "      <td>Private</td>\n",
       "      <td>Assoc-acdm</td>\n",
       "      <td>12</td>\n",
       "      <td>Married-civ-spouse</td>\n",
       "      <td>Tech-support</td>\n",
       "      <td>Husband</td>\n",
       "      <td>Black</td>\n",
       "      <td>Male</td>\n",
       "      <td>0</td>\n",
       "      <td>0</td>\n",
       "      <td>46</td>\n",
       "      <td>United-States</td>\n",
       "      <td>NaN</td>\n",
       "    </tr>\n",
       "  </tbody>\n",
       "</table>\n",
       "<p>19537 rows × 14 columns</p>\n",
       "</div>"
      ],
      "text/plain": [
       "       age          workclass      education  education-num  \\\n",
       "no                                                            \n",
       "29306   18                  ?   Some-college             10   \n",
       "29307   29            Private        HS-grad              9   \n",
       "29308   45            Private      Bachelors             13   \n",
       "29309   42   Self-emp-not-inc      Bachelors             13   \n",
       "29310   41            Private      Doctorate             16   \n",
       "...    ...                ...            ...            ...   \n",
       "48838   45   Self-emp-not-inc        HS-grad              9   \n",
       "48839   48            Private        HS-grad              9   \n",
       "48840   63            Private   Some-college             10   \n",
       "48841   18            Private           11th              7   \n",
       "48842   31            Private     Assoc-acdm             12   \n",
       "\n",
       "            marital-status        occupation    relationship    race      sex  \\\n",
       "no                                                                              \n",
       "29306        Never-married                 ?       Own-child   White     Male   \n",
       "29307   Married-civ-spouse     Other-service            Wife   White   Female   \n",
       "29308   Married-civ-spouse      Tech-support         Husband   Black     Male   \n",
       "29309   Married-civ-spouse   Exec-managerial         Husband   White     Male   \n",
       "29310   Married-civ-spouse   Exec-managerial            Wife   White   Female   \n",
       "...                    ...               ...             ...     ...      ...   \n",
       "48838   Married-civ-spouse      Craft-repair         Husband   White     Male   \n",
       "48839        Never-married   Exec-managerial   Not-in-family   White   Female   \n",
       "48840   Married-civ-spouse    Prof-specialty         Husband   White     Male   \n",
       "48841        Never-married             Sales       Own-child   White   Female   \n",
       "48842   Married-civ-spouse      Tech-support         Husband   Black     Male   \n",
       "\n",
       "       capital-gain  capital-loss  hours-per-week  native-country  \\\n",
       "no                                                                  \n",
       "29306             0             0              16   United-States   \n",
       "29307             0             0              40   United-States   \n",
       "29308             0             0              40   United-States   \n",
       "29309             0             0              40   United-States   \n",
       "29310             0          1902              40   United-States   \n",
       "...             ...           ...             ...             ...   \n",
       "48838             0             0              60   United-States   \n",
       "48839             0             0              50   United-States   \n",
       "48840          4386             0              40   United-States   \n",
       "48841             0             0              20   United-States   \n",
       "48842             0             0              46   United-States   \n",
       "\n",
       "      hours-per-week-Group  \n",
       "no                          \n",
       "29306                  NaN  \n",
       "29307                  NaN  \n",
       "29308                  NaN  \n",
       "29309                  NaN  \n",
       "29310                  NaN  \n",
       "...                    ...  \n",
       "48838                  NaN  \n",
       "48839                  NaN  \n",
       "48840                  NaN  \n",
       "48841                  NaN  \n",
       "48842                  NaN  \n",
       "\n",
       "[19537 rows x 14 columns]"
      ]
     },
     "execution_count": 29,
     "metadata": {},
     "output_type": "execute_result"
    }
   ],
   "source": [
    "test"
   ]
  },
  {
   "cell_type": "code",
   "execution_count": 28,
   "id": "a849cda4",
   "metadata": {
    "ExecuteTime": {
     "end_time": "2023-02-11T09:39:01.108969Z",
     "start_time": "2023-02-11T09:39:01.090020Z"
    },
    "collapsed": true
   },
   "outputs": [
    {
     "data": {
      "text/html": [
       "<div>\n",
       "<style scoped>\n",
       "    .dataframe tbody tr th:only-of-type {\n",
       "        vertical-align: middle;\n",
       "    }\n",
       "\n",
       "    .dataframe tbody tr th {\n",
       "        vertical-align: top;\n",
       "    }\n",
       "\n",
       "    .dataframe thead th {\n",
       "        text-align: right;\n",
       "    }\n",
       "</style>\n",
       "<table border=\"1\" class=\"dataframe\">\n",
       "  <thead>\n",
       "    <tr style=\"text-align: right;\">\n",
       "      <th></th>\n",
       "      <th>age</th>\n",
       "      <th>workclass</th>\n",
       "      <th>education</th>\n",
       "      <th>education-num</th>\n",
       "      <th>marital-status</th>\n",
       "      <th>occupation</th>\n",
       "      <th>relationship</th>\n",
       "      <th>sex</th>\n",
       "      <th>capital-gain</th>\n",
       "      <th>capital-loss</th>\n",
       "      <th>hours-per-week</th>\n",
       "      <th>native-country</th>\n",
       "      <th>income</th>\n",
       "    </tr>\n",
       "    <tr>\n",
       "      <th>no</th>\n",
       "      <th></th>\n",
       "      <th></th>\n",
       "      <th></th>\n",
       "      <th></th>\n",
       "      <th></th>\n",
       "      <th></th>\n",
       "      <th></th>\n",
       "      <th></th>\n",
       "      <th></th>\n",
       "      <th></th>\n",
       "      <th></th>\n",
       "      <th></th>\n",
       "      <th></th>\n",
       "    </tr>\n",
       "  </thead>\n",
       "  <tbody>\n",
       "    <tr>\n",
       "      <th>1</th>\n",
       "      <td>25</td>\n",
       "      <td>Private</td>\n",
       "      <td>11th</td>\n",
       "      <td>7</td>\n",
       "      <td>Divorced</td>\n",
       "      <td>Machine-op-inspct</td>\n",
       "      <td>Not-in-family</td>\n",
       "      <td>Male</td>\n",
       "      <td>0</td>\n",
       "      <td>0</td>\n",
       "      <td>40</td>\n",
       "      <td>United-States</td>\n",
       "      <td>0</td>\n",
       "    </tr>\n",
       "    <tr>\n",
       "      <th>2</th>\n",
       "      <td>39</td>\n",
       "      <td>Private</td>\n",
       "      <td>Some-college</td>\n",
       "      <td>10</td>\n",
       "      <td>Divorced</td>\n",
       "      <td>Other-service</td>\n",
       "      <td>Not-in-family</td>\n",
       "      <td>Female</td>\n",
       "      <td>0</td>\n",
       "      <td>1721</td>\n",
       "      <td>55</td>\n",
       "      <td>United-States</td>\n",
       "      <td>0</td>\n",
       "    </tr>\n",
       "    <tr>\n",
       "      <th>3</th>\n",
       "      <td>35</td>\n",
       "      <td>Private</td>\n",
       "      <td>Bachelors</td>\n",
       "      <td>13</td>\n",
       "      <td>Never-married</td>\n",
       "      <td>Handlers-cleaners</td>\n",
       "      <td>Not-in-family</td>\n",
       "      <td>Female</td>\n",
       "      <td>0</td>\n",
       "      <td>0</td>\n",
       "      <td>50</td>\n",
       "      <td>Haiti</td>\n",
       "      <td>0</td>\n",
       "    </tr>\n",
       "    <tr>\n",
       "      <th>4</th>\n",
       "      <td>64</td>\n",
       "      <td>Private</td>\n",
       "      <td>Assoc-voc</td>\n",
       "      <td>11</td>\n",
       "      <td>Divorced</td>\n",
       "      <td>Tech-support</td>\n",
       "      <td>Not-in-family</td>\n",
       "      <td>Female</td>\n",
       "      <td>0</td>\n",
       "      <td>0</td>\n",
       "      <td>40</td>\n",
       "      <td>United-States</td>\n",
       "      <td>0</td>\n",
       "    </tr>\n",
       "    <tr>\n",
       "      <th>5</th>\n",
       "      <td>24</td>\n",
       "      <td>Private</td>\n",
       "      <td>Some-college</td>\n",
       "      <td>10</td>\n",
       "      <td>Married-civ-spouse</td>\n",
       "      <td>Transport-moving</td>\n",
       "      <td>Husband</td>\n",
       "      <td>Male</td>\n",
       "      <td>0</td>\n",
       "      <td>0</td>\n",
       "      <td>70</td>\n",
       "      <td>United-States</td>\n",
       "      <td>1</td>\n",
       "    </tr>\n",
       "    <tr>\n",
       "      <th>...</th>\n",
       "      <td>...</td>\n",
       "      <td>...</td>\n",
       "      <td>...</td>\n",
       "      <td>...</td>\n",
       "      <td>...</td>\n",
       "      <td>...</td>\n",
       "      <td>...</td>\n",
       "      <td>...</td>\n",
       "      <td>...</td>\n",
       "      <td>...</td>\n",
       "      <td>...</td>\n",
       "      <td>...</td>\n",
       "      <td>...</td>\n",
       "    </tr>\n",
       "    <tr>\n",
       "      <th>29301</th>\n",
       "      <td>20</td>\n",
       "      <td>Private</td>\n",
       "      <td>HS-grad</td>\n",
       "      <td>9</td>\n",
       "      <td>Never-married</td>\n",
       "      <td>Sales</td>\n",
       "      <td>Own-child</td>\n",
       "      <td>Male</td>\n",
       "      <td>0</td>\n",
       "      <td>0</td>\n",
       "      <td>40</td>\n",
       "      <td>Puerto-Rico</td>\n",
       "      <td>0</td>\n",
       "    </tr>\n",
       "    <tr>\n",
       "      <th>29302</th>\n",
       "      <td>21</td>\n",
       "      <td>Private</td>\n",
       "      <td>HS-grad</td>\n",
       "      <td>9</td>\n",
       "      <td>Never-married</td>\n",
       "      <td>Sales</td>\n",
       "      <td>Own-child</td>\n",
       "      <td>Male</td>\n",
       "      <td>0</td>\n",
       "      <td>0</td>\n",
       "      <td>40</td>\n",
       "      <td>United-States</td>\n",
       "      <td>0</td>\n",
       "    </tr>\n",
       "    <tr>\n",
       "      <th>29303</th>\n",
       "      <td>18</td>\n",
       "      <td>Self-emp-not-inc</td>\n",
       "      <td>10th</td>\n",
       "      <td>6</td>\n",
       "      <td>Never-married</td>\n",
       "      <td>Farming-fishing</td>\n",
       "      <td>Own-child</td>\n",
       "      <td>Male</td>\n",
       "      <td>0</td>\n",
       "      <td>0</td>\n",
       "      <td>40</td>\n",
       "      <td>United-States</td>\n",
       "      <td>0</td>\n",
       "    </tr>\n",
       "    <tr>\n",
       "      <th>29304</th>\n",
       "      <td>33</td>\n",
       "      <td>Private</td>\n",
       "      <td>11th</td>\n",
       "      <td>7</td>\n",
       "      <td>Never-married</td>\n",
       "      <td>Craft-repair</td>\n",
       "      <td>Not-in-family</td>\n",
       "      <td>Male</td>\n",
       "      <td>0</td>\n",
       "      <td>0</td>\n",
       "      <td>65</td>\n",
       "      <td>United-States</td>\n",
       "      <td>0</td>\n",
       "    </tr>\n",
       "    <tr>\n",
       "      <th>29305</th>\n",
       "      <td>65</td>\n",
       "      <td>?</td>\n",
       "      <td>HS-grad</td>\n",
       "      <td>9</td>\n",
       "      <td>Widowed</td>\n",
       "      <td>?</td>\n",
       "      <td>Not-in-family</td>\n",
       "      <td>Female</td>\n",
       "      <td>0</td>\n",
       "      <td>0</td>\n",
       "      <td>40</td>\n",
       "      <td>United-States</td>\n",
       "      <td>0</td>\n",
       "    </tr>\n",
       "  </tbody>\n",
       "</table>\n",
       "<p>29305 rows × 13 columns</p>\n",
       "</div>"
      ],
      "text/plain": [
       "       age          workclass      education  education-num  \\\n",
       "no                                                            \n",
       "1       25            Private           11th              7   \n",
       "2       39            Private   Some-college             10   \n",
       "3       35            Private      Bachelors             13   \n",
       "4       64            Private      Assoc-voc             11   \n",
       "5       24            Private   Some-college             10   \n",
       "...    ...                ...            ...            ...   \n",
       "29301   20            Private        HS-grad              9   \n",
       "29302   21            Private        HS-grad              9   \n",
       "29303   18   Self-emp-not-inc           10th              6   \n",
       "29304   33            Private           11th              7   \n",
       "29305   65                  ?        HS-grad              9   \n",
       "\n",
       "            marital-status          occupation    relationship      sex  \\\n",
       "no                                                                        \n",
       "1                 Divorced   Machine-op-inspct   Not-in-family     Male   \n",
       "2                 Divorced       Other-service   Not-in-family   Female   \n",
       "3            Never-married   Handlers-cleaners   Not-in-family   Female   \n",
       "4                 Divorced        Tech-support   Not-in-family   Female   \n",
       "5       Married-civ-spouse    Transport-moving         Husband     Male   \n",
       "...                    ...                 ...             ...      ...   \n",
       "29301        Never-married               Sales       Own-child     Male   \n",
       "29302        Never-married               Sales       Own-child     Male   \n",
       "29303        Never-married     Farming-fishing       Own-child     Male   \n",
       "29304        Never-married        Craft-repair   Not-in-family     Male   \n",
       "29305              Widowed                   ?   Not-in-family   Female   \n",
       "\n",
       "       capital-gain  capital-loss  hours-per-week  native-country  income  \n",
       "no                                                                         \n",
       "1                 0             0              40   United-States       0  \n",
       "2                 0          1721              55   United-States       0  \n",
       "3                 0             0              50           Haiti       0  \n",
       "4                 0             0              40   United-States       0  \n",
       "5                 0             0              70   United-States       1  \n",
       "...             ...           ...             ...             ...     ...  \n",
       "29301             0             0              40     Puerto-Rico       0  \n",
       "29302             0             0              40   United-States       0  \n",
       "29303             0             0              40   United-States       0  \n",
       "29304             0             0              65   United-States       0  \n",
       "29305             0             0              40   United-States       0  \n",
       "\n",
       "[29305 rows x 13 columns]"
      ]
     },
     "execution_count": 28,
     "metadata": {},
     "output_type": "execute_result"
    }
   ],
   "source": [
    "train"
   ]
  },
  {
   "cell_type": "code",
   "execution_count": 31,
   "id": "0d7d5cd2",
   "metadata": {
    "ExecuteTime": {
     "end_time": "2023-02-11T09:41:09.346074Z",
     "start_time": "2023-02-11T09:41:09.258309Z"
    }
   },
   "outputs": [],
   "source": [
    "def remove_blank(row):\n",
    "    return row.strip()\n",
    "for i in train.columns:\n",
    "    if train[i].dtype =='int64':pass\n",
    "    else:train[i] = train[i].apply(remove_blank)\n",
    "for i in test.columns:\n",
    "    if test[i].dtype =='int64':pass\n",
    "    else:test[i] = test[i].apply(remove_blank)"
   ]
  },
  {
   "cell_type": "code",
   "execution_count": 32,
   "id": "51d08d47",
   "metadata": {
    "ExecuteTime": {
     "end_time": "2023-02-11T09:41:19.575580Z",
     "start_time": "2023-02-11T09:41:19.558623Z"
    },
    "collapsed": true
   },
   "outputs": [
    {
     "data": {
      "text/html": [
       "<div>\n",
       "<style scoped>\n",
       "    .dataframe tbody tr th:only-of-type {\n",
       "        vertical-align: middle;\n",
       "    }\n",
       "\n",
       "    .dataframe tbody tr th {\n",
       "        vertical-align: top;\n",
       "    }\n",
       "\n",
       "    .dataframe thead th {\n",
       "        text-align: right;\n",
       "    }\n",
       "</style>\n",
       "<table border=\"1\" class=\"dataframe\">\n",
       "  <thead>\n",
       "    <tr style=\"text-align: right;\">\n",
       "      <th></th>\n",
       "      <th>age</th>\n",
       "      <th>workclass</th>\n",
       "      <th>education</th>\n",
       "      <th>education-num</th>\n",
       "      <th>marital-status</th>\n",
       "      <th>occupation</th>\n",
       "      <th>relationship</th>\n",
       "      <th>sex</th>\n",
       "      <th>capital-gain</th>\n",
       "      <th>capital-loss</th>\n",
       "      <th>hours-per-week</th>\n",
       "      <th>native-country</th>\n",
       "      <th>income</th>\n",
       "    </tr>\n",
       "    <tr>\n",
       "      <th>no</th>\n",
       "      <th></th>\n",
       "      <th></th>\n",
       "      <th></th>\n",
       "      <th></th>\n",
       "      <th></th>\n",
       "      <th></th>\n",
       "      <th></th>\n",
       "      <th></th>\n",
       "      <th></th>\n",
       "      <th></th>\n",
       "      <th></th>\n",
       "      <th></th>\n",
       "      <th></th>\n",
       "    </tr>\n",
       "  </thead>\n",
       "  <tbody>\n",
       "    <tr>\n",
       "      <th>1</th>\n",
       "      <td>25</td>\n",
       "      <td>Private</td>\n",
       "      <td>11th</td>\n",
       "      <td>7</td>\n",
       "      <td>Divorced</td>\n",
       "      <td>Machine-op-inspct</td>\n",
       "      <td>Not-in-family</td>\n",
       "      <td>Male</td>\n",
       "      <td>0</td>\n",
       "      <td>0</td>\n",
       "      <td>40</td>\n",
       "      <td>United-States</td>\n",
       "      <td>0</td>\n",
       "    </tr>\n",
       "    <tr>\n",
       "      <th>2</th>\n",
       "      <td>39</td>\n",
       "      <td>Private</td>\n",
       "      <td>Some-college</td>\n",
       "      <td>10</td>\n",
       "      <td>Divorced</td>\n",
       "      <td>Other-service</td>\n",
       "      <td>Not-in-family</td>\n",
       "      <td>Female</td>\n",
       "      <td>0</td>\n",
       "      <td>1721</td>\n",
       "      <td>55</td>\n",
       "      <td>United-States</td>\n",
       "      <td>0</td>\n",
       "    </tr>\n",
       "    <tr>\n",
       "      <th>3</th>\n",
       "      <td>35</td>\n",
       "      <td>Private</td>\n",
       "      <td>Bachelors</td>\n",
       "      <td>13</td>\n",
       "      <td>Never-married</td>\n",
       "      <td>Handlers-cleaners</td>\n",
       "      <td>Not-in-family</td>\n",
       "      <td>Female</td>\n",
       "      <td>0</td>\n",
       "      <td>0</td>\n",
       "      <td>50</td>\n",
       "      <td>Haiti</td>\n",
       "      <td>0</td>\n",
       "    </tr>\n",
       "    <tr>\n",
       "      <th>4</th>\n",
       "      <td>64</td>\n",
       "      <td>Private</td>\n",
       "      <td>Assoc-voc</td>\n",
       "      <td>11</td>\n",
       "      <td>Divorced</td>\n",
       "      <td>Tech-support</td>\n",
       "      <td>Not-in-family</td>\n",
       "      <td>Female</td>\n",
       "      <td>0</td>\n",
       "      <td>0</td>\n",
       "      <td>40</td>\n",
       "      <td>United-States</td>\n",
       "      <td>0</td>\n",
       "    </tr>\n",
       "    <tr>\n",
       "      <th>5</th>\n",
       "      <td>24</td>\n",
       "      <td>Private</td>\n",
       "      <td>Some-college</td>\n",
       "      <td>10</td>\n",
       "      <td>Married-civ-spouse</td>\n",
       "      <td>Transport-moving</td>\n",
       "      <td>Husband</td>\n",
       "      <td>Male</td>\n",
       "      <td>0</td>\n",
       "      <td>0</td>\n",
       "      <td>70</td>\n",
       "      <td>United-States</td>\n",
       "      <td>1</td>\n",
       "    </tr>\n",
       "    <tr>\n",
       "      <th>...</th>\n",
       "      <td>...</td>\n",
       "      <td>...</td>\n",
       "      <td>...</td>\n",
       "      <td>...</td>\n",
       "      <td>...</td>\n",
       "      <td>...</td>\n",
       "      <td>...</td>\n",
       "      <td>...</td>\n",
       "      <td>...</td>\n",
       "      <td>...</td>\n",
       "      <td>...</td>\n",
       "      <td>...</td>\n",
       "      <td>...</td>\n",
       "    </tr>\n",
       "    <tr>\n",
       "      <th>29301</th>\n",
       "      <td>20</td>\n",
       "      <td>Private</td>\n",
       "      <td>HS-grad</td>\n",
       "      <td>9</td>\n",
       "      <td>Never-married</td>\n",
       "      <td>Sales</td>\n",
       "      <td>Own-child</td>\n",
       "      <td>Male</td>\n",
       "      <td>0</td>\n",
       "      <td>0</td>\n",
       "      <td>40</td>\n",
       "      <td>Puerto-Rico</td>\n",
       "      <td>0</td>\n",
       "    </tr>\n",
       "    <tr>\n",
       "      <th>29302</th>\n",
       "      <td>21</td>\n",
       "      <td>Private</td>\n",
       "      <td>HS-grad</td>\n",
       "      <td>9</td>\n",
       "      <td>Never-married</td>\n",
       "      <td>Sales</td>\n",
       "      <td>Own-child</td>\n",
       "      <td>Male</td>\n",
       "      <td>0</td>\n",
       "      <td>0</td>\n",
       "      <td>40</td>\n",
       "      <td>United-States</td>\n",
       "      <td>0</td>\n",
       "    </tr>\n",
       "    <tr>\n",
       "      <th>29303</th>\n",
       "      <td>18</td>\n",
       "      <td>Self-emp-not-inc</td>\n",
       "      <td>10th</td>\n",
       "      <td>6</td>\n",
       "      <td>Never-married</td>\n",
       "      <td>Farming-fishing</td>\n",
       "      <td>Own-child</td>\n",
       "      <td>Male</td>\n",
       "      <td>0</td>\n",
       "      <td>0</td>\n",
       "      <td>40</td>\n",
       "      <td>United-States</td>\n",
       "      <td>0</td>\n",
       "    </tr>\n",
       "    <tr>\n",
       "      <th>29304</th>\n",
       "      <td>33</td>\n",
       "      <td>Private</td>\n",
       "      <td>11th</td>\n",
       "      <td>7</td>\n",
       "      <td>Never-married</td>\n",
       "      <td>Craft-repair</td>\n",
       "      <td>Not-in-family</td>\n",
       "      <td>Male</td>\n",
       "      <td>0</td>\n",
       "      <td>0</td>\n",
       "      <td>65</td>\n",
       "      <td>United-States</td>\n",
       "      <td>0</td>\n",
       "    </tr>\n",
       "    <tr>\n",
       "      <th>29305</th>\n",
       "      <td>65</td>\n",
       "      <td>?</td>\n",
       "      <td>HS-grad</td>\n",
       "      <td>9</td>\n",
       "      <td>Widowed</td>\n",
       "      <td>?</td>\n",
       "      <td>Not-in-family</td>\n",
       "      <td>Female</td>\n",
       "      <td>0</td>\n",
       "      <td>0</td>\n",
       "      <td>40</td>\n",
       "      <td>United-States</td>\n",
       "      <td>0</td>\n",
       "    </tr>\n",
       "  </tbody>\n",
       "</table>\n",
       "<p>29305 rows × 13 columns</p>\n",
       "</div>"
      ],
      "text/plain": [
       "       age         workclass     education  education-num      marital-status  \\\n",
       "no                                                                              \n",
       "1       25           Private          11th              7            Divorced   \n",
       "2       39           Private  Some-college             10            Divorced   \n",
       "3       35           Private     Bachelors             13       Never-married   \n",
       "4       64           Private     Assoc-voc             11            Divorced   \n",
       "5       24           Private  Some-college             10  Married-civ-spouse   \n",
       "...    ...               ...           ...            ...                 ...   \n",
       "29301   20           Private       HS-grad              9       Never-married   \n",
       "29302   21           Private       HS-grad              9       Never-married   \n",
       "29303   18  Self-emp-not-inc          10th              6       Never-married   \n",
       "29304   33           Private          11th              7       Never-married   \n",
       "29305   65                 ?       HS-grad              9             Widowed   \n",
       "\n",
       "              occupation   relationship     sex  capital-gain  capital-loss  \\\n",
       "no                                                                            \n",
       "1      Machine-op-inspct  Not-in-family    Male             0             0   \n",
       "2          Other-service  Not-in-family  Female             0          1721   \n",
       "3      Handlers-cleaners  Not-in-family  Female             0             0   \n",
       "4           Tech-support  Not-in-family  Female             0             0   \n",
       "5       Transport-moving        Husband    Male             0             0   \n",
       "...                  ...            ...     ...           ...           ...   \n",
       "29301              Sales      Own-child    Male             0             0   \n",
       "29302              Sales      Own-child    Male             0             0   \n",
       "29303    Farming-fishing      Own-child    Male             0             0   \n",
       "29304       Craft-repair  Not-in-family    Male             0             0   \n",
       "29305                  ?  Not-in-family  Female             0             0   \n",
       "\n",
       "       hours-per-week native-country  income  \n",
       "no                                            \n",
       "1                  40  United-States       0  \n",
       "2                  55  United-States       0  \n",
       "3                  50          Haiti       0  \n",
       "4                  40  United-States       0  \n",
       "5                  70  United-States       1  \n",
       "...               ...            ...     ...  \n",
       "29301              40    Puerto-Rico       0  \n",
       "29302              40  United-States       0  \n",
       "29303              40  United-States       0  \n",
       "29304              65  United-States       0  \n",
       "29305              40  United-States       0  \n",
       "\n",
       "[29305 rows x 13 columns]"
      ]
     },
     "execution_count": 32,
     "metadata": {},
     "output_type": "execute_result"
    }
   ],
   "source": [
    "train"
   ]
  },
  {
   "cell_type": "code",
   "execution_count": 84,
   "id": "b48c1902",
   "metadata": {
    "ExecuteTime": {
     "end_time": "2023-02-13T05:50:34.225314Z",
     "start_time": "2023-02-13T05:50:34.175447Z"
    },
    "collapsed": true
   },
   "outputs": [
    {
     "name": "stdout",
     "output_type": "stream",
     "text": [
      "age : 0\n",
      "workclass : 0\n",
      "education : 0\n",
      "education-num : 0\n",
      "marital-status : 0\n",
      "occupation : 0\n",
      "relationship : 0\n",
      "sex : 0\n",
      "capital-gain : 0\n",
      "capital-loss : 0\n",
      "native-country : 0\n",
      "income : 0\n",
      "age : 0\n",
      "workclass : 0\n",
      "education : 0\n",
      "education-num : 0\n",
      "marital-status : 0\n",
      "occupation : 0\n",
      "relationship : 0\n",
      "sex : 0\n",
      "capital-gain : 0\n",
      "capital-loss : 0\n",
      "native-country : 0\n",
      "hours-per-week-Group : 0\n"
     ]
    }
   ],
   "source": [
    "for i in train.columns[:-1]:\n",
    "    print(i,':',train.loc[:,i][train[i]=='?'].count())\n",
    "for i in test.columns:\n",
    "    print(i,':',test.loc[:,i][test[i]=='?'].count())"
   ]
  },
  {
   "cell_type": "code",
   "execution_count": 36,
   "id": "9369046d",
   "metadata": {
    "ExecuteTime": {
     "end_time": "2023-02-11T09:48:38.852816Z",
     "start_time": "2023-02-11T09:48:38.839851Z"
    }
   },
   "outputs": [],
   "source": [
    "bins = [0,39,70,99]  # 구간\n",
    "labels = ['0~39','40~70','70~99'] # 구간 별 범주 이름\n",
    "train['hours-per-week-Group']=pd.cut(x=train['hours-per-week'],\n",
    "      bins=bins,\n",
    "      labels=labels)"
   ]
  },
  {
   "cell_type": "code",
   "execution_count": 37,
   "id": "bb87f6c8",
   "metadata": {
    "ExecuteTime": {
     "end_time": "2023-02-11T09:48:43.998905Z",
     "start_time": "2023-02-11T09:48:43.990959Z"
    }
   },
   "outputs": [],
   "source": [
    "bins = [0,39,70,99]  # 구간\n",
    "labels = ['0~39','40~70','70~99'] # 구간 별 범주 이름\n",
    "test['hours-per-week-Group']=pd.cut(x=train['hours-per-week'],\n",
    "      bins=bins,\n",
    "      labels=labels)"
   ]
  },
  {
   "cell_type": "code",
   "execution_count": 39,
   "id": "7521b2c4",
   "metadata": {
    "ExecuteTime": {
     "end_time": "2023-02-11T09:49:25.237672Z",
     "start_time": "2023-02-11T09:49:25.216728Z"
    }
   },
   "outputs": [],
   "source": [
    "train.drop(['hours-per-week'],axis=1, inplace=True)\n",
    "test.drop(['hours-per-week',],axis=1, inplace=True)"
   ]
  },
  {
   "cell_type": "code",
   "execution_count": 43,
   "id": "a2376317",
   "metadata": {
    "ExecuteTime": {
     "end_time": "2023-02-11T09:55:44.529054Z",
     "start_time": "2023-02-11T09:55:44.509108Z"
    },
    "collapsed": true
   },
   "outputs": [
    {
     "name": "stderr",
     "output_type": "stream",
     "text": [
      "C:\\Users\\smhrd\\AppData\\Local\\Temp\\ipykernel_7876\\1714060139.py:1: SettingWithCopyWarning: \n",
      "A value is trying to be set on a copy of a slice from a DataFrame\n",
      "\n",
      "See the caveats in the documentation: https://pandas.pydata.org/pandas-docs/stable/user_guide/indexing.html#returning-a-view-versus-a-copy\n",
      "  train['native-country'][train['native-country']=='?']='other'\n",
      "C:\\Users\\smhrd\\AppData\\Local\\Temp\\ipykernel_7876\\1714060139.py:2: SettingWithCopyWarning: \n",
      "A value is trying to be set on a copy of a slice from a DataFrame\n",
      "\n",
      "See the caveats in the documentation: https://pandas.pydata.org/pandas-docs/stable/user_guide/indexing.html#returning-a-view-versus-a-copy\n",
      "  test['native-country'][test['native-country']=='?']='other'\n"
     ]
    }
   ],
   "source": [
    "train['native-country'][train['native-country']=='?']='other'\n",
    "test['native-country'][test['native-country']=='?']='other'"
   ]
  },
  {
   "cell_type": "code",
   "execution_count": 49,
   "id": "268a3523",
   "metadata": {
    "ExecuteTime": {
     "end_time": "2023-02-11T09:57:35.259755Z",
     "start_time": "2023-02-11T09:57:35.237844Z"
    },
    "scrolled": true
   },
   "outputs": [
    {
     "data": {
      "text/plain": [
       "Prof-specialty       3724\n",
       "Craft-repair         3632\n",
       "Exec-managerial      3609\n",
       "Adm-clerical         3440\n",
       "Sales                3292\n",
       "Other-service        2975\n",
       "Machine-op-inspct    1811\n",
       "?                    1668\n",
       "Transport-moving     1393\n",
       "Handlers-cleaners    1249\n",
       "Farming-fishing       888\n",
       "Tech-support          865\n",
       "Protective-serv       603\n",
       "Priv-house-serv       146\n",
       "Armed-Forces           10\n",
       "Name: occupation, dtype: int64"
      ]
     },
     "execution_count": 49,
     "metadata": {},
     "output_type": "execute_result"
    }
   ],
   "source": [
    "train['occupation'].value_counts()"
   ]
  },
  {
   "cell_type": "code",
   "execution_count": 45,
   "id": "6f334f6b",
   "metadata": {
    "ExecuteTime": {
     "end_time": "2023-02-11T09:56:32.022593Z",
     "start_time": "2023-02-11T09:56:32.008630Z"
    },
    "scrolled": true
   },
   "outputs": [
    {
     "data": {
      "text/plain": [
       "array(['Machine-op-inspct', 'Other-service', 'Handlers-cleaners',\n",
       "       'Tech-support', 'Transport-moving', 'Farming-fishing',\n",
       "       'Prof-specialty', 'Priv-house-serv', 'Adm-clerical',\n",
       "       'Protective-serv', 'Exec-managerial', '?', 'Craft-repair', 'Sales',\n",
       "       'Armed-Forces'], dtype=object)"
      ]
     },
     "execution_count": 45,
     "metadata": {},
     "output_type": "execute_result"
    }
   ],
   "source": [
    "train['occupation'].unique()"
   ]
  },
  {
   "cell_type": "code",
   "execution_count": 44,
   "id": "6906c4fe",
   "metadata": {
    "ExecuteTime": {
     "end_time": "2023-02-11T09:55:48.851355Z",
     "start_time": "2023-02-11T09:55:48.830437Z"
    },
    "collapsed": true
   },
   "outputs": [
    {
     "ename": "ValueError",
     "evalue": "could not convert string to float: 'United-States'",
     "output_type": "error",
     "traceback": [
      "\u001b[1;31m---------------------------------------------------------------------------\u001b[0m",
      "\u001b[1;31mValueError\u001b[0m                                Traceback (most recent call last)",
      "\u001b[1;32m~\\AppData\\Local\\Temp\\ipykernel_7876\\241221707.py\u001b[0m in \u001b[0;36m<module>\u001b[1;34m\u001b[0m\n\u001b[0;32m      1\u001b[0m \u001b[0mbins\u001b[0m \u001b[1;33m=\u001b[0m \u001b[1;33m[\u001b[0m\u001b[1;34m'United-States'\u001b[0m\u001b[1;33m,\u001b[0m\u001b[1;34m''\u001b[0m\u001b[1;33m]\u001b[0m\u001b[1;31m# 구간\u001b[0m\u001b[1;33m\u001b[0m\u001b[1;33m\u001b[0m\u001b[0m\n\u001b[0;32m      2\u001b[0m \u001b[0mlabels\u001b[0m \u001b[1;33m=\u001b[0m \u001b[1;33m[\u001b[0m\u001b[1;34m'United-States'\u001b[0m\u001b[1;33m,\u001b[0m\u001b[1;34m'other'\u001b[0m\u001b[1;33m]\u001b[0m \u001b[1;31m# 구간 별 범주 이름\u001b[0m\u001b[1;33m\u001b[0m\u001b[1;33m\u001b[0m\u001b[0m\n\u001b[1;32m----> 3\u001b[1;33m test['native-country']=pd.cut(x=train['native-country'],\n\u001b[0m\u001b[0;32m      4\u001b[0m       \u001b[0mbins\u001b[0m\u001b[1;33m=\u001b[0m\u001b[0mbins\u001b[0m\u001b[1;33m,\u001b[0m\u001b[1;33m\u001b[0m\u001b[1;33m\u001b[0m\u001b[0m\n\u001b[0;32m      5\u001b[0m       labels=labels)\n",
      "\u001b[1;32m~\\anaconda3\\lib\\site-packages\\pandas\\core\\reshape\\tile.py\u001b[0m in \u001b[0;36mcut\u001b[1;34m(x, bins, right, labels, retbins, precision, include_lowest, duplicates, ordered)\u001b[0m\n\u001b[0;32m    287\u001b[0m \u001b[1;33m\u001b[0m\u001b[0m\n\u001b[0;32m    288\u001b[0m         \u001b[1;31m# GH 26045: cast to float64 to avoid an overflow\u001b[0m\u001b[1;33m\u001b[0m\u001b[1;33m\u001b[0m\u001b[0m\n\u001b[1;32m--> 289\u001b[1;33m         \u001b[1;32mif\u001b[0m \u001b[1;33m(\u001b[0m\u001b[0mnp\u001b[0m\u001b[1;33m.\u001b[0m\u001b[0mdiff\u001b[0m\u001b[1;33m(\u001b[0m\u001b[0mbins\u001b[0m\u001b[1;33m.\u001b[0m\u001b[0mastype\u001b[0m\u001b[1;33m(\u001b[0m\u001b[1;34m\"float64\"\u001b[0m\u001b[1;33m)\u001b[0m\u001b[1;33m)\u001b[0m \u001b[1;33m<\u001b[0m \u001b[1;36m0\u001b[0m\u001b[1;33m)\u001b[0m\u001b[1;33m.\u001b[0m\u001b[0many\u001b[0m\u001b[1;33m(\u001b[0m\u001b[1;33m)\u001b[0m\u001b[1;33m:\u001b[0m\u001b[1;33m\u001b[0m\u001b[1;33m\u001b[0m\u001b[0m\n\u001b[0m\u001b[0;32m    290\u001b[0m             \u001b[1;32mraise\u001b[0m \u001b[0mValueError\u001b[0m\u001b[1;33m(\u001b[0m\u001b[1;34m\"bins must increase monotonically.\"\u001b[0m\u001b[1;33m)\u001b[0m\u001b[1;33m\u001b[0m\u001b[1;33m\u001b[0m\u001b[0m\n\u001b[0;32m    291\u001b[0m \u001b[1;33m\u001b[0m\u001b[0m\n",
      "\u001b[1;31mValueError\u001b[0m: could not convert string to float: 'United-States'"
     ]
    }
   ],
   "source": [
    "bins = ['United-States','']# 구간\n",
    "labels = ['United-States','other'] # 구간 별 범주 이름\n",
    "test['native-country']=pd.cut(x=train['native-country'],\n",
    "      bins=bins,\n",
    "      labels=labels)"
   ]
  },
  {
   "cell_type": "code",
   "execution_count": 42,
   "id": "a76798c3",
   "metadata": {
    "ExecuteTime": {
     "end_time": "2023-02-11T09:54:01.539730Z",
     "start_time": "2023-02-11T09:54:01.525261Z"
    },
    "collapsed": true
   },
   "outputs": [
    {
     "ename": "ValueError",
     "evalue": "could not convert string to float: 'United-States'",
     "output_type": "error",
     "traceback": [
      "\u001b[1;31m---------------------------------------------------------------------------\u001b[0m",
      "\u001b[1;31mValueError\u001b[0m                                Traceback (most recent call last)",
      "\u001b[1;32m~\\AppData\\Local\\Temp\\ipykernel_7876\\2065243593.py\u001b[0m in \u001b[0;36m<module>\u001b[1;34m\u001b[0m\n\u001b[0;32m      1\u001b[0m \u001b[0mbins\u001b[0m \u001b[1;33m=\u001b[0m \u001b[1;33m[\u001b[0m\u001b[1;34m'United-States'\u001b[0m\u001b[1;33m]\u001b[0m\u001b[1;31m# 구간\u001b[0m\u001b[1;33m\u001b[0m\u001b[1;33m\u001b[0m\u001b[0m\n\u001b[0;32m      2\u001b[0m \u001b[0mlabels\u001b[0m \u001b[1;33m=\u001b[0m \u001b[1;33m[\u001b[0m\u001b[1;34m'United-States'\u001b[0m\u001b[1;33m,\u001b[0m\u001b[1;34m'other'\u001b[0m\u001b[1;33m]\u001b[0m \u001b[1;31m# 구간 별 범주 이름\u001b[0m\u001b[1;33m\u001b[0m\u001b[1;33m\u001b[0m\u001b[0m\n\u001b[1;32m----> 3\u001b[1;33m train['native-country']=pd.cut(x=train['native-country'],\n\u001b[0m\u001b[0;32m      4\u001b[0m       \u001b[0mbins\u001b[0m\u001b[1;33m=\u001b[0m\u001b[0mbins\u001b[0m\u001b[1;33m,\u001b[0m\u001b[1;33m\u001b[0m\u001b[1;33m\u001b[0m\u001b[0m\n\u001b[0;32m      5\u001b[0m       labels=labels)\n",
      "\u001b[1;32m~\\anaconda3\\lib\\site-packages\\pandas\\core\\reshape\\tile.py\u001b[0m in \u001b[0;36mcut\u001b[1;34m(x, bins, right, labels, retbins, precision, include_lowest, duplicates, ordered)\u001b[0m\n\u001b[0;32m    287\u001b[0m \u001b[1;33m\u001b[0m\u001b[0m\n\u001b[0;32m    288\u001b[0m         \u001b[1;31m# GH 26045: cast to float64 to avoid an overflow\u001b[0m\u001b[1;33m\u001b[0m\u001b[1;33m\u001b[0m\u001b[0m\n\u001b[1;32m--> 289\u001b[1;33m         \u001b[1;32mif\u001b[0m \u001b[1;33m(\u001b[0m\u001b[0mnp\u001b[0m\u001b[1;33m.\u001b[0m\u001b[0mdiff\u001b[0m\u001b[1;33m(\u001b[0m\u001b[0mbins\u001b[0m\u001b[1;33m.\u001b[0m\u001b[0mastype\u001b[0m\u001b[1;33m(\u001b[0m\u001b[1;34m\"float64\"\u001b[0m\u001b[1;33m)\u001b[0m\u001b[1;33m)\u001b[0m \u001b[1;33m<\u001b[0m \u001b[1;36m0\u001b[0m\u001b[1;33m)\u001b[0m\u001b[1;33m.\u001b[0m\u001b[0many\u001b[0m\u001b[1;33m(\u001b[0m\u001b[1;33m)\u001b[0m\u001b[1;33m:\u001b[0m\u001b[1;33m\u001b[0m\u001b[1;33m\u001b[0m\u001b[0m\n\u001b[0m\u001b[0;32m    290\u001b[0m             \u001b[1;32mraise\u001b[0m \u001b[0mValueError\u001b[0m\u001b[1;33m(\u001b[0m\u001b[1;34m\"bins must increase monotonically.\"\u001b[0m\u001b[1;33m)\u001b[0m\u001b[1;33m\u001b[0m\u001b[1;33m\u001b[0m\u001b[0m\n\u001b[0;32m    291\u001b[0m \u001b[1;33m\u001b[0m\u001b[0m\n",
      "\u001b[1;31mValueError\u001b[0m: could not convert string to float: 'United-States'"
     ]
    }
   ],
   "source": [
    "bins = ['United-States']# 구간\n",
    "labels = ['United-States','other'] # 구간 별 범주 이름\n",
    "train['native-country']=pd.cut(x=train['native-country'],\n",
    "      bins=bins,\n",
    "      labels=labels)"
   ]
  },
  {
   "cell_type": "code",
   "execution_count": 40,
   "id": "e89ff74a",
   "metadata": {
    "ExecuteTime": {
     "end_time": "2023-02-11T09:49:28.002632Z",
     "start_time": "2023-02-11T09:49:27.983683Z"
    },
    "scrolled": true
   },
   "outputs": [
    {
     "data": {
      "text/html": [
       "<div>\n",
       "<style scoped>\n",
       "    .dataframe tbody tr th:only-of-type {\n",
       "        vertical-align: middle;\n",
       "    }\n",
       "\n",
       "    .dataframe tbody tr th {\n",
       "        vertical-align: top;\n",
       "    }\n",
       "\n",
       "    .dataframe thead th {\n",
       "        text-align: right;\n",
       "    }\n",
       "</style>\n",
       "<table border=\"1\" class=\"dataframe\">\n",
       "  <thead>\n",
       "    <tr style=\"text-align: right;\">\n",
       "      <th></th>\n",
       "      <th>age</th>\n",
       "      <th>workclass</th>\n",
       "      <th>education</th>\n",
       "      <th>education-num</th>\n",
       "      <th>marital-status</th>\n",
       "      <th>occupation</th>\n",
       "      <th>relationship</th>\n",
       "      <th>sex</th>\n",
       "      <th>capital-gain</th>\n",
       "      <th>capital-loss</th>\n",
       "      <th>native-country</th>\n",
       "      <th>income</th>\n",
       "      <th>hours-per-week-Group</th>\n",
       "    </tr>\n",
       "    <tr>\n",
       "      <th>no</th>\n",
       "      <th></th>\n",
       "      <th></th>\n",
       "      <th></th>\n",
       "      <th></th>\n",
       "      <th></th>\n",
       "      <th></th>\n",
       "      <th></th>\n",
       "      <th></th>\n",
       "      <th></th>\n",
       "      <th></th>\n",
       "      <th></th>\n",
       "      <th></th>\n",
       "      <th></th>\n",
       "    </tr>\n",
       "  </thead>\n",
       "  <tbody>\n",
       "    <tr>\n",
       "      <th>1</th>\n",
       "      <td>25</td>\n",
       "      <td>Private</td>\n",
       "      <td>11th</td>\n",
       "      <td>7</td>\n",
       "      <td>Divorced</td>\n",
       "      <td>Machine-op-inspct</td>\n",
       "      <td>Not-in-family</td>\n",
       "      <td>Male</td>\n",
       "      <td>0</td>\n",
       "      <td>0</td>\n",
       "      <td>United-States</td>\n",
       "      <td>0</td>\n",
       "      <td>40~70</td>\n",
       "    </tr>\n",
       "    <tr>\n",
       "      <th>2</th>\n",
       "      <td>39</td>\n",
       "      <td>Private</td>\n",
       "      <td>Some-college</td>\n",
       "      <td>10</td>\n",
       "      <td>Divorced</td>\n",
       "      <td>Other-service</td>\n",
       "      <td>Not-in-family</td>\n",
       "      <td>Female</td>\n",
       "      <td>0</td>\n",
       "      <td>1721</td>\n",
       "      <td>United-States</td>\n",
       "      <td>0</td>\n",
       "      <td>40~70</td>\n",
       "    </tr>\n",
       "    <tr>\n",
       "      <th>3</th>\n",
       "      <td>35</td>\n",
       "      <td>Private</td>\n",
       "      <td>Bachelors</td>\n",
       "      <td>13</td>\n",
       "      <td>Never-married</td>\n",
       "      <td>Handlers-cleaners</td>\n",
       "      <td>Not-in-family</td>\n",
       "      <td>Female</td>\n",
       "      <td>0</td>\n",
       "      <td>0</td>\n",
       "      <td>Haiti</td>\n",
       "      <td>0</td>\n",
       "      <td>40~70</td>\n",
       "    </tr>\n",
       "    <tr>\n",
       "      <th>4</th>\n",
       "      <td>64</td>\n",
       "      <td>Private</td>\n",
       "      <td>Assoc-voc</td>\n",
       "      <td>11</td>\n",
       "      <td>Divorced</td>\n",
       "      <td>Tech-support</td>\n",
       "      <td>Not-in-family</td>\n",
       "      <td>Female</td>\n",
       "      <td>0</td>\n",
       "      <td>0</td>\n",
       "      <td>United-States</td>\n",
       "      <td>0</td>\n",
       "      <td>40~70</td>\n",
       "    </tr>\n",
       "    <tr>\n",
       "      <th>5</th>\n",
       "      <td>24</td>\n",
       "      <td>Private</td>\n",
       "      <td>Some-college</td>\n",
       "      <td>10</td>\n",
       "      <td>Married-civ-spouse</td>\n",
       "      <td>Transport-moving</td>\n",
       "      <td>Husband</td>\n",
       "      <td>Male</td>\n",
       "      <td>0</td>\n",
       "      <td>0</td>\n",
       "      <td>United-States</td>\n",
       "      <td>1</td>\n",
       "      <td>40~70</td>\n",
       "    </tr>\n",
       "    <tr>\n",
       "      <th>...</th>\n",
       "      <td>...</td>\n",
       "      <td>...</td>\n",
       "      <td>...</td>\n",
       "      <td>...</td>\n",
       "      <td>...</td>\n",
       "      <td>...</td>\n",
       "      <td>...</td>\n",
       "      <td>...</td>\n",
       "      <td>...</td>\n",
       "      <td>...</td>\n",
       "      <td>...</td>\n",
       "      <td>...</td>\n",
       "      <td>...</td>\n",
       "    </tr>\n",
       "    <tr>\n",
       "      <th>29301</th>\n",
       "      <td>20</td>\n",
       "      <td>Private</td>\n",
       "      <td>HS-grad</td>\n",
       "      <td>9</td>\n",
       "      <td>Never-married</td>\n",
       "      <td>Sales</td>\n",
       "      <td>Own-child</td>\n",
       "      <td>Male</td>\n",
       "      <td>0</td>\n",
       "      <td>0</td>\n",
       "      <td>Puerto-Rico</td>\n",
       "      <td>0</td>\n",
       "      <td>40~70</td>\n",
       "    </tr>\n",
       "    <tr>\n",
       "      <th>29302</th>\n",
       "      <td>21</td>\n",
       "      <td>Private</td>\n",
       "      <td>HS-grad</td>\n",
       "      <td>9</td>\n",
       "      <td>Never-married</td>\n",
       "      <td>Sales</td>\n",
       "      <td>Own-child</td>\n",
       "      <td>Male</td>\n",
       "      <td>0</td>\n",
       "      <td>0</td>\n",
       "      <td>United-States</td>\n",
       "      <td>0</td>\n",
       "      <td>40~70</td>\n",
       "    </tr>\n",
       "    <tr>\n",
       "      <th>29303</th>\n",
       "      <td>18</td>\n",
       "      <td>Self-emp-not-inc</td>\n",
       "      <td>10th</td>\n",
       "      <td>6</td>\n",
       "      <td>Never-married</td>\n",
       "      <td>Farming-fishing</td>\n",
       "      <td>Own-child</td>\n",
       "      <td>Male</td>\n",
       "      <td>0</td>\n",
       "      <td>0</td>\n",
       "      <td>United-States</td>\n",
       "      <td>0</td>\n",
       "      <td>40~70</td>\n",
       "    </tr>\n",
       "    <tr>\n",
       "      <th>29304</th>\n",
       "      <td>33</td>\n",
       "      <td>Private</td>\n",
       "      <td>11th</td>\n",
       "      <td>7</td>\n",
       "      <td>Never-married</td>\n",
       "      <td>Craft-repair</td>\n",
       "      <td>Not-in-family</td>\n",
       "      <td>Male</td>\n",
       "      <td>0</td>\n",
       "      <td>0</td>\n",
       "      <td>United-States</td>\n",
       "      <td>0</td>\n",
       "      <td>40~70</td>\n",
       "    </tr>\n",
       "    <tr>\n",
       "      <th>29305</th>\n",
       "      <td>65</td>\n",
       "      <td>?</td>\n",
       "      <td>HS-grad</td>\n",
       "      <td>9</td>\n",
       "      <td>Widowed</td>\n",
       "      <td>?</td>\n",
       "      <td>Not-in-family</td>\n",
       "      <td>Female</td>\n",
       "      <td>0</td>\n",
       "      <td>0</td>\n",
       "      <td>United-States</td>\n",
       "      <td>0</td>\n",
       "      <td>40~70</td>\n",
       "    </tr>\n",
       "  </tbody>\n",
       "</table>\n",
       "<p>29305 rows × 13 columns</p>\n",
       "</div>"
      ],
      "text/plain": [
       "       age         workclass     education  education-num      marital-status  \\\n",
       "no                                                                              \n",
       "1       25           Private          11th              7            Divorced   \n",
       "2       39           Private  Some-college             10            Divorced   \n",
       "3       35           Private     Bachelors             13       Never-married   \n",
       "4       64           Private     Assoc-voc             11            Divorced   \n",
       "5       24           Private  Some-college             10  Married-civ-spouse   \n",
       "...    ...               ...           ...            ...                 ...   \n",
       "29301   20           Private       HS-grad              9       Never-married   \n",
       "29302   21           Private       HS-grad              9       Never-married   \n",
       "29303   18  Self-emp-not-inc          10th              6       Never-married   \n",
       "29304   33           Private          11th              7       Never-married   \n",
       "29305   65                 ?       HS-grad              9             Widowed   \n",
       "\n",
       "              occupation   relationship     sex  capital-gain  capital-loss  \\\n",
       "no                                                                            \n",
       "1      Machine-op-inspct  Not-in-family    Male             0             0   \n",
       "2          Other-service  Not-in-family  Female             0          1721   \n",
       "3      Handlers-cleaners  Not-in-family  Female             0             0   \n",
       "4           Tech-support  Not-in-family  Female             0             0   \n",
       "5       Transport-moving        Husband    Male             0             0   \n",
       "...                  ...            ...     ...           ...           ...   \n",
       "29301              Sales      Own-child    Male             0             0   \n",
       "29302              Sales      Own-child    Male             0             0   \n",
       "29303    Farming-fishing      Own-child    Male             0             0   \n",
       "29304       Craft-repair  Not-in-family    Male             0             0   \n",
       "29305                  ?  Not-in-family  Female             0             0   \n",
       "\n",
       "      native-country  income hours-per-week-Group  \n",
       "no                                                 \n",
       "1      United-States       0                40~70  \n",
       "2      United-States       0                40~70  \n",
       "3              Haiti       0                40~70  \n",
       "4      United-States       0                40~70  \n",
       "5      United-States       1                40~70  \n",
       "...              ...     ...                  ...  \n",
       "29301    Puerto-Rico       0                40~70  \n",
       "29302  United-States       0                40~70  \n",
       "29303  United-States       0                40~70  \n",
       "29304  United-States       0                40~70  \n",
       "29305  United-States       0                40~70  \n",
       "\n",
       "[29305 rows x 13 columns]"
      ]
     },
     "execution_count": 40,
     "metadata": {},
     "output_type": "execute_result"
    }
   ],
   "source": [
    "train"
   ]
  },
  {
   "cell_type": "code",
   "execution_count": null,
   "id": "8bae94d8",
   "metadata": {},
   "outputs": [],
   "source": []
  },
  {
   "cell_type": "code",
   "execution_count": 20,
   "id": "6e2ade6d",
   "metadata": {
    "ExecuteTime": {
     "end_time": "2023-02-11T09:34:58.743686Z",
     "start_time": "2023-02-11T09:34:58.716647Z"
    }
   },
   "outputs": [],
   "source": [
    "bins = [0,3103,7297,99999]  # 구간\n",
    "labels = ['0~3103','3103~7297','7297~99999'] # 구간 별 범주 이름\n",
    "test['hours-per-week-Group']=pd.cut(x=train['hours-per-week'],\n",
    "      bins=bins,\n",
    "      labels=labels)"
   ]
  },
  {
   "cell_type": "code",
   "execution_count": 22,
   "id": "2371c042",
   "metadata": {
    "ExecuteTime": {
     "end_time": "2023-02-11T09:35:35.711274Z",
     "start_time": "2023-02-11T09:35:35.697311Z"
    }
   },
   "outputs": [
    {
     "data": {
      "text/plain": [
       "no\n",
       "1                  Private\n",
       "2                  Private\n",
       "3                  Private\n",
       "4                  Private\n",
       "5                  Private\n",
       "               ...        \n",
       "29301              Private\n",
       "29302              Private\n",
       "29303     Self-emp-not-inc\n",
       "29304              Private\n",
       "29305                    ?\n",
       "Name: workclass, Length: 29305, dtype: object"
      ]
     },
     "execution_count": 22,
     "metadata": {},
     "output_type": "execute_result"
    }
   ],
   "source": [
    "train['workclass']"
   ]
  },
  {
   "cell_type": "code",
   "execution_count": 24,
   "id": "317c3f11",
   "metadata": {
    "ExecuteTime": {
     "end_time": "2023-02-11T09:38:03.041964Z",
     "start_time": "2023-02-11T09:38:03.029175Z"
    }
   },
   "outputs": [
    {
     "data": {
      "text/plain": [
       "array([' 11th', ' Some-college', ' Bachelors', ' Assoc-voc', ' 9th',\n",
       "       ' HS-grad', ' Masters', ' 5th-6th', ' Prof-school', ' 12th',\n",
       "       ' 10th', ' Assoc-acdm', ' Doctorate', ' 7th-8th', ' 1st-4th',\n",
       "       ' Preschool'], dtype=object)"
      ]
     },
     "execution_count": 24,
     "metadata": {},
     "output_type": "execute_result"
    }
   ],
   "source": [
    "train['education'].unique()"
   ]
  },
  {
   "cell_type": "code",
   "execution_count": 85,
   "id": "90129d9e",
   "metadata": {
    "ExecuteTime": {
     "end_time": "2023-02-13T05:50:56.735975Z",
     "start_time": "2023-02-13T05:50:56.718082Z"
    }
   },
   "outputs": [
    {
     "data": {
      "text/html": [
       "<div>\n",
       "<style scoped>\n",
       "    .dataframe tbody tr th:only-of-type {\n",
       "        vertical-align: middle;\n",
       "    }\n",
       "\n",
       "    .dataframe tbody tr th {\n",
       "        vertical-align: top;\n",
       "    }\n",
       "\n",
       "    .dataframe thead th {\n",
       "        text-align: right;\n",
       "    }\n",
       "</style>\n",
       "<table border=\"1\" class=\"dataframe\">\n",
       "  <thead>\n",
       "    <tr style=\"text-align: right;\">\n",
       "      <th></th>\n",
       "      <th>age</th>\n",
       "      <th>workclass</th>\n",
       "      <th>education</th>\n",
       "      <th>education-num</th>\n",
       "      <th>marital-status</th>\n",
       "      <th>occupation</th>\n",
       "      <th>relationship</th>\n",
       "      <th>sex</th>\n",
       "      <th>capital-gain</th>\n",
       "      <th>capital-loss</th>\n",
       "      <th>native-country</th>\n",
       "      <th>income</th>\n",
       "      <th>hours-per-week-Group</th>\n",
       "    </tr>\n",
       "    <tr>\n",
       "      <th>no</th>\n",
       "      <th></th>\n",
       "      <th></th>\n",
       "      <th></th>\n",
       "      <th></th>\n",
       "      <th></th>\n",
       "      <th></th>\n",
       "      <th></th>\n",
       "      <th></th>\n",
       "      <th></th>\n",
       "      <th></th>\n",
       "      <th></th>\n",
       "      <th></th>\n",
       "      <th></th>\n",
       "    </tr>\n",
       "  </thead>\n",
       "  <tbody>\n",
       "    <tr>\n",
       "      <th>1</th>\n",
       "      <td>25</td>\n",
       "      <td>Private</td>\n",
       "      <td>11th</td>\n",
       "      <td>7</td>\n",
       "      <td>Divorced</td>\n",
       "      <td>Machine-op-inspct</td>\n",
       "      <td>Not-in-family</td>\n",
       "      <td>Male</td>\n",
       "      <td>0</td>\n",
       "      <td>0</td>\n",
       "      <td>United-States</td>\n",
       "      <td>0</td>\n",
       "      <td>40~70</td>\n",
       "    </tr>\n",
       "    <tr>\n",
       "      <th>2</th>\n",
       "      <td>39</td>\n",
       "      <td>Private</td>\n",
       "      <td>Some-college</td>\n",
       "      <td>10</td>\n",
       "      <td>Divorced</td>\n",
       "      <td>Other-service</td>\n",
       "      <td>Not-in-family</td>\n",
       "      <td>Female</td>\n",
       "      <td>0</td>\n",
       "      <td>1721</td>\n",
       "      <td>United-States</td>\n",
       "      <td>0</td>\n",
       "      <td>40~70</td>\n",
       "    </tr>\n",
       "    <tr>\n",
       "      <th>3</th>\n",
       "      <td>35</td>\n",
       "      <td>Private</td>\n",
       "      <td>Bachelors</td>\n",
       "      <td>13</td>\n",
       "      <td>Never-married</td>\n",
       "      <td>Handlers-cleaners</td>\n",
       "      <td>Not-in-family</td>\n",
       "      <td>Female</td>\n",
       "      <td>0</td>\n",
       "      <td>0</td>\n",
       "      <td>Haiti</td>\n",
       "      <td>0</td>\n",
       "      <td>40~70</td>\n",
       "    </tr>\n",
       "    <tr>\n",
       "      <th>4</th>\n",
       "      <td>64</td>\n",
       "      <td>Private</td>\n",
       "      <td>Assoc-voc</td>\n",
       "      <td>11</td>\n",
       "      <td>Divorced</td>\n",
       "      <td>Tech-support</td>\n",
       "      <td>Not-in-family</td>\n",
       "      <td>Female</td>\n",
       "      <td>0</td>\n",
       "      <td>0</td>\n",
       "      <td>United-States</td>\n",
       "      <td>0</td>\n",
       "      <td>40~70</td>\n",
       "    </tr>\n",
       "    <tr>\n",
       "      <th>5</th>\n",
       "      <td>24</td>\n",
       "      <td>Private</td>\n",
       "      <td>Some-college</td>\n",
       "      <td>10</td>\n",
       "      <td>Married-civ-spouse</td>\n",
       "      <td>Transport-moving</td>\n",
       "      <td>Husband</td>\n",
       "      <td>Male</td>\n",
       "      <td>0</td>\n",
       "      <td>0</td>\n",
       "      <td>United-States</td>\n",
       "      <td>1</td>\n",
       "      <td>40~70</td>\n",
       "    </tr>\n",
       "    <tr>\n",
       "      <th>...</th>\n",
       "      <td>...</td>\n",
       "      <td>...</td>\n",
       "      <td>...</td>\n",
       "      <td>...</td>\n",
       "      <td>...</td>\n",
       "      <td>...</td>\n",
       "      <td>...</td>\n",
       "      <td>...</td>\n",
       "      <td>...</td>\n",
       "      <td>...</td>\n",
       "      <td>...</td>\n",
       "      <td>...</td>\n",
       "      <td>...</td>\n",
       "    </tr>\n",
       "    <tr>\n",
       "      <th>29301</th>\n",
       "      <td>20</td>\n",
       "      <td>Private</td>\n",
       "      <td>HS-grad</td>\n",
       "      <td>9</td>\n",
       "      <td>Never-married</td>\n",
       "      <td>Sales</td>\n",
       "      <td>Own-child</td>\n",
       "      <td>Male</td>\n",
       "      <td>0</td>\n",
       "      <td>0</td>\n",
       "      <td>Puerto-Rico</td>\n",
       "      <td>0</td>\n",
       "      <td>40~70</td>\n",
       "    </tr>\n",
       "    <tr>\n",
       "      <th>29302</th>\n",
       "      <td>21</td>\n",
       "      <td>Private</td>\n",
       "      <td>HS-grad</td>\n",
       "      <td>9</td>\n",
       "      <td>Never-married</td>\n",
       "      <td>Sales</td>\n",
       "      <td>Own-child</td>\n",
       "      <td>Male</td>\n",
       "      <td>0</td>\n",
       "      <td>0</td>\n",
       "      <td>United-States</td>\n",
       "      <td>0</td>\n",
       "      <td>40~70</td>\n",
       "    </tr>\n",
       "    <tr>\n",
       "      <th>29303</th>\n",
       "      <td>18</td>\n",
       "      <td>Self-emp-not-inc</td>\n",
       "      <td>10th</td>\n",
       "      <td>6</td>\n",
       "      <td>Never-married</td>\n",
       "      <td>Farming-fishing</td>\n",
       "      <td>Own-child</td>\n",
       "      <td>Male</td>\n",
       "      <td>0</td>\n",
       "      <td>0</td>\n",
       "      <td>United-States</td>\n",
       "      <td>0</td>\n",
       "      <td>40~70</td>\n",
       "    </tr>\n",
       "    <tr>\n",
       "      <th>29304</th>\n",
       "      <td>33</td>\n",
       "      <td>Private</td>\n",
       "      <td>11th</td>\n",
       "      <td>7</td>\n",
       "      <td>Never-married</td>\n",
       "      <td>Craft-repair</td>\n",
       "      <td>Not-in-family</td>\n",
       "      <td>Male</td>\n",
       "      <td>0</td>\n",
       "      <td>0</td>\n",
       "      <td>United-States</td>\n",
       "      <td>0</td>\n",
       "      <td>40~70</td>\n",
       "    </tr>\n",
       "    <tr>\n",
       "      <th>29305</th>\n",
       "      <td>65</td>\n",
       "      <td>unemployed</td>\n",
       "      <td>HS-grad</td>\n",
       "      <td>9</td>\n",
       "      <td>Widowed</td>\n",
       "      <td>nothing</td>\n",
       "      <td>Not-in-family</td>\n",
       "      <td>Female</td>\n",
       "      <td>0</td>\n",
       "      <td>0</td>\n",
       "      <td>United-States</td>\n",
       "      <td>0</td>\n",
       "      <td>40~70</td>\n",
       "    </tr>\n",
       "  </tbody>\n",
       "</table>\n",
       "<p>29305 rows × 13 columns</p>\n",
       "</div>"
      ],
      "text/plain": [
       "       age         workclass     education  education-num      marital-status  \\\n",
       "no                                                                              \n",
       "1       25           Private          11th              7            Divorced   \n",
       "2       39           Private  Some-college             10            Divorced   \n",
       "3       35           Private     Bachelors             13       Never-married   \n",
       "4       64           Private     Assoc-voc             11            Divorced   \n",
       "5       24           Private  Some-college             10  Married-civ-spouse   \n",
       "...    ...               ...           ...            ...                 ...   \n",
       "29301   20           Private       HS-grad              9       Never-married   \n",
       "29302   21           Private       HS-grad              9       Never-married   \n",
       "29303   18  Self-emp-not-inc          10th              6       Never-married   \n",
       "29304   33           Private          11th              7       Never-married   \n",
       "29305   65        unemployed       HS-grad              9             Widowed   \n",
       "\n",
       "              occupation   relationship     sex  capital-gain  capital-loss  \\\n",
       "no                                                                            \n",
       "1      Machine-op-inspct  Not-in-family    Male             0             0   \n",
       "2          Other-service  Not-in-family  Female             0          1721   \n",
       "3      Handlers-cleaners  Not-in-family  Female             0             0   \n",
       "4           Tech-support  Not-in-family  Female             0             0   \n",
       "5       Transport-moving        Husband    Male             0             0   \n",
       "...                  ...            ...     ...           ...           ...   \n",
       "29301              Sales      Own-child    Male             0             0   \n",
       "29302              Sales      Own-child    Male             0             0   \n",
       "29303    Farming-fishing      Own-child    Male             0             0   \n",
       "29304       Craft-repair  Not-in-family    Male             0             0   \n",
       "29305            nothing  Not-in-family  Female             0             0   \n",
       "\n",
       "      native-country  income hours-per-week-Group  \n",
       "no                                                 \n",
       "1      United-States       0                40~70  \n",
       "2      United-States       0                40~70  \n",
       "3              Haiti       0                40~70  \n",
       "4      United-States       0                40~70  \n",
       "5      United-States       1                40~70  \n",
       "...              ...     ...                  ...  \n",
       "29301    Puerto-Rico       0                40~70  \n",
       "29302  United-States       0                40~70  \n",
       "29303  United-States       0                40~70  \n",
       "29304  United-States       0                40~70  \n",
       "29305  United-States       0                40~70  \n",
       "\n",
       "[29305 rows x 13 columns]"
      ]
     },
     "execution_count": 85,
     "metadata": {},
     "output_type": "execute_result"
    }
   ],
   "source": [
    "train"
   ]
  },
  {
   "cell_type": "code",
   "execution_count": 86,
   "id": "72c7c48b",
   "metadata": {
    "ExecuteTime": {
     "end_time": "2023-02-13T05:51:59.924082Z",
     "start_time": "2023-02-13T05:51:59.917100Z"
    }
   },
   "outputs": [],
   "source": [
    "categorical_features=['workclass','education', 'marital-status', 'occupation', 'relationship','sex','hours-per-week-Group','native-country']"
   ]
  },
  {
   "cell_type": "code",
   "execution_count": 87,
   "id": "7d2b689e",
   "metadata": {
    "ExecuteTime": {
     "end_time": "2023-02-13T05:52:01.498431Z",
     "start_time": "2023-02-13T05:52:01.437918Z"
    }
   },
   "outputs": [],
   "source": [
    "for feature_name in categorical_features:\n",
    "    one_hot=pd.get_dummies(test[feature_name],prefix=feature_name) # 원핫 인코딩\n",
    "    test.drop(feature_name, axis=1, inplace=True) # 기존 글자형태 컬럼 삭제\n",
    "    test = pd.concat([test,one_hot],axis=1) "
   ]
  },
  {
   "cell_type": "code",
   "execution_count": 88,
   "id": "4f21dea7",
   "metadata": {
    "ExecuteTime": {
     "end_time": "2023-02-13T05:52:04.022778Z",
     "start_time": "2023-02-13T05:52:03.942991Z"
    }
   },
   "outputs": [],
   "source": [
    "for feature_name in categorical_features:\n",
    "    one_hot=pd.get_dummies(train[feature_name],prefix=feature_name) # 원핫 인코딩\n",
    "    train.drop(feature_name, axis=1, inplace=True) # 기존 글자형태 컬럼 삭제\n",
    "    train = pd.concat([train,one_hot],axis=1) "
   ]
  },
  {
   "cell_type": "code",
   "execution_count": 89,
   "id": "87ba419e",
   "metadata": {
    "ExecuteTime": {
     "end_time": "2023-02-13T05:52:12.101020Z",
     "start_time": "2023-02-13T05:52:12.093041Z"
    }
   },
   "outputs": [
    {
     "data": {
      "text/plain": [
       "{'income', 'native-country_Holand-Netherlands'}"
      ]
     },
     "execution_count": 89,
     "metadata": {},
     "output_type": "execute_result"
    }
   ],
   "source": [
    "set(train.columns)-set(test.columns)"
   ]
  },
  {
   "cell_type": "code",
   "execution_count": 92,
   "id": "4e0b4345",
   "metadata": {
    "ExecuteTime": {
     "end_time": "2023-02-13T05:53:15.817158Z",
     "start_time": "2023-02-13T05:53:15.805190Z"
    }
   },
   "outputs": [
    {
     "data": {
      "text/plain": [
       "set()"
      ]
     },
     "execution_count": 92,
     "metadata": {},
     "output_type": "execute_result"
    }
   ],
   "source": [
    "set(test.columns)-set(train.columns)"
   ]
  },
  {
   "cell_type": "code",
   "execution_count": 93,
   "id": "4a8c5b4b",
   "metadata": {
    "ExecuteTime": {
     "end_time": "2023-02-13T05:57:14.317625Z",
     "start_time": "2023-02-13T05:57:14.302665Z"
    },
    "collapsed": true
   },
   "outputs": [
    {
     "data": {
      "text/html": [
       "<div>\n",
       "<style scoped>\n",
       "    .dataframe tbody tr th:only-of-type {\n",
       "        vertical-align: middle;\n",
       "    }\n",
       "\n",
       "    .dataframe tbody tr th {\n",
       "        vertical-align: top;\n",
       "    }\n",
       "\n",
       "    .dataframe thead th {\n",
       "        text-align: right;\n",
       "    }\n",
       "</style>\n",
       "<table border=\"1\" class=\"dataframe\">\n",
       "  <thead>\n",
       "    <tr style=\"text-align: right;\">\n",
       "      <th></th>\n",
       "      <th>age</th>\n",
       "      <th>education-num</th>\n",
       "      <th>capital-gain</th>\n",
       "      <th>capital-loss</th>\n",
       "      <th>income</th>\n",
       "      <th>workclass_Federal-gov</th>\n",
       "      <th>workclass_Local-gov</th>\n",
       "      <th>workclass_Never-worked</th>\n",
       "      <th>workclass_Private</th>\n",
       "      <th>workclass_Self-emp-inc</th>\n",
       "      <th>...</th>\n",
       "      <th>native-country_Puerto-Rico</th>\n",
       "      <th>native-country_Scotland</th>\n",
       "      <th>native-country_South</th>\n",
       "      <th>native-country_Taiwan</th>\n",
       "      <th>native-country_Thailand</th>\n",
       "      <th>native-country_Trinadad&amp;Tobago</th>\n",
       "      <th>native-country_United-States</th>\n",
       "      <th>native-country_Vietnam</th>\n",
       "      <th>native-country_Yugoslavia</th>\n",
       "      <th>native-country_other</th>\n",
       "    </tr>\n",
       "    <tr>\n",
       "      <th>no</th>\n",
       "      <th></th>\n",
       "      <th></th>\n",
       "      <th></th>\n",
       "      <th></th>\n",
       "      <th></th>\n",
       "      <th></th>\n",
       "      <th></th>\n",
       "      <th></th>\n",
       "      <th></th>\n",
       "      <th></th>\n",
       "      <th></th>\n",
       "      <th></th>\n",
       "      <th></th>\n",
       "      <th></th>\n",
       "      <th></th>\n",
       "      <th></th>\n",
       "      <th></th>\n",
       "      <th></th>\n",
       "      <th></th>\n",
       "      <th></th>\n",
       "      <th></th>\n",
       "    </tr>\n",
       "  </thead>\n",
       "  <tbody>\n",
       "    <tr>\n",
       "      <th>1</th>\n",
       "      <td>25</td>\n",
       "      <td>7</td>\n",
       "      <td>0</td>\n",
       "      <td>0</td>\n",
       "      <td>0</td>\n",
       "      <td>0</td>\n",
       "      <td>0</td>\n",
       "      <td>0</td>\n",
       "      <td>1</td>\n",
       "      <td>0</td>\n",
       "      <td>...</td>\n",
       "      <td>0</td>\n",
       "      <td>0</td>\n",
       "      <td>0</td>\n",
       "      <td>0</td>\n",
       "      <td>0</td>\n",
       "      <td>0</td>\n",
       "      <td>1</td>\n",
       "      <td>0</td>\n",
       "      <td>0</td>\n",
       "      <td>0</td>\n",
       "    </tr>\n",
       "    <tr>\n",
       "      <th>2</th>\n",
       "      <td>39</td>\n",
       "      <td>10</td>\n",
       "      <td>0</td>\n",
       "      <td>1721</td>\n",
       "      <td>0</td>\n",
       "      <td>0</td>\n",
       "      <td>0</td>\n",
       "      <td>0</td>\n",
       "      <td>1</td>\n",
       "      <td>0</td>\n",
       "      <td>...</td>\n",
       "      <td>0</td>\n",
       "      <td>0</td>\n",
       "      <td>0</td>\n",
       "      <td>0</td>\n",
       "      <td>0</td>\n",
       "      <td>0</td>\n",
       "      <td>1</td>\n",
       "      <td>0</td>\n",
       "      <td>0</td>\n",
       "      <td>0</td>\n",
       "    </tr>\n",
       "    <tr>\n",
       "      <th>3</th>\n",
       "      <td>35</td>\n",
       "      <td>13</td>\n",
       "      <td>0</td>\n",
       "      <td>0</td>\n",
       "      <td>0</td>\n",
       "      <td>0</td>\n",
       "      <td>0</td>\n",
       "      <td>0</td>\n",
       "      <td>1</td>\n",
       "      <td>0</td>\n",
       "      <td>...</td>\n",
       "      <td>0</td>\n",
       "      <td>0</td>\n",
       "      <td>0</td>\n",
       "      <td>0</td>\n",
       "      <td>0</td>\n",
       "      <td>0</td>\n",
       "      <td>0</td>\n",
       "      <td>0</td>\n",
       "      <td>0</td>\n",
       "      <td>0</td>\n",
       "    </tr>\n",
       "    <tr>\n",
       "      <th>4</th>\n",
       "      <td>64</td>\n",
       "      <td>11</td>\n",
       "      <td>0</td>\n",
       "      <td>0</td>\n",
       "      <td>0</td>\n",
       "      <td>0</td>\n",
       "      <td>0</td>\n",
       "      <td>0</td>\n",
       "      <td>1</td>\n",
       "      <td>0</td>\n",
       "      <td>...</td>\n",
       "      <td>0</td>\n",
       "      <td>0</td>\n",
       "      <td>0</td>\n",
       "      <td>0</td>\n",
       "      <td>0</td>\n",
       "      <td>0</td>\n",
       "      <td>1</td>\n",
       "      <td>0</td>\n",
       "      <td>0</td>\n",
       "      <td>0</td>\n",
       "    </tr>\n",
       "    <tr>\n",
       "      <th>5</th>\n",
       "      <td>24</td>\n",
       "      <td>10</td>\n",
       "      <td>0</td>\n",
       "      <td>0</td>\n",
       "      <td>1</td>\n",
       "      <td>0</td>\n",
       "      <td>0</td>\n",
       "      <td>0</td>\n",
       "      <td>1</td>\n",
       "      <td>0</td>\n",
       "      <td>...</td>\n",
       "      <td>0</td>\n",
       "      <td>0</td>\n",
       "      <td>0</td>\n",
       "      <td>0</td>\n",
       "      <td>0</td>\n",
       "      <td>0</td>\n",
       "      <td>1</td>\n",
       "      <td>0</td>\n",
       "      <td>0</td>\n",
       "      <td>0</td>\n",
       "    </tr>\n",
       "    <tr>\n",
       "      <th>...</th>\n",
       "      <td>...</td>\n",
       "      <td>...</td>\n",
       "      <td>...</td>\n",
       "      <td>...</td>\n",
       "      <td>...</td>\n",
       "      <td>...</td>\n",
       "      <td>...</td>\n",
       "      <td>...</td>\n",
       "      <td>...</td>\n",
       "      <td>...</td>\n",
       "      <td>...</td>\n",
       "      <td>...</td>\n",
       "      <td>...</td>\n",
       "      <td>...</td>\n",
       "      <td>...</td>\n",
       "      <td>...</td>\n",
       "      <td>...</td>\n",
       "      <td>...</td>\n",
       "      <td>...</td>\n",
       "      <td>...</td>\n",
       "      <td>...</td>\n",
       "    </tr>\n",
       "    <tr>\n",
       "      <th>29301</th>\n",
       "      <td>20</td>\n",
       "      <td>9</td>\n",
       "      <td>0</td>\n",
       "      <td>0</td>\n",
       "      <td>0</td>\n",
       "      <td>0</td>\n",
       "      <td>0</td>\n",
       "      <td>0</td>\n",
       "      <td>1</td>\n",
       "      <td>0</td>\n",
       "      <td>...</td>\n",
       "      <td>1</td>\n",
       "      <td>0</td>\n",
       "      <td>0</td>\n",
       "      <td>0</td>\n",
       "      <td>0</td>\n",
       "      <td>0</td>\n",
       "      <td>0</td>\n",
       "      <td>0</td>\n",
       "      <td>0</td>\n",
       "      <td>0</td>\n",
       "    </tr>\n",
       "    <tr>\n",
       "      <th>29302</th>\n",
       "      <td>21</td>\n",
       "      <td>9</td>\n",
       "      <td>0</td>\n",
       "      <td>0</td>\n",
       "      <td>0</td>\n",
       "      <td>0</td>\n",
       "      <td>0</td>\n",
       "      <td>0</td>\n",
       "      <td>1</td>\n",
       "      <td>0</td>\n",
       "      <td>...</td>\n",
       "      <td>0</td>\n",
       "      <td>0</td>\n",
       "      <td>0</td>\n",
       "      <td>0</td>\n",
       "      <td>0</td>\n",
       "      <td>0</td>\n",
       "      <td>1</td>\n",
       "      <td>0</td>\n",
       "      <td>0</td>\n",
       "      <td>0</td>\n",
       "    </tr>\n",
       "    <tr>\n",
       "      <th>29303</th>\n",
       "      <td>18</td>\n",
       "      <td>6</td>\n",
       "      <td>0</td>\n",
       "      <td>0</td>\n",
       "      <td>0</td>\n",
       "      <td>0</td>\n",
       "      <td>0</td>\n",
       "      <td>0</td>\n",
       "      <td>0</td>\n",
       "      <td>0</td>\n",
       "      <td>...</td>\n",
       "      <td>0</td>\n",
       "      <td>0</td>\n",
       "      <td>0</td>\n",
       "      <td>0</td>\n",
       "      <td>0</td>\n",
       "      <td>0</td>\n",
       "      <td>1</td>\n",
       "      <td>0</td>\n",
       "      <td>0</td>\n",
       "      <td>0</td>\n",
       "    </tr>\n",
       "    <tr>\n",
       "      <th>29304</th>\n",
       "      <td>33</td>\n",
       "      <td>7</td>\n",
       "      <td>0</td>\n",
       "      <td>0</td>\n",
       "      <td>0</td>\n",
       "      <td>0</td>\n",
       "      <td>0</td>\n",
       "      <td>0</td>\n",
       "      <td>1</td>\n",
       "      <td>0</td>\n",
       "      <td>...</td>\n",
       "      <td>0</td>\n",
       "      <td>0</td>\n",
       "      <td>0</td>\n",
       "      <td>0</td>\n",
       "      <td>0</td>\n",
       "      <td>0</td>\n",
       "      <td>1</td>\n",
       "      <td>0</td>\n",
       "      <td>0</td>\n",
       "      <td>0</td>\n",
       "    </tr>\n",
       "    <tr>\n",
       "      <th>29305</th>\n",
       "      <td>65</td>\n",
       "      <td>9</td>\n",
       "      <td>0</td>\n",
       "      <td>0</td>\n",
       "      <td>0</td>\n",
       "      <td>0</td>\n",
       "      <td>0</td>\n",
       "      <td>0</td>\n",
       "      <td>0</td>\n",
       "      <td>0</td>\n",
       "      <td>...</td>\n",
       "      <td>0</td>\n",
       "      <td>0</td>\n",
       "      <td>0</td>\n",
       "      <td>0</td>\n",
       "      <td>0</td>\n",
       "      <td>0</td>\n",
       "      <td>1</td>\n",
       "      <td>0</td>\n",
       "      <td>0</td>\n",
       "      <td>0</td>\n",
       "    </tr>\n",
       "  </tbody>\n",
       "</table>\n",
       "<p>29305 rows × 105 columns</p>\n",
       "</div>"
      ],
      "text/plain": [
       "       age  education-num  capital-gain  capital-loss  income  \\\n",
       "no                                                              \n",
       "1       25              7             0             0       0   \n",
       "2       39             10             0          1721       0   \n",
       "3       35             13             0             0       0   \n",
       "4       64             11             0             0       0   \n",
       "5       24             10             0             0       1   \n",
       "...    ...            ...           ...           ...     ...   \n",
       "29301   20              9             0             0       0   \n",
       "29302   21              9             0             0       0   \n",
       "29303   18              6             0             0       0   \n",
       "29304   33              7             0             0       0   \n",
       "29305   65              9             0             0       0   \n",
       "\n",
       "       workclass_Federal-gov  workclass_Local-gov  workclass_Never-worked  \\\n",
       "no                                                                          \n",
       "1                          0                    0                       0   \n",
       "2                          0                    0                       0   \n",
       "3                          0                    0                       0   \n",
       "4                          0                    0                       0   \n",
       "5                          0                    0                       0   \n",
       "...                      ...                  ...                     ...   \n",
       "29301                      0                    0                       0   \n",
       "29302                      0                    0                       0   \n",
       "29303                      0                    0                       0   \n",
       "29304                      0                    0                       0   \n",
       "29305                      0                    0                       0   \n",
       "\n",
       "       workclass_Private  workclass_Self-emp-inc  ...  \\\n",
       "no                                                ...   \n",
       "1                      1                       0  ...   \n",
       "2                      1                       0  ...   \n",
       "3                      1                       0  ...   \n",
       "4                      1                       0  ...   \n",
       "5                      1                       0  ...   \n",
       "...                  ...                     ...  ...   \n",
       "29301                  1                       0  ...   \n",
       "29302                  1                       0  ...   \n",
       "29303                  0                       0  ...   \n",
       "29304                  1                       0  ...   \n",
       "29305                  0                       0  ...   \n",
       "\n",
       "       native-country_Puerto-Rico  native-country_Scotland  \\\n",
       "no                                                           \n",
       "1                               0                        0   \n",
       "2                               0                        0   \n",
       "3                               0                        0   \n",
       "4                               0                        0   \n",
       "5                               0                        0   \n",
       "...                           ...                      ...   \n",
       "29301                           1                        0   \n",
       "29302                           0                        0   \n",
       "29303                           0                        0   \n",
       "29304                           0                        0   \n",
       "29305                           0                        0   \n",
       "\n",
       "       native-country_South  native-country_Taiwan  native-country_Thailand  \\\n",
       "no                                                                            \n",
       "1                         0                      0                        0   \n",
       "2                         0                      0                        0   \n",
       "3                         0                      0                        0   \n",
       "4                         0                      0                        0   \n",
       "5                         0                      0                        0   \n",
       "...                     ...                    ...                      ...   \n",
       "29301                     0                      0                        0   \n",
       "29302                     0                      0                        0   \n",
       "29303                     0                      0                        0   \n",
       "29304                     0                      0                        0   \n",
       "29305                     0                      0                        0   \n",
       "\n",
       "       native-country_Trinadad&Tobago  native-country_United-States  \\\n",
       "no                                                                    \n",
       "1                                   0                             1   \n",
       "2                                   0                             1   \n",
       "3                                   0                             0   \n",
       "4                                   0                             1   \n",
       "5                                   0                             1   \n",
       "...                               ...                           ...   \n",
       "29301                               0                             0   \n",
       "29302                               0                             1   \n",
       "29303                               0                             1   \n",
       "29304                               0                             1   \n",
       "29305                               0                             1   \n",
       "\n",
       "       native-country_Vietnam  native-country_Yugoslavia  native-country_other  \n",
       "no                                                                              \n",
       "1                           0                          0                     0  \n",
       "2                           0                          0                     0  \n",
       "3                           0                          0                     0  \n",
       "4                           0                          0                     0  \n",
       "5                           0                          0                     0  \n",
       "...                       ...                        ...                   ...  \n",
       "29301                       0                          0                     0  \n",
       "29302                       0                          0                     0  \n",
       "29303                       0                          0                     0  \n",
       "29304                       0                          0                     0  \n",
       "29305                       0                          0                     0  \n",
       "\n",
       "[29305 rows x 105 columns]"
      ]
     },
     "execution_count": 93,
     "metadata": {},
     "output_type": "execute_result"
    }
   ],
   "source": [
    "train"
   ]
  },
  {
   "cell_type": "code",
   "execution_count": 91,
   "id": "8e761e81",
   "metadata": {
    "ExecuteTime": {
     "end_time": "2023-02-13T05:52:58.759058Z",
     "start_time": "2023-02-13T05:52:58.741598Z"
    }
   },
   "outputs": [
    {
     "data": {
      "text/plain": [
       "Index(['age', 'education-num', 'capital-gain', 'capital-loss',\n",
       "       'workclass_Federal-gov', 'workclass_Local-gov',\n",
       "       'workclass_Never-worked', 'workclass_Private', 'workclass_Self-emp-inc',\n",
       "       'workclass_Self-emp-not-inc',\n",
       "       ...\n",
       "       'native-country_Puerto-Rico', 'native-country_Scotland',\n",
       "       'native-country_South', 'native-country_Taiwan',\n",
       "       'native-country_Thailand', 'native-country_Trinadad&Tobago',\n",
       "       'native-country_United-States', 'native-country_Vietnam',\n",
       "       'native-country_Yugoslavia', 'native-country_other'],\n",
       "      dtype='object', length=103)"
      ]
     },
     "execution_count": 91,
     "metadata": {},
     "output_type": "execute_result"
    }
   ],
   "source": [
    "test.columns.unique()"
   ]
  },
  {
   "cell_type": "code",
   "execution_count": 94,
   "id": "6b5d124d",
   "metadata": {
    "ExecuteTime": {
     "end_time": "2023-02-13T05:57:49.873058Z",
     "start_time": "2023-02-13T05:57:49.863084Z"
    }
   },
   "outputs": [],
   "source": [
    "test['native-country_Holand-Netherlands']=0"
   ]
  },
  {
   "cell_type": "code",
   "execution_count": 95,
   "id": "36dbb74d",
   "metadata": {
    "ExecuteTime": {
     "end_time": "2023-02-13T05:58:28.777214Z",
     "start_time": "2023-02-13T05:58:28.758691Z"
    }
   },
   "outputs": [],
   "source": [
    "X_train = train.drop('income',axis=1)\n",
    "y_train=train['income']"
   ]
  },
  {
   "cell_type": "code",
   "execution_count": 96,
   "id": "35b9e168",
   "metadata": {
    "ExecuteTime": {
     "end_time": "2023-02-13T05:58:43.479805Z",
     "start_time": "2023-02-13T05:58:43.470828Z"
    }
   },
   "outputs": [],
   "source": [
    "X_test =test"
   ]
  },
  {
   "cell_type": "code",
   "execution_count": 98,
   "id": "b625f23f",
   "metadata": {
    "ExecuteTime": {
     "end_time": "2023-02-13T05:59:01.783682Z",
     "start_time": "2023-02-13T05:59:01.763763Z"
    },
    "collapsed": true
   },
   "outputs": [
    {
     "data": {
      "text/html": [
       "<div>\n",
       "<style scoped>\n",
       "    .dataframe tbody tr th:only-of-type {\n",
       "        vertical-align: middle;\n",
       "    }\n",
       "\n",
       "    .dataframe tbody tr th {\n",
       "        vertical-align: top;\n",
       "    }\n",
       "\n",
       "    .dataframe thead th {\n",
       "        text-align: right;\n",
       "    }\n",
       "</style>\n",
       "<table border=\"1\" class=\"dataframe\">\n",
       "  <thead>\n",
       "    <tr style=\"text-align: right;\">\n",
       "      <th></th>\n",
       "      <th>age</th>\n",
       "      <th>education-num</th>\n",
       "      <th>capital-gain</th>\n",
       "      <th>capital-loss</th>\n",
       "      <th>workclass_Federal-gov</th>\n",
       "      <th>workclass_Local-gov</th>\n",
       "      <th>workclass_Never-worked</th>\n",
       "      <th>workclass_Private</th>\n",
       "      <th>workclass_Self-emp-inc</th>\n",
       "      <th>workclass_Self-emp-not-inc</th>\n",
       "      <th>...</th>\n",
       "      <th>native-country_Puerto-Rico</th>\n",
       "      <th>native-country_Scotland</th>\n",
       "      <th>native-country_South</th>\n",
       "      <th>native-country_Taiwan</th>\n",
       "      <th>native-country_Thailand</th>\n",
       "      <th>native-country_Trinadad&amp;Tobago</th>\n",
       "      <th>native-country_United-States</th>\n",
       "      <th>native-country_Vietnam</th>\n",
       "      <th>native-country_Yugoslavia</th>\n",
       "      <th>native-country_other</th>\n",
       "    </tr>\n",
       "    <tr>\n",
       "      <th>no</th>\n",
       "      <th></th>\n",
       "      <th></th>\n",
       "      <th></th>\n",
       "      <th></th>\n",
       "      <th></th>\n",
       "      <th></th>\n",
       "      <th></th>\n",
       "      <th></th>\n",
       "      <th></th>\n",
       "      <th></th>\n",
       "      <th></th>\n",
       "      <th></th>\n",
       "      <th></th>\n",
       "      <th></th>\n",
       "      <th></th>\n",
       "      <th></th>\n",
       "      <th></th>\n",
       "      <th></th>\n",
       "      <th></th>\n",
       "      <th></th>\n",
       "      <th></th>\n",
       "    </tr>\n",
       "  </thead>\n",
       "  <tbody>\n",
       "    <tr>\n",
       "      <th>1</th>\n",
       "      <td>25</td>\n",
       "      <td>7</td>\n",
       "      <td>0</td>\n",
       "      <td>0</td>\n",
       "      <td>0</td>\n",
       "      <td>0</td>\n",
       "      <td>0</td>\n",
       "      <td>1</td>\n",
       "      <td>0</td>\n",
       "      <td>0</td>\n",
       "      <td>...</td>\n",
       "      <td>0</td>\n",
       "      <td>0</td>\n",
       "      <td>0</td>\n",
       "      <td>0</td>\n",
       "      <td>0</td>\n",
       "      <td>0</td>\n",
       "      <td>1</td>\n",
       "      <td>0</td>\n",
       "      <td>0</td>\n",
       "      <td>0</td>\n",
       "    </tr>\n",
       "    <tr>\n",
       "      <th>2</th>\n",
       "      <td>39</td>\n",
       "      <td>10</td>\n",
       "      <td>0</td>\n",
       "      <td>1721</td>\n",
       "      <td>0</td>\n",
       "      <td>0</td>\n",
       "      <td>0</td>\n",
       "      <td>1</td>\n",
       "      <td>0</td>\n",
       "      <td>0</td>\n",
       "      <td>...</td>\n",
       "      <td>0</td>\n",
       "      <td>0</td>\n",
       "      <td>0</td>\n",
       "      <td>0</td>\n",
       "      <td>0</td>\n",
       "      <td>0</td>\n",
       "      <td>1</td>\n",
       "      <td>0</td>\n",
       "      <td>0</td>\n",
       "      <td>0</td>\n",
       "    </tr>\n",
       "    <tr>\n",
       "      <th>3</th>\n",
       "      <td>35</td>\n",
       "      <td>13</td>\n",
       "      <td>0</td>\n",
       "      <td>0</td>\n",
       "      <td>0</td>\n",
       "      <td>0</td>\n",
       "      <td>0</td>\n",
       "      <td>1</td>\n",
       "      <td>0</td>\n",
       "      <td>0</td>\n",
       "      <td>...</td>\n",
       "      <td>0</td>\n",
       "      <td>0</td>\n",
       "      <td>0</td>\n",
       "      <td>0</td>\n",
       "      <td>0</td>\n",
       "      <td>0</td>\n",
       "      <td>0</td>\n",
       "      <td>0</td>\n",
       "      <td>0</td>\n",
       "      <td>0</td>\n",
       "    </tr>\n",
       "    <tr>\n",
       "      <th>4</th>\n",
       "      <td>64</td>\n",
       "      <td>11</td>\n",
       "      <td>0</td>\n",
       "      <td>0</td>\n",
       "      <td>0</td>\n",
       "      <td>0</td>\n",
       "      <td>0</td>\n",
       "      <td>1</td>\n",
       "      <td>0</td>\n",
       "      <td>0</td>\n",
       "      <td>...</td>\n",
       "      <td>0</td>\n",
       "      <td>0</td>\n",
       "      <td>0</td>\n",
       "      <td>0</td>\n",
       "      <td>0</td>\n",
       "      <td>0</td>\n",
       "      <td>1</td>\n",
       "      <td>0</td>\n",
       "      <td>0</td>\n",
       "      <td>0</td>\n",
       "    </tr>\n",
       "    <tr>\n",
       "      <th>5</th>\n",
       "      <td>24</td>\n",
       "      <td>10</td>\n",
       "      <td>0</td>\n",
       "      <td>0</td>\n",
       "      <td>0</td>\n",
       "      <td>0</td>\n",
       "      <td>0</td>\n",
       "      <td>1</td>\n",
       "      <td>0</td>\n",
       "      <td>0</td>\n",
       "      <td>...</td>\n",
       "      <td>0</td>\n",
       "      <td>0</td>\n",
       "      <td>0</td>\n",
       "      <td>0</td>\n",
       "      <td>0</td>\n",
       "      <td>0</td>\n",
       "      <td>1</td>\n",
       "      <td>0</td>\n",
       "      <td>0</td>\n",
       "      <td>0</td>\n",
       "    </tr>\n",
       "    <tr>\n",
       "      <th>...</th>\n",
       "      <td>...</td>\n",
       "      <td>...</td>\n",
       "      <td>...</td>\n",
       "      <td>...</td>\n",
       "      <td>...</td>\n",
       "      <td>...</td>\n",
       "      <td>...</td>\n",
       "      <td>...</td>\n",
       "      <td>...</td>\n",
       "      <td>...</td>\n",
       "      <td>...</td>\n",
       "      <td>...</td>\n",
       "      <td>...</td>\n",
       "      <td>...</td>\n",
       "      <td>...</td>\n",
       "      <td>...</td>\n",
       "      <td>...</td>\n",
       "      <td>...</td>\n",
       "      <td>...</td>\n",
       "      <td>...</td>\n",
       "      <td>...</td>\n",
       "    </tr>\n",
       "    <tr>\n",
       "      <th>29301</th>\n",
       "      <td>20</td>\n",
       "      <td>9</td>\n",
       "      <td>0</td>\n",
       "      <td>0</td>\n",
       "      <td>0</td>\n",
       "      <td>0</td>\n",
       "      <td>0</td>\n",
       "      <td>1</td>\n",
       "      <td>0</td>\n",
       "      <td>0</td>\n",
       "      <td>...</td>\n",
       "      <td>1</td>\n",
       "      <td>0</td>\n",
       "      <td>0</td>\n",
       "      <td>0</td>\n",
       "      <td>0</td>\n",
       "      <td>0</td>\n",
       "      <td>0</td>\n",
       "      <td>0</td>\n",
       "      <td>0</td>\n",
       "      <td>0</td>\n",
       "    </tr>\n",
       "    <tr>\n",
       "      <th>29302</th>\n",
       "      <td>21</td>\n",
       "      <td>9</td>\n",
       "      <td>0</td>\n",
       "      <td>0</td>\n",
       "      <td>0</td>\n",
       "      <td>0</td>\n",
       "      <td>0</td>\n",
       "      <td>1</td>\n",
       "      <td>0</td>\n",
       "      <td>0</td>\n",
       "      <td>...</td>\n",
       "      <td>0</td>\n",
       "      <td>0</td>\n",
       "      <td>0</td>\n",
       "      <td>0</td>\n",
       "      <td>0</td>\n",
       "      <td>0</td>\n",
       "      <td>1</td>\n",
       "      <td>0</td>\n",
       "      <td>0</td>\n",
       "      <td>0</td>\n",
       "    </tr>\n",
       "    <tr>\n",
       "      <th>29303</th>\n",
       "      <td>18</td>\n",
       "      <td>6</td>\n",
       "      <td>0</td>\n",
       "      <td>0</td>\n",
       "      <td>0</td>\n",
       "      <td>0</td>\n",
       "      <td>0</td>\n",
       "      <td>0</td>\n",
       "      <td>0</td>\n",
       "      <td>1</td>\n",
       "      <td>...</td>\n",
       "      <td>0</td>\n",
       "      <td>0</td>\n",
       "      <td>0</td>\n",
       "      <td>0</td>\n",
       "      <td>0</td>\n",
       "      <td>0</td>\n",
       "      <td>1</td>\n",
       "      <td>0</td>\n",
       "      <td>0</td>\n",
       "      <td>0</td>\n",
       "    </tr>\n",
       "    <tr>\n",
       "      <th>29304</th>\n",
       "      <td>33</td>\n",
       "      <td>7</td>\n",
       "      <td>0</td>\n",
       "      <td>0</td>\n",
       "      <td>0</td>\n",
       "      <td>0</td>\n",
       "      <td>0</td>\n",
       "      <td>1</td>\n",
       "      <td>0</td>\n",
       "      <td>0</td>\n",
       "      <td>...</td>\n",
       "      <td>0</td>\n",
       "      <td>0</td>\n",
       "      <td>0</td>\n",
       "      <td>0</td>\n",
       "      <td>0</td>\n",
       "      <td>0</td>\n",
       "      <td>1</td>\n",
       "      <td>0</td>\n",
       "      <td>0</td>\n",
       "      <td>0</td>\n",
       "    </tr>\n",
       "    <tr>\n",
       "      <th>29305</th>\n",
       "      <td>65</td>\n",
       "      <td>9</td>\n",
       "      <td>0</td>\n",
       "      <td>0</td>\n",
       "      <td>0</td>\n",
       "      <td>0</td>\n",
       "      <td>0</td>\n",
       "      <td>0</td>\n",
       "      <td>0</td>\n",
       "      <td>0</td>\n",
       "      <td>...</td>\n",
       "      <td>0</td>\n",
       "      <td>0</td>\n",
       "      <td>0</td>\n",
       "      <td>0</td>\n",
       "      <td>0</td>\n",
       "      <td>0</td>\n",
       "      <td>1</td>\n",
       "      <td>0</td>\n",
       "      <td>0</td>\n",
       "      <td>0</td>\n",
       "    </tr>\n",
       "  </tbody>\n",
       "</table>\n",
       "<p>29305 rows × 104 columns</p>\n",
       "</div>"
      ],
      "text/plain": [
       "       age  education-num  capital-gain  capital-loss  workclass_Federal-gov  \\\n",
       "no                                                                             \n",
       "1       25              7             0             0                      0   \n",
       "2       39             10             0          1721                      0   \n",
       "3       35             13             0             0                      0   \n",
       "4       64             11             0             0                      0   \n",
       "5       24             10             0             0                      0   \n",
       "...    ...            ...           ...           ...                    ...   \n",
       "29301   20              9             0             0                      0   \n",
       "29302   21              9             0             0                      0   \n",
       "29303   18              6             0             0                      0   \n",
       "29304   33              7             0             0                      0   \n",
       "29305   65              9             0             0                      0   \n",
       "\n",
       "       workclass_Local-gov  workclass_Never-worked  workclass_Private  \\\n",
       "no                                                                      \n",
       "1                        0                       0                  1   \n",
       "2                        0                       0                  1   \n",
       "3                        0                       0                  1   \n",
       "4                        0                       0                  1   \n",
       "5                        0                       0                  1   \n",
       "...                    ...                     ...                ...   \n",
       "29301                    0                       0                  1   \n",
       "29302                    0                       0                  1   \n",
       "29303                    0                       0                  0   \n",
       "29304                    0                       0                  1   \n",
       "29305                    0                       0                  0   \n",
       "\n",
       "       workclass_Self-emp-inc  workclass_Self-emp-not-inc  ...  \\\n",
       "no                                                         ...   \n",
       "1                           0                           0  ...   \n",
       "2                           0                           0  ...   \n",
       "3                           0                           0  ...   \n",
       "4                           0                           0  ...   \n",
       "5                           0                           0  ...   \n",
       "...                       ...                         ...  ...   \n",
       "29301                       0                           0  ...   \n",
       "29302                       0                           0  ...   \n",
       "29303                       0                           1  ...   \n",
       "29304                       0                           0  ...   \n",
       "29305                       0                           0  ...   \n",
       "\n",
       "       native-country_Puerto-Rico  native-country_Scotland  \\\n",
       "no                                                           \n",
       "1                               0                        0   \n",
       "2                               0                        0   \n",
       "3                               0                        0   \n",
       "4                               0                        0   \n",
       "5                               0                        0   \n",
       "...                           ...                      ...   \n",
       "29301                           1                        0   \n",
       "29302                           0                        0   \n",
       "29303                           0                        0   \n",
       "29304                           0                        0   \n",
       "29305                           0                        0   \n",
       "\n",
       "       native-country_South  native-country_Taiwan  native-country_Thailand  \\\n",
       "no                                                                            \n",
       "1                         0                      0                        0   \n",
       "2                         0                      0                        0   \n",
       "3                         0                      0                        0   \n",
       "4                         0                      0                        0   \n",
       "5                         0                      0                        0   \n",
       "...                     ...                    ...                      ...   \n",
       "29301                     0                      0                        0   \n",
       "29302                     0                      0                        0   \n",
       "29303                     0                      0                        0   \n",
       "29304                     0                      0                        0   \n",
       "29305                     0                      0                        0   \n",
       "\n",
       "       native-country_Trinadad&Tobago  native-country_United-States  \\\n",
       "no                                                                    \n",
       "1                                   0                             1   \n",
       "2                                   0                             1   \n",
       "3                                   0                             0   \n",
       "4                                   0                             1   \n",
       "5                                   0                             1   \n",
       "...                               ...                           ...   \n",
       "29301                               0                             0   \n",
       "29302                               0                             1   \n",
       "29303                               0                             1   \n",
       "29304                               0                             1   \n",
       "29305                               0                             1   \n",
       "\n",
       "       native-country_Vietnam  native-country_Yugoslavia  native-country_other  \n",
       "no                                                                              \n",
       "1                           0                          0                     0  \n",
       "2                           0                          0                     0  \n",
       "3                           0                          0                     0  \n",
       "4                           0                          0                     0  \n",
       "5                           0                          0                     0  \n",
       "...                       ...                        ...                   ...  \n",
       "29301                       0                          0                     0  \n",
       "29302                       0                          0                     0  \n",
       "29303                       0                          0                     0  \n",
       "29304                       0                          0                     0  \n",
       "29305                       0                          0                     0  \n",
       "\n",
       "[29305 rows x 104 columns]"
      ]
     },
     "execution_count": 98,
     "metadata": {},
     "output_type": "execute_result"
    }
   ],
   "source": [
    "X_train"
   ]
  },
  {
   "cell_type": "code",
   "execution_count": 97,
   "id": "7b774f5b",
   "metadata": {
    "ExecuteTime": {
     "end_time": "2023-02-13T05:58:56.057740Z",
     "start_time": "2023-02-13T05:58:56.030812Z"
    },
    "collapsed": true
   },
   "outputs": [
    {
     "data": {
      "text/html": [
       "<div>\n",
       "<style scoped>\n",
       "    .dataframe tbody tr th:only-of-type {\n",
       "        vertical-align: middle;\n",
       "    }\n",
       "\n",
       "    .dataframe tbody tr th {\n",
       "        vertical-align: top;\n",
       "    }\n",
       "\n",
       "    .dataframe thead th {\n",
       "        text-align: right;\n",
       "    }\n",
       "</style>\n",
       "<table border=\"1\" class=\"dataframe\">\n",
       "  <thead>\n",
       "    <tr style=\"text-align: right;\">\n",
       "      <th></th>\n",
       "      <th>age</th>\n",
       "      <th>education-num</th>\n",
       "      <th>capital-gain</th>\n",
       "      <th>capital-loss</th>\n",
       "      <th>workclass_Federal-gov</th>\n",
       "      <th>workclass_Local-gov</th>\n",
       "      <th>workclass_Never-worked</th>\n",
       "      <th>workclass_Private</th>\n",
       "      <th>workclass_Self-emp-inc</th>\n",
       "      <th>workclass_Self-emp-not-inc</th>\n",
       "      <th>...</th>\n",
       "      <th>native-country_Scotland</th>\n",
       "      <th>native-country_South</th>\n",
       "      <th>native-country_Taiwan</th>\n",
       "      <th>native-country_Thailand</th>\n",
       "      <th>native-country_Trinadad&amp;Tobago</th>\n",
       "      <th>native-country_United-States</th>\n",
       "      <th>native-country_Vietnam</th>\n",
       "      <th>native-country_Yugoslavia</th>\n",
       "      <th>native-country_other</th>\n",
       "      <th>native-country_Holand-Netherlands</th>\n",
       "    </tr>\n",
       "    <tr>\n",
       "      <th>no</th>\n",
       "      <th></th>\n",
       "      <th></th>\n",
       "      <th></th>\n",
       "      <th></th>\n",
       "      <th></th>\n",
       "      <th></th>\n",
       "      <th></th>\n",
       "      <th></th>\n",
       "      <th></th>\n",
       "      <th></th>\n",
       "      <th></th>\n",
       "      <th></th>\n",
       "      <th></th>\n",
       "      <th></th>\n",
       "      <th></th>\n",
       "      <th></th>\n",
       "      <th></th>\n",
       "      <th></th>\n",
       "      <th></th>\n",
       "      <th></th>\n",
       "      <th></th>\n",
       "    </tr>\n",
       "  </thead>\n",
       "  <tbody>\n",
       "    <tr>\n",
       "      <th>29306</th>\n",
       "      <td>18</td>\n",
       "      <td>10</td>\n",
       "      <td>0</td>\n",
       "      <td>0</td>\n",
       "      <td>0</td>\n",
       "      <td>0</td>\n",
       "      <td>0</td>\n",
       "      <td>0</td>\n",
       "      <td>0</td>\n",
       "      <td>0</td>\n",
       "      <td>...</td>\n",
       "      <td>0</td>\n",
       "      <td>0</td>\n",
       "      <td>0</td>\n",
       "      <td>0</td>\n",
       "      <td>0</td>\n",
       "      <td>1</td>\n",
       "      <td>0</td>\n",
       "      <td>0</td>\n",
       "      <td>0</td>\n",
       "      <td>0</td>\n",
       "    </tr>\n",
       "    <tr>\n",
       "      <th>29307</th>\n",
       "      <td>29</td>\n",
       "      <td>9</td>\n",
       "      <td>0</td>\n",
       "      <td>0</td>\n",
       "      <td>0</td>\n",
       "      <td>0</td>\n",
       "      <td>0</td>\n",
       "      <td>1</td>\n",
       "      <td>0</td>\n",
       "      <td>0</td>\n",
       "      <td>...</td>\n",
       "      <td>0</td>\n",
       "      <td>0</td>\n",
       "      <td>0</td>\n",
       "      <td>0</td>\n",
       "      <td>0</td>\n",
       "      <td>1</td>\n",
       "      <td>0</td>\n",
       "      <td>0</td>\n",
       "      <td>0</td>\n",
       "      <td>0</td>\n",
       "    </tr>\n",
       "    <tr>\n",
       "      <th>29308</th>\n",
       "      <td>45</td>\n",
       "      <td>13</td>\n",
       "      <td>0</td>\n",
       "      <td>0</td>\n",
       "      <td>0</td>\n",
       "      <td>0</td>\n",
       "      <td>0</td>\n",
       "      <td>1</td>\n",
       "      <td>0</td>\n",
       "      <td>0</td>\n",
       "      <td>...</td>\n",
       "      <td>0</td>\n",
       "      <td>0</td>\n",
       "      <td>0</td>\n",
       "      <td>0</td>\n",
       "      <td>0</td>\n",
       "      <td>1</td>\n",
       "      <td>0</td>\n",
       "      <td>0</td>\n",
       "      <td>0</td>\n",
       "      <td>0</td>\n",
       "    </tr>\n",
       "    <tr>\n",
       "      <th>29309</th>\n",
       "      <td>42</td>\n",
       "      <td>13</td>\n",
       "      <td>0</td>\n",
       "      <td>0</td>\n",
       "      <td>0</td>\n",
       "      <td>0</td>\n",
       "      <td>0</td>\n",
       "      <td>0</td>\n",
       "      <td>0</td>\n",
       "      <td>1</td>\n",
       "      <td>...</td>\n",
       "      <td>0</td>\n",
       "      <td>0</td>\n",
       "      <td>0</td>\n",
       "      <td>0</td>\n",
       "      <td>0</td>\n",
       "      <td>1</td>\n",
       "      <td>0</td>\n",
       "      <td>0</td>\n",
       "      <td>0</td>\n",
       "      <td>0</td>\n",
       "    </tr>\n",
       "    <tr>\n",
       "      <th>29310</th>\n",
       "      <td>41</td>\n",
       "      <td>16</td>\n",
       "      <td>0</td>\n",
       "      <td>1902</td>\n",
       "      <td>0</td>\n",
       "      <td>0</td>\n",
       "      <td>0</td>\n",
       "      <td>1</td>\n",
       "      <td>0</td>\n",
       "      <td>0</td>\n",
       "      <td>...</td>\n",
       "      <td>0</td>\n",
       "      <td>0</td>\n",
       "      <td>0</td>\n",
       "      <td>0</td>\n",
       "      <td>0</td>\n",
       "      <td>1</td>\n",
       "      <td>0</td>\n",
       "      <td>0</td>\n",
       "      <td>0</td>\n",
       "      <td>0</td>\n",
       "    </tr>\n",
       "    <tr>\n",
       "      <th>...</th>\n",
       "      <td>...</td>\n",
       "      <td>...</td>\n",
       "      <td>...</td>\n",
       "      <td>...</td>\n",
       "      <td>...</td>\n",
       "      <td>...</td>\n",
       "      <td>...</td>\n",
       "      <td>...</td>\n",
       "      <td>...</td>\n",
       "      <td>...</td>\n",
       "      <td>...</td>\n",
       "      <td>...</td>\n",
       "      <td>...</td>\n",
       "      <td>...</td>\n",
       "      <td>...</td>\n",
       "      <td>...</td>\n",
       "      <td>...</td>\n",
       "      <td>...</td>\n",
       "      <td>...</td>\n",
       "      <td>...</td>\n",
       "      <td>...</td>\n",
       "    </tr>\n",
       "    <tr>\n",
       "      <th>48838</th>\n",
       "      <td>45</td>\n",
       "      <td>9</td>\n",
       "      <td>0</td>\n",
       "      <td>0</td>\n",
       "      <td>0</td>\n",
       "      <td>0</td>\n",
       "      <td>0</td>\n",
       "      <td>0</td>\n",
       "      <td>0</td>\n",
       "      <td>1</td>\n",
       "      <td>...</td>\n",
       "      <td>0</td>\n",
       "      <td>0</td>\n",
       "      <td>0</td>\n",
       "      <td>0</td>\n",
       "      <td>0</td>\n",
       "      <td>1</td>\n",
       "      <td>0</td>\n",
       "      <td>0</td>\n",
       "      <td>0</td>\n",
       "      <td>0</td>\n",
       "    </tr>\n",
       "    <tr>\n",
       "      <th>48839</th>\n",
       "      <td>48</td>\n",
       "      <td>9</td>\n",
       "      <td>0</td>\n",
       "      <td>0</td>\n",
       "      <td>0</td>\n",
       "      <td>0</td>\n",
       "      <td>0</td>\n",
       "      <td>1</td>\n",
       "      <td>0</td>\n",
       "      <td>0</td>\n",
       "      <td>...</td>\n",
       "      <td>0</td>\n",
       "      <td>0</td>\n",
       "      <td>0</td>\n",
       "      <td>0</td>\n",
       "      <td>0</td>\n",
       "      <td>1</td>\n",
       "      <td>0</td>\n",
       "      <td>0</td>\n",
       "      <td>0</td>\n",
       "      <td>0</td>\n",
       "    </tr>\n",
       "    <tr>\n",
       "      <th>48840</th>\n",
       "      <td>63</td>\n",
       "      <td>10</td>\n",
       "      <td>4386</td>\n",
       "      <td>0</td>\n",
       "      <td>0</td>\n",
       "      <td>0</td>\n",
       "      <td>0</td>\n",
       "      <td>1</td>\n",
       "      <td>0</td>\n",
       "      <td>0</td>\n",
       "      <td>...</td>\n",
       "      <td>0</td>\n",
       "      <td>0</td>\n",
       "      <td>0</td>\n",
       "      <td>0</td>\n",
       "      <td>0</td>\n",
       "      <td>1</td>\n",
       "      <td>0</td>\n",
       "      <td>0</td>\n",
       "      <td>0</td>\n",
       "      <td>0</td>\n",
       "    </tr>\n",
       "    <tr>\n",
       "      <th>48841</th>\n",
       "      <td>18</td>\n",
       "      <td>7</td>\n",
       "      <td>0</td>\n",
       "      <td>0</td>\n",
       "      <td>0</td>\n",
       "      <td>0</td>\n",
       "      <td>0</td>\n",
       "      <td>1</td>\n",
       "      <td>0</td>\n",
       "      <td>0</td>\n",
       "      <td>...</td>\n",
       "      <td>0</td>\n",
       "      <td>0</td>\n",
       "      <td>0</td>\n",
       "      <td>0</td>\n",
       "      <td>0</td>\n",
       "      <td>1</td>\n",
       "      <td>0</td>\n",
       "      <td>0</td>\n",
       "      <td>0</td>\n",
       "      <td>0</td>\n",
       "    </tr>\n",
       "    <tr>\n",
       "      <th>48842</th>\n",
       "      <td>31</td>\n",
       "      <td>12</td>\n",
       "      <td>0</td>\n",
       "      <td>0</td>\n",
       "      <td>0</td>\n",
       "      <td>0</td>\n",
       "      <td>0</td>\n",
       "      <td>1</td>\n",
       "      <td>0</td>\n",
       "      <td>0</td>\n",
       "      <td>...</td>\n",
       "      <td>0</td>\n",
       "      <td>0</td>\n",
       "      <td>0</td>\n",
       "      <td>0</td>\n",
       "      <td>0</td>\n",
       "      <td>1</td>\n",
       "      <td>0</td>\n",
       "      <td>0</td>\n",
       "      <td>0</td>\n",
       "      <td>0</td>\n",
       "    </tr>\n",
       "  </tbody>\n",
       "</table>\n",
       "<p>19537 rows × 104 columns</p>\n",
       "</div>"
      ],
      "text/plain": [
       "       age  education-num  capital-gain  capital-loss  workclass_Federal-gov  \\\n",
       "no                                                                             \n",
       "29306   18             10             0             0                      0   \n",
       "29307   29              9             0             0                      0   \n",
       "29308   45             13             0             0                      0   \n",
       "29309   42             13             0             0                      0   \n",
       "29310   41             16             0          1902                      0   \n",
       "...    ...            ...           ...           ...                    ...   \n",
       "48838   45              9             0             0                      0   \n",
       "48839   48              9             0             0                      0   \n",
       "48840   63             10          4386             0                      0   \n",
       "48841   18              7             0             0                      0   \n",
       "48842   31             12             0             0                      0   \n",
       "\n",
       "       workclass_Local-gov  workclass_Never-worked  workclass_Private  \\\n",
       "no                                                                      \n",
       "29306                    0                       0                  0   \n",
       "29307                    0                       0                  1   \n",
       "29308                    0                       0                  1   \n",
       "29309                    0                       0                  0   \n",
       "29310                    0                       0                  1   \n",
       "...                    ...                     ...                ...   \n",
       "48838                    0                       0                  0   \n",
       "48839                    0                       0                  1   \n",
       "48840                    0                       0                  1   \n",
       "48841                    0                       0                  1   \n",
       "48842                    0                       0                  1   \n",
       "\n",
       "       workclass_Self-emp-inc  workclass_Self-emp-not-inc  ...  \\\n",
       "no                                                         ...   \n",
       "29306                       0                           0  ...   \n",
       "29307                       0                           0  ...   \n",
       "29308                       0                           0  ...   \n",
       "29309                       0                           1  ...   \n",
       "29310                       0                           0  ...   \n",
       "...                       ...                         ...  ...   \n",
       "48838                       0                           1  ...   \n",
       "48839                       0                           0  ...   \n",
       "48840                       0                           0  ...   \n",
       "48841                       0                           0  ...   \n",
       "48842                       0                           0  ...   \n",
       "\n",
       "       native-country_Scotland  native-country_South  native-country_Taiwan  \\\n",
       "no                                                                            \n",
       "29306                        0                     0                      0   \n",
       "29307                        0                     0                      0   \n",
       "29308                        0                     0                      0   \n",
       "29309                        0                     0                      0   \n",
       "29310                        0                     0                      0   \n",
       "...                        ...                   ...                    ...   \n",
       "48838                        0                     0                      0   \n",
       "48839                        0                     0                      0   \n",
       "48840                        0                     0                      0   \n",
       "48841                        0                     0                      0   \n",
       "48842                        0                     0                      0   \n",
       "\n",
       "       native-country_Thailand  native-country_Trinadad&Tobago  \\\n",
       "no                                                               \n",
       "29306                        0                               0   \n",
       "29307                        0                               0   \n",
       "29308                        0                               0   \n",
       "29309                        0                               0   \n",
       "29310                        0                               0   \n",
       "...                        ...                             ...   \n",
       "48838                        0                               0   \n",
       "48839                        0                               0   \n",
       "48840                        0                               0   \n",
       "48841                        0                               0   \n",
       "48842                        0                               0   \n",
       "\n",
       "       native-country_United-States  native-country_Vietnam  \\\n",
       "no                                                            \n",
       "29306                             1                       0   \n",
       "29307                             1                       0   \n",
       "29308                             1                       0   \n",
       "29309                             1                       0   \n",
       "29310                             1                       0   \n",
       "...                             ...                     ...   \n",
       "48838                             1                       0   \n",
       "48839                             1                       0   \n",
       "48840                             1                       0   \n",
       "48841                             1                       0   \n",
       "48842                             1                       0   \n",
       "\n",
       "       native-country_Yugoslavia  native-country_other  \\\n",
       "no                                                       \n",
       "29306                          0                     0   \n",
       "29307                          0                     0   \n",
       "29308                          0                     0   \n",
       "29309                          0                     0   \n",
       "29310                          0                     0   \n",
       "...                          ...                   ...   \n",
       "48838                          0                     0   \n",
       "48839                          0                     0   \n",
       "48840                          0                     0   \n",
       "48841                          0                     0   \n",
       "48842                          0                     0   \n",
       "\n",
       "       native-country_Holand-Netherlands  \n",
       "no                                        \n",
       "29306                                  0  \n",
       "29307                                  0  \n",
       "29308                                  0  \n",
       "29309                                  0  \n",
       "29310                                  0  \n",
       "...                                  ...  \n",
       "48838                                  0  \n",
       "48839                                  0  \n",
       "48840                                  0  \n",
       "48841                                  0  \n",
       "48842                                  0  \n",
       "\n",
       "[19537 rows x 104 columns]"
      ]
     },
     "execution_count": 97,
     "metadata": {},
     "output_type": "execute_result"
    }
   ],
   "source": [
    "X_test"
   ]
  },
  {
   "cell_type": "code",
   "execution_count": 99,
   "id": "a1e99856",
   "metadata": {
    "ExecuteTime": {
     "end_time": "2023-02-13T05:59:37.317446Z",
     "start_time": "2023-02-13T05:59:37.295499Z"
    }
   },
   "outputs": [],
   "source": [
    "X_test=X_test[X_train.columns]"
   ]
  },
  {
   "cell_type": "code",
   "execution_count": 100,
   "id": "c19eb035",
   "metadata": {
    "ExecuteTime": {
     "end_time": "2023-02-13T05:59:46.618610Z",
     "start_time": "2023-02-13T05:59:46.606642Z"
    },
    "collapsed": true
   },
   "outputs": [
    {
     "data": {
      "text/plain": [
       "Index(['age', 'education-num', 'capital-gain', 'capital-loss',\n",
       "       'workclass_Federal-gov', 'workclass_Local-gov',\n",
       "       'workclass_Never-worked', 'workclass_Private', 'workclass_Self-emp-inc',\n",
       "       'workclass_Self-emp-not-inc',\n",
       "       ...\n",
       "       'native-country_Puerto-Rico', 'native-country_Scotland',\n",
       "       'native-country_South', 'native-country_Taiwan',\n",
       "       'native-country_Thailand', 'native-country_Trinadad&Tobago',\n",
       "       'native-country_United-States', 'native-country_Vietnam',\n",
       "       'native-country_Yugoslavia', 'native-country_other'],\n",
       "      dtype='object', length=104)"
      ]
     },
     "execution_count": 100,
     "metadata": {},
     "output_type": "execute_result"
    }
   ],
   "source": [
    "X_test.columns"
   ]
  },
  {
   "cell_type": "code",
   "execution_count": 101,
   "id": "09059c53",
   "metadata": {
    "ExecuteTime": {
     "end_time": "2023-02-13T06:00:20.814060Z",
     "start_time": "2023-02-13T06:00:20.301806Z"
    }
   },
   "outputs": [],
   "source": [
    "X_train.to_csv('X_train1.csv',index=False)\n",
    "y_train.to_csv('y_train1.csv',index=False)\n",
    "X_test.to_csv('X_test1.csv',index=False)"
   ]
  },
  {
   "cell_type": "code",
   "execution_count": 102,
   "id": "626815e0",
   "metadata": {
    "ExecuteTime": {
     "end_time": "2023-02-13T06:00:28.958714Z",
     "start_time": "2023-02-13T06:00:28.628452Z"
    }
   },
   "outputs": [],
   "source": [
    "from sklearn.neighbors import KNeighborsClassifier\n",
    "from sklearn.tree import DecisionTreeClassifier"
   ]
  },
  {
   "cell_type": "code",
   "execution_count": 103,
   "id": "090d3df5",
   "metadata": {
    "ExecuteTime": {
     "end_time": "2023-02-13T06:00:35.849161Z",
     "start_time": "2023-02-13T06:00:35.836192Z"
    }
   },
   "outputs": [],
   "source": [
    "knn_model = KNeighborsClassifier() # 거리\n",
    "tree_model = DecisionTreeClassifier() # 질문"
   ]
  },
  {
   "cell_type": "code",
   "execution_count": 107,
   "id": "037a78c2",
   "metadata": {
    "ExecuteTime": {
     "end_time": "2023-02-13T06:01:51.838439Z",
     "start_time": "2023-02-13T06:01:51.829464Z"
    }
   },
   "outputs": [],
   "source": [
    "from sklearn.model_selection import train_test_split"
   ]
  },
  {
   "cell_type": "code",
   "execution_count": 104,
   "id": "1410d8eb",
   "metadata": {
    "ExecuteTime": {
     "end_time": "2023-02-13T06:01:17.925924Z",
     "start_time": "2023-02-13T06:01:17.900990Z"
    }
   },
   "outputs": [
    {
     "data": {
      "text/plain": [
       "KNeighborsClassifier()"
      ]
     },
     "execution_count": 104,
     "metadata": {},
     "output_type": "execute_result"
    }
   ],
   "source": [
    "knn_model.fit(X_train,y_train) "
   ]
  },
  {
   "cell_type": "code",
   "execution_count": 108,
   "id": "443753a1",
   "metadata": {
    "ExecuteTime": {
     "end_time": "2023-02-13T06:01:58.398225Z",
     "start_time": "2023-02-13T06:01:58.373322Z"
    }
   },
   "outputs": [],
   "source": [
    "X_train, X_val, y_train,y_val=train_test_split(X_train,y_train)"
   ]
  },
  {
   "cell_type": "code",
   "execution_count": 105,
   "id": "f4232e5d",
   "metadata": {
    "ExecuteTime": {
     "end_time": "2023-02-13T06:01:26.088864Z",
     "start_time": "2023-02-13T06:01:25.861804Z"
    }
   },
   "outputs": [
    {
     "data": {
      "text/plain": [
       "DecisionTreeClassifier()"
      ]
     },
     "execution_count": 105,
     "metadata": {},
     "output_type": "execute_result"
    }
   ],
   "source": [
    "tree_model.fit(X_train,y_train)"
   ]
  },
  {
   "cell_type": "code",
   "execution_count": 109,
   "id": "b47cde18",
   "metadata": {
    "ExecuteTime": {
     "end_time": "2023-02-13T06:02:05.063913Z",
     "start_time": "2023-02-13T06:02:05.052944Z"
    }
   },
   "outputs": [
    {
     "data": {
      "text/plain": [
       "((21978, 104), (21978,))"
      ]
     },
     "execution_count": 109,
     "metadata": {},
     "output_type": "execute_result"
    }
   ],
   "source": [
    "X_train.shape,y_train.shape"
   ]
  },
  {
   "cell_type": "code",
   "execution_count": 110,
   "id": "c0d47699",
   "metadata": {
    "ExecuteTime": {
     "end_time": "2023-02-13T06:02:13.258265Z",
     "start_time": "2023-02-13T06:02:13.247315Z"
    }
   },
   "outputs": [
    {
     "data": {
      "text/plain": [
       "((7327, 104), (7327,))"
      ]
     },
     "execution_count": 110,
     "metadata": {},
     "output_type": "execute_result"
    }
   ],
   "source": [
    "X_val.shape,y_val.shape"
   ]
  },
  {
   "cell_type": "code",
   "execution_count": 111,
   "id": "92685e3d",
   "metadata": {
    "ExecuteTime": {
     "end_time": "2023-02-13T06:02:21.374592Z",
     "start_time": "2023-02-13T06:02:16.390479Z"
    }
   },
   "outputs": [
    {
     "name": "stdout",
     "output_type": "stream",
     "text": [
      "0.891906646649379\n",
      "0.9527773986624812\n"
     ]
    },
    {
     "name": "stderr",
     "output_type": "stream",
     "text": [
      "C:\\Users\\smhrd\\anaconda3\\lib\\site-packages\\sklearn\\neighbors\\_classification.py:228: FutureWarning: Unlike other reduction functions (e.g. `skew`, `kurtosis`), the default behavior of `mode` typically preserves the axis it acts along. In SciPy 1.11.0, this behavior will change: the default value of `keepdims` will become False, the `axis` over which the statistic is taken will be eliminated, and the value None will no longer be accepted. Set `keepdims` to True or False to avoid this warning.\n",
      "  mode, _ = stats.mode(_y[neigh_ind, k], axis=1)\n"
     ]
    }
   ],
   "source": [
    "print(knn_model.score(X_val,y_val)) # score 정확도\n",
    "print(tree_model.score(X_val,y_val))"
   ]
  },
  {
   "cell_type": "code",
   "execution_count": 112,
   "id": "010257c2",
   "metadata": {
    "ExecuteTime": {
     "end_time": "2023-02-13T06:02:34.903138Z",
     "start_time": "2023-02-13T06:02:34.894160Z"
    }
   },
   "outputs": [],
   "source": [
    "from sklearn.model_selection import cross_val_score"
   ]
  },
  {
   "cell_type": "code",
   "execution_count": 114,
   "id": "c97893d5",
   "metadata": {
    "ExecuteTime": {
     "end_time": "2023-02-13T06:04:10.052859Z",
     "start_time": "2023-02-13T06:04:03.052953Z"
    }
   },
   "outputs": [],
   "source": [
    "knn_result=cross_val_score(knn_model,X_train,y_train,cv=5)"
   ]
  },
  {
   "cell_type": "code",
   "execution_count": 113,
   "id": "33c71473",
   "metadata": {
    "ExecuteTime": {
     "end_time": "2023-02-13T06:03:54.247914Z",
     "start_time": "2023-02-13T06:03:54.229959Z"
    }
   },
   "outputs": [],
   "source": [
    "import warnings\n",
    "warnings.filterwarnings('ignore')"
   ]
  },
  {
   "cell_type": "code",
   "execution_count": 115,
   "id": "a47a59ee",
   "metadata": {
    "ExecuteTime": {
     "end_time": "2023-02-13T06:04:16.578931Z",
     "start_time": "2023-02-13T06:04:16.566964Z"
    }
   },
   "outputs": [
    {
     "data": {
      "text/plain": [
       "0.8493039074719908"
      ]
     },
     "execution_count": 115,
     "metadata": {},
     "output_type": "execute_result"
    }
   ],
   "source": [
    "knn_result.mean()"
   ]
  },
  {
   "cell_type": "code",
   "execution_count": 116,
   "id": "6263c518",
   "metadata": {
    "ExecuteTime": {
     "end_time": "2023-02-13T06:04:31.188637Z",
     "start_time": "2023-02-13T06:04:30.564213Z"
    }
   },
   "outputs": [
    {
     "name": "stdout",
     "output_type": "stream",
     "text": [
      "[0.82575068 0.82233849 0.82688808 0.81615472 0.82025028]\n"
     ]
    }
   ],
   "source": [
    "tree_result=cross_val_score(tree_model,X_train,y_train,cv=5)\n",
    "print(tree_result)"
   ]
  },
  {
   "cell_type": "code",
   "execution_count": 117,
   "id": "bdb7211c",
   "metadata": {
    "ExecuteTime": {
     "end_time": "2023-02-13T06:05:12.023513Z",
     "start_time": "2023-02-13T06:05:12.012540Z"
    }
   },
   "outputs": [],
   "source": [
    "from sklearn.preprocessing import StandardScaler"
   ]
  },
  {
   "cell_type": "code",
   "execution_count": 118,
   "id": "4896a4f9",
   "metadata": {
    "ExecuteTime": {
     "end_time": "2023-02-13T06:05:18.030394Z",
     "start_time": "2023-02-13T06:05:18.023442Z"
    }
   },
   "outputs": [],
   "source": [
    "scaler=StandardScaler()"
   ]
  },
  {
   "cell_type": "code",
   "execution_count": 119,
   "id": "aec41d57",
   "metadata": {
    "ExecuteTime": {
     "end_time": "2023-02-13T06:05:23.321650Z",
     "start_time": "2023-02-13T06:05:23.276264Z"
    }
   },
   "outputs": [
    {
     "data": {
      "text/plain": [
       "StandardScaler()"
      ]
     },
     "execution_count": 119,
     "metadata": {},
     "output_type": "execute_result"
    }
   ],
   "source": [
    "scaler.fit(X_train)"
   ]
  },
  {
   "cell_type": "code",
   "execution_count": 120,
   "id": "5325b80f",
   "metadata": {
    "ExecuteTime": {
     "end_time": "2023-02-13T06:05:29.532062Z",
     "start_time": "2023-02-13T06:05:29.501599Z"
    }
   },
   "outputs": [],
   "source": [
    "transform_X_train=scaler.transform(X_train)"
   ]
  },
  {
   "cell_type": "code",
   "execution_count": 121,
   "id": "7d6de9e7",
   "metadata": {
    "ExecuteTime": {
     "end_time": "2023-02-13T06:05:35.085807Z",
     "start_time": "2023-02-13T06:05:35.052388Z"
    }
   },
   "outputs": [],
   "source": [
    "transform_X_test=scaler.transform(X_test) "
   ]
  },
  {
   "cell_type": "code",
   "execution_count": 122,
   "id": "9ac90f8e",
   "metadata": {
    "ExecuteTime": {
     "end_time": "2023-02-13T06:05:46.805034Z",
     "start_time": "2023-02-13T06:05:39.420606Z"
    }
   },
   "outputs": [
    {
     "name": "stdout",
     "output_type": "stream",
     "text": [
      "[0.81733394 0.81505914 0.82506824 0.81547213 0.82593857]\n"
     ]
    },
    {
     "data": {
      "text/plain": [
       "0.8197744044901716"
      ]
     },
     "execution_count": 122,
     "metadata": {},
     "output_type": "execute_result"
    }
   ],
   "source": [
    "result=cross_val_score(knn_model,transform_X_train,y_train)\n",
    "print(result)\n",
    "result.mean()"
   ]
  },
  {
   "cell_type": "code",
   "execution_count": 123,
   "id": "0742a8b6",
   "metadata": {
    "ExecuteTime": {
     "end_time": "2023-02-13T06:15:39.237367Z",
     "start_time": "2023-02-13T06:06:28.213081Z"
    }
   },
   "outputs": [],
   "source": [
    "score_list=[]\n",
    "for k in range(1,150,2): # 이웃이 작으면 복잡, 많으면 단순\n",
    "    knn_model=KNeighborsClassifier(n_neighbors=k) # 이웃에 따른 모델 생성\n",
    "    knn_result=cross_val_score(knn_model,transform_X_train,y_train,cv=5) # 교차검증 성능\n",
    "    score_list.append(knn_result.mean())"
   ]
  },
  {
   "cell_type": "code",
   "execution_count": 124,
   "id": "7737daca",
   "metadata": {
    "ExecuteTime": {
     "end_time": "2023-02-13T06:15:39.761407Z",
     "start_time": "2023-02-13T06:15:39.239273Z"
    }
   },
   "outputs": [
    {
     "data": {
      "image/png": "[encoded data removed]",
      "text/plain": [
       "<Figure size 4500x500 with 1 Axes>"
      ]
     },
     "metadata": {},
     "output_type": "display_data"
    }
   ],
   "source": [
    "plt.figure(figsize=(45,5))\n",
    "plt.plot(range(1,150,2), score_list)\n",
    "plt.xticks(range(1,150,2))\n",
    "plt.grid()\n",
    "plt.show()"
   ]
  },
  {
   "cell_type": "code",
   "execution_count": null,
   "id": "a1e59b1b",
   "metadata": {},
   "outputs": [],
   "source": []
  },
  {
   "cell_type": "code",
   "execution_count": 125,
   "id": "047482a6",
   "metadata": {
    "ExecuteTime": {
     "end_time": "2023-02-13T06:19:32.753132Z",
     "start_time": "2023-02-13T06:19:32.676032Z"
    }
   },
   "outputs": [],
   "source": [
    "from sklearn.ensemble import RandomForestClassifier\n",
    "import warnings\n",
    "warnings.filterwarnings('ignore')"
   ]
  },
  {
   "cell_type": "code",
   "execution_count": 127,
   "id": "efbcb44f",
   "metadata": {
    "ExecuteTime": {
     "end_time": "2023-02-13T06:20:14.529325Z",
     "start_time": "2023-02-13T06:20:14.516360Z"
    }
   },
   "outputs": [],
   "source": [
    "forest = RandomForestClassifier(n_estimators=90,max_features=0.3,max_depth=5)"
   ]
  },
  {
   "cell_type": "code",
   "execution_count": 128,
   "id": "bc98eb31",
   "metadata": {
    "ExecuteTime": {
     "end_time": "2023-02-13T06:20:22.573680Z",
     "start_time": "2023-02-13T06:20:21.508782Z"
    }
   },
   "outputs": [
    {
     "data": {
      "text/plain": [
       "RandomForestClassifier(max_depth=5, max_features=0.3, n_estimators=90)"
      ]
     },
     "execution_count": 128,
     "metadata": {},
     "output_type": "execute_result"
    }
   ],
   "source": [
    "forest.fit(X_train,y_train)"
   ]
  },
  {
   "cell_type": "code",
   "execution_count": 129,
   "id": "1ba44637",
   "metadata": {
    "ExecuteTime": {
     "end_time": "2023-02-13T06:20:24.987796Z",
     "start_time": "2023-02-13T06:20:24.852451Z"
    }
   },
   "outputs": [],
   "source": [
    "pre = forest.predict(X_test)\n",
    "# 평가 결과 서식 불러오기\n",
    "sub = pd.read_csv('data2/sample_submission.csv')\n",
    "sub['income'] = pre\n",
    "sub.to_csv('practice10.csv',index=False)"
   ]
  },
  {
   "cell_type": "code",
   "execution_count": 130,
   "id": "164e2ef2",
   "metadata": {
    "ExecuteTime": {
     "end_time": "2023-02-13T06:23:58.513831Z",
     "start_time": "2023-02-13T06:23:58.502861Z"
    }
   },
   "outputs": [],
   "source": [
    "from sklearn.ensemble import AdaBoostClassifier"
   ]
  },
  {
   "cell_type": "code",
   "execution_count": 131,
   "id": "c96f38f2",
   "metadata": {
    "ExecuteTime": {
     "end_time": "2023-02-13T06:24:03.901221Z",
     "start_time": "2023-02-13T06:24:03.885264Z"
    }
   },
   "outputs": [],
   "source": [
    "adaboost = AdaBoostClassifier(n_estimators=500)"
   ]
  },
  {
   "cell_type": "code",
   "execution_count": 132,
   "id": "c7777d22",
   "metadata": {
    "ExecuteTime": {
     "end_time": "2023-02-13T06:24:19.985627Z",
     "start_time": "2023-02-13T06:24:08.308894Z"
    }
   },
   "outputs": [
    {
     "data": {
      "text/plain": [
       "AdaBoostClassifier(n_estimators=500)"
      ]
     },
     "execution_count": 132,
     "metadata": {},
     "output_type": "execute_result"
    }
   ],
   "source": [
    "adaboost.fit(X_train,y_train)00"
   ]
  },
  {
   "cell_type": "code",
   "execution_count": 133,
   "id": "33d73e89",
   "metadata": {
    "ExecuteTime": {
     "end_time": "2023-02-13T06:24:29.335017Z",
     "start_time": "2023-02-13T06:24:26.275893Z"
    }
   },
   "outputs": [],
   "source": [
    "pre = adaboost.predict(X_test)"
   ]
  },
  {
   "cell_type": "code",
   "execution_count": 134,
   "id": "6216a217",
   "metadata": {
    "ExecuteTime": {
     "end_time": "2023-02-13T06:24:36.116251Z",
     "start_time": "2023-02-13T06:24:36.076386Z"
    }
   },
   "outputs": [],
   "source": [
    "sub = pd.read_csv('data2/sample_submission.csv')\n",
    "sub['income'] = pre\n",
    "sub.to_csv('practice11.csv',index=False)"
   ]
  },
  {
   "cell_type": "code",
   "execution_count": 138,
   "id": "338ab229",
   "metadata": {
    "ExecuteTime": {
     "end_time": "2023-02-13T06:39:24.805416Z",
     "start_time": "2023-02-13T06:39:24.787463Z"
    }
   },
   "outputs": [],
   "source": []
  },
  {
   "cell_type": "code",
   "execution_count": 145,
   "id": "f77916a3",
   "metadata": {
    "ExecuteTime": {
     "end_time": "2023-02-13T06:45:05.465752Z",
     "start_time": "2023-02-13T06:45:05.461763Z"
    }
   },
   "outputs": [],
   "source": [
    "from sklearn.linear_model import LogisticRegression "
   ]
  },
  {
   "cell_type": "code",
   "execution_count": null,
   "id": "44c94a32",
   "metadata": {},
   "outputs": [],
   "source": [
    "LogisticRegression"
   ]
  },
  {
   "cell_type": "code",
   "execution_count": 149,
   "id": "ecab3b73",
   "metadata": {
    "ExecuteTime": {
     "end_time": "2023-02-13T07:21:17.302913Z",
     "start_time": "2023-02-13T07:21:17.253228Z"
    }
   },
   "outputs": [
    {
     "data": {
      "text/plain": [
       "((20425, 105), (4484, 105), (4396, 105))"
      ]
     },
     "execution_count": 149,
     "metadata": {},
     "output_type": "execute_result"
    }
   ],
   "source": [
    "from sklearn.model_selection import train_test_split\n",
    "\n",
    "# Step1) train / test 으로 나누기\n",
    "train, test = train_test_split(train, test_size=0.15, random_state=1)\n",
    "\n",
    "# Step2) train을 다시 train/validation 으로 나누기\n",
    "train, val = train_test_split(train, test_size = 0.18, random_state=1)\n",
    "\n",
    "\n",
    "# 확인\n",
    "train.shape, val.shape, test.shape"
   ]
  },
  {
   "cell_type": "code",
   "execution_count": 154,
   "id": "2175a41a",
   "metadata": {
    "ExecuteTime": {
     "end_time": "2023-02-13T07:39:58.525231Z",
     "start_time": "2023-02-13T07:39:58.506280Z"
    }
   },
   "outputs": [],
   "source": [
    "X_train,X_test, y_train, y_test = train_test_split(X_train,\n",
    "                                                  y_train,\n",
    "                                                  test_size = 0.3,\n",
    "                                                  random_state=3)"
   ]
  },
  {
   "cell_type": "code",
   "execution_count": 155,
   "id": "cb6ab676",
   "metadata": {
    "ExecuteTime": {
     "end_time": "2023-02-13T07:40:13.359724Z",
     "start_time": "2023-02-13T07:40:13.346653Z"
    }
   },
   "outputs": [
    {
     "data": {
      "text/plain": [
       "((15384, 104), (6594, 104), (15384,), (6594,))"
      ]
     },
     "execution_count": 155,
     "metadata": {},
     "output_type": "execute_result"
    }
   ],
   "source": [
    "X_train.shape,X_test.shape, y_train.shape, y_test.shape"
   ]
  },
  {
   "cell_type": "code",
   "execution_count": 157,
   "id": "da4732e5",
   "metadata": {
    "ExecuteTime": {
     "end_time": "2023-02-13T07:40:41.296748Z",
     "start_time": "2023-02-13T07:40:41.281787Z"
    }
   },
   "outputs": [],
   "source": [
    "from sklearn.model_selection import GridSearchCV\n",
    "param_knn = {\"n_neighbors\":range(1,10,1)}\n",
    "# GridSearchCV(모델, 하이퍼파라미터 및 범위, 교차검증 수)\n",
    "grid_search_knn = GridSearchCV(KNeighborsClassifier(),param_knn,cv=10)"
   ]
  },
  {
   "cell_type": "code",
   "execution_count": 158,
   "id": "1ab70bcc",
   "metadata": {
    "ExecuteTime": {
     "end_time": "2023-02-13T07:41:32.498421Z",
     "start_time": "2023-02-13T07:40:56.018238Z"
    }
   },
   "outputs": [
    {
     "data": {
      "text/plain": [
       "GridSearchCV(cv=10, estimator=KNeighborsClassifier(),\n",
       "             param_grid={'n_neighbors': range(1, 10)})"
      ]
     },
     "execution_count": 158,
     "metadata": {},
     "output_type": "execute_result"
    }
   ],
   "source": [
    "grid_search_knn.fit(X_train,y_train)"
   ]
  },
  {
   "cell_type": "code",
   "execution_count": 159,
   "id": "55daf164",
   "metadata": {
    "ExecuteTime": {
     "end_time": "2023-02-13T07:41:32.513349Z",
     "start_time": "2023-02-13T07:41:32.500384Z"
    }
   },
   "outputs": [
    {
     "name": "stdout",
     "output_type": "stream",
     "text": [
      "최적의 하이퍼 파라미터 :  {'n_neighbors': 8}\n",
      "최고 교차 검증 점수(정확도) :  0.8547851229962882\n",
      "최고 성능 모델 :  KNeighborsClassifier(n_neighbors=8)\n"
     ]
    }
   ],
   "source": [
    "print(\"최적의 하이퍼 파라미터 : \", grid_search_knn.best_params_)\n",
    "print(\"최고 교차 검증 점수(정확도) : \",grid_search_knn.best_score_)\n",
    "# 최고 성능 모델은 grid_search_knn 객체에 저장되어 있기 때문에 쓰지 않아도 됨\n",
    "print(\"최고 성능 모델 : \",grid_search_knn.best_estimator_)"
   ]
  },
  {
   "cell_type": "code",
   "execution_count": 160,
   "id": "02b961dd",
   "metadata": {
    "ExecuteTime": {
     "end_time": "2023-02-13T07:41:34.614534Z",
     "start_time": "2023-02-13T07:41:32.514346Z"
    }
   },
   "outputs": [
    {
     "data": {
      "text/plain": [
       "0.8579011222323324"
      ]
     },
     "execution_count": 160,
     "metadata": {},
     "output_type": "execute_result"
    }
   ],
   "source": [
    "grid_search_knn.score(X_test,y_test)"
   ]
  },
  {
   "cell_type": "code",
   "execution_count": 161,
   "id": "82fd8996",
   "metadata": {
    "ExecuteTime": {
     "end_time": "2023-02-13T07:42:54.542313Z",
     "start_time": "2023-02-13T07:42:54.522858Z"
    }
   },
   "outputs": [
    {
     "data": {
      "text/plain": [
       "GridSearchCV(cv=10, estimator=DecisionTreeClassifier(),\n",
       "             param_grid={'max_depth': range(1, 5),\n",
       "                         'max_leaf_nodes': range(1, 50, 10),\n",
       "                         'min_samples_leaf': range(1, 150, 10)})"
      ]
     },
     "execution_count": 161,
     "metadata": {},
     "output_type": "execute_result"
    }
   ],
   "source": [
    "param_deci ={\"max_depth\":range(1,5,1),\n",
    "            \"max_leaf_nodes\":range(1,50,10),\n",
    "            \"min_samples_leaf\":range(1,150,10)}\n",
    "grid_search_deci =GridSearchCV(DecisionTreeClassifier(),param_deci,cv=10)\n",
    "grid_search_deci"
   ]
  },
  {
   "cell_type": "code",
   "execution_count": 162,
   "id": "9d8ff0eb",
   "metadata": {
    "ExecuteTime": {
     "end_time": "2023-02-13T07:44:22.328298Z",
     "start_time": "2023-02-13T07:43:01.745190Z"
    }
   },
   "outputs": [
    {
     "data": {
      "text/plain": [
       "GridSearchCV(cv=10, estimator=DecisionTreeClassifier(),\n",
       "             param_grid={'max_depth': range(1, 5),\n",
       "                         'max_leaf_nodes': range(1, 50, 10),\n",
       "                         'min_samples_leaf': range(1, 150, 10)})"
      ]
     },
     "execution_count": 162,
     "metadata": {},
     "output_type": "execute_result"
    }
   ],
   "source": [
    "grid_search_deci.fit(X_train,y_train)"
   ]
  },
  {
   "cell_type": "code",
   "execution_count": 163,
   "id": "0690cddd",
   "metadata": {
    "ExecuteTime": {
     "end_time": "2023-02-13T07:44:22.343257Z",
     "start_time": "2023-02-13T07:44:22.329295Z"
    }
   },
   "outputs": [
    {
     "name": "stdout",
     "output_type": "stream",
     "text": [
      "최적의 하이퍼 파라미터 :  {'max_depth': 4, 'max_leaf_nodes': 11, 'min_samples_leaf': 1}\n",
      "최고 교차 검증 점수(정확도) :  0.8396380707584596\n",
      "최고 성능 모델 :  DecisionTreeClassifier(max_depth=4, max_leaf_nodes=11)\n"
     ]
    }
   ],
   "source": [
    "print(\"최적의 하이퍼 파라미터 : \", grid_search_deci.best_params_)\n",
    "print(\"최고 교차 검증 점수(정확도) : \",grid_search_deci.best_score_)\n",
    "# 최고 성능 모델은 grid_search_knn 객체에 저장되어 있기 때문에 쓰지 않아도 됨\n",
    "print(\"최고 성능 모델 : \",grid_search_deci.best_estimator_)"
   ]
  },
  {
   "cell_type": "code",
   "execution_count": null,
   "id": "46f9c8bd",
   "metadata": {},
   "outputs": [],
   "source": []
  },
  {
   "cell_type": "code",
   "execution_count": null,
   "id": "f0a315d5",
   "metadata": {},
   "outputs": [],
   "source": []
  },
  {
   "cell_type": "code",
   "execution_count": null,
   "id": "d202e420",
   "metadata": {},
   "outputs": [],
   "source": []
  },
  {
   "cell_type": "code",
   "execution_count": null,
   "id": "c4413a44",
   "metadata": {},
   "outputs": [],
   "source": []
  },
  {
   "cell_type": "code",
   "execution_count": null,
   "id": "b9d55021",
   "metadata": {},
   "outputs": [],
   "source": []
  },
  {
   "cell_type": "code",
   "execution_count": null,
   "id": "c1e72d60",
   "metadata": {},
   "outputs": [],
   "source": []
  },
  {
   "cell_type": "code",
   "execution_count": null,
   "id": "96006d4e",
   "metadata": {},
   "outputs": [],
   "source": []
  },
  {
   "cell_type": "code",
   "execution_count": null,
   "id": "2ba2197a",
   "metadata": {},
   "outputs": [],
   "source": []
  },
  {
   "cell_type": "code",
   "execution_count": null,
   "id": "f530e0da",
   "metadata": {},
   "outputs": [],
   "source": []
  },
  {
   "cell_type": "code",
   "execution_count": null,
   "id": "80030882",
   "metadata": {},
   "outputs": [],
   "source": []
  },
  {
   "cell_type": "code",
   "execution_count": null,
   "id": "883deb45",
   "metadata": {},
   "outputs": [],
   "source": []
  },
  {
   "cell_type": "code",
   "execution_count": null,
   "id": "4dc51ee9",
   "metadata": {},
   "outputs": [],
   "source": []
  },
  {
   "cell_type": "code",
   "execution_count": null,
   "id": "6d3bbf1b",
   "metadata": {},
   "outputs": [],
   "source": []
  },
  {
   "cell_type": "code",
   "execution_count": null,
   "id": "8404ba34",
   "metadata": {},
   "outputs": [],
   "source": []
  },
  {
   "cell_type": "code",
   "execution_count": null,
   "id": "c510abb2",
   "metadata": {},
   "outputs": [],
   "source": []
  },
  {
   "cell_type": "code",
   "execution_count": null,
   "id": "e71d3e97",
   "metadata": {},
   "outputs": [],
   "source": []
  },
  {
   "cell_type": "code",
   "execution_count": null,
   "id": "90b87a13",
   "metadata": {},
   "outputs": [],
   "source": []
  },
  {
   "cell_type": "code",
   "execution_count": null,
   "id": "b9059781",
   "metadata": {},
   "outputs": [],
   "source": []
  },
  {
   "cell_type": "code",
   "execution_count": null,
   "id": "c071bed5",
   "metadata": {},
   "outputs": [],
   "source": []
  },
  {
   "cell_type": "code",
   "execution_count": null,
   "id": "d4e9dc6d",
   "metadata": {},
   "outputs": [],
   "source": []
  },
  {
   "cell_type": "code",
   "execution_count": null,
   "id": "fcebc34c",
   "metadata": {},
   "outputs": [],
   "source": []
  },
  {
   "cell_type": "code",
   "execution_count": null,
   "id": "987be7ba",
   "metadata": {},
   "outputs": [],
   "source": []
  },
  {
   "cell_type": "code",
   "execution_count": null,
   "id": "07323bb3",
   "metadata": {},
   "outputs": [],
   "source": []
  },
  {
   "cell_type": "code",
   "execution_count": null,
   "id": "d0c7bdb0",
   "metadata": {},
   "outputs": [],
   "source": []
  }
 ],
 "metadata": {
  "kernelspec": {
   "display_name": "Python 3 (ipykernel)",
   "language": "python",
   "name": "python3"
  },
  "language_info": {
   "codemirror_mode": {
    "name": "ipython",
    "version": 3
   },
   "file_extension": ".py",
   "mimetype": "text/x-python",
   "name": "python",
   "nbconvert_exporter": "python",
   "pygments_lexer": "ipython3",
   "version": "3.9.13"
  },
  "toc": {
   "base_numbering": 1,
   "nav_menu": {},
   "number_sections": true,
   "sideBar": true,
   "skip_h1_title": false,
   "title_cell": "Table of Contents",
   "title_sidebar": "Contents",
   "toc_cell": false,
   "toc_position": {},
   "toc_section_display": true,
   "toc_window_display": false
  }
 },
 "nbformat": 4,
 "nbformat_minor": 5
}
