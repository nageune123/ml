{
 "cells": [
  {
   "cell_type": "markdown",
   "id": "0cfbf848",
   "metadata": {},
   "source": [
    "### 학습 목표\n",
    "- KAGGLE 경진대회에서 높은 순위를 차지하는 것!!\n",
    "- 탑승객의 정보를 바탕으로 생존/사망자 예측\n",
    "- 머신러닝 학습의 전체 과정에 대한 실습\n",
    "    - 문제 정의\n",
    "    - 데이터 수집 (KAGGLE 에서 다운로드 )\n",
    "    - 탐색적 데이터 분석(EDA) - 데이터를 알아보는 것 (시각화)\n",
    "    - 데이터 전처리\n",
    "        - 오타 수정, 결측치/이상치 처리\n",
    "        - encoding(인코딩)- 범주형->수치형\n",
    "        - bining(그룹핑) - 수치형->범주형\n",
    "        - 정규화/scanling - 값들을 일정 범위로 축소하는 과정(분산을 줄이는 과정)\n",
    "        - 편향 제거\n",
    "    \n",
    "    - 모델 선택 및 학습\n",
    "        - 모델 생성\n",
    "        - 특성 선택\n",
    "        - 하이퍼 파라미터 튜닝 (매개변수 조절)\n",
    "        - 훈련데이터와 평가데이터로 분리 - 과소적합/과대적합 유무 확인\n",
    "            - 과소적합: 둘 다 정확도가 낮으면 과소 적합\n",
    "                - 특성이 너무 적어서, 데이터가 너무 적어서, 학습이 너무 적어서\n",
    "            - 과대적합: 훈련과 테스트의 차이가 큰 것, 훈련데이터의 정확도가 더 높음\n",
    "                - 특성이 너무 많아서, 데이터가 너무 적어서, 학습을 너무 많이 해서\n",
    "    \n",
    "    - 평가 : 생성된 모델을 validation 데이터(새로운 데이터)로 평가"
   ]
  },
  {
   "cell_type": "markdown",
   "id": "445cab6e",
   "metadata": {},
   "source": [
    "### 문제 정의\n",
    "- 머신러닝의 전체과정을 실습\n",
    "- 타이타닉 데이터에 포함된 데이터의 의미를 분석\n",
    "- 테스트 데이터로 생존/사망 예측"
   ]
  },
  {
   "cell_type": "markdown",
   "id": "7b3bf7c8",
   "metadata": {},
   "source": [
    "### 데이터 수집"
   ]
  },
  {
   "cell_type": "code",
   "execution_count": 89,
   "id": "7710c505",
   "metadata": {
    "ExecuteTime": {
     "end_time": "2023-02-17T01:04:57.009945Z",
     "start_time": "2023-02-17T01:04:56.990037Z"
    }
   },
   "outputs": [],
   "source": [
    "import pandas as pd\n",
    "\n",
    "test=pd.read_csv(\"./data/test.csv\",index_col=\"PassengerId\")\n",
    "train=pd.read_csv(\"./data/train.csv\",index_col=\"PassengerId\")"
   ]
  },
  {
   "cell_type": "markdown",
   "id": "1293437c",
   "metadata": {},
   "source": [
    "### 탐색적 데이터 분석 - 데이터 확인"
   ]
  },
  {
   "cell_type": "code",
   "execution_count": 90,
   "id": "42ab51b0",
   "metadata": {
    "ExecuteTime": {
     "end_time": "2023-02-17T01:04:57.024905Z",
     "start_time": "2023-02-17T01:04:57.010942Z"
    }
   },
   "outputs": [
    {
     "data": {
      "text/html": [
       "<div>\n",
       "<style scoped>\n",
       "    .dataframe tbody tr th:only-of-type {\n",
       "        vertical-align: middle;\n",
       "    }\n",
       "\n",
       "    .dataframe tbody tr th {\n",
       "        vertical-align: top;\n",
       "    }\n",
       "\n",
       "    .dataframe thead th {\n",
       "        text-align: right;\n",
       "    }\n",
       "</style>\n",
       "<table border=\"1\" class=\"dataframe\">\n",
       "  <thead>\n",
       "    <tr style=\"text-align: right;\">\n",
       "      <th></th>\n",
       "      <th>Survived</th>\n",
       "      <th>Pclass</th>\n",
       "      <th>Name</th>\n",
       "      <th>Sex</th>\n",
       "      <th>Age</th>\n",
       "      <th>SibSp</th>\n",
       "      <th>Parch</th>\n",
       "      <th>Ticket</th>\n",
       "      <th>Fare</th>\n",
       "      <th>Cabin</th>\n",
       "      <th>Embarked</th>\n",
       "    </tr>\n",
       "    <tr>\n",
       "      <th>PassengerId</th>\n",
       "      <th></th>\n",
       "      <th></th>\n",
       "      <th></th>\n",
       "      <th></th>\n",
       "      <th></th>\n",
       "      <th></th>\n",
       "      <th></th>\n",
       "      <th></th>\n",
       "      <th></th>\n",
       "      <th></th>\n",
       "      <th></th>\n",
       "    </tr>\n",
       "  </thead>\n",
       "  <tbody>\n",
       "    <tr>\n",
       "      <th>1</th>\n",
       "      <td>0</td>\n",
       "      <td>3</td>\n",
       "      <td>Braund, Mr. Owen Harris</td>\n",
       "      <td>male</td>\n",
       "      <td>22.0</td>\n",
       "      <td>1</td>\n",
       "      <td>0</td>\n",
       "      <td>A/5 21171</td>\n",
       "      <td>7.2500</td>\n",
       "      <td>NaN</td>\n",
       "      <td>S</td>\n",
       "    </tr>\n",
       "    <tr>\n",
       "      <th>2</th>\n",
       "      <td>1</td>\n",
       "      <td>1</td>\n",
       "      <td>Cumings, Mrs. John Bradley (Florence Briggs Th...</td>\n",
       "      <td>female</td>\n",
       "      <td>38.0</td>\n",
       "      <td>1</td>\n",
       "      <td>0</td>\n",
       "      <td>PC 17599</td>\n",
       "      <td>71.2833</td>\n",
       "      <td>C85</td>\n",
       "      <td>C</td>\n",
       "    </tr>\n",
       "    <tr>\n",
       "      <th>3</th>\n",
       "      <td>1</td>\n",
       "      <td>3</td>\n",
       "      <td>Heikkinen, Miss. Laina</td>\n",
       "      <td>female</td>\n",
       "      <td>26.0</td>\n",
       "      <td>0</td>\n",
       "      <td>0</td>\n",
       "      <td>STON/O2. 3101282</td>\n",
       "      <td>7.9250</td>\n",
       "      <td>NaN</td>\n",
       "      <td>S</td>\n",
       "    </tr>\n",
       "    <tr>\n",
       "      <th>4</th>\n",
       "      <td>1</td>\n",
       "      <td>1</td>\n",
       "      <td>Futrelle, Mrs. Jacques Heath (Lily May Peel)</td>\n",
       "      <td>female</td>\n",
       "      <td>35.0</td>\n",
       "      <td>1</td>\n",
       "      <td>0</td>\n",
       "      <td>113803</td>\n",
       "      <td>53.1000</td>\n",
       "      <td>C123</td>\n",
       "      <td>S</td>\n",
       "    </tr>\n",
       "    <tr>\n",
       "      <th>5</th>\n",
       "      <td>0</td>\n",
       "      <td>3</td>\n",
       "      <td>Allen, Mr. William Henry</td>\n",
       "      <td>male</td>\n",
       "      <td>35.0</td>\n",
       "      <td>0</td>\n",
       "      <td>0</td>\n",
       "      <td>373450</td>\n",
       "      <td>8.0500</td>\n",
       "      <td>NaN</td>\n",
       "      <td>S</td>\n",
       "    </tr>\n",
       "    <tr>\n",
       "      <th>6</th>\n",
       "      <td>0</td>\n",
       "      <td>3</td>\n",
       "      <td>Moran, Mr. James</td>\n",
       "      <td>male</td>\n",
       "      <td>NaN</td>\n",
       "      <td>0</td>\n",
       "      <td>0</td>\n",
       "      <td>330877</td>\n",
       "      <td>8.4583</td>\n",
       "      <td>NaN</td>\n",
       "      <td>Q</td>\n",
       "    </tr>\n",
       "    <tr>\n",
       "      <th>7</th>\n",
       "      <td>0</td>\n",
       "      <td>1</td>\n",
       "      <td>McCarthy, Mr. Timothy J</td>\n",
       "      <td>male</td>\n",
       "      <td>54.0</td>\n",
       "      <td>0</td>\n",
       "      <td>0</td>\n",
       "      <td>17463</td>\n",
       "      <td>51.8625</td>\n",
       "      <td>E46</td>\n",
       "      <td>S</td>\n",
       "    </tr>\n",
       "    <tr>\n",
       "      <th>8</th>\n",
       "      <td>0</td>\n",
       "      <td>3</td>\n",
       "      <td>Palsson, Master. Gosta Leonard</td>\n",
       "      <td>male</td>\n",
       "      <td>2.0</td>\n",
       "      <td>3</td>\n",
       "      <td>1</td>\n",
       "      <td>349909</td>\n",
       "      <td>21.0750</td>\n",
       "      <td>NaN</td>\n",
       "      <td>S</td>\n",
       "    </tr>\n",
       "    <tr>\n",
       "      <th>9</th>\n",
       "      <td>1</td>\n",
       "      <td>3</td>\n",
       "      <td>Johnson, Mrs. Oscar W (Elisabeth Vilhelmina Berg)</td>\n",
       "      <td>female</td>\n",
       "      <td>27.0</td>\n",
       "      <td>0</td>\n",
       "      <td>2</td>\n",
       "      <td>347742</td>\n",
       "      <td>11.1333</td>\n",
       "      <td>NaN</td>\n",
       "      <td>S</td>\n",
       "    </tr>\n",
       "    <tr>\n",
       "      <th>10</th>\n",
       "      <td>1</td>\n",
       "      <td>2</td>\n",
       "      <td>Nasser, Mrs. Nicholas (Adele Achem)</td>\n",
       "      <td>female</td>\n",
       "      <td>14.0</td>\n",
       "      <td>1</td>\n",
       "      <td>0</td>\n",
       "      <td>237736</td>\n",
       "      <td>30.0708</td>\n",
       "      <td>NaN</td>\n",
       "      <td>C</td>\n",
       "    </tr>\n",
       "    <tr>\n",
       "      <th>11</th>\n",
       "      <td>1</td>\n",
       "      <td>3</td>\n",
       "      <td>Sandstrom, Miss. Marguerite Rut</td>\n",
       "      <td>female</td>\n",
       "      <td>4.0</td>\n",
       "      <td>1</td>\n",
       "      <td>1</td>\n",
       "      <td>PP 9549</td>\n",
       "      <td>16.7000</td>\n",
       "      <td>G6</td>\n",
       "      <td>S</td>\n",
       "    </tr>\n",
       "    <tr>\n",
       "      <th>12</th>\n",
       "      <td>1</td>\n",
       "      <td>1</td>\n",
       "      <td>Bonnell, Miss. Elizabeth</td>\n",
       "      <td>female</td>\n",
       "      <td>58.0</td>\n",
       "      <td>0</td>\n",
       "      <td>0</td>\n",
       "      <td>113783</td>\n",
       "      <td>26.5500</td>\n",
       "      <td>C103</td>\n",
       "      <td>S</td>\n",
       "    </tr>\n",
       "    <tr>\n",
       "      <th>13</th>\n",
       "      <td>0</td>\n",
       "      <td>3</td>\n",
       "      <td>Saundercock, Mr. William Henry</td>\n",
       "      <td>male</td>\n",
       "      <td>20.0</td>\n",
       "      <td>0</td>\n",
       "      <td>0</td>\n",
       "      <td>A/5. 2151</td>\n",
       "      <td>8.0500</td>\n",
       "      <td>NaN</td>\n",
       "      <td>S</td>\n",
       "    </tr>\n",
       "    <tr>\n",
       "      <th>14</th>\n",
       "      <td>0</td>\n",
       "      <td>3</td>\n",
       "      <td>Andersson, Mr. Anders Johan</td>\n",
       "      <td>male</td>\n",
       "      <td>39.0</td>\n",
       "      <td>1</td>\n",
       "      <td>5</td>\n",
       "      <td>347082</td>\n",
       "      <td>31.2750</td>\n",
       "      <td>NaN</td>\n",
       "      <td>S</td>\n",
       "    </tr>\n",
       "    <tr>\n",
       "      <th>15</th>\n",
       "      <td>0</td>\n",
       "      <td>3</td>\n",
       "      <td>Vestrom, Miss. Hulda Amanda Adolfina</td>\n",
       "      <td>female</td>\n",
       "      <td>14.0</td>\n",
       "      <td>0</td>\n",
       "      <td>0</td>\n",
       "      <td>350406</td>\n",
       "      <td>7.8542</td>\n",
       "      <td>NaN</td>\n",
       "      <td>S</td>\n",
       "    </tr>\n",
       "    <tr>\n",
       "      <th>16</th>\n",
       "      <td>1</td>\n",
       "      <td>2</td>\n",
       "      <td>Hewlett, Mrs. (Mary D Kingcome)</td>\n",
       "      <td>female</td>\n",
       "      <td>55.0</td>\n",
       "      <td>0</td>\n",
       "      <td>0</td>\n",
       "      <td>248706</td>\n",
       "      <td>16.0000</td>\n",
       "      <td>NaN</td>\n",
       "      <td>S</td>\n",
       "    </tr>\n",
       "    <tr>\n",
       "      <th>17</th>\n",
       "      <td>0</td>\n",
       "      <td>3</td>\n",
       "      <td>Rice, Master. Eugene</td>\n",
       "      <td>male</td>\n",
       "      <td>2.0</td>\n",
       "      <td>4</td>\n",
       "      <td>1</td>\n",
       "      <td>382652</td>\n",
       "      <td>29.1250</td>\n",
       "      <td>NaN</td>\n",
       "      <td>Q</td>\n",
       "    </tr>\n",
       "    <tr>\n",
       "      <th>18</th>\n",
       "      <td>1</td>\n",
       "      <td>2</td>\n",
       "      <td>Williams, Mr. Charles Eugene</td>\n",
       "      <td>male</td>\n",
       "      <td>NaN</td>\n",
       "      <td>0</td>\n",
       "      <td>0</td>\n",
       "      <td>244373</td>\n",
       "      <td>13.0000</td>\n",
       "      <td>NaN</td>\n",
       "      <td>S</td>\n",
       "    </tr>\n",
       "    <tr>\n",
       "      <th>19</th>\n",
       "      <td>0</td>\n",
       "      <td>3</td>\n",
       "      <td>Vander Planke, Mrs. Julius (Emelia Maria Vande...</td>\n",
       "      <td>female</td>\n",
       "      <td>31.0</td>\n",
       "      <td>1</td>\n",
       "      <td>0</td>\n",
       "      <td>345763</td>\n",
       "      <td>18.0000</td>\n",
       "      <td>NaN</td>\n",
       "      <td>S</td>\n",
       "    </tr>\n",
       "    <tr>\n",
       "      <th>20</th>\n",
       "      <td>1</td>\n",
       "      <td>3</td>\n",
       "      <td>Masselmani, Mrs. Fatima</td>\n",
       "      <td>female</td>\n",
       "      <td>NaN</td>\n",
       "      <td>0</td>\n",
       "      <td>0</td>\n",
       "      <td>2649</td>\n",
       "      <td>7.2250</td>\n",
       "      <td>NaN</td>\n",
       "      <td>C</td>\n",
       "    </tr>\n",
       "  </tbody>\n",
       "</table>\n",
       "</div>"
      ],
      "text/plain": [
       "             Survived  Pclass  \\\n",
       "PassengerId                     \n",
       "1                   0       3   \n",
       "2                   1       1   \n",
       "3                   1       3   \n",
       "4                   1       1   \n",
       "5                   0       3   \n",
       "6                   0       3   \n",
       "7                   0       1   \n",
       "8                   0       3   \n",
       "9                   1       3   \n",
       "10                  1       2   \n",
       "11                  1       3   \n",
       "12                  1       1   \n",
       "13                  0       3   \n",
       "14                  0       3   \n",
       "15                  0       3   \n",
       "16                  1       2   \n",
       "17                  0       3   \n",
       "18                  1       2   \n",
       "19                  0       3   \n",
       "20                  1       3   \n",
       "\n",
       "                                                          Name     Sex   Age  \\\n",
       "PassengerId                                                                    \n",
       "1                                      Braund, Mr. Owen Harris    male  22.0   \n",
       "2            Cumings, Mrs. John Bradley (Florence Briggs Th...  female  38.0   \n",
       "3                                       Heikkinen, Miss. Laina  female  26.0   \n",
       "4                 Futrelle, Mrs. Jacques Heath (Lily May Peel)  female  35.0   \n",
       "5                                     Allen, Mr. William Henry    male  35.0   \n",
       "6                                             Moran, Mr. James    male   NaN   \n",
       "7                                      McCarthy, Mr. Timothy J    male  54.0   \n",
       "8                               Palsson, Master. Gosta Leonard    male   2.0   \n",
       "9            Johnson, Mrs. Oscar W (Elisabeth Vilhelmina Berg)  female  27.0   \n",
       "10                         Nasser, Mrs. Nicholas (Adele Achem)  female  14.0   \n",
       "11                             Sandstrom, Miss. Marguerite Rut  female   4.0   \n",
       "12                                    Bonnell, Miss. Elizabeth  female  58.0   \n",
       "13                              Saundercock, Mr. William Henry    male  20.0   \n",
       "14                                 Andersson, Mr. Anders Johan    male  39.0   \n",
       "15                        Vestrom, Miss. Hulda Amanda Adolfina  female  14.0   \n",
       "16                            Hewlett, Mrs. (Mary D Kingcome)   female  55.0   \n",
       "17                                        Rice, Master. Eugene    male   2.0   \n",
       "18                                Williams, Mr. Charles Eugene    male   NaN   \n",
       "19           Vander Planke, Mrs. Julius (Emelia Maria Vande...  female  31.0   \n",
       "20                                     Masselmani, Mrs. Fatima  female   NaN   \n",
       "\n",
       "             SibSp  Parch            Ticket     Fare Cabin Embarked  \n",
       "PassengerId                                                          \n",
       "1                1      0         A/5 21171   7.2500   NaN        S  \n",
       "2                1      0          PC 17599  71.2833   C85        C  \n",
       "3                0      0  STON/O2. 3101282   7.9250   NaN        S  \n",
       "4                1      0            113803  53.1000  C123        S  \n",
       "5                0      0            373450   8.0500   NaN        S  \n",
       "6                0      0            330877   8.4583   NaN        Q  \n",
       "7                0      0             17463  51.8625   E46        S  \n",
       "8                3      1            349909  21.0750   NaN        S  \n",
       "9                0      2            347742  11.1333   NaN        S  \n",
       "10               1      0            237736  30.0708   NaN        C  \n",
       "11               1      1           PP 9549  16.7000    G6        S  \n",
       "12               0      0            113783  26.5500  C103        S  \n",
       "13               0      0         A/5. 2151   8.0500   NaN        S  \n",
       "14               1      5            347082  31.2750   NaN        S  \n",
       "15               0      0            350406   7.8542   NaN        S  \n",
       "16               0      0            248706  16.0000   NaN        S  \n",
       "17               4      1            382652  29.1250   NaN        Q  \n",
       "18               0      0            244373  13.0000   NaN        S  \n",
       "19               1      0            345763  18.0000   NaN        S  \n",
       "20               0      0              2649   7.2250   NaN        C  "
      ]
     },
     "execution_count": 90,
     "metadata": {},
     "output_type": "execute_result"
    }
   ],
   "source": [
    "train.head(20)"
   ]
  },
  {
   "cell_type": "code",
   "execution_count": 91,
   "id": "d2085928",
   "metadata": {
    "ExecuteTime": {
     "end_time": "2023-02-17T01:04:57.039865Z",
     "start_time": "2023-02-17T01:04:57.025903Z"
    },
    "scrolled": true
   },
   "outputs": [
    {
     "data": {
      "text/html": [
       "<div>\n",
       "<style scoped>\n",
       "    .dataframe tbody tr th:only-of-type {\n",
       "        vertical-align: middle;\n",
       "    }\n",
       "\n",
       "    .dataframe tbody tr th {\n",
       "        vertical-align: top;\n",
       "    }\n",
       "\n",
       "    .dataframe thead th {\n",
       "        text-align: right;\n",
       "    }\n",
       "</style>\n",
       "<table border=\"1\" class=\"dataframe\">\n",
       "  <thead>\n",
       "    <tr style=\"text-align: right;\">\n",
       "      <th></th>\n",
       "      <th>Pclass</th>\n",
       "      <th>Name</th>\n",
       "      <th>Sex</th>\n",
       "      <th>Age</th>\n",
       "      <th>SibSp</th>\n",
       "      <th>Parch</th>\n",
       "      <th>Ticket</th>\n",
       "      <th>Fare</th>\n",
       "      <th>Cabin</th>\n",
       "      <th>Embarked</th>\n",
       "    </tr>\n",
       "    <tr>\n",
       "      <th>PassengerId</th>\n",
       "      <th></th>\n",
       "      <th></th>\n",
       "      <th></th>\n",
       "      <th></th>\n",
       "      <th></th>\n",
       "      <th></th>\n",
       "      <th></th>\n",
       "      <th></th>\n",
       "      <th></th>\n",
       "      <th></th>\n",
       "    </tr>\n",
       "  </thead>\n",
       "  <tbody>\n",
       "    <tr>\n",
       "      <th>892</th>\n",
       "      <td>3</td>\n",
       "      <td>Kelly, Mr. James</td>\n",
       "      <td>male</td>\n",
       "      <td>34.5</td>\n",
       "      <td>0</td>\n",
       "      <td>0</td>\n",
       "      <td>330911</td>\n",
       "      <td>7.8292</td>\n",
       "      <td>NaN</td>\n",
       "      <td>Q</td>\n",
       "    </tr>\n",
       "    <tr>\n",
       "      <th>893</th>\n",
       "      <td>3</td>\n",
       "      <td>Wilkes, Mrs. James (Ellen Needs)</td>\n",
       "      <td>female</td>\n",
       "      <td>47.0</td>\n",
       "      <td>1</td>\n",
       "      <td>0</td>\n",
       "      <td>363272</td>\n",
       "      <td>7.0000</td>\n",
       "      <td>NaN</td>\n",
       "      <td>S</td>\n",
       "    </tr>\n",
       "    <tr>\n",
       "      <th>894</th>\n",
       "      <td>2</td>\n",
       "      <td>Myles, Mr. Thomas Francis</td>\n",
       "      <td>male</td>\n",
       "      <td>62.0</td>\n",
       "      <td>0</td>\n",
       "      <td>0</td>\n",
       "      <td>240276</td>\n",
       "      <td>9.6875</td>\n",
       "      <td>NaN</td>\n",
       "      <td>Q</td>\n",
       "    </tr>\n",
       "    <tr>\n",
       "      <th>895</th>\n",
       "      <td>3</td>\n",
       "      <td>Wirz, Mr. Albert</td>\n",
       "      <td>male</td>\n",
       "      <td>27.0</td>\n",
       "      <td>0</td>\n",
       "      <td>0</td>\n",
       "      <td>315154</td>\n",
       "      <td>8.6625</td>\n",
       "      <td>NaN</td>\n",
       "      <td>S</td>\n",
       "    </tr>\n",
       "    <tr>\n",
       "      <th>896</th>\n",
       "      <td>3</td>\n",
       "      <td>Hirvonen, Mrs. Alexander (Helga E Lindqvist)</td>\n",
       "      <td>female</td>\n",
       "      <td>22.0</td>\n",
       "      <td>1</td>\n",
       "      <td>1</td>\n",
       "      <td>3101298</td>\n",
       "      <td>12.2875</td>\n",
       "      <td>NaN</td>\n",
       "      <td>S</td>\n",
       "    </tr>\n",
       "  </tbody>\n",
       "</table>\n",
       "</div>"
      ],
      "text/plain": [
       "             Pclass                                          Name     Sex  \\\n",
       "PassengerId                                                                 \n",
       "892               3                              Kelly, Mr. James    male   \n",
       "893               3              Wilkes, Mrs. James (Ellen Needs)  female   \n",
       "894               2                     Myles, Mr. Thomas Francis    male   \n",
       "895               3                              Wirz, Mr. Albert    male   \n",
       "896               3  Hirvonen, Mrs. Alexander (Helga E Lindqvist)  female   \n",
       "\n",
       "              Age  SibSp  Parch   Ticket     Fare Cabin Embarked  \n",
       "PassengerId                                                       \n",
       "892          34.5      0      0   330911   7.8292   NaN        Q  \n",
       "893          47.0      1      0   363272   7.0000   NaN        S  \n",
       "894          62.0      0      0   240276   9.6875   NaN        Q  \n",
       "895          27.0      0      0   315154   8.6625   NaN        S  \n",
       "896          22.0      1      1  3101298  12.2875   NaN        S  "
      ]
     },
     "execution_count": 91,
     "metadata": {},
     "output_type": "execute_result"
    }
   ],
   "source": [
    "test.head()"
   ]
  },
  {
   "cell_type": "markdown",
   "id": "85a8533a",
   "metadata": {},
   "source": [
    "- 컬럼값들의 특징\n",
    "\n",
    "<table border=0 align=left width=700>\n",
    "  <tr><th>feature<th width=200>의미<th width=300>설명<th> 타입\n",
    "  <tr><td>Survivied<td>생존여부<td>target 라벨 (0 : 사망, 1 : 생존)<td>integer\n",
    "  <tr><td>Pclass<td>티켓의 클래스<td>1 = 1등석, 2 = 2등석, 3 = 3등석<td>integer\n",
    "  <tr><td>Name<td>이름<td>호칭과 이름으로 구성<td>string\n",
    "  <tr><td>Sex<td>성별<td>male, female로 구분<td>string    \n",
    "  <tr><td>Age<td>나이<td>0-80세<td>integer\n",
    "  <tr><td>SibSp<td>함께 탑승한 형제와 배우자의 수<td><td>integer\n",
    "  <tr><td>Parch<td>함께 탑승한 부모, 아이의 수<td><td>integer\n",
    "  <tr><td>Ticket<td>티켓 번호<td>alphabat + integer<td>integer\n",
    "  <tr><td>Fare<td>탑승료<td><td>float\n",
    "  <tr><td>Cabin<td>객실 번호<td>alphabat + integer<td>string\n",
    "  <tr><td>Embarked<td>탑승 항구<td>C = Cherbourg, Q = Queenstown, S = Southampton<td>string\n",
    "</table>    \n",
    "     "
   ]
  },
  {
   "cell_type": "code",
   "execution_count": 92,
   "id": "f2ea3e45",
   "metadata": {
    "ExecuteTime": {
     "end_time": "2023-02-17T01:04:57.054825Z",
     "start_time": "2023-02-17T01:04:57.041860Z"
    }
   },
   "outputs": [
    {
     "name": "stdout",
     "output_type": "stream",
     "text": [
      "<class 'pandas.core.frame.DataFrame'>\n",
      "Int64Index: 891 entries, 1 to 891\n",
      "Data columns (total 11 columns):\n",
      " #   Column    Non-Null Count  Dtype  \n",
      "---  ------    --------------  -----  \n",
      " 0   Survived  891 non-null    int64  \n",
      " 1   Pclass    891 non-null    int64  \n",
      " 2   Name      891 non-null    object \n",
      " 3   Sex       891 non-null    object \n",
      " 4   Age       714 non-null    float64\n",
      " 5   SibSp     891 non-null    int64  \n",
      " 6   Parch     891 non-null    int64  \n",
      " 7   Ticket    891 non-null    object \n",
      " 8   Fare      891 non-null    float64\n",
      " 9   Cabin     204 non-null    object \n",
      " 10  Embarked  889 non-null    object \n",
      "dtypes: float64(2), int64(4), object(5)\n",
      "memory usage: 83.5+ KB\n"
     ]
    }
   ],
   "source": [
    "# 데이터 세부 구성 확인 - 결측치 확인\n",
    "train.info()"
   ]
  },
  {
   "cell_type": "code",
   "execution_count": 93,
   "id": "d5564d76",
   "metadata": {
    "ExecuteTime": {
     "end_time": "2023-02-17T01:04:57.069785Z",
     "start_time": "2023-02-17T01:04:57.055823Z"
    }
   },
   "outputs": [
    {
     "name": "stdout",
     "output_type": "stream",
     "text": [
      "<class 'pandas.core.frame.DataFrame'>\n",
      "Int64Index: 418 entries, 892 to 1309\n",
      "Data columns (total 10 columns):\n",
      " #   Column    Non-Null Count  Dtype  \n",
      "---  ------    --------------  -----  \n",
      " 0   Pclass    418 non-null    int64  \n",
      " 1   Name      418 non-null    object \n",
      " 2   Sex       418 non-null    object \n",
      " 3   Age       332 non-null    float64\n",
      " 4   SibSp     418 non-null    int64  \n",
      " 5   Parch     418 non-null    int64  \n",
      " 6   Ticket    418 non-null    object \n",
      " 7   Fare      417 non-null    float64\n",
      " 8   Cabin     91 non-null     object \n",
      " 9   Embarked  418 non-null    object \n",
      "dtypes: float64(2), int64(3), object(5)\n",
      "memory usage: 35.9+ KB\n"
     ]
    }
   ],
   "source": [
    "test.info()"
   ]
  },
  {
   "cell_type": "code",
   "execution_count": 94,
   "id": "610d11a7",
   "metadata": {
    "ExecuteTime": {
     "end_time": "2023-02-17T01:04:57.084746Z",
     "start_time": "2023-02-17T01:04:57.070783Z"
    },
    "scrolled": false
   },
   "outputs": [
    {
     "data": {
      "text/plain": [
       "Survived      0\n",
       "Pclass        0\n",
       "Name          0\n",
       "Sex           0\n",
       "Age         177\n",
       "SibSp         0\n",
       "Parch         0\n",
       "Ticket        0\n",
       "Fare          0\n",
       "Cabin       687\n",
       "Embarked      2\n",
       "dtype: int64"
      ]
     },
     "execution_count": 94,
     "metadata": {},
     "output_type": "execute_result"
    }
   ],
   "source": [
    "# 결측치 개수 확인 - True인 경우는 1이므로 더하면 결측치 갯수를 알 수 있음\n",
    "train.isnull().sum()"
   ]
  },
  {
   "cell_type": "code",
   "execution_count": 95,
   "id": "a30a1110",
   "metadata": {
    "ExecuteTime": {
     "end_time": "2023-02-17T01:04:57.114665Z",
     "start_time": "2023-02-17T01:04:57.085743Z"
    }
   },
   "outputs": [
    {
     "data": {
      "text/html": [
       "<div>\n",
       "<style scoped>\n",
       "    .dataframe tbody tr th:only-of-type {\n",
       "        vertical-align: middle;\n",
       "    }\n",
       "\n",
       "    .dataframe tbody tr th {\n",
       "        vertical-align: top;\n",
       "    }\n",
       "\n",
       "    .dataframe thead th {\n",
       "        text-align: right;\n",
       "    }\n",
       "</style>\n",
       "<table border=\"1\" class=\"dataframe\">\n",
       "  <thead>\n",
       "    <tr style=\"text-align: right;\">\n",
       "      <th></th>\n",
       "      <th>Survived</th>\n",
       "      <th>Pclass</th>\n",
       "      <th>Age</th>\n",
       "      <th>SibSp</th>\n",
       "      <th>Parch</th>\n",
       "      <th>Fare</th>\n",
       "    </tr>\n",
       "  </thead>\n",
       "  <tbody>\n",
       "    <tr>\n",
       "      <th>count</th>\n",
       "      <td>891.000000</td>\n",
       "      <td>891.000000</td>\n",
       "      <td>714.000000</td>\n",
       "      <td>891.000000</td>\n",
       "      <td>891.000000</td>\n",
       "      <td>891.000000</td>\n",
       "    </tr>\n",
       "    <tr>\n",
       "      <th>mean</th>\n",
       "      <td>0.383838</td>\n",
       "      <td>2.308642</td>\n",
       "      <td>29.699118</td>\n",
       "      <td>0.523008</td>\n",
       "      <td>0.381594</td>\n",
       "      <td>32.204208</td>\n",
       "    </tr>\n",
       "    <tr>\n",
       "      <th>std</th>\n",
       "      <td>0.486592</td>\n",
       "      <td>0.836071</td>\n",
       "      <td>14.526497</td>\n",
       "      <td>1.102743</td>\n",
       "      <td>0.806057</td>\n",
       "      <td>49.693429</td>\n",
       "    </tr>\n",
       "    <tr>\n",
       "      <th>min</th>\n",
       "      <td>0.000000</td>\n",
       "      <td>1.000000</td>\n",
       "      <td>0.420000</td>\n",
       "      <td>0.000000</td>\n",
       "      <td>0.000000</td>\n",
       "      <td>0.000000</td>\n",
       "    </tr>\n",
       "    <tr>\n",
       "      <th>25%</th>\n",
       "      <td>0.000000</td>\n",
       "      <td>2.000000</td>\n",
       "      <td>20.125000</td>\n",
       "      <td>0.000000</td>\n",
       "      <td>0.000000</td>\n",
       "      <td>7.910400</td>\n",
       "    </tr>\n",
       "    <tr>\n",
       "      <th>50%</th>\n",
       "      <td>0.000000</td>\n",
       "      <td>3.000000</td>\n",
       "      <td>28.000000</td>\n",
       "      <td>0.000000</td>\n",
       "      <td>0.000000</td>\n",
       "      <td>14.454200</td>\n",
       "    </tr>\n",
       "    <tr>\n",
       "      <th>75%</th>\n",
       "      <td>1.000000</td>\n",
       "      <td>3.000000</td>\n",
       "      <td>38.000000</td>\n",
       "      <td>1.000000</td>\n",
       "      <td>0.000000</td>\n",
       "      <td>31.000000</td>\n",
       "    </tr>\n",
       "    <tr>\n",
       "      <th>max</th>\n",
       "      <td>1.000000</td>\n",
       "      <td>3.000000</td>\n",
       "      <td>80.000000</td>\n",
       "      <td>8.000000</td>\n",
       "      <td>6.000000</td>\n",
       "      <td>512.329200</td>\n",
       "    </tr>\n",
       "  </tbody>\n",
       "</table>\n",
       "</div>"
      ],
      "text/plain": [
       "         Survived      Pclass         Age       SibSp       Parch        Fare\n",
       "count  891.000000  891.000000  714.000000  891.000000  891.000000  891.000000\n",
       "mean     0.383838    2.308642   29.699118    0.523008    0.381594   32.204208\n",
       "std      0.486592    0.836071   14.526497    1.102743    0.806057   49.693429\n",
       "min      0.000000    1.000000    0.420000    0.000000    0.000000    0.000000\n",
       "25%      0.000000    2.000000   20.125000    0.000000    0.000000    7.910400\n",
       "50%      0.000000    3.000000   28.000000    0.000000    0.000000   14.454200\n",
       "75%      1.000000    3.000000   38.000000    1.000000    0.000000   31.000000\n",
       "max      1.000000    3.000000   80.000000    8.000000    6.000000  512.329200"
      ]
     },
     "execution_count": 95,
     "metadata": {},
     "output_type": "execute_result"
    }
   ],
   "source": [
    "# 수치 데이터의 기술통계를 확인(결측치, 분산, 이상치, 편향)\n",
    "# rufcmrcl - count를 보면 됨\n",
    "# 분산 - mean과 std - 평균(mean)보다 더 큰 표준편차(std)를 가진 것이 분산이 큰 것\n",
    "# 이상치 -최소값mon 25% 최대값 max 75%에서 확인\\\n",
    "# 편향 - mean 과 50% 차이가 큰 경우 편향된 것\n",
    "        #Fare - mean 32.204, 50% 14.454 편향됨을 알 수 있음\n",
    "# std - 표준편차\n",
    "train.describe()"
   ]
  },
  {
   "cell_type": "markdown",
   "id": "53ef1890",
   "metadata": {},
   "source": [
    "### 데이터 전처리 & EDA"
   ]
  },
  {
   "cell_type": "markdown",
   "id": "fb832894",
   "metadata": {},
   "source": [
    "#### 결측치 처리\n",
    "- 수정(채우기)\n",
    "    - 기술통계(평균, 중앙값)\n",
    "    - 다른 칼럼과 비교해서 해당 값으로 변경\n",
    "    - 가장 많은 값으로 변경\n",
    "    - 결측치만 따로 다른 값으로 설정\n",
    "- 삭제\n",
    "    - 텍스트마이닝에서 주로 삭제 사용\n",
    "    - 데이터가 충분히 많은 경우에도 삭제\n",
    "    - 감탄사 같은 것들"
   ]
  },
  {
   "cell_type": "markdown",
   "id": "8ae2268b",
   "metadata": {},
   "source": [
    "#### 나이의 결측치 채우기- 다른 컬럼의 통계값을 활용\n",
    "- 비교 칼럼은 나이 컬럼과 상관관계가 높은 칼럼을 활용\n",
    "- 비교 칼럼은 범주형 데이터인 컬럼을 활용\n",
    "- 사용할 컬럼 : Pclass, Sex"
   ]
  },
  {
   "cell_type": "code",
   "execution_count": 96,
   "id": "bb2247c0",
   "metadata": {
    "ExecuteTime": {
     "end_time": "2023-02-17T01:04:57.129625Z",
     "start_time": "2023-02-17T01:04:57.115663Z"
    }
   },
   "outputs": [
    {
     "data": {
      "text/html": [
       "<div>\n",
       "<style scoped>\n",
       "    .dataframe tbody tr th:only-of-type {\n",
       "        vertical-align: middle;\n",
       "    }\n",
       "\n",
       "    .dataframe tbody tr th {\n",
       "        vertical-align: top;\n",
       "    }\n",
       "\n",
       "    .dataframe thead th {\n",
       "        text-align: right;\n",
       "    }\n",
       "</style>\n",
       "<table border=\"1\" class=\"dataframe\">\n",
       "  <thead>\n",
       "    <tr style=\"text-align: right;\">\n",
       "      <th></th>\n",
       "      <th>Survived</th>\n",
       "      <th>Pclass</th>\n",
       "      <th>Age</th>\n",
       "      <th>SibSp</th>\n",
       "      <th>Parch</th>\n",
       "      <th>Fare</th>\n",
       "    </tr>\n",
       "  </thead>\n",
       "  <tbody>\n",
       "    <tr>\n",
       "      <th>Survived</th>\n",
       "      <td>1.000000</td>\n",
       "      <td>-0.338481</td>\n",
       "      <td>-0.077221</td>\n",
       "      <td>-0.035322</td>\n",
       "      <td>0.081629</td>\n",
       "      <td>0.257307</td>\n",
       "    </tr>\n",
       "    <tr>\n",
       "      <th>Pclass</th>\n",
       "      <td>-0.338481</td>\n",
       "      <td>1.000000</td>\n",
       "      <td>-0.369226</td>\n",
       "      <td>0.083081</td>\n",
       "      <td>0.018443</td>\n",
       "      <td>-0.549500</td>\n",
       "    </tr>\n",
       "    <tr>\n",
       "      <th>Age</th>\n",
       "      <td>-0.077221</td>\n",
       "      <td>-0.369226</td>\n",
       "      <td>1.000000</td>\n",
       "      <td>-0.308247</td>\n",
       "      <td>-0.189119</td>\n",
       "      <td>0.096067</td>\n",
       "    </tr>\n",
       "    <tr>\n",
       "      <th>SibSp</th>\n",
       "      <td>-0.035322</td>\n",
       "      <td>0.083081</td>\n",
       "      <td>-0.308247</td>\n",
       "      <td>1.000000</td>\n",
       "      <td>0.414838</td>\n",
       "      <td>0.159651</td>\n",
       "    </tr>\n",
       "    <tr>\n",
       "      <th>Parch</th>\n",
       "      <td>0.081629</td>\n",
       "      <td>0.018443</td>\n",
       "      <td>-0.189119</td>\n",
       "      <td>0.414838</td>\n",
       "      <td>1.000000</td>\n",
       "      <td>0.216225</td>\n",
       "    </tr>\n",
       "    <tr>\n",
       "      <th>Fare</th>\n",
       "      <td>0.257307</td>\n",
       "      <td>-0.549500</td>\n",
       "      <td>0.096067</td>\n",
       "      <td>0.159651</td>\n",
       "      <td>0.216225</td>\n",
       "      <td>1.000000</td>\n",
       "    </tr>\n",
       "  </tbody>\n",
       "</table>\n",
       "</div>"
      ],
      "text/plain": [
       "          Survived    Pclass       Age     SibSp     Parch      Fare\n",
       "Survived  1.000000 -0.338481 -0.077221 -0.035322  0.081629  0.257307\n",
       "Pclass   -0.338481  1.000000 -0.369226  0.083081  0.018443 -0.549500\n",
       "Age      -0.077221 -0.369226  1.000000 -0.308247 -0.189119  0.096067\n",
       "SibSp    -0.035322  0.083081 -0.308247  1.000000  0.414838  0.159651\n",
       "Parch     0.081629  0.018443 -0.189119  0.414838  1.000000  0.216225\n",
       "Fare      0.257307 -0.549500  0.096067  0.159651  0.216225  1.000000"
      ]
     },
     "execution_count": 96,
     "metadata": {},
     "output_type": "execute_result"
    }
   ],
   "source": [
    "# 상관관계 분석 - corr()\n",
    "# 연속형(숫자로 표현 가능한) 데이터에 대해서만 상관관계 분석이 가능하다.\n",
    "# 절대값이 1에 가까울수록 상관관계가 높음\n",
    "train.corr()"
   ]
  },
  {
   "cell_type": "code",
   "execution_count": 97,
   "id": "b5c9440c",
   "metadata": {
    "ExecuteTime": {
     "end_time": "2023-02-17T01:04:57.144585Z",
     "start_time": "2023-02-17T01:04:57.130623Z"
    }
   },
   "outputs": [],
   "source": [
    "# 피벗 테이블을 활용해서 그룹핑\n",
    "# values : 결측치를 채우고자 하는 컬럼명\n",
    "# index :참고하고자 하는 컬럼명을 리스트로 나열\n",
    "# aggfunc : 참고하고자 하는 컬럼의 값들 계산하는 방법\n",
    "pt1 = train.pivot_table(values='Age',\n",
    "                       index=['Pclass','Sex'],\n",
    "                       aggfunc='mean')"
   ]
  },
  {
   "cell_type": "code",
   "execution_count": 98,
   "id": "5d04b98e",
   "metadata": {
    "ExecuteTime": {
     "end_time": "2023-02-17T01:04:57.159545Z",
     "start_time": "2023-02-17T01:04:57.147578Z"
    },
    "scrolled": true
   },
   "outputs": [
    {
     "data": {
      "text/html": [
       "<div>\n",
       "<style scoped>\n",
       "    .dataframe tbody tr th:only-of-type {\n",
       "        vertical-align: middle;\n",
       "    }\n",
       "\n",
       "    .dataframe tbody tr th {\n",
       "        vertical-align: top;\n",
       "    }\n",
       "\n",
       "    .dataframe thead th {\n",
       "        text-align: right;\n",
       "    }\n",
       "</style>\n",
       "<table border=\"1\" class=\"dataframe\">\n",
       "  <thead>\n",
       "    <tr style=\"text-align: right;\">\n",
       "      <th></th>\n",
       "      <th></th>\n",
       "      <th>Age</th>\n",
       "    </tr>\n",
       "    <tr>\n",
       "      <th>Pclass</th>\n",
       "      <th>Sex</th>\n",
       "      <th></th>\n",
       "    </tr>\n",
       "  </thead>\n",
       "  <tbody>\n",
       "    <tr>\n",
       "      <th rowspan=\"2\" valign=\"top\">1</th>\n",
       "      <th>female</th>\n",
       "      <td>34.611765</td>\n",
       "    </tr>\n",
       "    <tr>\n",
       "      <th>male</th>\n",
       "      <td>41.281386</td>\n",
       "    </tr>\n",
       "    <tr>\n",
       "      <th rowspan=\"2\" valign=\"top\">2</th>\n",
       "      <th>female</th>\n",
       "      <td>28.722973</td>\n",
       "    </tr>\n",
       "    <tr>\n",
       "      <th>male</th>\n",
       "      <td>30.740707</td>\n",
       "    </tr>\n",
       "    <tr>\n",
       "      <th rowspan=\"2\" valign=\"top\">3</th>\n",
       "      <th>female</th>\n",
       "      <td>21.750000</td>\n",
       "    </tr>\n",
       "    <tr>\n",
       "      <th>male</th>\n",
       "      <td>26.507589</td>\n",
       "    </tr>\n",
       "  </tbody>\n",
       "</table>\n",
       "</div>"
      ],
      "text/plain": [
       "                     Age\n",
       "Pclass Sex              \n",
       "1      female  34.611765\n",
       "       male    41.281386\n",
       "2      female  28.722973\n",
       "       male    30.740707\n",
       "3      female  21.750000\n",
       "       male    26.507589"
      ]
     },
     "execution_count": 98,
     "metadata": {},
     "output_type": "execute_result"
    }
   ],
   "source": [
    "pt1"
   ]
  },
  {
   "cell_type": "code",
   "execution_count": 99,
   "id": "a692e873",
   "metadata": {
    "ExecuteTime": {
     "end_time": "2023-02-17T01:04:57.175012Z",
     "start_time": "2023-02-17T01:04:57.161054Z"
    }
   },
   "outputs": [
    {
     "data": {
      "text/plain": [
       "Age    34.611765\n",
       "Name: (1, female), dtype: float64"
      ]
     },
     "execution_count": 99,
     "metadata": {},
     "output_type": "execute_result"
    }
   ],
   "source": [
    "# 피벗 테이블 접근 방법\n",
    "pt1.loc[1,\"female\"]"
   ]
  },
  {
   "cell_type": "code",
   "execution_count": 100,
   "id": "9f824fa8",
   "metadata": {
    "ExecuteTime": {
     "end_time": "2023-02-17T01:04:57.189972Z",
     "start_time": "2023-02-17T01:04:57.176010Z"
    }
   },
   "outputs": [],
   "source": [
    "import numpy as np\n",
    "\n",
    "# 결측치 채우기 함수\n",
    "def fillAge(row):\n",
    "    # sjadjdhs epdlxjdptj Age 컬럼이 결측치라면\n",
    "    if np.isnan(row['Age']):\n",
    "        # 피벗 테이블을 검색해서 해당 값을 넣어줌\n",
    "        return pt1.loc[row['Pclass'],row['Sex']]\n",
    "    # 넘어온 데이터에서 Age 컬럼이 결측치가 아니라면\n",
    "    else:\n",
    "        return row['Age']"
   ]
  },
  {
   "cell_type": "code",
   "execution_count": 101,
   "id": "3b9ab25c",
   "metadata": {
    "ExecuteTime": {
     "end_time": "2023-02-17T01:04:57.234852Z",
     "start_time": "2023-02-17T01:04:57.190970Z"
    }
   },
   "outputs": [],
   "source": [
    "# apply()함수를 이용해서 결측치 채우기\n",
    "# 특정 열 또는 특정 행에 함수를 적용\n",
    "\n",
    "# train.apply() : 한 줄 데이터가 함수로 넘어감\n",
    "# axis = 1: 한 행 다누이로 데이터를 넘김\n",
    "# astype('int64') : 실수로  된 나이 평균값을 정수로 변환해서 저장\n",
    "train['Age'] = train.apply(fillAge,axis=1).astype(\"int64\")\n"
   ]
  },
  {
   "cell_type": "code",
   "execution_count": 102,
   "id": "5eecf089",
   "metadata": {
    "ExecuteTime": {
     "end_time": "2023-02-17T01:04:57.249813Z",
     "start_time": "2023-02-17T01:04:57.236848Z"
    },
    "scrolled": false
   },
   "outputs": [
    {
     "data": {
      "text/html": [
       "<div>\n",
       "<style scoped>\n",
       "    .dataframe tbody tr th:only-of-type {\n",
       "        vertical-align: middle;\n",
       "    }\n",
       "\n",
       "    .dataframe tbody tr th {\n",
       "        vertical-align: top;\n",
       "    }\n",
       "\n",
       "    .dataframe thead th {\n",
       "        text-align: right;\n",
       "    }\n",
       "</style>\n",
       "<table border=\"1\" class=\"dataframe\">\n",
       "  <thead>\n",
       "    <tr style=\"text-align: right;\">\n",
       "      <th></th>\n",
       "      <th>Survived</th>\n",
       "      <th>Pclass</th>\n",
       "      <th>Name</th>\n",
       "      <th>Sex</th>\n",
       "      <th>Age</th>\n",
       "      <th>SibSp</th>\n",
       "      <th>Parch</th>\n",
       "      <th>Ticket</th>\n",
       "      <th>Fare</th>\n",
       "      <th>Cabin</th>\n",
       "      <th>Embarked</th>\n",
       "    </tr>\n",
       "    <tr>\n",
       "      <th>PassengerId</th>\n",
       "      <th></th>\n",
       "      <th></th>\n",
       "      <th></th>\n",
       "      <th></th>\n",
       "      <th></th>\n",
       "      <th></th>\n",
       "      <th></th>\n",
       "      <th></th>\n",
       "      <th></th>\n",
       "      <th></th>\n",
       "      <th></th>\n",
       "    </tr>\n",
       "  </thead>\n",
       "  <tbody>\n",
       "    <tr>\n",
       "      <th>1</th>\n",
       "      <td>0</td>\n",
       "      <td>3</td>\n",
       "      <td>Braund, Mr. Owen Harris</td>\n",
       "      <td>male</td>\n",
       "      <td>22</td>\n",
       "      <td>1</td>\n",
       "      <td>0</td>\n",
       "      <td>A/5 21171</td>\n",
       "      <td>7.2500</td>\n",
       "      <td>NaN</td>\n",
       "      <td>S</td>\n",
       "    </tr>\n",
       "    <tr>\n",
       "      <th>2</th>\n",
       "      <td>1</td>\n",
       "      <td>1</td>\n",
       "      <td>Cumings, Mrs. John Bradley (Florence Briggs Th...</td>\n",
       "      <td>female</td>\n",
       "      <td>38</td>\n",
       "      <td>1</td>\n",
       "      <td>0</td>\n",
       "      <td>PC 17599</td>\n",
       "      <td>71.2833</td>\n",
       "      <td>C85</td>\n",
       "      <td>C</td>\n",
       "    </tr>\n",
       "    <tr>\n",
       "      <th>3</th>\n",
       "      <td>1</td>\n",
       "      <td>3</td>\n",
       "      <td>Heikkinen, Miss. Laina</td>\n",
       "      <td>female</td>\n",
       "      <td>26</td>\n",
       "      <td>0</td>\n",
       "      <td>0</td>\n",
       "      <td>STON/O2. 3101282</td>\n",
       "      <td>7.9250</td>\n",
       "      <td>NaN</td>\n",
       "      <td>S</td>\n",
       "    </tr>\n",
       "    <tr>\n",
       "      <th>4</th>\n",
       "      <td>1</td>\n",
       "      <td>1</td>\n",
       "      <td>Futrelle, Mrs. Jacques Heath (Lily May Peel)</td>\n",
       "      <td>female</td>\n",
       "      <td>35</td>\n",
       "      <td>1</td>\n",
       "      <td>0</td>\n",
       "      <td>113803</td>\n",
       "      <td>53.1000</td>\n",
       "      <td>C123</td>\n",
       "      <td>S</td>\n",
       "    </tr>\n",
       "    <tr>\n",
       "      <th>5</th>\n",
       "      <td>0</td>\n",
       "      <td>3</td>\n",
       "      <td>Allen, Mr. William Henry</td>\n",
       "      <td>male</td>\n",
       "      <td>35</td>\n",
       "      <td>0</td>\n",
       "      <td>0</td>\n",
       "      <td>373450</td>\n",
       "      <td>8.0500</td>\n",
       "      <td>NaN</td>\n",
       "      <td>S</td>\n",
       "    </tr>\n",
       "    <tr>\n",
       "      <th>6</th>\n",
       "      <td>0</td>\n",
       "      <td>3</td>\n",
       "      <td>Moran, Mr. James</td>\n",
       "      <td>male</td>\n",
       "      <td>26</td>\n",
       "      <td>0</td>\n",
       "      <td>0</td>\n",
       "      <td>330877</td>\n",
       "      <td>8.4583</td>\n",
       "      <td>NaN</td>\n",
       "      <td>Q</td>\n",
       "    </tr>\n",
       "  </tbody>\n",
       "</table>\n",
       "</div>"
      ],
      "text/plain": [
       "             Survived  Pclass  \\\n",
       "PassengerId                     \n",
       "1                   0       3   \n",
       "2                   1       1   \n",
       "3                   1       3   \n",
       "4                   1       1   \n",
       "5                   0       3   \n",
       "6                   0       3   \n",
       "\n",
       "                                                          Name     Sex  Age  \\\n",
       "PassengerId                                                                   \n",
       "1                                      Braund, Mr. Owen Harris    male   22   \n",
       "2            Cumings, Mrs. John Bradley (Florence Briggs Th...  female   38   \n",
       "3                                       Heikkinen, Miss. Laina  female   26   \n",
       "4                 Futrelle, Mrs. Jacques Heath (Lily May Peel)  female   35   \n",
       "5                                     Allen, Mr. William Henry    male   35   \n",
       "6                                             Moran, Mr. James    male   26   \n",
       "\n",
       "             SibSp  Parch            Ticket     Fare Cabin Embarked  \n",
       "PassengerId                                                          \n",
       "1                1      0         A/5 21171   7.2500   NaN        S  \n",
       "2                1      0          PC 17599  71.2833   C85        C  \n",
       "3                0      0  STON/O2. 3101282   7.9250   NaN        S  \n",
       "4                1      0            113803  53.1000  C123        S  \n",
       "5                0      0            373450   8.0500   NaN        S  \n",
       "6                0      0            330877   8.4583   NaN        Q  "
      ]
     },
     "execution_count": 102,
     "metadata": {},
     "output_type": "execute_result"
    }
   ],
   "source": [
    "train.head(6)"
   ]
  },
  {
   "cell_type": "code",
   "execution_count": 103,
   "id": "c7aed848",
   "metadata": {
    "ExecuteTime": {
     "end_time": "2023-02-17T01:04:57.265277Z",
     "start_time": "2023-02-17T01:04:57.250810Z"
    }
   },
   "outputs": [
    {
     "name": "stdout",
     "output_type": "stream",
     "text": [
      "<class 'pandas.core.frame.DataFrame'>\n",
      "Int64Index: 891 entries, 1 to 891\n",
      "Data columns (total 11 columns):\n",
      " #   Column    Non-Null Count  Dtype  \n",
      "---  ------    --------------  -----  \n",
      " 0   Survived  891 non-null    int64  \n",
      " 1   Pclass    891 non-null    int64  \n",
      " 2   Name      891 non-null    object \n",
      " 3   Sex       891 non-null    object \n",
      " 4   Age       891 non-null    int64  \n",
      " 5   SibSp     891 non-null    int64  \n",
      " 6   Parch     891 non-null    int64  \n",
      " 7   Ticket    891 non-null    object \n",
      " 8   Fare      891 non-null    float64\n",
      " 9   Cabin     204 non-null    object \n",
      " 10  Embarked  889 non-null    object \n",
      "dtypes: float64(1), int64(5), object(5)\n",
      "memory usage: 83.5+ KB\n"
     ]
    }
   ],
   "source": [
    "train.info()"
   ]
  },
  {
   "cell_type": "code",
   "execution_count": 104,
   "id": "b7290cbb",
   "metadata": {
    "ExecuteTime": {
     "end_time": "2023-02-17T01:04:57.280237Z",
     "start_time": "2023-02-17T01:04:57.266274Z"
    }
   },
   "outputs": [
    {
     "name": "stdout",
     "output_type": "stream",
     "text": [
      "<class 'pandas.core.frame.DataFrame'>\n",
      "Int64Index: 418 entries, 892 to 1309\n",
      "Data columns (total 10 columns):\n",
      " #   Column    Non-Null Count  Dtype  \n",
      "---  ------    --------------  -----  \n",
      " 0   Pclass    418 non-null    int64  \n",
      " 1   Name      418 non-null    object \n",
      " 2   Sex       418 non-null    object \n",
      " 3   Age       332 non-null    float64\n",
      " 4   SibSp     418 non-null    int64  \n",
      " 5   Parch     418 non-null    int64  \n",
      " 6   Ticket    418 non-null    object \n",
      " 7   Fare      417 non-null    float64\n",
      " 8   Cabin     91 non-null     object \n",
      " 9   Embarked  418 non-null    object \n",
      "dtypes: float64(2), int64(3), object(5)\n",
      "memory usage: 35.9+ KB\n"
     ]
    }
   ],
   "source": [
    "test.info()"
   ]
  },
  {
   "cell_type": "code",
   "execution_count": 105,
   "id": "3cc90951",
   "metadata": {
    "ExecuteTime": {
     "end_time": "2023-02-17T01:04:57.310157Z",
     "start_time": "2023-02-17T01:04:57.281234Z"
    }
   },
   "outputs": [],
   "source": [
    "test['Age'] = test.apply(fillAge,axis=1).astype(\"int64\")"
   ]
  },
  {
   "cell_type": "code",
   "execution_count": 106,
   "id": "f2a64b71",
   "metadata": {
    "ExecuteTime": {
     "end_time": "2023-02-17T01:04:57.325117Z",
     "start_time": "2023-02-17T01:04:57.312152Z"
    }
   },
   "outputs": [
    {
     "name": "stdout",
     "output_type": "stream",
     "text": [
      "<class 'pandas.core.frame.DataFrame'>\n",
      "Int64Index: 418 entries, 892 to 1309\n",
      "Data columns (total 10 columns):\n",
      " #   Column    Non-Null Count  Dtype  \n",
      "---  ------    --------------  -----  \n",
      " 0   Pclass    418 non-null    int64  \n",
      " 1   Name      418 non-null    object \n",
      " 2   Sex       418 non-null    object \n",
      " 3   Age       418 non-null    int64  \n",
      " 4   SibSp     418 non-null    int64  \n",
      " 5   Parch     418 non-null    int64  \n",
      " 6   Ticket    418 non-null    object \n",
      " 7   Fare      417 non-null    float64\n",
      " 8   Cabin     91 non-null     object \n",
      " 9   Embarked  418 non-null    object \n",
      "dtypes: float64(1), int64(4), object(5)\n",
      "memory usage: 35.9+ KB\n"
     ]
    }
   ],
   "source": [
    "test.info()"
   ]
  },
  {
   "cell_type": "markdown",
   "id": "36912676",
   "metadata": {},
   "source": [
    "### 훈련 데이터의 Embarked 결측치 채우기\n",
    "- 결측치 개수가 적은 경우\n",
    "    - 범주형 데이터의 결측치는 가능하면 많은 개수를 가진 클래스에 포함\n",
    "        - 개수가 많은 쪽에 포함시켜야 원래 클래스에 영향을 덜 줌\n",
    "- 결측치 개수가 데이터 수만큼 많은 경우\n",
    "    - 새로운 클래스 값으로 할당\n",
    "    - 원래 클래스의 비율별로 쪼개서 랜덤으로 할당"
   ]
  },
  {
   "cell_type": "code",
   "execution_count": 107,
   "id": "71832205",
   "metadata": {
    "ExecuteTime": {
     "end_time": "2023-02-17T01:04:57.340077Z",
     "start_time": "2023-02-17T01:04:57.326114Z"
    }
   },
   "outputs": [
    {
     "data": {
      "text/plain": [
       "array(['S', 'C', 'Q', nan], dtype=object)"
      ]
     },
     "execution_count": 107,
     "metadata": {},
     "output_type": "execute_result"
    }
   ],
   "source": [
    "# embarked 컬럼의 클래스 종류 확인\n",
    "train['Embarked'].unique()"
   ]
  },
  {
   "cell_type": "code",
   "execution_count": 108,
   "id": "91016d80",
   "metadata": {
    "ExecuteTime": {
     "end_time": "2023-02-17T01:04:57.355037Z",
     "start_time": "2023-02-17T01:04:57.341074Z"
    }
   },
   "outputs": [
    {
     "data": {
      "text/plain": [
       "S    644\n",
       "C    168\n",
       "Q     77\n",
       "Name: Embarked, dtype: int64"
      ]
     },
     "execution_count": 108,
     "metadata": {},
     "output_type": "execute_result"
    }
   ],
   "source": [
    "# embarked 컬럼의 클래스별 데이터 수  확인\n",
    "train['Embarked'].value_counts()"
   ]
  },
  {
   "cell_type": "code",
   "execution_count": 109,
   "id": "1f3e5528",
   "metadata": {
    "ExecuteTime": {
     "end_time": "2023-02-17T01:04:57.370502Z",
     "start_time": "2023-02-17T01:04:57.356034Z"
    }
   },
   "outputs": [
    {
     "data": {
      "text/plain": [
       "2"
      ]
     },
     "execution_count": 109,
     "metadata": {},
     "output_type": "execute_result"
    }
   ],
   "source": [
    "# embarked 컬럼의 결측치 수 확인\n",
    "train['Embarked'].isnull().sum()"
   ]
  },
  {
   "cell_type": "code",
   "execution_count": 110,
   "id": "c5bec356",
   "metadata": {
    "ExecuteTime": {
     "end_time": "2023-02-17T01:04:57.385462Z",
     "start_time": "2023-02-17T01:04:57.372498Z"
    }
   },
   "outputs": [],
   "source": [
    "# 결측치가 2개, 최빈값(S)으로 결측치를 채움\n",
    "# 전체 결측치 한번에 채우기 : fillna()\n",
    "train['Embarked']=train['Embarked'].fillna('S')"
   ]
  },
  {
   "cell_type": "code",
   "execution_count": 111,
   "id": "49f9c6c1",
   "metadata": {
    "ExecuteTime": {
     "end_time": "2023-02-17T01:04:57.400422Z",
     "start_time": "2023-02-17T01:04:57.386460Z"
    }
   },
   "outputs": [
    {
     "name": "stdout",
     "output_type": "stream",
     "text": [
      "<class 'pandas.core.frame.DataFrame'>\n",
      "Int64Index: 891 entries, 1 to 891\n",
      "Data columns (total 11 columns):\n",
      " #   Column    Non-Null Count  Dtype  \n",
      "---  ------    --------------  -----  \n",
      " 0   Survived  891 non-null    int64  \n",
      " 1   Pclass    891 non-null    int64  \n",
      " 2   Name      891 non-null    object \n",
      " 3   Sex       891 non-null    object \n",
      " 4   Age       891 non-null    int64  \n",
      " 5   SibSp     891 non-null    int64  \n",
      " 6   Parch     891 non-null    int64  \n",
      " 7   Ticket    891 non-null    object \n",
      " 8   Fare      891 non-null    float64\n",
      " 9   Cabin     204 non-null    object \n",
      " 10  Embarked  891 non-null    object \n",
      "dtypes: float64(1), int64(5), object(5)\n",
      "memory usage: 83.5+ KB\n"
     ]
    }
   ],
   "source": [
    "train.info()"
   ]
  },
  {
   "cell_type": "code",
   "execution_count": 112,
   "id": "59eb8ed3",
   "metadata": {
    "ExecuteTime": {
     "end_time": "2023-02-17T01:04:57.415382Z",
     "start_time": "2023-02-17T01:04:57.401420Z"
    }
   },
   "outputs": [],
   "source": [
    "# 등급에 따라 Fare의 값이 확연히 다름\n",
    "# 이상치가 큼\n",
    "# 중앙값을 사용해서 결측치 채우기 - median\n",
    "# 사용할 컬럼 Pclass, Sex\n",
    "\n",
    "# 결측치 있는 행은 PassengerId - 1044, 7.925로 채움"
   ]
  },
  {
   "cell_type": "code",
   "execution_count": 113,
   "id": "314a2676",
   "metadata": {
    "ExecuteTime": {
     "end_time": "2023-02-17T01:04:57.430342Z",
     "start_time": "2023-02-17T01:04:57.416380Z"
    }
   },
   "outputs": [],
   "source": [
    "pt2 = test.pivot_table(values='Fare',\n",
    "                       index=['Pclass','Sex'],\n",
    "                       aggfunc='median')"
   ]
  },
  {
   "cell_type": "code",
   "execution_count": 114,
   "id": "396ade35",
   "metadata": {
    "ExecuteTime": {
     "end_time": "2023-02-17T01:04:57.445302Z",
     "start_time": "2023-02-17T01:04:57.432337Z"
    },
    "scrolled": true
   },
   "outputs": [
    {
     "data": {
      "text/html": [
       "<div>\n",
       "<style scoped>\n",
       "    .dataframe tbody tr th:only-of-type {\n",
       "        vertical-align: middle;\n",
       "    }\n",
       "\n",
       "    .dataframe tbody tr th {\n",
       "        vertical-align: top;\n",
       "    }\n",
       "\n",
       "    .dataframe thead th {\n",
       "        text-align: right;\n",
       "    }\n",
       "</style>\n",
       "<table border=\"1\" class=\"dataframe\">\n",
       "  <thead>\n",
       "    <tr style=\"text-align: right;\">\n",
       "      <th></th>\n",
       "      <th></th>\n",
       "      <th>Fare</th>\n",
       "    </tr>\n",
       "    <tr>\n",
       "      <th>Pclass</th>\n",
       "      <th>Sex</th>\n",
       "      <th></th>\n",
       "    </tr>\n",
       "  </thead>\n",
       "  <tbody>\n",
       "    <tr>\n",
       "      <th rowspan=\"2\" valign=\"top\">1</th>\n",
       "      <th>female</th>\n",
       "      <td>79.02500</td>\n",
       "    </tr>\n",
       "    <tr>\n",
       "      <th>male</th>\n",
       "      <td>51.86250</td>\n",
       "    </tr>\n",
       "    <tr>\n",
       "      <th rowspan=\"2\" valign=\"top\">2</th>\n",
       "      <th>female</th>\n",
       "      <td>26.00000</td>\n",
       "    </tr>\n",
       "    <tr>\n",
       "      <th>male</th>\n",
       "      <td>13.00000</td>\n",
       "    </tr>\n",
       "    <tr>\n",
       "      <th rowspan=\"2\" valign=\"top\">3</th>\n",
       "      <th>female</th>\n",
       "      <td>8.08125</td>\n",
       "    </tr>\n",
       "    <tr>\n",
       "      <th>male</th>\n",
       "      <td>7.89580</td>\n",
       "    </tr>\n",
       "  </tbody>\n",
       "</table>\n",
       "</div>"
      ],
      "text/plain": [
       "                   Fare\n",
       "Pclass Sex             \n",
       "1      female  79.02500\n",
       "       male    51.86250\n",
       "2      female  26.00000\n",
       "       male    13.00000\n",
       "3      female   8.08125\n",
       "       male     7.89580"
      ]
     },
     "execution_count": 114,
     "metadata": {},
     "output_type": "execute_result"
    }
   ],
   "source": [
    "pt2"
   ]
  },
  {
   "cell_type": "code",
   "execution_count": 115,
   "id": "4686e594",
   "metadata": {
    "ExecuteTime": {
     "end_time": "2023-02-17T01:04:57.460262Z",
     "start_time": "2023-02-17T01:04:57.446300Z"
    }
   },
   "outputs": [
    {
     "data": {
      "text/html": [
       "<div>\n",
       "<style scoped>\n",
       "    .dataframe tbody tr th:only-of-type {\n",
       "        vertical-align: middle;\n",
       "    }\n",
       "\n",
       "    .dataframe tbody tr th {\n",
       "        vertical-align: top;\n",
       "    }\n",
       "\n",
       "    .dataframe thead th {\n",
       "        text-align: right;\n",
       "    }\n",
       "</style>\n",
       "<table border=\"1\" class=\"dataframe\">\n",
       "  <thead>\n",
       "    <tr style=\"text-align: right;\">\n",
       "      <th></th>\n",
       "      <th>Pclass</th>\n",
       "      <th>Name</th>\n",
       "      <th>Sex</th>\n",
       "      <th>Age</th>\n",
       "      <th>SibSp</th>\n",
       "      <th>Parch</th>\n",
       "      <th>Ticket</th>\n",
       "      <th>Fare</th>\n",
       "      <th>Cabin</th>\n",
       "      <th>Embarked</th>\n",
       "    </tr>\n",
       "    <tr>\n",
       "      <th>PassengerId</th>\n",
       "      <th></th>\n",
       "      <th></th>\n",
       "      <th></th>\n",
       "      <th></th>\n",
       "      <th></th>\n",
       "      <th></th>\n",
       "      <th></th>\n",
       "      <th></th>\n",
       "      <th></th>\n",
       "      <th></th>\n",
       "    </tr>\n",
       "  </thead>\n",
       "  <tbody>\n",
       "    <tr>\n",
       "      <th>1044</th>\n",
       "      <td>3</td>\n",
       "      <td>Storey, Mr. Thomas</td>\n",
       "      <td>male</td>\n",
       "      <td>60</td>\n",
       "      <td>0</td>\n",
       "      <td>0</td>\n",
       "      <td>3701</td>\n",
       "      <td>NaN</td>\n",
       "      <td>NaN</td>\n",
       "      <td>S</td>\n",
       "    </tr>\n",
       "  </tbody>\n",
       "</table>\n",
       "</div>"
      ],
      "text/plain": [
       "             Pclass                Name   Sex  Age  SibSp  Parch Ticket  Fare  \\\n",
       "PassengerId                                                                     \n",
       "1044              3  Storey, Mr. Thomas  male   60      0      0   3701   NaN   \n",
       "\n",
       "            Cabin Embarked  \n",
       "PassengerId                 \n",
       "1044          NaN        S  "
      ]
     },
     "execution_count": 115,
     "metadata": {},
     "output_type": "execute_result"
    }
   ],
   "source": [
    "# 등급, 성별 확인을 위해 결측치가 있는 행을 확인\n",
    "test[test['Fare'].isnull()]"
   ]
  },
  {
   "cell_type": "code",
   "execution_count": 116,
   "id": "1411410d",
   "metadata": {
    "ExecuteTime": {
     "end_time": "2023-02-17T01:04:57.475222Z",
     "start_time": "2023-02-17T01:04:57.463254Z"
    }
   },
   "outputs": [],
   "source": [
    "# 결측치 채우기 -fillna()\n",
    "test['Fare']=test['Fare'].fillna(7.8958)"
   ]
  },
  {
   "cell_type": "code",
   "execution_count": 117,
   "id": "294c3ce8",
   "metadata": {
    "ExecuteTime": {
     "end_time": "2023-02-17T01:04:57.490182Z",
     "start_time": "2023-02-17T01:04:57.476220Z"
    }
   },
   "outputs": [
    {
     "name": "stdout",
     "output_type": "stream",
     "text": [
      "<class 'pandas.core.frame.DataFrame'>\n",
      "Int64Index: 418 entries, 892 to 1309\n",
      "Data columns (total 10 columns):\n",
      " #   Column    Non-Null Count  Dtype  \n",
      "---  ------    --------------  -----  \n",
      " 0   Pclass    418 non-null    int64  \n",
      " 1   Name      418 non-null    object \n",
      " 2   Sex       418 non-null    object \n",
      " 3   Age       418 non-null    int64  \n",
      " 4   SibSp     418 non-null    int64  \n",
      " 5   Parch     418 non-null    int64  \n",
      " 6   Ticket    418 non-null    object \n",
      " 7   Fare      418 non-null    float64\n",
      " 8   Cabin     91 non-null     object \n",
      " 9   Embarked  418 non-null    object \n",
      "dtypes: float64(1), int64(4), object(5)\n",
      "memory usage: 35.9+ KB\n"
     ]
    }
   ],
   "source": [
    "test.info()"
   ]
  },
  {
   "cell_type": "markdown",
   "id": "c8abe1ec",
   "metadata": {},
   "source": [
    "### Cabin 결측치 채우기\n",
    "- 객실번호 영문자(총)+숫자로 구성\n",
    "- 개실번호 범주형데이터인데 클래스 수가 너무 많고 클래스별 데이터 개수는 대부분 1\n",
    "    - 객실번호를 유사한 그룹으로 그룹핑 해주어야 함\n",
    "- 그룹핑의 기준은 영무자(층)이 생존/사망에 영향을 미치는 주요 데이터로 고려\n"
   ]
  },
  {
   "cell_type": "code",
   "execution_count": 118,
   "id": "1c0c604b",
   "metadata": {
    "ExecuteTime": {
     "end_time": "2023-02-17T01:04:57.505143Z",
     "start_time": "2023-02-17T01:04:57.491180Z"
    }
   },
   "outputs": [
    {
     "data": {
      "text/plain": [
       "687"
      ]
     },
     "execution_count": 118,
     "metadata": {},
     "output_type": "execute_result"
    }
   ],
   "source": [
    "train['Cabin'].isnull().sum()"
   ]
  },
  {
   "cell_type": "code",
   "execution_count": 119,
   "id": "fb9424c3",
   "metadata": {
    "ExecuteTime": {
     "end_time": "2023-02-17T01:04:57.520102Z",
     "start_time": "2023-02-17T01:04:57.506140Z"
    }
   },
   "outputs": [
    {
     "data": {
      "text/plain": [
       "327"
      ]
     },
     "execution_count": 119,
     "metadata": {},
     "output_type": "execute_result"
    }
   ],
   "source": [
    "test['Cabin'].isnull().sum()"
   ]
  },
  {
   "cell_type": "code",
   "execution_count": null,
   "id": "0b7c93aa",
   "metadata": {},
   "outputs": [],
   "source": []
  },
  {
   "cell_type": "code",
   "execution_count": 120,
   "id": "fe0d2483",
   "metadata": {
    "ExecuteTime": {
     "end_time": "2023-02-17T01:04:57.535062Z",
     "start_time": "2023-02-17T01:04:57.521102Z"
    }
   },
   "outputs": [],
   "source": [
    "# 객실번호의 결측치는 실제 객실 없는 경우일걸라고 판단하여 새로운 클래스 M 할당\n",
    "train['Cabin']=train['Cabin'].fillna('M')\n",
    "test['Cabin']=test['Cabin'].fillna('M')"
   ]
  },
  {
   "cell_type": "code",
   "execution_count": 121,
   "id": "253f3db3",
   "metadata": {
    "ExecuteTime": {
     "end_time": "2023-02-17T01:04:57.550052Z",
     "start_time": "2023-02-17T01:04:57.536060Z"
    }
   },
   "outputs": [
    {
     "data": {
      "text/plain": [
       "array(['M', 'B', 'E', 'A', 'C', 'D', 'F', 'G'], dtype=object)"
      ]
     },
     "execution_count": 121,
     "metadata": {},
     "output_type": "execute_result"
    }
   ],
   "source": [
    "\n",
    "# 각 값들의 첫번째 영문자만 잘라서 저장\n",
    "train['Cabin']=train['Cabin'].str[0]\n",
    "train['Cabin'].unique()\n",
    "test['Cabin']=test['Cabin'].str[0]\n",
    "test['Cabin'].unique()\n"
   ]
  },
  {
   "cell_type": "code",
   "execution_count": 122,
   "id": "130c1329",
   "metadata": {
    "ExecuteTime": {
     "end_time": "2023-02-17T01:04:57.564982Z",
     "start_time": "2023-02-17T01:04:57.551051Z"
    }
   },
   "outputs": [
    {
     "data": {
      "text/plain": [
       "M    687\n",
       "C     59\n",
       "B     47\n",
       "D     33\n",
       "E     32\n",
       "A     15\n",
       "F     13\n",
       "G      4\n",
       "T      1\n",
       "Name: Cabin, dtype: int64"
      ]
     },
     "execution_count": 122,
     "metadata": {},
     "output_type": "execute_result"
    }
   ],
   "source": [
    "train['Cabin'].value_counts()"
   ]
  },
  {
   "cell_type": "markdown",
   "id": "9c63e70f",
   "metadata": {},
   "source": [
    "### 데이터 시각화(EDA)\n",
    "- 그래프 그리기\n",
    "- train 데이터를 이용해 탐색"
   ]
  },
  {
   "cell_type": "code",
   "execution_count": 123,
   "id": "b99bee75",
   "metadata": {
    "ExecuteTime": {
     "end_time": "2023-02-17T01:04:57.579943Z",
     "start_time": "2023-02-17T01:04:57.565980Z"
    }
   },
   "outputs": [
    {
     "name": "stdout",
     "output_type": "stream",
     "text": [
      "<class 'pandas.core.frame.DataFrame'>\n",
      "Int64Index: 418 entries, 892 to 1309\n",
      "Data columns (total 10 columns):\n",
      " #   Column    Non-Null Count  Dtype  \n",
      "---  ------    --------------  -----  \n",
      " 0   Pclass    418 non-null    int64  \n",
      " 1   Name      418 non-null    object \n",
      " 2   Sex       418 non-null    object \n",
      " 3   Age       418 non-null    int64  \n",
      " 4   SibSp     418 non-null    int64  \n",
      " 5   Parch     418 non-null    int64  \n",
      " 6   Ticket    418 non-null    object \n",
      " 7   Fare      418 non-null    float64\n",
      " 8   Cabin     418 non-null    object \n",
      " 9   Embarked  418 non-null    object \n",
      "dtypes: float64(1), int64(4), object(5)\n",
      "memory usage: 35.9+ KB\n",
      "<class 'pandas.core.frame.DataFrame'>\n",
      "Int64Index: 891 entries, 1 to 891\n",
      "Data columns (total 11 columns):\n",
      " #   Column    Non-Null Count  Dtype  \n",
      "---  ------    --------------  -----  \n",
      " 0   Survived  891 non-null    int64  \n",
      " 1   Pclass    891 non-null    int64  \n",
      " 2   Name      891 non-null    object \n",
      " 3   Sex       891 non-null    object \n",
      " 4   Age       891 non-null    int64  \n",
      " 5   SibSp     891 non-null    int64  \n",
      " 6   Parch     891 non-null    int64  \n",
      " 7   Ticket    891 non-null    object \n",
      " 8   Fare      891 non-null    float64\n",
      " 9   Cabin     891 non-null    object \n",
      " 10  Embarked  891 non-null    object \n",
      "dtypes: float64(1), int64(5), object(5)\n",
      "memory usage: 83.5+ KB\n"
     ]
    }
   ],
   "source": [
    "test.info()\n",
    "train.info()"
   ]
  },
  {
   "cell_type": "markdown",
   "id": "32dff412",
   "metadata": {
    "ExecuteTime": {
     "end_time": "2023-02-01T06:18:38.880252Z",
     "start_time": "2023-02-01T06:18:38.870279Z"
    }
   },
   "source": [
    "##### 범주형 데이터 시각화\n",
    "- 빈도 기반의 bar chart 많이 활용"
   ]
  },
  {
   "cell_type": "markdown",
   "id": "13e5fbcb",
   "metadata": {},
   "source": [
    "##### cabin 시각화\n",
    "- seaborn 라이브러리 활용"
   ]
  },
  {
   "cell_type": "code",
   "execution_count": 124,
   "id": "c4ce7f18",
   "metadata": {
    "ExecuteTime": {
     "end_time": "2023-02-17T01:04:57.594902Z",
     "start_time": "2023-02-17T01:04:57.580940Z"
    }
   },
   "outputs": [],
   "source": [
    "import seaborn as sns"
   ]
  },
  {
   "cell_type": "code",
   "execution_count": 125,
   "id": "b35043dd",
   "metadata": {
    "ExecuteTime": {
     "end_time": "2023-02-17T01:04:57.729543Z",
     "start_time": "2023-02-17T01:04:57.595900Z"
    }
   },
   "outputs": [
    {
     "data": {
      "text/plain": [
       "<AxesSubplot:xlabel='Cabin', ylabel='count'>"
      ]
     },
     "execution_count": 125,
     "metadata": {},
     "output_type": "execute_result"
    },
    {
     "data": {
      "image/png": "[encoded data removed]",
      "text/plain": [
       "<Figure size 640x480 with 1 Axes>"
      ]
     },
     "metadata": {},
     "output_type": "display_data"
    }
   ],
   "source": [
    "sns.countplot(data = train,\n",
    "             x='Cabin',\n",
    "             hue='Survived')"
   ]
  },
  {
   "cell_type": "markdown",
   "id": "39015b12",
   "metadata": {},
   "source": [
    "- M에서 상대적으로 많은 사망자가 분포해 있따. 모델에게 학습을 시켜봐도 의미가 있을 것 같다\n"
   ]
  },
  {
   "cell_type": "markdown",
   "id": "490b2fac",
   "metadata": {},
   "source": [
    "###### Pclass 시각화"
   ]
  },
  {
   "cell_type": "code",
   "execution_count": 126,
   "id": "b6c6eb75",
   "metadata": {
    "ExecuteTime": {
     "end_time": "2023-02-17T01:04:57.834316Z",
     "start_time": "2023-02-17T01:04:57.730540Z"
    }
   },
   "outputs": [
    {
     "data": {
      "text/plain": [
       "<AxesSubplot:xlabel='count', ylabel='Pclass'>"
      ]
     },
     "execution_count": 126,
     "metadata": {},
     "output_type": "execute_result"
    },
    {
     "data": {
      "image/png": "[encoded data removed]",
      "text/plain": [
       "<Figure size 640x480 with 1 Axes>"
      ]
     },
     "metadata": {},
     "output_type": "display_data"
    }
   ],
   "source": [
    "sns.countplot(data = train,\n",
    "             y='Pclass',\n",
    "             hue='Survived')"
   ]
  },
  {
   "cell_type": "markdown",
   "id": "b17db2b7",
   "metadata": {},
   "source": [
    "- 1등급에 탑승하면 생존 확률이 조금더 높다\n",
    "- 3등급에 탑승하면 사망 확률이 더 높다.\n",
    "- Pclass를 모델 학습에 사용해도 괜찮을 것 같다."
   ]
  },
  {
   "cell_type": "markdown",
   "id": "1c0bb6dd",
   "metadata": {},
   "source": [
    "##### Pclass와 Cabin 시각화"
   ]
  },
  {
   "cell_type": "code",
   "execution_count": 127,
   "id": "a57837ef",
   "metadata": {
    "ExecuteTime": {
     "end_time": "2023-02-17T01:04:57.998817Z",
     "start_time": "2023-02-17T01:04:57.835345Z"
    }
   },
   "outputs": [
    {
     "data": {
      "text/plain": [
       "<AxesSubplot:xlabel='Cabin', ylabel='count'>"
      ]
     },
     "execution_count": 127,
     "metadata": {},
     "output_type": "execute_result"
    },
    {
     "data": {
      "image/png": "[encoded data removed]",
      "text/plain": [
       "<Figure size 640x480 with 1 Axes>"
      ]
     },
     "metadata": {},
     "output_type": "display_data"
    }
   ],
   "source": [
    "sns.countplot(data = train,\n",
    "             x='Cabin',\n",
    "              \n",
    "             hue='Pclass')"
   ]
  },
  {
   "cell_type": "markdown",
   "id": "a32e91ed",
   "metadata": {},
   "source": [
    "- A, B, C는 1등급 탑승객들이 있다.\n",
    "- M은 3등급 탑승객이 많다 -> 3등급 탑승객들이 많이 사망해서 정보가 손실된걸까?"
   ]
  },
  {
   "cell_type": "markdown",
   "id": "fd215429",
   "metadata": {},
   "source": [
    "##### Embarked, Sex 시각화"
   ]
  },
  {
   "cell_type": "code",
   "execution_count": 128,
   "id": "273b86b4",
   "metadata": {
    "ExecuteTime": {
     "end_time": "2023-02-17T01:04:58.104201Z",
     "start_time": "2023-02-17T01:04:57.999814Z"
    }
   },
   "outputs": [
    {
     "data": {
      "text/plain": [
       "<AxesSubplot:xlabel='Embarked', ylabel='count'>"
      ]
     },
     "execution_count": 128,
     "metadata": {},
     "output_type": "execute_result"
    },
    {
     "data": {
      "image/png": "[encoded data removed]",
      "text/plain": [
       "<Figure size 640x480 with 1 Axes>"
      ]
     },
     "metadata": {},
     "output_type": "display_data"
    }
   ],
   "source": [
    "sns.countplot(data = train,\n",
    "             x='Embarked',\n",
    "              \n",
    "             hue='Survived')"
   ]
  },
  {
   "cell_type": "code",
   "execution_count": 41,
   "id": "0b6c1e77",
   "metadata": {
    "ExecuteTime": {
     "end_time": "2023-02-17T00:40:51.827579Z",
     "start_time": "2023-02-17T00:40:51.723721Z"
    },
    "scrolled": true
   },
   "outputs": [
    {
     "data": {
      "text/plain": [
       "<AxesSubplot:xlabel='Embarked', ylabel='count'>"
      ]
     },
     "execution_count": 41,
     "metadata": {},
     "output_type": "execute_result"
    },
    {
     "data": {
      "image/png": "[encoded data removed]",
      "text/plain": [
       "<Figure size 640x480 with 1 Axes>"
      ]
     },
     "metadata": {},
     "output_type": "display_data"
    }
   ],
   "source": [
    "sns.countplot(data = train,\n",
    "             x='Embarked',\n",
    "             hue='Pclass')"
   ]
  },
  {
   "cell_type": "code",
   "execution_count": 129,
   "id": "fa97f20a",
   "metadata": {
    "ExecuteTime": {
     "end_time": "2023-02-17T01:05:07.925797Z",
     "start_time": "2023-02-17T01:05:07.795144Z"
    }
   },
   "outputs": [
    {
     "data": {
      "text/plain": [
       "<AxesSubplot:xlabel='Sex', ylabel='Survived'>"
      ]
     },
     "execution_count": 129,
     "metadata": {},
     "output_type": "execute_result"
    },
    {
     "data": {
      "image/png": "[encoded data removed]",
      "text/plain": [
       "<Figure size 640x480 with 1 Axes>"
      ]
     },
     "metadata": {},
     "output_type": "display_data"
    }
   ],
   "source": [
    "sns.barplot(data = train,\n",
    "             x='Sex',\n",
    "              \n",
    "             y='Survived')"
   ]
  },
  {
   "cell_type": "code",
   "execution_count": 42,
   "id": "a8bd2c93",
   "metadata": {
    "ExecuteTime": {
     "end_time": "2023-02-17T00:40:51.917694Z",
     "start_time": "2023-02-17T00:40:51.828576Z"
    }
   },
   "outputs": [
    {
     "data": {
      "text/plain": [
       "<AxesSubplot:xlabel='Sex', ylabel='count'>"
      ]
     },
     "execution_count": 42,
     "metadata": {},
     "output_type": "execute_result"
    },
    {
     "data": {
      "image/png": "[encoded data removed]",
      "text/plain": [
       "<Figure size 640x480 with 1 Axes>"
      ]
     },
     "metadata": {},
     "output_type": "display_data"
    }
   ],
   "source": [
    "sns.countplot(data = train,\n",
    "             x='Sex',\n",
    "              \n",
    "             hue='Survived')"
   ]
  },
  {
   "cell_type": "markdown",
   "id": "8c578bd2",
   "metadata": {},
   "source": [
    "#### 수치형 데이터\n",
    "- 구간을 나눠서 종합하는 히스토그램\n",
    "- 커널밀도추정 그래프"
   ]
  },
  {
   "cell_type": "code",
   "execution_count": 43,
   "id": "bfb2fecd",
   "metadata": {
    "ExecuteTime": {
     "end_time": "2023-02-17T00:40:51.933218Z",
     "start_time": "2023-02-17T00:40:51.918692Z"
    }
   },
   "outputs": [],
   "source": [
    "import matplotlib.pyplot as plt"
   ]
  },
  {
   "cell_type": "code",
   "execution_count": 44,
   "id": "ceedb50e",
   "metadata": {
    "ExecuteTime": {
     "end_time": "2023-02-17T00:40:52.022842Z",
     "start_time": "2023-02-17T00:40:51.935014Z"
    }
   },
   "outputs": [
    {
     "data": {
      "image/png": "[encoded data removed]",
      "text/plain": [
       "<Figure size 640x480 with 1 Axes>"
      ]
     },
     "metadata": {},
     "output_type": "display_data"
    }
   ],
   "source": [
    "plt.hist(train['Age'], bins=3)\n",
    "plt.show()"
   ]
  },
  {
   "cell_type": "markdown",
   "id": "b19aea7b",
   "metadata": {},
   "source": [
    "#### Age 시각화"
   ]
  },
  {
   "cell_type": "code",
   "execution_count": 45,
   "id": "c60c7c2d",
   "metadata": {
    "ExecuteTime": {
     "end_time": "2023-02-17T00:40:52.142658Z",
     "start_time": "2023-02-17T00:40:52.023837Z"
    }
   },
   "outputs": [
    {
     "data": {
      "text/plain": [
       "<AxesSubplot:xlabel='Sex', ylabel='Age'>"
      ]
     },
     "execution_count": 45,
     "metadata": {},
     "output_type": "execute_result"
    },
    {
     "data": {
      "image/png": "[encoded data removed]",
      "text/plain": [
       "<Figure size 640x480 with 1 Axes>"
      ]
     },
     "metadata": {},
     "output_type": "display_data"
    }
   ],
   "source": [
    "sns.violinplot( data=train,\n",
    "              y='Age',x='Sex',hue='Survived',\n",
    "              split=True)"
   ]
  },
  {
   "cell_type": "markdown",
   "id": "100c23d4",
   "metadata": {},
   "source": [
    "- 남성은 20대가 조금 더 많이 사망\n",
    "- 어린아이 중에서는 남자아이가 여자아이보다 상대적으로 생존 확률이 높다. (시대적 배경)"
   ]
  },
  {
   "cell_type": "markdown",
   "id": "60d0082a",
   "metadata": {},
   "source": [
    "#### Fare 시각화"
   ]
  },
  {
   "cell_type": "code",
   "execution_count": 46,
   "id": "83f074ab",
   "metadata": {
    "ExecuteTime": {
     "end_time": "2023-02-17T00:40:52.262254Z",
     "start_time": "2023-02-17T00:40:52.143540Z"
    },
    "scrolled": true
   },
   "outputs": [
    {
     "data": {
      "text/plain": [
       "<AxesSubplot:xlabel='Sex', ylabel='Fare'>"
      ]
     },
     "execution_count": 46,
     "metadata": {},
     "output_type": "execute_result"
    },
    {
     "data": {
      "image/png": "[encoded data removed]",
      "text/plain": [
       "<Figure size 640x480 with 1 Axes>"
      ]
     },
     "metadata": {},
     "output_type": "display_data"
    }
   ],
   "source": [
    "sns.violinplot( data=train,\n",
    "              y='Fare',x='Sex',hue='Survived',\n",
    "              split=True)"
   ]
  },
  {
   "cell_type": "markdown",
   "id": "ebd3663d",
   "metadata": {},
   "source": [
    "- 낮은 요금을 지불한 탑승객들이 많이 사망했다.\n",
    "- 전체 요금이 0~40 달러 사이에 많이 분포되어 있다."
   ]
  },
  {
   "cell_type": "markdown",
   "id": "922036e4",
   "metadata": {},
   "source": [
    "#### 특성공학\n",
    "- SibSp, Parch를 합쳐서 가족이라는 새로운 컬럼 생성"
   ]
  },
  {
   "cell_type": "code",
   "execution_count": 47,
   "id": "b246f06a",
   "metadata": {
    "ExecuteTime": {
     "end_time": "2023-02-17T00:40:52.277230Z",
     "start_time": "2023-02-17T00:40:52.263255Z"
    }
   },
   "outputs": [
    {
     "data": {
      "text/html": [
       "<div>\n",
       "<style scoped>\n",
       "    .dataframe tbody tr th:only-of-type {\n",
       "        vertical-align: middle;\n",
       "    }\n",
       "\n",
       "    .dataframe tbody tr th {\n",
       "        vertical-align: top;\n",
       "    }\n",
       "\n",
       "    .dataframe thead th {\n",
       "        text-align: right;\n",
       "    }\n",
       "</style>\n",
       "<table border=\"1\" class=\"dataframe\">\n",
       "  <thead>\n",
       "    <tr style=\"text-align: right;\">\n",
       "      <th></th>\n",
       "      <th>Survived</th>\n",
       "      <th>Pclass</th>\n",
       "      <th>Name</th>\n",
       "      <th>Sex</th>\n",
       "      <th>Age</th>\n",
       "      <th>SibSp</th>\n",
       "      <th>Parch</th>\n",
       "      <th>Ticket</th>\n",
       "      <th>Fare</th>\n",
       "      <th>Cabin</th>\n",
       "      <th>Embarked</th>\n",
       "    </tr>\n",
       "    <tr>\n",
       "      <th>PassengerId</th>\n",
       "      <th></th>\n",
       "      <th></th>\n",
       "      <th></th>\n",
       "      <th></th>\n",
       "      <th></th>\n",
       "      <th></th>\n",
       "      <th></th>\n",
       "      <th></th>\n",
       "      <th></th>\n",
       "      <th></th>\n",
       "      <th></th>\n",
       "    </tr>\n",
       "  </thead>\n",
       "  <tbody>\n",
       "    <tr>\n",
       "      <th>1</th>\n",
       "      <td>0</td>\n",
       "      <td>3</td>\n",
       "      <td>Braund, Mr. Owen Harris</td>\n",
       "      <td>male</td>\n",
       "      <td>22</td>\n",
       "      <td>1</td>\n",
       "      <td>0</td>\n",
       "      <td>A/5 21171</td>\n",
       "      <td>7.2500</td>\n",
       "      <td>M</td>\n",
       "      <td>S</td>\n",
       "    </tr>\n",
       "    <tr>\n",
       "      <th>2</th>\n",
       "      <td>1</td>\n",
       "      <td>1</td>\n",
       "      <td>Cumings, Mrs. John Bradley (Florence Briggs Th...</td>\n",
       "      <td>female</td>\n",
       "      <td>38</td>\n",
       "      <td>1</td>\n",
       "      <td>0</td>\n",
       "      <td>PC 17599</td>\n",
       "      <td>71.2833</td>\n",
       "      <td>C</td>\n",
       "      <td>C</td>\n",
       "    </tr>\n",
       "  </tbody>\n",
       "</table>\n",
       "</div>"
      ],
      "text/plain": [
       "             Survived  Pclass  \\\n",
       "PassengerId                     \n",
       "1                   0       3   \n",
       "2                   1       1   \n",
       "\n",
       "                                                          Name     Sex  Age  \\\n",
       "PassengerId                                                                   \n",
       "1                                      Braund, Mr. Owen Harris    male   22   \n",
       "2            Cumings, Mrs. John Bradley (Florence Briggs Th...  female   38   \n",
       "\n",
       "             SibSp  Parch     Ticket     Fare Cabin Embarked  \n",
       "PassengerId                                                   \n",
       "1                1      0  A/5 21171   7.2500     M        S  \n",
       "2                1      0   PC 17599  71.2833     C        C  "
      ]
     },
     "execution_count": 47,
     "metadata": {},
     "output_type": "execute_result"
    }
   ],
   "source": [
    "train.head(2)"
   ]
  },
  {
   "cell_type": "code",
   "execution_count": 48,
   "id": "5053744d",
   "metadata": {
    "ExecuteTime": {
     "end_time": "2023-02-17T00:40:52.292149Z",
     "start_time": "2023-02-17T00:40:52.278185Z"
    }
   },
   "outputs": [],
   "source": [
    "# 가족의 수\n",
    "train['Family_Size']=train['SibSp']+train['Parch']+1"
   ]
  },
  {
   "cell_type": "code",
   "execution_count": 49,
   "id": "aa8420ef",
   "metadata": {
    "ExecuteTime": {
     "end_time": "2023-02-17T00:40:52.307109Z",
     "start_time": "2023-02-17T00:40:52.294144Z"
    },
    "scrolled": true
   },
   "outputs": [
    {
     "data": {
      "text/html": [
       "<div>\n",
       "<style scoped>\n",
       "    .dataframe tbody tr th:only-of-type {\n",
       "        vertical-align: middle;\n",
       "    }\n",
       "\n",
       "    .dataframe tbody tr th {\n",
       "        vertical-align: top;\n",
       "    }\n",
       "\n",
       "    .dataframe thead th {\n",
       "        text-align: right;\n",
       "    }\n",
       "</style>\n",
       "<table border=\"1\" class=\"dataframe\">\n",
       "  <thead>\n",
       "    <tr style=\"text-align: right;\">\n",
       "      <th></th>\n",
       "      <th>Survived</th>\n",
       "      <th>Pclass</th>\n",
       "      <th>Name</th>\n",
       "      <th>Sex</th>\n",
       "      <th>Age</th>\n",
       "      <th>SibSp</th>\n",
       "      <th>Parch</th>\n",
       "      <th>Ticket</th>\n",
       "      <th>Fare</th>\n",
       "      <th>Cabin</th>\n",
       "      <th>Embarked</th>\n",
       "      <th>Family_Size</th>\n",
       "    </tr>\n",
       "    <tr>\n",
       "      <th>PassengerId</th>\n",
       "      <th></th>\n",
       "      <th></th>\n",
       "      <th></th>\n",
       "      <th></th>\n",
       "      <th></th>\n",
       "      <th></th>\n",
       "      <th></th>\n",
       "      <th></th>\n",
       "      <th></th>\n",
       "      <th></th>\n",
       "      <th></th>\n",
       "      <th></th>\n",
       "    </tr>\n",
       "  </thead>\n",
       "  <tbody>\n",
       "    <tr>\n",
       "      <th>1</th>\n",
       "      <td>0</td>\n",
       "      <td>3</td>\n",
       "      <td>Braund, Mr. Owen Harris</td>\n",
       "      <td>male</td>\n",
       "      <td>22</td>\n",
       "      <td>1</td>\n",
       "      <td>0</td>\n",
       "      <td>A/5 21171</td>\n",
       "      <td>7.25</td>\n",
       "      <td>M</td>\n",
       "      <td>S</td>\n",
       "      <td>2</td>\n",
       "    </tr>\n",
       "  </tbody>\n",
       "</table>\n",
       "</div>"
      ],
      "text/plain": [
       "             Survived  Pclass                     Name   Sex  Age  SibSp  \\\n",
       "PassengerId                                                                \n",
       "1                   0       3  Braund, Mr. Owen Harris  male   22      1   \n",
       "\n",
       "             Parch     Ticket  Fare Cabin Embarked  Family_Size  \n",
       "PassengerId                                                      \n",
       "1                0  A/5 21171  7.25     M        S            2  "
      ]
     },
     "execution_count": 49,
     "metadata": {},
     "output_type": "execute_result"
    }
   ],
   "source": [
    "train.head(1)"
   ]
  },
  {
   "cell_type": "code",
   "execution_count": 50,
   "id": "dd00e83a",
   "metadata": {
    "ExecuteTime": {
     "end_time": "2023-02-17T00:40:52.322069Z",
     "start_time": "2023-02-17T00:40:52.308106Z"
    }
   },
   "outputs": [],
   "source": [
    "test['Family_Size']=test['SibSp']+test['Parch']+1"
   ]
  },
  {
   "cell_type": "code",
   "execution_count": 51,
   "id": "b964a06d",
   "metadata": {
    "ExecuteTime": {
     "end_time": "2023-02-17T00:40:52.337028Z",
     "start_time": "2023-02-17T00:40:52.323065Z"
    }
   },
   "outputs": [
    {
     "data": {
      "text/html": [
       "<div>\n",
       "<style scoped>\n",
       "    .dataframe tbody tr th:only-of-type {\n",
       "        vertical-align: middle;\n",
       "    }\n",
       "\n",
       "    .dataframe tbody tr th {\n",
       "        vertical-align: top;\n",
       "    }\n",
       "\n",
       "    .dataframe thead th {\n",
       "        text-align: right;\n",
       "    }\n",
       "</style>\n",
       "<table border=\"1\" class=\"dataframe\">\n",
       "  <thead>\n",
       "    <tr style=\"text-align: right;\">\n",
       "      <th></th>\n",
       "      <th>Pclass</th>\n",
       "      <th>Name</th>\n",
       "      <th>Sex</th>\n",
       "      <th>Age</th>\n",
       "      <th>SibSp</th>\n",
       "      <th>Parch</th>\n",
       "      <th>Ticket</th>\n",
       "      <th>Fare</th>\n",
       "      <th>Cabin</th>\n",
       "      <th>Embarked</th>\n",
       "      <th>Family_Size</th>\n",
       "    </tr>\n",
       "    <tr>\n",
       "      <th>PassengerId</th>\n",
       "      <th></th>\n",
       "      <th></th>\n",
       "      <th></th>\n",
       "      <th></th>\n",
       "      <th></th>\n",
       "      <th></th>\n",
       "      <th></th>\n",
       "      <th></th>\n",
       "      <th></th>\n",
       "      <th></th>\n",
       "      <th></th>\n",
       "    </tr>\n",
       "  </thead>\n",
       "  <tbody>\n",
       "    <tr>\n",
       "      <th>892</th>\n",
       "      <td>3</td>\n",
       "      <td>Kelly, Mr. James</td>\n",
       "      <td>male</td>\n",
       "      <td>34</td>\n",
       "      <td>0</td>\n",
       "      <td>0</td>\n",
       "      <td>330911</td>\n",
       "      <td>7.8292</td>\n",
       "      <td>M</td>\n",
       "      <td>Q</td>\n",
       "      <td>1</td>\n",
       "    </tr>\n",
       "  </tbody>\n",
       "</table>\n",
       "</div>"
      ],
      "text/plain": [
       "             Pclass              Name   Sex  Age  SibSp  Parch  Ticket  \\\n",
       "PassengerId                                                              \n",
       "892               3  Kelly, Mr. James  male   34      0      0  330911   \n",
       "\n",
       "               Fare Cabin Embarked  Family_Size  \n",
       "PassengerId                                      \n",
       "892          7.8292     M        Q            1  "
      ]
     },
     "execution_count": 51,
     "metadata": {},
     "output_type": "execute_result"
    }
   ],
   "source": [
    "test.head(1)"
   ]
  },
  {
   "cell_type": "code",
   "execution_count": 52,
   "id": "99773c98",
   "metadata": {
    "ExecuteTime": {
     "end_time": "2023-02-17T00:40:52.487008Z",
     "start_time": "2023-02-17T00:40:52.338026Z"
    }
   },
   "outputs": [
    {
     "data": {
      "text/plain": [
       "<AxesSubplot:xlabel='Family_Size', ylabel='count'>"
      ]
     },
     "execution_count": 52,
     "metadata": {},
     "output_type": "execute_result"
    },
    {
     "data": {
      "image/png": "[encoded data removed]",
      "text/plain": [
       "<Figure size 640x480 with 1 Axes>"
      ]
     },
     "metadata": {},
     "output_type": "display_data"
    }
   ],
   "source": [
    "sns.countplot(data = train,\n",
    "             x='Family_Size',\n",
    "              \n",
    "             hue='Survived')"
   ]
  },
  {
   "cell_type": "markdown",
   "id": "129a462b",
   "metadata": {},
   "source": [
    "- 1명일 경우 사망자가 훨씬 많다\n",
    "- 2~4명일 경우 생존자가 조금 더 많다,.\n",
    "- 5명 이상일 경우 사망자가 더 많다.\n",
    "- Family_Size라는 수치 데이터를 그대로 사용할 수도 있지만, 범주형 데이터로 변환시켜보자!\n",
    "- Binning(수치형-> 범주형) : 사소한 관찰 오류를 줄일 수 있음 (모델의 단순화 유도)"
   ]
  },
  {
   "cell_type": "markdown",
   "id": "1380d099",
   "metadata": {},
   "source": [
    "#### 특성공학\n",
    "- Family_Size 가 1이면 Alone,2~4이면 Small, 5명 이상이면 Large 범주로 변경.\n",
    "- cut 함수 활용"
   ]
  },
  {
   "cell_type": "code",
   "execution_count": 53,
   "id": "2844e355",
   "metadata": {
    "ExecuteTime": {
     "end_time": "2023-02-17T00:40:52.501940Z",
     "start_time": "2023-02-17T00:40:52.487999Z"
    }
   },
   "outputs": [],
   "source": [
    "bins = [0,1,4,20]  # 구간\n",
    "labels = ['Alone','Small','Large'] # 구간 별 범주 이름\n",
    "train['FamilyGroup']=pd.cut(x=train['Family_Size'],\n",
    "      bins=bins,\n",
    "      labels=labels)"
   ]
  },
  {
   "cell_type": "code",
   "execution_count": 54,
   "id": "053116b3",
   "metadata": {
    "ExecuteTime": {
     "end_time": "2023-02-17T00:40:52.516900Z",
     "start_time": "2023-02-17T00:40:52.502937Z"
    }
   },
   "outputs": [
    {
     "data": {
      "text/html": [
       "<div>\n",
       "<style scoped>\n",
       "    .dataframe tbody tr th:only-of-type {\n",
       "        vertical-align: middle;\n",
       "    }\n",
       "\n",
       "    .dataframe tbody tr th {\n",
       "        vertical-align: top;\n",
       "    }\n",
       "\n",
       "    .dataframe thead th {\n",
       "        text-align: right;\n",
       "    }\n",
       "</style>\n",
       "<table border=\"1\" class=\"dataframe\">\n",
       "  <thead>\n",
       "    <tr style=\"text-align: right;\">\n",
       "      <th></th>\n",
       "      <th>Survived</th>\n",
       "      <th>Pclass</th>\n",
       "      <th>Name</th>\n",
       "      <th>Sex</th>\n",
       "      <th>Age</th>\n",
       "      <th>SibSp</th>\n",
       "      <th>Parch</th>\n",
       "      <th>Ticket</th>\n",
       "      <th>Fare</th>\n",
       "      <th>Cabin</th>\n",
       "      <th>Embarked</th>\n",
       "      <th>Family_Size</th>\n",
       "      <th>FamilyGroup</th>\n",
       "    </tr>\n",
       "    <tr>\n",
       "      <th>PassengerId</th>\n",
       "      <th></th>\n",
       "      <th></th>\n",
       "      <th></th>\n",
       "      <th></th>\n",
       "      <th></th>\n",
       "      <th></th>\n",
       "      <th></th>\n",
       "      <th></th>\n",
       "      <th></th>\n",
       "      <th></th>\n",
       "      <th></th>\n",
       "      <th></th>\n",
       "      <th></th>\n",
       "    </tr>\n",
       "  </thead>\n",
       "  <tbody>\n",
       "    <tr>\n",
       "      <th>1</th>\n",
       "      <td>0</td>\n",
       "      <td>3</td>\n",
       "      <td>Braund, Mr. Owen Harris</td>\n",
       "      <td>male</td>\n",
       "      <td>22</td>\n",
       "      <td>1</td>\n",
       "      <td>0</td>\n",
       "      <td>A/5 21171</td>\n",
       "      <td>7.25</td>\n",
       "      <td>M</td>\n",
       "      <td>S</td>\n",
       "      <td>2</td>\n",
       "      <td>Small</td>\n",
       "    </tr>\n",
       "  </tbody>\n",
       "</table>\n",
       "</div>"
      ],
      "text/plain": [
       "             Survived  Pclass                     Name   Sex  Age  SibSp  \\\n",
       "PassengerId                                                                \n",
       "1                   0       3  Braund, Mr. Owen Harris  male   22      1   \n",
       "\n",
       "             Parch     Ticket  Fare Cabin Embarked  Family_Size FamilyGroup  \n",
       "PassengerId                                                                  \n",
       "1                0  A/5 21171  7.25     M        S            2       Small  "
      ]
     },
     "execution_count": 54,
     "metadata": {},
     "output_type": "execute_result"
    }
   ],
   "source": [
    "train.head(1)"
   ]
  },
  {
   "cell_type": "code",
   "execution_count": 55,
   "id": "af95b1ab",
   "metadata": {
    "ExecuteTime": {
     "end_time": "2023-02-17T00:40:52.531860Z",
     "start_time": "2023-02-17T00:40:52.517897Z"
    },
    "scrolled": true
   },
   "outputs": [
    {
     "data": {
      "text/plain": [
       "PassengerId\n",
       "1      Small\n",
       "2      Small\n",
       "3      Alone\n",
       "4      Small\n",
       "5      Alone\n",
       "       ...  \n",
       "887    Alone\n",
       "888    Alone\n",
       "889    Small\n",
       "890    Alone\n",
       "891    Alone\n",
       "Name: FamilyGroup, Length: 891, dtype: category\n",
       "Categories (3, object): ['Alone' < 'Small' < 'Large']"
      ]
     },
     "execution_count": 55,
     "metadata": {},
     "output_type": "execute_result"
    }
   ],
   "source": [
    "train['FamilyGroup']"
   ]
  },
  {
   "cell_type": "code",
   "execution_count": 56,
   "id": "7455dff1",
   "metadata": {
    "ExecuteTime": {
     "end_time": "2023-02-17T00:40:52.546820Z",
     "start_time": "2023-02-17T00:40:52.532857Z"
    }
   },
   "outputs": [],
   "source": [
    "test['FamilyGroup']=pd.cut(x=test['Family_Size'],\n",
    "      bins=bins,\n",
    "      labels=labels)"
   ]
  },
  {
   "cell_type": "code",
   "execution_count": 57,
   "id": "5fbf92a2",
   "metadata": {
    "ExecuteTime": {
     "end_time": "2023-02-17T00:40:52.561780Z",
     "start_time": "2023-02-17T00:40:52.547817Z"
    }
   },
   "outputs": [
    {
     "data": {
      "text/html": [
       "<div>\n",
       "<style scoped>\n",
       "    .dataframe tbody tr th:only-of-type {\n",
       "        vertical-align: middle;\n",
       "    }\n",
       "\n",
       "    .dataframe tbody tr th {\n",
       "        vertical-align: top;\n",
       "    }\n",
       "\n",
       "    .dataframe thead th {\n",
       "        text-align: right;\n",
       "    }\n",
       "</style>\n",
       "<table border=\"1\" class=\"dataframe\">\n",
       "  <thead>\n",
       "    <tr style=\"text-align: right;\">\n",
       "      <th></th>\n",
       "      <th>Pclass</th>\n",
       "      <th>Name</th>\n",
       "      <th>Sex</th>\n",
       "      <th>Age</th>\n",
       "      <th>SibSp</th>\n",
       "      <th>Parch</th>\n",
       "      <th>Ticket</th>\n",
       "      <th>Fare</th>\n",
       "      <th>Cabin</th>\n",
       "      <th>Embarked</th>\n",
       "      <th>Family_Size</th>\n",
       "      <th>FamilyGroup</th>\n",
       "    </tr>\n",
       "    <tr>\n",
       "      <th>PassengerId</th>\n",
       "      <th></th>\n",
       "      <th></th>\n",
       "      <th></th>\n",
       "      <th></th>\n",
       "      <th></th>\n",
       "      <th></th>\n",
       "      <th></th>\n",
       "      <th></th>\n",
       "      <th></th>\n",
       "      <th></th>\n",
       "      <th></th>\n",
       "      <th></th>\n",
       "    </tr>\n",
       "  </thead>\n",
       "  <tbody>\n",
       "    <tr>\n",
       "      <th>892</th>\n",
       "      <td>3</td>\n",
       "      <td>Kelly, Mr. James</td>\n",
       "      <td>male</td>\n",
       "      <td>34</td>\n",
       "      <td>0</td>\n",
       "      <td>0</td>\n",
       "      <td>330911</td>\n",
       "      <td>7.8292</td>\n",
       "      <td>M</td>\n",
       "      <td>Q</td>\n",
       "      <td>1</td>\n",
       "      <td>Alone</td>\n",
       "    </tr>\n",
       "  </tbody>\n",
       "</table>\n",
       "</div>"
      ],
      "text/plain": [
       "             Pclass              Name   Sex  Age  SibSp  Parch  Ticket  \\\n",
       "PassengerId                                                              \n",
       "892               3  Kelly, Mr. James  male   34      0      0  330911   \n",
       "\n",
       "               Fare Cabin Embarked  Family_Size FamilyGroup  \n",
       "PassengerId                                                  \n",
       "892          7.8292     M        Q            1       Alone  "
      ]
     },
     "execution_count": 57,
     "metadata": {},
     "output_type": "execute_result"
    }
   ],
   "source": [
    "test.head(1)"
   ]
  },
  {
   "cell_type": "code",
   "execution_count": 58,
   "id": "a0bd3ab8",
   "metadata": {
    "ExecuteTime": {
     "end_time": "2023-02-17T00:40:52.576740Z",
     "start_time": "2023-02-17T00:40:52.562777Z"
    }
   },
   "outputs": [
    {
     "name": "stdout",
     "output_type": "stream",
     "text": [
      "<class 'pandas.core.frame.DataFrame'>\n",
      "Int64Index: 891 entries, 1 to 891\n",
      "Data columns (total 13 columns):\n",
      " #   Column       Non-Null Count  Dtype   \n",
      "---  ------       --------------  -----   \n",
      " 0   Survived     891 non-null    int64   \n",
      " 1   Pclass       891 non-null    int64   \n",
      " 2   Name         891 non-null    object  \n",
      " 3   Sex          891 non-null    object  \n",
      " 4   Age          891 non-null    int64   \n",
      " 5   SibSp        891 non-null    int64   \n",
      " 6   Parch        891 non-null    int64   \n",
      " 7   Ticket       891 non-null    object  \n",
      " 8   Fare         891 non-null    float64 \n",
      " 9   Cabin        891 non-null    object  \n",
      " 10  Embarked     891 non-null    object  \n",
      " 11  Family_Size  891 non-null    int64   \n",
      " 12  FamilyGroup  891 non-null    category\n",
      "dtypes: category(1), float64(1), int64(6), object(5)\n",
      "memory usage: 91.5+ KB\n"
     ]
    }
   ],
   "source": [
    "train.info()"
   ]
  },
  {
   "cell_type": "code",
   "execution_count": 59,
   "id": "5b8a9f44",
   "metadata": {
    "ExecuteTime": {
     "end_time": "2023-02-17T00:40:52.591700Z",
     "start_time": "2023-02-17T00:40:52.577738Z"
    }
   },
   "outputs": [
    {
     "data": {
      "text/html": [
       "<div>\n",
       "<style scoped>\n",
       "    .dataframe tbody tr th:only-of-type {\n",
       "        vertical-align: middle;\n",
       "    }\n",
       "\n",
       "    .dataframe tbody tr th {\n",
       "        vertical-align: top;\n",
       "    }\n",
       "\n",
       "    .dataframe thead th {\n",
       "        text-align: right;\n",
       "    }\n",
       "</style>\n",
       "<table border=\"1\" class=\"dataframe\">\n",
       "  <thead>\n",
       "    <tr style=\"text-align: right;\">\n",
       "      <th></th>\n",
       "      <th>Survived</th>\n",
       "      <th>Pclass</th>\n",
       "      <th>Name</th>\n",
       "      <th>Sex</th>\n",
       "      <th>Age</th>\n",
       "      <th>SibSp</th>\n",
       "      <th>Parch</th>\n",
       "      <th>Ticket</th>\n",
       "      <th>Fare</th>\n",
       "      <th>Cabin</th>\n",
       "      <th>Embarked</th>\n",
       "      <th>Family_Size</th>\n",
       "      <th>FamilyGroup</th>\n",
       "    </tr>\n",
       "    <tr>\n",
       "      <th>PassengerId</th>\n",
       "      <th></th>\n",
       "      <th></th>\n",
       "      <th></th>\n",
       "      <th></th>\n",
       "      <th></th>\n",
       "      <th></th>\n",
       "      <th></th>\n",
       "      <th></th>\n",
       "      <th></th>\n",
       "      <th></th>\n",
       "      <th></th>\n",
       "      <th></th>\n",
       "      <th></th>\n",
       "    </tr>\n",
       "  </thead>\n",
       "  <tbody>\n",
       "    <tr>\n",
       "      <th>1</th>\n",
       "      <td>0</td>\n",
       "      <td>3</td>\n",
       "      <td>Braund, Mr. Owen Harris</td>\n",
       "      <td>male</td>\n",
       "      <td>22</td>\n",
       "      <td>1</td>\n",
       "      <td>0</td>\n",
       "      <td>A/5 21171</td>\n",
       "      <td>7.2500</td>\n",
       "      <td>M</td>\n",
       "      <td>S</td>\n",
       "      <td>2</td>\n",
       "      <td>Small</td>\n",
       "    </tr>\n",
       "    <tr>\n",
       "      <th>2</th>\n",
       "      <td>1</td>\n",
       "      <td>1</td>\n",
       "      <td>Cumings, Mrs. John Bradley (Florence Briggs Th...</td>\n",
       "      <td>female</td>\n",
       "      <td>38</td>\n",
       "      <td>1</td>\n",
       "      <td>0</td>\n",
       "      <td>PC 17599</td>\n",
       "      <td>71.2833</td>\n",
       "      <td>C</td>\n",
       "      <td>C</td>\n",
       "      <td>2</td>\n",
       "      <td>Small</td>\n",
       "    </tr>\n",
       "    <tr>\n",
       "      <th>3</th>\n",
       "      <td>1</td>\n",
       "      <td>3</td>\n",
       "      <td>Heikkinen, Miss. Laina</td>\n",
       "      <td>female</td>\n",
       "      <td>26</td>\n",
       "      <td>0</td>\n",
       "      <td>0</td>\n",
       "      <td>STON/O2. 3101282</td>\n",
       "      <td>7.9250</td>\n",
       "      <td>M</td>\n",
       "      <td>S</td>\n",
       "      <td>1</td>\n",
       "      <td>Alone</td>\n",
       "    </tr>\n",
       "    <tr>\n",
       "      <th>4</th>\n",
       "      <td>1</td>\n",
       "      <td>1</td>\n",
       "      <td>Futrelle, Mrs. Jacques Heath (Lily May Peel)</td>\n",
       "      <td>female</td>\n",
       "      <td>35</td>\n",
       "      <td>1</td>\n",
       "      <td>0</td>\n",
       "      <td>113803</td>\n",
       "      <td>53.1000</td>\n",
       "      <td>C</td>\n",
       "      <td>S</td>\n",
       "      <td>2</td>\n",
       "      <td>Small</td>\n",
       "    </tr>\n",
       "    <tr>\n",
       "      <th>5</th>\n",
       "      <td>0</td>\n",
       "      <td>3</td>\n",
       "      <td>Allen, Mr. William Henry</td>\n",
       "      <td>male</td>\n",
       "      <td>35</td>\n",
       "      <td>0</td>\n",
       "      <td>0</td>\n",
       "      <td>373450</td>\n",
       "      <td>8.0500</td>\n",
       "      <td>M</td>\n",
       "      <td>S</td>\n",
       "      <td>1</td>\n",
       "      <td>Alone</td>\n",
       "    </tr>\n",
       "  </tbody>\n",
       "</table>\n",
       "</div>"
      ],
      "text/plain": [
       "             Survived  Pclass  \\\n",
       "PassengerId                     \n",
       "1                   0       3   \n",
       "2                   1       1   \n",
       "3                   1       3   \n",
       "4                   1       1   \n",
       "5                   0       3   \n",
       "\n",
       "                                                          Name     Sex  Age  \\\n",
       "PassengerId                                                                   \n",
       "1                                      Braund, Mr. Owen Harris    male   22   \n",
       "2            Cumings, Mrs. John Bradley (Florence Briggs Th...  female   38   \n",
       "3                                       Heikkinen, Miss. Laina  female   26   \n",
       "4                 Futrelle, Mrs. Jacques Heath (Lily May Peel)  female   35   \n",
       "5                                     Allen, Mr. William Henry    male   35   \n",
       "\n",
       "             SibSp  Parch            Ticket     Fare Cabin Embarked  \\\n",
       "PassengerId                                                           \n",
       "1                1      0         A/5 21171   7.2500     M        S   \n",
       "2                1      0          PC 17599  71.2833     C        C   \n",
       "3                0      0  STON/O2. 3101282   7.9250     M        S   \n",
       "4                1      0            113803  53.1000     C        S   \n",
       "5                0      0            373450   8.0500     M        S   \n",
       "\n",
       "             Family_Size FamilyGroup  \n",
       "PassengerId                           \n",
       "1                      2       Small  \n",
       "2                      2       Small  \n",
       "3                      1       Alone  \n",
       "4                      2       Small  \n",
       "5                      1       Alone  "
      ]
     },
     "execution_count": 59,
     "metadata": {},
     "output_type": "execute_result"
    }
   ],
   "source": [
    "train.head(5)"
   ]
  },
  {
   "cell_type": "markdown",
   "id": "efbf2507",
   "metadata": {},
   "source": [
    "#### 특성공학\n",
    "- text 데이터 다루기 ( 비정형 데이터)\n",
    "- Name 컬럽 : 중간의 호칭만 추출하여 정형화 시키자!"
   ]
  },
  {
   "cell_type": "code",
   "execution_count": 60,
   "id": "c9db1c10",
   "metadata": {
    "ExecuteTime": {
     "end_time": "2023-02-17T00:40:52.606660Z",
     "start_time": "2023-02-17T00:40:52.592697Z"
    }
   },
   "outputs": [
    {
     "data": {
      "text/plain": [
       "PassengerId\n",
       "1                                Braund, Mr. Owen Harris\n",
       "2      Cumings, Mrs. John Bradley (Florence Briggs Th...\n",
       "3                                 Heikkinen, Miss. Laina\n",
       "4           Futrelle, Mrs. Jacques Heath (Lily May Peel)\n",
       "5                               Allen, Mr. William Henry\n",
       "                             ...                        \n",
       "887                                Montvila, Rev. Juozas\n",
       "888                         Graham, Miss. Margaret Edith\n",
       "889             Johnston, Miss. Catherine Helen \"Carrie\"\n",
       "890                                Behr, Mr. Karl Howell\n",
       "891                                  Dooley, Mr. Patrick\n",
       "Name: Name, Length: 891, dtype: object"
      ]
     },
     "execution_count": 60,
     "metadata": {},
     "output_type": "execute_result"
    }
   ],
   "source": [
    "train['Name']"
   ]
  },
  {
   "cell_type": "code",
   "execution_count": 61,
   "id": "0fd62cec",
   "metadata": {
    "ExecuteTime": {
     "end_time": "2023-02-17T00:40:52.621621Z",
     "start_time": "2023-02-17T00:40:52.608655Z"
    }
   },
   "outputs": [
    {
     "data": {
      "text/plain": [
       "'Mr'"
      ]
     },
     "execution_count": 61,
     "metadata": {},
     "output_type": "execute_result"
    }
   ],
   "source": [
    "'Braund, Mr. Owen Harris'.split(',')[1].split('.')[0].strip()"
   ]
  },
  {
   "cell_type": "code",
   "execution_count": 62,
   "id": "7b143f79",
   "metadata": {
    "ExecuteTime": {
     "end_time": "2023-02-17T00:40:52.636580Z",
     "start_time": "2023-02-17T00:40:52.623615Z"
    }
   },
   "outputs": [],
   "source": [
    "def split_title(row):\n",
    "    return row.split(',')[1].split('.')[0].strip()"
   ]
  },
  {
   "cell_type": "code",
   "execution_count": 63,
   "id": "6f86e25a",
   "metadata": {
    "ExecuteTime": {
     "end_time": "2023-02-17T00:40:52.651540Z",
     "start_time": "2023-02-17T00:40:52.637577Z"
    }
   },
   "outputs": [],
   "source": [
    "train['Title']=train['Name'].apply(split_title)"
   ]
  },
  {
   "cell_type": "code",
   "execution_count": 64,
   "id": "b8815c10",
   "metadata": {
    "ExecuteTime": {
     "end_time": "2023-02-17T00:40:52.666500Z",
     "start_time": "2023-02-17T00:40:52.652537Z"
    }
   },
   "outputs": [
    {
     "data": {
      "text/html": [
       "<div>\n",
       "<style scoped>\n",
       "    .dataframe tbody tr th:only-of-type {\n",
       "        vertical-align: middle;\n",
       "    }\n",
       "\n",
       "    .dataframe tbody tr th {\n",
       "        vertical-align: top;\n",
       "    }\n",
       "\n",
       "    .dataframe thead th {\n",
       "        text-align: right;\n",
       "    }\n",
       "</style>\n",
       "<table border=\"1\" class=\"dataframe\">\n",
       "  <thead>\n",
       "    <tr style=\"text-align: right;\">\n",
       "      <th></th>\n",
       "      <th>Survived</th>\n",
       "      <th>Pclass</th>\n",
       "      <th>Name</th>\n",
       "      <th>Sex</th>\n",
       "      <th>Age</th>\n",
       "      <th>SibSp</th>\n",
       "      <th>Parch</th>\n",
       "      <th>Ticket</th>\n",
       "      <th>Fare</th>\n",
       "      <th>Cabin</th>\n",
       "      <th>Embarked</th>\n",
       "      <th>Family_Size</th>\n",
       "      <th>FamilyGroup</th>\n",
       "      <th>Title</th>\n",
       "    </tr>\n",
       "    <tr>\n",
       "      <th>PassengerId</th>\n",
       "      <th></th>\n",
       "      <th></th>\n",
       "      <th></th>\n",
       "      <th></th>\n",
       "      <th></th>\n",
       "      <th></th>\n",
       "      <th></th>\n",
       "      <th></th>\n",
       "      <th></th>\n",
       "      <th></th>\n",
       "      <th></th>\n",
       "      <th></th>\n",
       "      <th></th>\n",
       "      <th></th>\n",
       "    </tr>\n",
       "  </thead>\n",
       "  <tbody>\n",
       "    <tr>\n",
       "      <th>1</th>\n",
       "      <td>0</td>\n",
       "      <td>3</td>\n",
       "      <td>Braund, Mr. Owen Harris</td>\n",
       "      <td>male</td>\n",
       "      <td>22</td>\n",
       "      <td>1</td>\n",
       "      <td>0</td>\n",
       "      <td>A/5 21171</td>\n",
       "      <td>7.25</td>\n",
       "      <td>M</td>\n",
       "      <td>S</td>\n",
       "      <td>2</td>\n",
       "      <td>Small</td>\n",
       "      <td>Mr</td>\n",
       "    </tr>\n",
       "  </tbody>\n",
       "</table>\n",
       "</div>"
      ],
      "text/plain": [
       "             Survived  Pclass                     Name   Sex  Age  SibSp  \\\n",
       "PassengerId                                                                \n",
       "1                   0       3  Braund, Mr. Owen Harris  male   22      1   \n",
       "\n",
       "             Parch     Ticket  Fare Cabin Embarked  Family_Size FamilyGroup  \\\n",
       "PassengerId                                                                   \n",
       "1                0  A/5 21171  7.25     M        S            2       Small   \n",
       "\n",
       "            Title  \n",
       "PassengerId        \n",
       "1              Mr  "
      ]
     },
     "execution_count": 64,
     "metadata": {},
     "output_type": "execute_result"
    }
   ],
   "source": [
    "train.head(1)"
   ]
  },
  {
   "cell_type": "code",
   "execution_count": 65,
   "id": "dfb50e54",
   "metadata": {
    "ExecuteTime": {
     "end_time": "2023-02-17T00:40:52.681460Z",
     "start_time": "2023-02-17T00:40:52.667498Z"
    }
   },
   "outputs": [],
   "source": [
    "test['Title']=test['Name'].apply(split_title)"
   ]
  },
  {
   "cell_type": "code",
   "execution_count": 66,
   "id": "66bceadf",
   "metadata": {
    "ExecuteTime": {
     "end_time": "2023-02-17T00:40:52.696421Z",
     "start_time": "2023-02-17T00:40:52.682457Z"
    },
    "scrolled": true
   },
   "outputs": [
    {
     "data": {
      "text/html": [
       "<div>\n",
       "<style scoped>\n",
       "    .dataframe tbody tr th:only-of-type {\n",
       "        vertical-align: middle;\n",
       "    }\n",
       "\n",
       "    .dataframe tbody tr th {\n",
       "        vertical-align: top;\n",
       "    }\n",
       "\n",
       "    .dataframe thead th {\n",
       "        text-align: right;\n",
       "    }\n",
       "</style>\n",
       "<table border=\"1\" class=\"dataframe\">\n",
       "  <thead>\n",
       "    <tr style=\"text-align: right;\">\n",
       "      <th></th>\n",
       "      <th>Pclass</th>\n",
       "      <th>Name</th>\n",
       "      <th>Sex</th>\n",
       "      <th>Age</th>\n",
       "      <th>SibSp</th>\n",
       "      <th>Parch</th>\n",
       "      <th>Ticket</th>\n",
       "      <th>Fare</th>\n",
       "      <th>Cabin</th>\n",
       "      <th>Embarked</th>\n",
       "      <th>Family_Size</th>\n",
       "      <th>FamilyGroup</th>\n",
       "      <th>Title</th>\n",
       "    </tr>\n",
       "    <tr>\n",
       "      <th>PassengerId</th>\n",
       "      <th></th>\n",
       "      <th></th>\n",
       "      <th></th>\n",
       "      <th></th>\n",
       "      <th></th>\n",
       "      <th></th>\n",
       "      <th></th>\n",
       "      <th></th>\n",
       "      <th></th>\n",
       "      <th></th>\n",
       "      <th></th>\n",
       "      <th></th>\n",
       "      <th></th>\n",
       "    </tr>\n",
       "  </thead>\n",
       "  <tbody>\n",
       "    <tr>\n",
       "      <th>892</th>\n",
       "      <td>3</td>\n",
       "      <td>Kelly, Mr. James</td>\n",
       "      <td>male</td>\n",
       "      <td>34</td>\n",
       "      <td>0</td>\n",
       "      <td>0</td>\n",
       "      <td>330911</td>\n",
       "      <td>7.8292</td>\n",
       "      <td>M</td>\n",
       "      <td>Q</td>\n",
       "      <td>1</td>\n",
       "      <td>Alone</td>\n",
       "      <td>Mr</td>\n",
       "    </tr>\n",
       "  </tbody>\n",
       "</table>\n",
       "</div>"
      ],
      "text/plain": [
       "             Pclass              Name   Sex  Age  SibSp  Parch  Ticket  \\\n",
       "PassengerId                                                              \n",
       "892               3  Kelly, Mr. James  male   34      0      0  330911   \n",
       "\n",
       "               Fare Cabin Embarked  Family_Size FamilyGroup Title  \n",
       "PassengerId                                                        \n",
       "892          7.8292     M        Q            1       Alone    Mr  "
      ]
     },
     "execution_count": 66,
     "metadata": {},
     "output_type": "execute_result"
    }
   ],
   "source": [
    "test.head(1)"
   ]
  },
  {
   "cell_type": "code",
   "execution_count": 67,
   "id": "bfd563cc",
   "metadata": {
    "ExecuteTime": {
     "end_time": "2023-02-17T00:40:52.711381Z",
     "start_time": "2023-02-17T00:40:52.697419Z"
    }
   },
   "outputs": [
    {
     "data": {
      "text/plain": [
       "array(['Mr', 'Mrs', 'Miss', 'Master', 'Don', 'Rev', 'Dr', 'Mme', 'Ms',\n",
       "       'Major', 'Lady', 'Sir', 'Mlle', 'Col', 'Capt', 'the Countess',\n",
       "       'Jonkheer'], dtype=object)"
      ]
     },
     "execution_count": 67,
     "metadata": {},
     "output_type": "execute_result"
    }
   ],
   "source": [
    "train['Title'].unique()"
   ]
  },
  {
   "cell_type": "code",
   "execution_count": 68,
   "id": "95a31d55",
   "metadata": {
    "ExecuteTime": {
     "end_time": "2023-02-17T00:40:52.905889Z",
     "start_time": "2023-02-17T00:40:52.712379Z"
    }
   },
   "outputs": [
    {
     "data": {
      "text/plain": [
       "<AxesSubplot:xlabel='Title', ylabel='count'>"
      ]
     },
     "execution_count": 68,
     "metadata": {},
     "output_type": "execute_result"
    },
    {
     "data": {
      "image/png": "[encoded data removed]",
      "text/plain": [
       "<Figure size 2000x500 with 1 Axes>"
      ]
     },
     "metadata": {},
     "output_type": "display_data"
    }
   ],
   "source": [
    "plt.figure(figsize=(20,5))\n",
    "sns.countplot(data=train,\n",
    "             x='Title',\n",
    "             hue='Survived')\n"
   ]
  },
  {
   "cell_type": "code",
   "execution_count": 69,
   "id": "9cbbc741",
   "metadata": {
    "ExecuteTime": {
     "end_time": "2023-02-17T00:40:53.160181Z",
     "start_time": "2023-02-17T00:40:52.906858Z"
    }
   },
   "outputs": [
    {
     "data": {
      "text/plain": [
       "(0.0, 20.0)"
      ]
     },
     "execution_count": 69,
     "metadata": {},
     "output_type": "execute_result"
    },
    {
     "data": {
      "image/png": "[encoded data removed]",
      "text/plain": [
       "<Figure size 2000x500 with 1 Axes>"
      ]
     },
     "metadata": {},
     "output_type": "display_data"
    }
   ],
   "source": [
    "plt.figure(figsize=(20,5))\n",
    "sns.countplot(data=train,\n",
    "             x='Title',\n",
    "             hue='Survived')\n",
    "plt.ylim(0,20)"
   ]
  },
  {
   "cell_type": "markdown",
   "id": "18fcf425",
   "metadata": {},
   "source": [
    "- Mr, Mrs, Miss : 성별과 관련이 있는 호칭, 머신러닝 모델 학습에 이용해봐도 괜찮을 것 같다.\n",
    "- 나머지 호칭들은 인원수가 적고 종류가 많아서 범주를 통합시켜봐도 괜찮을 것 같다.\n"
   ]
  },
  {
   "cell_type": "code",
   "execution_count": 70,
   "id": "4c2e4bef",
   "metadata": {
    "ExecuteTime": {
     "end_time": "2023-02-17T00:40:53.175712Z",
     "start_time": "2023-02-17T00:40:53.161753Z"
    }
   },
   "outputs": [],
   "source": [
    "title_dic={'Mr':'Mr',\n",
    "          'Mrs':'Mrs',\n",
    "           'Miss':'Miss',\n",
    "          'Master':'Master',\n",
    "          'Mme':'Miss',\n",
    "          'Lady':'Miss',\n",
    "           'Don':'Other',\n",
    "           'Rev':'Other',\n",
    "           'Dr':'Other',\n",
    "           'Ms':'Miss',\n",
    "           'Major':'Other',\n",
    "           'Sir':'Other',\n",
    "           'Mlle':'Other',\n",
    "           'Col':'Other',\n",
    "           'Capt':'Other',\n",
    "           'the Countess':'Other',\n",
    "           'Jonkheer':'Other',\n",
    "           'Dona':'Other'\n",
    "          }"
   ]
  },
  {
   "cell_type": "code",
   "execution_count": 71,
   "id": "db793daa",
   "metadata": {
    "ExecuteTime": {
     "end_time": "2023-02-17T00:40:53.190744Z",
     "start_time": "2023-02-17T00:40:53.176726Z"
    }
   },
   "outputs": [],
   "source": [
    "train['Title2']=train['Title'].map(title_dic)"
   ]
  },
  {
   "cell_type": "code",
   "execution_count": 72,
   "id": "e03dcd8e",
   "metadata": {
    "ExecuteTime": {
     "end_time": "2023-02-17T00:40:53.205676Z",
     "start_time": "2023-02-17T00:40:53.191744Z"
    }
   },
   "outputs": [
    {
     "data": {
      "text/html": [
       "<div>\n",
       "<style scoped>\n",
       "    .dataframe tbody tr th:only-of-type {\n",
       "        vertical-align: middle;\n",
       "    }\n",
       "\n",
       "    .dataframe tbody tr th {\n",
       "        vertical-align: top;\n",
       "    }\n",
       "\n",
       "    .dataframe thead th {\n",
       "        text-align: right;\n",
       "    }\n",
       "</style>\n",
       "<table border=\"1\" class=\"dataframe\">\n",
       "  <thead>\n",
       "    <tr style=\"text-align: right;\">\n",
       "      <th></th>\n",
       "      <th>Survived</th>\n",
       "      <th>Pclass</th>\n",
       "      <th>Name</th>\n",
       "      <th>Sex</th>\n",
       "      <th>Age</th>\n",
       "      <th>SibSp</th>\n",
       "      <th>Parch</th>\n",
       "      <th>Ticket</th>\n",
       "      <th>Fare</th>\n",
       "      <th>Cabin</th>\n",
       "      <th>Embarked</th>\n",
       "      <th>Family_Size</th>\n",
       "      <th>FamilyGroup</th>\n",
       "      <th>Title</th>\n",
       "      <th>Title2</th>\n",
       "    </tr>\n",
       "    <tr>\n",
       "      <th>PassengerId</th>\n",
       "      <th></th>\n",
       "      <th></th>\n",
       "      <th></th>\n",
       "      <th></th>\n",
       "      <th></th>\n",
       "      <th></th>\n",
       "      <th></th>\n",
       "      <th></th>\n",
       "      <th></th>\n",
       "      <th></th>\n",
       "      <th></th>\n",
       "      <th></th>\n",
       "      <th></th>\n",
       "      <th></th>\n",
       "      <th></th>\n",
       "    </tr>\n",
       "  </thead>\n",
       "  <tbody>\n",
       "    <tr>\n",
       "      <th>1</th>\n",
       "      <td>0</td>\n",
       "      <td>3</td>\n",
       "      <td>Braund, Mr. Owen Harris</td>\n",
       "      <td>male</td>\n",
       "      <td>22</td>\n",
       "      <td>1</td>\n",
       "      <td>0</td>\n",
       "      <td>A/5 21171</td>\n",
       "      <td>7.25</td>\n",
       "      <td>M</td>\n",
       "      <td>S</td>\n",
       "      <td>2</td>\n",
       "      <td>Small</td>\n",
       "      <td>Mr</td>\n",
       "      <td>Mr</td>\n",
       "    </tr>\n",
       "  </tbody>\n",
       "</table>\n",
       "</div>"
      ],
      "text/plain": [
       "             Survived  Pclass                     Name   Sex  Age  SibSp  \\\n",
       "PassengerId                                                                \n",
       "1                   0       3  Braund, Mr. Owen Harris  male   22      1   \n",
       "\n",
       "             Parch     Ticket  Fare Cabin Embarked  Family_Size FamilyGroup  \\\n",
       "PassengerId                                                                   \n",
       "1                0  A/5 21171  7.25     M        S            2       Small   \n",
       "\n",
       "            Title Title2  \n",
       "PassengerId               \n",
       "1              Mr     Mr  "
      ]
     },
     "execution_count": 72,
     "metadata": {},
     "output_type": "execute_result"
    }
   ],
   "source": [
    "train.head(1)"
   ]
  },
  {
   "cell_type": "code",
   "execution_count": 73,
   "id": "8008b629",
   "metadata": {
    "ExecuteTime": {
     "end_time": "2023-02-17T00:40:53.220636Z",
     "start_time": "2023-02-17T00:40:53.206674Z"
    }
   },
   "outputs": [
    {
     "data": {
      "text/plain": [
       "array(['Mr', 'Mrs', 'Miss', 'Master', 'Other'], dtype=object)"
      ]
     },
     "execution_count": 73,
     "metadata": {},
     "output_type": "execute_result"
    }
   ],
   "source": [
    "train['Title2'].unique()"
   ]
  },
  {
   "cell_type": "code",
   "execution_count": 74,
   "id": "890442f6",
   "metadata": {
    "ExecuteTime": {
     "end_time": "2023-02-17T00:40:53.235595Z",
     "start_time": "2023-02-17T00:40:53.221632Z"
    }
   },
   "outputs": [],
   "source": [
    "test['Title2']=test['Title'].map(title_dic)"
   ]
  },
  {
   "cell_type": "code",
   "execution_count": 75,
   "id": "3500bff4",
   "metadata": {
    "ExecuteTime": {
     "end_time": "2023-02-17T00:40:53.250556Z",
     "start_time": "2023-02-17T00:40:53.236594Z"
    },
    "scrolled": true
   },
   "outputs": [
    {
     "data": {
      "text/plain": [
       "array(['Mr', 'Mrs', 'Miss', 'Master', 'Other'], dtype=object)"
      ]
     },
     "execution_count": 75,
     "metadata": {},
     "output_type": "execute_result"
    }
   ],
   "source": [
    "test['Title2'].unique()"
   ]
  },
  {
   "cell_type": "code",
   "execution_count": 76,
   "id": "bebf0671",
   "metadata": {
    "ExecuteTime": {
     "end_time": "2023-02-17T00:40:53.265517Z",
     "start_time": "2023-02-17T00:40:53.251552Z"
    }
   },
   "outputs": [
    {
     "data": {
      "text/plain": [
       "array(['Mr', 'Mrs', 'Miss', 'Master', 'Ms', 'Col', 'Rev', 'Dr', 'Dona'],\n",
       "      dtype=object)"
      ]
     },
     "execution_count": 76,
     "metadata": {},
     "output_type": "execute_result"
    }
   ],
   "source": [
    "test['Title'].unique()"
   ]
  },
  {
   "cell_type": "code",
   "execution_count": 77,
   "id": "b8b52c28",
   "metadata": {
    "ExecuteTime": {
     "end_time": "2023-02-17T00:40:53.280477Z",
     "start_time": "2023-02-17T00:40:53.266514Z"
    },
    "scrolled": true
   },
   "outputs": [
    {
     "data": {
      "text/plain": [
       "PassengerId\n",
       "892         Mr\n",
       "893        Mrs\n",
       "894         Mr\n",
       "895         Mr\n",
       "896        Mrs\n",
       "         ...  \n",
       "1305        Mr\n",
       "1306     Other\n",
       "1307        Mr\n",
       "1308        Mr\n",
       "1309    Master\n",
       "Name: Title2, Length: 418, dtype: object"
      ]
     },
     "execution_count": 77,
     "metadata": {},
     "output_type": "execute_result"
    }
   ],
   "source": [
    "test['Title2']"
   ]
  },
  {
   "cell_type": "markdown",
   "id": "7c52b1d0",
   "metadata": {},
   "source": [
    "#### 티켓 정보는 사용하지 않겠다.\n",
    "#### 사용하지 않을 컬럼 정리"
   ]
  },
  {
   "cell_type": "code",
   "execution_count": 78,
   "id": "240f3a0f",
   "metadata": {
    "ExecuteTime": {
     "end_time": "2023-02-17T00:40:53.295437Z",
     "start_time": "2023-02-17T00:40:53.282471Z"
    }
   },
   "outputs": [
    {
     "data": {
      "text/plain": [
       "Index(['Survived', 'Pclass', 'Name', 'Sex', 'Age', 'SibSp', 'Parch', 'Ticket',\n",
       "       'Fare', 'Cabin', 'Embarked', 'Family_Size', 'FamilyGroup', 'Title',\n",
       "       'Title2'],\n",
       "      dtype='object')"
      ]
     },
     "execution_count": 78,
     "metadata": {},
     "output_type": "execute_result"
    }
   ],
   "source": [
    "train.columns"
   ]
  },
  {
   "cell_type": "code",
   "execution_count": 79,
   "id": "753072ec",
   "metadata": {
    "ExecuteTime": {
     "end_time": "2023-02-17T00:40:53.310396Z",
     "start_time": "2023-02-17T00:40:53.298428Z"
    }
   },
   "outputs": [],
   "source": [
    "train.drop(['Name','Ticket','Title'],axis=1, inplace=True)\n",
    "test.drop(['Name','Ticket','Title'],axis=1, inplace=True)"
   ]
  },
  {
   "cell_type": "code",
   "execution_count": null,
   "id": "65a4a7a9",
   "metadata": {},
   "outputs": [],
   "source": []
  },
  {
   "cell_type": "markdown",
   "id": "4e529f9e",
   "metadata": {},
   "source": [
    "### 모델링\n",
    "- 인코딩(문자형태의 데이터를 숫자형태의 데이터로 변환)\n",
    "    1. label encoding\n",
    "    2. one-hot encoding\n",
    "        - 범주형 변수를 표현하는데 가장 널리 쓰이는 방법\n",
    "        - 분류하고자 하는 범주(종류)만큼의 자릿수(컬럼)를 만들로 1과0만을\n",
    "            이용하여 표현하는 방식\n",
    "- 모델 선택 및 하이퍼파라미터 조정\n",
    "- 모델 학습\n",
    "- 모델 평가\n"
   ]
  },
  {
   "cell_type": "code",
   "execution_count": 83,
   "id": "475cb482",
   "metadata": {
    "ExecuteTime": {
     "end_time": "2023-02-17T00:41:33.426521Z",
     "start_time": "2023-02-17T00:41:33.421534Z"
    }
   },
   "outputs": [],
   "source": [
    "categorical_features=['Sex', 'Cabin', 'Embarked', 'FamilyGroup','Title2']"
   ]
  },
  {
   "cell_type": "code",
   "execution_count": 84,
   "id": "5ced137e",
   "metadata": {
    "ExecuteTime": {
     "end_time": "2023-02-17T00:41:35.394461Z",
     "start_time": "2023-02-17T00:41:35.375484Z"
    }
   },
   "outputs": [
    {
     "data": {
      "text/html": [
       "<div>\n",
       "<style scoped>\n",
       "    .dataframe tbody tr th:only-of-type {\n",
       "        vertical-align: middle;\n",
       "    }\n",
       "\n",
       "    .dataframe tbody tr th {\n",
       "        vertical-align: top;\n",
       "    }\n",
       "\n",
       "    .dataframe thead th {\n",
       "        text-align: right;\n",
       "    }\n",
       "</style>\n",
       "<table border=\"1\" class=\"dataframe\">\n",
       "  <thead>\n",
       "    <tr style=\"text-align: right;\">\n",
       "      <th></th>\n",
       "      <th>Title2_Master</th>\n",
       "      <th>Title2_Miss</th>\n",
       "      <th>Title2_Mr</th>\n",
       "      <th>Title2_Mrs</th>\n",
       "      <th>Title2_Other</th>\n",
       "    </tr>\n",
       "    <tr>\n",
       "      <th>PassengerId</th>\n",
       "      <th></th>\n",
       "      <th></th>\n",
       "      <th></th>\n",
       "      <th></th>\n",
       "      <th></th>\n",
       "    </tr>\n",
       "  </thead>\n",
       "  <tbody>\n",
       "    <tr>\n",
       "      <th>1</th>\n",
       "      <td>0</td>\n",
       "      <td>0</td>\n",
       "      <td>1</td>\n",
       "      <td>0</td>\n",
       "      <td>0</td>\n",
       "    </tr>\n",
       "    <tr>\n",
       "      <th>2</th>\n",
       "      <td>0</td>\n",
       "      <td>0</td>\n",
       "      <td>0</td>\n",
       "      <td>1</td>\n",
       "      <td>0</td>\n",
       "    </tr>\n",
       "    <tr>\n",
       "      <th>3</th>\n",
       "      <td>0</td>\n",
       "      <td>1</td>\n",
       "      <td>0</td>\n",
       "      <td>0</td>\n",
       "      <td>0</td>\n",
       "    </tr>\n",
       "    <tr>\n",
       "      <th>4</th>\n",
       "      <td>0</td>\n",
       "      <td>0</td>\n",
       "      <td>0</td>\n",
       "      <td>1</td>\n",
       "      <td>0</td>\n",
       "    </tr>\n",
       "    <tr>\n",
       "      <th>5</th>\n",
       "      <td>0</td>\n",
       "      <td>0</td>\n",
       "      <td>1</td>\n",
       "      <td>0</td>\n",
       "      <td>0</td>\n",
       "    </tr>\n",
       "    <tr>\n",
       "      <th>...</th>\n",
       "      <td>...</td>\n",
       "      <td>...</td>\n",
       "      <td>...</td>\n",
       "      <td>...</td>\n",
       "      <td>...</td>\n",
       "    </tr>\n",
       "    <tr>\n",
       "      <th>887</th>\n",
       "      <td>0</td>\n",
       "      <td>0</td>\n",
       "      <td>0</td>\n",
       "      <td>0</td>\n",
       "      <td>1</td>\n",
       "    </tr>\n",
       "    <tr>\n",
       "      <th>888</th>\n",
       "      <td>0</td>\n",
       "      <td>1</td>\n",
       "      <td>0</td>\n",
       "      <td>0</td>\n",
       "      <td>0</td>\n",
       "    </tr>\n",
       "    <tr>\n",
       "      <th>889</th>\n",
       "      <td>0</td>\n",
       "      <td>1</td>\n",
       "      <td>0</td>\n",
       "      <td>0</td>\n",
       "      <td>0</td>\n",
       "    </tr>\n",
       "    <tr>\n",
       "      <th>890</th>\n",
       "      <td>0</td>\n",
       "      <td>0</td>\n",
       "      <td>1</td>\n",
       "      <td>0</td>\n",
       "      <td>0</td>\n",
       "    </tr>\n",
       "    <tr>\n",
       "      <th>891</th>\n",
       "      <td>0</td>\n",
       "      <td>0</td>\n",
       "      <td>1</td>\n",
       "      <td>0</td>\n",
       "      <td>0</td>\n",
       "    </tr>\n",
       "  </tbody>\n",
       "</table>\n",
       "<p>891 rows × 5 columns</p>\n",
       "</div>"
      ],
      "text/plain": [
       "             Title2_Master  Title2_Miss  Title2_Mr  Title2_Mrs  Title2_Other\n",
       "PassengerId                                                                 \n",
       "1                        0            0          1           0             0\n",
       "2                        0            0          0           1             0\n",
       "3                        0            1          0           0             0\n",
       "4                        0            0          0           1             0\n",
       "5                        0            0          1           0             0\n",
       "...                    ...          ...        ...         ...           ...\n",
       "887                      0            0          0           0             1\n",
       "888                      0            1          0           0             0\n",
       "889                      0            1          0           0             0\n",
       "890                      0            0          1           0             0\n",
       "891                      0            0          1           0             0\n",
       "\n",
       "[891 rows x 5 columns]"
      ]
     },
     "execution_count": 84,
     "metadata": {},
     "output_type": "execute_result"
    }
   ],
   "source": [
    "# 원-핫 인코딩\n",
    "pd.get_dummies(train['Title2'],prefix='Title2')"
   ]
  },
  {
   "cell_type": "code",
   "execution_count": 85,
   "id": "3e1b47d1",
   "metadata": {
    "ExecuteTime": {
     "end_time": "2023-02-17T00:41:39.568469Z",
     "start_time": "2023-02-17T00:41:39.549491Z"
    }
   },
   "outputs": [],
   "source": [
    "for feature_name in categorical_features:\n",
    "    one_hot=pd.get_dummies(train[feature_name],prefix=feature_name) # 원핫 인코딩\n",
    "    train.drop(feature_name, axis=1, inplace=True) # 기존 글자형태 컬럼 삭제\n",
    "    train = pd.concat([train,one_hot],axis=1)      # 기존 데이터에 원-학 데이터 붙이기\n"
   ]
  },
  {
   "cell_type": "code",
   "execution_count": null,
   "id": "244338b9",
   "metadata": {
    "ExecuteTime": {
     "end_time": "2023-02-17T00:40:53.331341Z",
     "start_time": "2023-02-17T00:40:53.331341Z"
    }
   },
   "outputs": [],
   "source": [
    "train.head()"
   ]
  },
  {
   "cell_type": "code",
   "execution_count": 86,
   "id": "c3020245",
   "metadata": {
    "ExecuteTime": {
     "end_time": "2023-02-17T00:41:42.096614Z",
     "start_time": "2023-02-17T00:41:42.079631Z"
    }
   },
   "outputs": [],
   "source": [
    "for feature_name in categorical_features:\n",
    "    one_hot=pd.get_dummies(test[feature_name],prefix=feature_name) # 원핫 인코딩\n",
    "    test.drop(feature_name, axis=1, inplace=True) # 기존 글자형태 컬럼 삭제\n",
    "    test = pd.concat([test,one_hot],axis=1)      # 기존 데이터에 원-학 데이터 붙이기\n"
   ]
  },
  {
   "cell_type": "code",
   "execution_count": null,
   "id": "867a494f",
   "metadata": {
    "ExecuteTime": {
     "end_time": "2023-02-17T00:40:53.333335Z",
     "start_time": "2023-02-17T00:40:53.333335Z"
    }
   },
   "outputs": [],
   "source": [
    "test.head()"
   ]
  },
  {
   "cell_type": "code",
   "execution_count": null,
   "id": "6135e5ef",
   "metadata": {
    "ExecuteTime": {
     "end_time": "2023-02-17T00:40:53.334333Z",
     "start_time": "2023-02-17T00:40:53.334333Z"
    }
   },
   "outputs": [],
   "source": [
    "# train, test의 차집합 연산!\n",
    "set(train.columns)-set(test.columns)"
   ]
  },
  {
   "cell_type": "code",
   "execution_count": null,
   "id": "726824ee",
   "metadata": {
    "ExecuteTime": {
     "end_time": "2023-02-17T00:40:53.334333Z",
     "start_time": "2023-02-17T00:40:53.334333Z"
    }
   },
   "outputs": [],
   "source": [
    "set(test.columns)"
   ]
  },
  {
   "cell_type": "code",
   "execution_count": null,
   "id": "0accdf6e",
   "metadata": {
    "ExecuteTime": {
     "end_time": "2023-02-17T00:40:53.335330Z",
     "start_time": "2023-02-17T00:40:53.335330Z"
    }
   },
   "outputs": [],
   "source": [
    "test['Cabin_T']=0"
   ]
  },
  {
   "cell_type": "markdown",
   "id": "76044d3f",
   "metadata": {},
   "source": [
    "##### 문제와 정답으로 나누기"
   ]
  },
  {
   "cell_type": "code",
   "execution_count": null,
   "id": "5d1abc00",
   "metadata": {
    "ExecuteTime": {
     "end_time": "2023-02-17T00:40:53.336328Z",
     "start_time": "2023-02-17T00:40:53.336328Z"
    }
   },
   "outputs": [],
   "source": [
    "X_train = train.drop('Survived',axis=1)\n",
    "y_train=train['Survived']"
   ]
  },
  {
   "cell_type": "code",
   "execution_count": null,
   "id": "6d0a38e4",
   "metadata": {
    "ExecuteTime": {
     "end_time": "2023-02-17T00:40:53.337325Z",
     "start_time": "2023-02-17T00:40:53.337325Z"
    }
   },
   "outputs": [],
   "source": [
    "X_test =test\n",
    "# y_test - kaggle에 있다"
   ]
  },
  {
   "cell_type": "code",
   "execution_count": null,
   "id": "c7642ccb",
   "metadata": {
    "ExecuteTime": {
     "end_time": "2023-02-17T00:40:53.338323Z",
     "start_time": "2023-02-17T00:40:53.338323Z"
    }
   },
   "outputs": [],
   "source": [
    "X_train.columns"
   ]
  },
  {
   "cell_type": "code",
   "execution_count": null,
   "id": "b47a50e9",
   "metadata": {
    "ExecuteTime": {
     "end_time": "2023-02-17T00:40:53.339322Z",
     "start_time": "2023-02-17T00:40:53.339322Z"
    },
    "scrolled": true
   },
   "outputs": [],
   "source": [
    "X_test.columns"
   ]
  },
  {
   "cell_type": "code",
   "execution_count": null,
   "id": "2933faf4",
   "metadata": {
    "ExecuteTime": {
     "end_time": "2023-02-17T00:40:53.340317Z",
     "start_time": "2023-02-17T00:40:53.340317Z"
    }
   },
   "outputs": [],
   "source": [
    "X_train"
   ]
  },
  {
   "cell_type": "code",
   "execution_count": null,
   "id": "258eacd6",
   "metadata": {
    "ExecuteTime": {
     "end_time": "2023-02-17T00:40:53.341314Z",
     "start_time": "2023-02-17T00:40:53.341314Z"
    }
   },
   "outputs": [],
   "source": [
    "X_test"
   ]
  },
  {
   "cell_type": "code",
   "execution_count": null,
   "id": "81a44980",
   "metadata": {
    "ExecuteTime": {
     "end_time": "2023-02-17T00:40:53.342311Z",
     "start_time": "2023-02-17T00:40:53.342311Z"
    }
   },
   "outputs": [],
   "source": [
    "# train, test 컬럼 순서 맞추기!\n",
    "X_test=X_test[X_train.columns]"
   ]
  },
  {
   "cell_type": "code",
   "execution_count": null,
   "id": "865d467a",
   "metadata": {
    "ExecuteTime": {
     "end_time": "2023-02-17T00:40:53.343308Z",
     "start_time": "2023-02-17T00:40:53.343308Z"
    }
   },
   "outputs": [],
   "source": [
    "X_test.columns"
   ]
  },
  {
   "cell_type": "code",
   "execution_count": null,
   "id": "2ff32a99",
   "metadata": {
    "ExecuteTime": {
     "end_time": "2023-02-17T00:40:53.343308Z",
     "start_time": "2023-02-17T00:40:53.343308Z"
    }
   },
   "outputs": [],
   "source": [
    "X_train.to_csv('X_train.csv',index=False)\n",
    "y_train.to_csv('y_train.csv',index=False)\n"
   ]
  },
  {
   "cell_type": "code",
   "execution_count": null,
   "id": "87fe0c2a",
   "metadata": {
    "ExecuteTime": {
     "end_time": "2023-02-17T00:40:53.344306Z",
     "start_time": "2023-02-17T00:40:53.344306Z"
    }
   },
   "outputs": [],
   "source": [
    "X_test.to_csv('X_test.csv',index=False)"
   ]
  },
  {
   "cell_type": "code",
   "execution_count": null,
   "id": "89db06ad",
   "metadata": {},
   "outputs": [],
   "source": []
  },
  {
   "cell_type": "markdown",
   "id": "b69f3740",
   "metadata": {},
   "source": [
    "### 모델선택"
   ]
  },
  {
   "cell_type": "code",
   "execution_count": null,
   "id": "247d13df",
   "metadata": {
    "ExecuteTime": {
     "end_time": "2023-02-17T00:40:53.345303Z",
     "start_time": "2023-02-17T00:40:53.345303Z"
    }
   },
   "outputs": [],
   "source": [
    "from sklearn.neighbors import KNeighborsClassifier\n",
    "from sklearn.tree import DecisionTreeClassifier"
   ]
  },
  {
   "cell_type": "code",
   "execution_count": null,
   "id": "5c96deb5",
   "metadata": {
    "ExecuteTime": {
     "end_time": "2023-02-17T00:40:53.346303Z",
     "start_time": "2023-02-17T00:40:53.346303Z"
    }
   },
   "outputs": [],
   "source": [
    "knn_model = KNeighborsClassifier() # 거리\n",
    "tree_model = DecisionTreeClassifier() # 질문"
   ]
  },
  {
   "cell_type": "markdown",
   "id": "d135e9de",
   "metadata": {},
   "source": [
    "##### train. validation 분리"
   ]
  },
  {
   "cell_type": "code",
   "execution_count": null,
   "id": "0730cc5c",
   "metadata": {
    "ExecuteTime": {
     "end_time": "2023-02-17T00:40:53.347298Z",
     "start_time": "2023-02-17T00:40:53.347298Z"
    }
   },
   "outputs": [],
   "source": [
    "from sklearn.model_selection import train_test_split"
   ]
  },
  {
   "cell_type": "code",
   "execution_count": null,
   "id": "d867434b",
   "metadata": {
    "ExecuteTime": {
     "end_time": "2023-02-17T00:40:53.348296Z",
     "start_time": "2023-02-17T00:40:53.348296Z"
    }
   },
   "outputs": [],
   "source": [
    "X_train, X_val, y_train,y_val=train_test_split(X_train,y_train)"
   ]
  },
  {
   "cell_type": "code",
   "execution_count": null,
   "id": "10479d4d",
   "metadata": {
    "ExecuteTime": {
     "end_time": "2023-02-17T00:40:53.349293Z",
     "start_time": "2023-02-17T00:40:53.349293Z"
    }
   },
   "outputs": [],
   "source": [
    "X_train.shape,y_train.shape"
   ]
  },
  {
   "cell_type": "code",
   "execution_count": null,
   "id": "31ce3056",
   "metadata": {
    "ExecuteTime": {
     "end_time": "2023-02-17T00:40:53.349293Z",
     "start_time": "2023-02-17T00:40:53.349293Z"
    }
   },
   "outputs": [],
   "source": [
    "X_val.shape,y_val.shape"
   ]
  },
  {
   "cell_type": "markdown",
   "id": "e2d32531",
   "metadata": {},
   "source": [
    "##### 학습 및 평가"
   ]
  },
  {
   "cell_type": "code",
   "execution_count": null,
   "id": "587c0cf2",
   "metadata": {
    "ExecuteTime": {
     "end_time": "2023-02-17T00:40:53.350290Z",
     "start_time": "2023-02-17T00:40:53.350290Z"
    }
   },
   "outputs": [],
   "source": [
    "knn_model.fit(X_train,y_train)  # 학습"
   ]
  },
  {
   "cell_type": "code",
   "execution_count": null,
   "id": "2dbfdaf6",
   "metadata": {
    "ExecuteTime": {
     "end_time": "2023-02-17T00:40:53.351287Z",
     "start_time": "2023-02-17T00:40:53.351287Z"
    }
   },
   "outputs": [],
   "source": [
    "tree_model.fit(X_train,y_train) # 학습"
   ]
  },
  {
   "cell_type": "code",
   "execution_count": null,
   "id": "1a38c386",
   "metadata": {
    "ExecuteTime": {
     "end_time": "2023-02-17T00:40:53.352284Z",
     "start_time": "2023-02-17T00:40:53.352284Z"
    },
    "scrolled": true
   },
   "outputs": [],
   "source": [
    "print(knn_model.score(X_val,y_val)) # score 정확도\n",
    "print(tree_model.score(X_val,y_val))"
   ]
  },
  {
   "cell_type": "markdown",
   "id": "d7c19182",
   "metadata": {},
   "source": [
    "#### 교차검증"
   ]
  },
  {
   "cell_type": "code",
   "execution_count": null,
   "id": "598b6cb1",
   "metadata": {
    "ExecuteTime": {
     "end_time": "2023-02-17T00:40:53.353282Z",
     "start_time": "2023-02-17T00:40:53.353282Z"
    }
   },
   "outputs": [],
   "source": [
    "from sklearn.model_selection import cross_val_score"
   ]
  },
  {
   "cell_type": "code",
   "execution_count": null,
   "id": "3c9608e7",
   "metadata": {
    "ExecuteTime": {
     "end_time": "2023-02-17T00:40:53.354279Z",
     "start_time": "2023-02-17T00:40:53.354279Z"
    }
   },
   "outputs": [],
   "source": [
    "knn_result=cross_val_score(knn_model,X_train,y_train,cv=5)\n"
   ]
  },
  {
   "cell_type": "code",
   "execution_count": null,
   "id": "c1097ed4",
   "metadata": {
    "ExecuteTime": {
     "end_time": "2023-02-17T00:40:53.355277Z",
     "start_time": "2023-02-17T00:40:53.355277Z"
    }
   },
   "outputs": [],
   "source": [
    "import warnings\n",
    "warnings.filterwarnings('ignore')"
   ]
  },
  {
   "cell_type": "code",
   "execution_count": null,
   "id": "95caf248",
   "metadata": {
    "ExecuteTime": {
     "end_time": "2023-02-17T00:40:53.355277Z",
     "start_time": "2023-02-17T00:40:53.355277Z"
    }
   },
   "outputs": [],
   "source": [
    "knn_result.mean()"
   ]
  },
  {
   "cell_type": "code",
   "execution_count": null,
   "id": "7b31670f",
   "metadata": {
    "ExecuteTime": {
     "end_time": "2023-02-17T00:40:53.356273Z",
     "start_time": "2023-02-17T00:40:53.356273Z"
    },
    "scrolled": true
   },
   "outputs": [],
   "source": [
    "# cross_val_score( 모델, 문제 데이터, 정답데이터, 몇 겹(k))\n",
    "tree_result=cross_val_score(tree_model,X_train,y_train,cv=5)\n",
    "print(tree_result)"
   ]
  },
  {
   "cell_type": "code",
   "execution_count": null,
   "id": "29fba977",
   "metadata": {
    "ExecuteTime": {
     "end_time": "2023-02-17T00:40:53.357270Z",
     "start_time": "2023-02-17T00:40:53.357270Z"
    }
   },
   "outputs": [],
   "source": [
    "tree_result.mean()"
   ]
  },
  {
   "cell_type": "code",
   "execution_count": null,
   "id": "7e46c9c9",
   "metadata": {
    "ExecuteTime": {
     "end_time": "2023-02-17T00:40:53.358268Z",
     "start_time": "2023-02-17T00:40:53.358268Z"
    }
   },
   "outputs": [],
   "source": [
    "X_train.shape,y_train.shape"
   ]
  },
  {
   "cell_type": "markdown",
   "id": "e85fbc6e",
   "metadata": {},
   "source": [
    "#### KNN모델에 Scaler적용"
   ]
  },
  {
   "cell_type": "code",
   "execution_count": null,
   "id": "29b153a4",
   "metadata": {
    "ExecuteTime": {
     "end_time": "2023-02-17T00:40:53.359265Z",
     "start_time": "2023-02-17T00:40:53.359265Z"
    }
   },
   "outputs": [],
   "source": [
    "from sklearn.preprocessing import StandardScaler"
   ]
  },
  {
   "cell_type": "code",
   "execution_count": null,
   "id": "bd875dac",
   "metadata": {
    "ExecuteTime": {
     "end_time": "2023-02-17T00:40:53.360262Z",
     "start_time": "2023-02-17T00:40:53.360262Z"
    }
   },
   "outputs": [],
   "source": [
    "scaler=StandardScaler()"
   ]
  },
  {
   "cell_type": "code",
   "execution_count": null,
   "id": "4fb42ff0",
   "metadata": {
    "ExecuteTime": {
     "end_time": "2023-02-17T00:40:53.361260Z",
     "start_time": "2023-02-17T00:40:53.361260Z"
    }
   },
   "outputs": [],
   "source": [
    "scaler.fit(X_train)"
   ]
  },
  {
   "cell_type": "code",
   "execution_count": null,
   "id": "8469af91",
   "metadata": {
    "ExecuteTime": {
     "end_time": "2023-02-17T00:40:53.361260Z",
     "start_time": "2023-02-17T00:40:53.361260Z"
    }
   },
   "outputs": [],
   "source": [
    "transform_X_train=scaler.transform(X_train) # 데이터를 스케일러에 맞춰 변환"
   ]
  },
  {
   "cell_type": "code",
   "execution_count": null,
   "id": "ec8d65f9",
   "metadata": {
    "ExecuteTime": {
     "end_time": "2023-02-17T00:40:53.362258Z",
     "start_time": "2023-02-17T00:40:53.362258Z"
    }
   },
   "outputs": [],
   "source": [
    "transform_X_test=scaler.transform(X_test) # 변환"
   ]
  },
  {
   "cell_type": "code",
   "execution_count": 82,
   "id": "be056b01",
   "metadata": {
    "ExecuteTime": {
     "end_time": "2023-02-17T00:41:06.725707Z",
     "start_time": "2023-02-17T00:41:06.706757Z"
    }
   },
   "outputs": [
    {
     "ename": "NameError",
     "evalue": "name 'cross_val_score' is not defined",
     "output_type": "error",
     "traceback": [
      "\u001b[1;31m---------------------------------------------------------------------------\u001b[0m",
      "\u001b[1;31mNameError\u001b[0m                                 Traceback (most recent call last)",
      "\u001b[1;32m~\\AppData\\Local\\Temp\\ipykernel_14140\\54757709.py\u001b[0m in \u001b[0;36m<module>\u001b[1;34m\u001b[0m\n\u001b[1;32m----> 1\u001b[1;33m \u001b[0mresult\u001b[0m\u001b[1;33m=\u001b[0m\u001b[0mcross_val_score\u001b[0m\u001b[1;33m(\u001b[0m\u001b[0mknn_model\u001b[0m\u001b[1;33m,\u001b[0m\u001b[0mtransform_X_train\u001b[0m\u001b[1;33m,\u001b[0m\u001b[0my_train\u001b[0m\u001b[1;33m)\u001b[0m\u001b[1;33m\u001b[0m\u001b[1;33m\u001b[0m\u001b[0m\n\u001b[0m\u001b[0;32m      2\u001b[0m \u001b[0mprint\u001b[0m\u001b[1;33m(\u001b[0m\u001b[0mresult\u001b[0m\u001b[1;33m)\u001b[0m\u001b[1;33m\u001b[0m\u001b[1;33m\u001b[0m\u001b[0m\n\u001b[0;32m      3\u001b[0m \u001b[0mresult\u001b[0m\u001b[1;33m.\u001b[0m\u001b[0mmean\u001b[0m\u001b[1;33m(\u001b[0m\u001b[1;33m)\u001b[0m\u001b[1;33m\u001b[0m\u001b[1;33m\u001b[0m\u001b[0m\n",
      "\u001b[1;31mNameError\u001b[0m: name 'cross_val_score' is not defined"
     ]
    }
   ],
   "source": [
    "result=cross_val_score(knn_model,transform_X_train,y_train)\n",
    "print(result)\n",
    "result.mean()"
   ]
  },
  {
   "cell_type": "markdown",
   "id": "61175b51",
   "metadata": {},
   "source": [
    "##### 하이퍼파라미터 튜닝"
   ]
  },
  {
   "cell_type": "code",
   "execution_count": null,
   "id": "5da30161",
   "metadata": {
    "ExecuteTime": {
     "end_time": "2023-02-17T00:40:53.364252Z",
     "start_time": "2023-02-17T00:40:53.364252Z"
    }
   },
   "outputs": [],
   "source": [
    "score_list=[]\n",
    "for k in range(1,150,2): # 이웃이 작으면 복잡, 많으면 단순\n",
    "    knn_model=KNeighborsClassifier(n_neighbors=k) # 이웃에 따른 모델 생성\n",
    "    knn_result=cross_val_score(knn_model,transform_X_train,y_train,cv=5) # 교차검증 성능\n",
    "    score_list.append(knn_result.mean()) # 평균치 리스트에 담기"
   ]
  },
  {
   "cell_type": "code",
   "execution_count": null,
   "id": "a7c713e1",
   "metadata": {
    "ExecuteTime": {
     "end_time": "2023-02-17T00:40:53.365249Z",
     "start_time": "2023-02-17T00:40:53.365249Z"
    }
   },
   "outputs": [],
   "source": [
    "plt.figure(figsize=(45,5))\n",
    "plt.plot(range(1,150,2), score_list)\n",
    "plt.xticks(range(1,150,2))\n",
    "plt.grid()\n",
    "plt.show()"
   ]
  },
  {
   "cell_type": "code",
   "execution_count": null,
   "id": "76a34ad3",
   "metadata": {
    "ExecuteTime": {
     "end_time": "2023-02-17T00:40:53.366246Z",
     "start_time": "2023-02-17T00:40:53.366246Z"
    },
    "scrolled": true
   },
   "outputs": [],
   "source": [
    "score_list"
   ]
  },
  {
   "cell_type": "markdown",
   "id": "1eae7ce0",
   "metadata": {},
   "source": [
    "#### 평가 결과 제출"
   ]
  },
  {
   "cell_type": "code",
   "execution_count": null,
   "id": "0b8641c0",
   "metadata": {
    "ExecuteTime": {
     "end_time": "2023-02-17T00:40:53.367244Z",
     "start_time": "2023-02-17T00:40:53.367244Z"
    }
   },
   "outputs": [],
   "source": [
    "pre = knn_model.predict(X_test)\n",
    "pre"
   ]
  },
  {
   "cell_type": "code",
   "execution_count": null,
   "id": "6fd88be4",
   "metadata": {
    "ExecuteTime": {
     "end_time": "2023-02-17T00:40:53.367244Z",
     "start_time": "2023-02-17T00:40:53.367244Z"
    }
   },
   "outputs": [],
   "source": [
    "# kaggle 에 y_test 가 있어 업로드해야함\n",
    "result = pd.read_csv('data/gender_submission.csv')\n",
    "result['Survived']=pre\n",
    "result.to_csv('kjy_submission_01.csv',index=False)"
   ]
  },
  {
   "cell_type": "code",
   "execution_count": null,
   "id": "4b4b6491",
   "metadata": {},
   "outputs": [],
   "source": []
  },
  {
   "cell_type": "code",
   "execution_count": null,
   "id": "808c2d8f",
   "metadata": {},
   "outputs": [],
   "source": []
  },
  {
   "cell_type": "code",
   "execution_count": null,
   "id": "ab190956",
   "metadata": {},
   "outputs": [],
   "source": []
  },
  {
   "cell_type": "code",
   "execution_count": null,
   "id": "e7a056bf",
   "metadata": {},
   "outputs": [],
   "source": []
  },
  {
   "cell_type": "code",
   "execution_count": null,
   "id": "468fbeae",
   "metadata": {},
   "outputs": [],
   "source": []
  },
  {
   "cell_type": "code",
   "execution_count": null,
   "id": "44cfc027",
   "metadata": {},
   "outputs": [],
   "source": []
  }
 ],
 "metadata": {
  "kernelspec": {
   "display_name": "Python 3 (ipykernel)",
   "language": "python",
   "name": "python3"
  },
  "language_info": {
   "codemirror_mode": {
    "name": "ipython",
    "version": 3
   },
   "file_extension": ".py",
   "mimetype": "text/x-python",
   "name": "python",
   "nbconvert_exporter": "python",
   "pygments_lexer": "ipython3",
   "version": "3.9.13"
  },
  "toc": {
   "base_numbering": 1,
   "nav_menu": {},
   "number_sections": true,
   "sideBar": true,
   "skip_h1_title": false,
   "title_cell": "Table of Contents",
   "title_sidebar": "Contents",
   "toc_cell": false,
   "toc_position": {},
   "toc_section_display": true,
   "toc_window_display": false
  }
 },
 "nbformat": 4,
 "nbformat_minor": 5
}
